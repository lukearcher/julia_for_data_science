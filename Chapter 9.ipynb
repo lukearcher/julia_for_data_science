{
 "cells": [
  {
   "cell_type": "markdown",
   "metadata": {},
   "source": [
    "# Initialization"
   ]
  },
  {
   "cell_type": "code",
   "execution_count": 1,
   "metadata": {
    "collapsed": false
   },
   "outputs": [
    {
     "name": "stderr",
     "output_type": "stream",
     "text": [
      "INFO: Nothing to be done\n",
      "INFO: METADATA is out-of-date — you may not have the latest version of MLBase\n",
      "INFO: Use `Pkg.update()` to get the latest versions of your packages\n"
     ]
    }
   ],
   "source": [
    "Pkg.add(\"MLBase\")"
   ]
  },
  {
   "cell_type": "code",
   "execution_count": 2,
   "metadata": {
    "collapsed": false
   },
   "outputs": [
    {
     "name": "stderr",
     "output_type": "stream",
     "text": [
      "INFO: Cloning ROC from https://github.com/diegozea/ROC.jl.git\n"
     ]
    },
    {
     "ename": "LoadError",
     "evalue": "LoadError: ROC already exists\nwhile loading In[2], in expression starting on line 1",
     "output_type": "error",
     "traceback": [
      "LoadError: ROC already exists\nwhile loading In[2], in expression starting on line 1",
      "",
      " in error at error.jl:21"
     ]
    }
   ],
   "source": [
    "Pkg.clone(\"https://github.com/diegozea/ROC.jl.git\")"
   ]
  },
  {
   "cell_type": "code",
   "execution_count": 6,
   "metadata": {
    "collapsed": false
   },
   "outputs": [
    {
     "name": "stderr",
     "output_type": "stream",
     "text": [
      "INFO: Updating METADATA...\n",
      "INFO: Updating GeneratedTypes...\n",
      "INFO: Updating GeneratedTables...\n",
      "INFO: Updating TSne...\n",
      "INFO: Updating GraphPlot...\n",
      "INFO: Updating ComputeFramework...\n",
      "INFO: Updating ELM...\n",
      "INFO: Updating PlotlyJS...\n",
      "INFO: Updating ROC...\n",
      "INFO: Computing changes...\n",
      "INFO: No packages to install, update or remove\n"
     ]
    }
   ],
   "source": [
    "Pkg.update()"
   ]
  },
  {
   "cell_type": "code",
   "execution_count": 4,
   "metadata": {
    "collapsed": false
   },
   "outputs": [
    {
     "name": "stderr",
     "output_type": "stream",
     "text": [
      "INFO: Recompiling stale cache file C:\\Users\\Zacharias\\.julia\\lib\\v0.4\\ArrayViews.ji for module ArrayViews.\n",
      "INFO: Recompiling stale cache file C:\\Users\\Zacharias\\.julia\\lib\\v0.4\\Rmath.ji for module Rmath.\n",
      "INFO: Recompiling stale cache file C:\\Users\\Zacharias\\.julia\\lib\\v0.4\\StatsBase.ji for module StatsBase.\n",
      "INFO: Recompiling stale cache file C:\\Users\\Zacharias\\.julia\\lib\\v0.4\\StatsFuns.ji for module StatsFuns.\n",
      "INFO: Recompiling stale cache file C:\\Users\\Zacharias\\.julia\\lib\\v0.4\\DataArrays.ji for module DataArrays.\n",
      "WARNING: requiring \"Dates\" in module \"Winston\" did not define a corresponding module.\n"
     ]
    }
   ],
   "source": [
    "using MLBase\n",
    "using ROC\n",
    "import StatsBase.sample"
   ]
  },
  {
   "cell_type": "code",
   "execution_count": 5,
   "metadata": {
    "collapsed": false
   },
   "outputs": [
    {
     "name": "stderr",
     "output_type": "stream",
     "text": [
      "WARNING: module Winston should explicitly import * from Base\n"
     ]
    }
   ],
   "source": [
    "data = readdlm(\"d://data//magic//magic04.csv\", ',');"
   ]
  },
  {
   "cell_type": "markdown",
   "metadata": {},
   "source": [
    "# Sampling"
   ]
  },
  {
   "cell_type": "markdown",
   "metadata": {},
   "source": [
    "## Basic Sampling"
   ]
  },
  {
   "cell_type": "code",
   "execution_count": 7,
   "metadata": {
    "collapsed": false
   },
   "outputs": [
    {
     "data": {
      "text/plain": [
       "1902x11 Array{Any,2}:\n",
       "  80.1738  57.3847  3.2743  0.1601  …  -46.7597  29.038   254.302   \"h\"\n",
       "  22.1817  17.2459  2.5366  0.4622       7.6057  26.4744  162.703   \"g\"\n",
       "  25.9297  14.8099  2.5786  0.4406     -12.4451  12.5848  164.364   \"g\"\n",
       " 223.375   62.8629  3.2057  0.2011     -45.6921  73.0226  280.913   \"h\"\n",
       "  25.4223   0.0038  2.1383  0.72         0       26.188   235.482   \"g\"\n",
       "  72.3238  30.9529  3.466   0.1549  …   19.4583  10.7066  221.358   \"g\"\n",
       "  33.9152  20.7406  2.7803  0.3831      12.6363   5.7317  221.579   \"g\"\n",
       "  43.9     27.5743  3.4807  0.1828     -12.3893   4.9347  191.736   \"g\"\n",
       "  92.0485   7.3373  2.3962  0.5984      -2.9613  58.0538  183.302   \"h\"\n",
       "  28.8917  15.8013  2.4141  0.4971      16.8503  56.263   151.425   \"g\"\n",
       "  90.7751  16.5854  3.1548  0.3246  …  -15.575   23.585   364.721   \"h\"\n",
       "  21.0426  10.2196  2.2625  0.5847      10.1976  14.5078  175.703   \"g\"\n",
       "  19.1674  12.9658  2.4354  0.5468       4.4001   7.9106  208.234   \"h\"\n",
       "   ⋮                                ⋱                               ⋮  \n",
       "  39.5881  20.2859  3.2625  0.2683  …  -15.3342   9.216    78.1803  \"g\"\n",
       " 155.223   30.7203  3.5456  0.0953     -27.7885  37.4427  225.231   \"h\"\n",
       "  27.3838  10.6979  2.6593  0.4466      -1.1545  36.9013  117.523   \"h\"\n",
       "  29.4931  20.163   2.8322  0.3061     -15.278   37.794   150.647   \"g\"\n",
       "  21.2266   7.0072  2.1055  0.7059      -6.2892  24.434   262.641   \"g\"\n",
       "  88.3846  29.7673  3.3742  0.1876  …  -10.9787  10.06    173.821   \"g\"\n",
       "  22.0777  14.9281  2.5611  0.4203       1.0923  24.0431  245.947   \"h\"\n",
       "  18.9276   7.4513  2.1414  0.7653      -3.5493  18.1586  192.226   \"g\"\n",
       "  39.933   19.2348  3.0851  0.291      -13.2544   2.5722  218.303   \"g\"\n",
       "  59.0991  27.3523  3.4068  0.1532      22.3758   7.378   201.733   \"g\"\n",
       "  56.8538  16.7862  2.9701  0.3236  …   10.8524  62.7139  246.555   \"h\"\n",
       "  60.1637  11.2194  2.5592  0.4734      -6.3152  31.8311  223.436   \"h\""
      ]
     },
     "execution_count": 7,
     "metadata": {},
     "output_type": "execute_result"
    }
   ],
   "source": [
    "p = 0.1\n",
    "n = round(Int64, 19020*p)\n",
    "ind = sample(1:19020, n)\n",
    "SampleData1 = data[ind,:]"
   ]
  },
  {
   "cell_type": "code",
   "execution_count": 8,
   "metadata": {
    "collapsed": false
   },
   "outputs": [
    {
     "data": {
      "text/plain": [
       "1902x11 Array{Any,2}:\n",
       " 111.657   31.2859  3.0674  0.2457  …  -12.0748   3.348   336.62    \"g\"\n",
       " 240.94    54.7317  3.5379  0.0977     -42.4076   1.076   210.068   \"h\"\n",
       " 174.576   58.4529  3.458   0.184       45.5054  27.5121  359.125   \"h\"\n",
       "  40.7215  22.015   3.0255  0.264       12.6019   4.1303  185.586   \"g\"\n",
       "  42.0269  22.3989  2.8454  0.2541     -19.1254   2.4092  152.081   \"g\"\n",
       "  39.5886  15.164   2.708   0.2958  …    7.9138  14.1753  209.946   \"g\"\n",
       "  44.9285  10.8788  2.5635  0.3388      -5.1639   9.988   207.482   \"h\"\n",
       "  49.572   15.4848  2.6294  0.2418     -11.0662  27.711   240.566   \"h\"\n",
       "  37.1106  17.0511  2.679   0.3141     -10.8202   0.4547  157.401   \"g\"\n",
       "  12.8364  11.4899  2.2911  0.7315      11.3796  71.401   239.381   \"h\"\n",
       "  72.8137  34.9071  3.2667  0.2922  …   20.3378  12.275   338.84    \"g\"\n",
       "  29.8141  12.5051  2.5442  0.6812      -7.8348  11.9557  153.847   \"h\"\n",
       "  12.8539  11.4698  2.1717  0.734      -11.5824  81.2444  126.504   \"g\"\n",
       "   ⋮                                ⋱                               ⋮  \n",
       " 101.236   18.7607  2.8516  0.2745  …   -5.4218  81.3618  154.153   \"h\"\n",
       "  12.8979  11.4031  2.1089  0.7393      11.7061  20.3136   62.7772  \"g\"\n",
       "  64.4071  23.9433  3.3524  0.2279       8.8787   4.8251  238.272   \"g\"\n",
       "  16.559   11.5153  2.4265  0.5918      -5.058    0.202    76.778   \"g\"\n",
       "  13.0322  10.8262  2.1319  0.7601      -9.5076   9.83     65.771   \"g\"\n",
       " 105.958   66.7134  4.3649  0.0686  …   23.6269   3.726   303.839   \"g\"\n",
       "  51.5943  20.6735  3.0149  0.2638     -12.8951  10.02    226.162   \"g\"\n",
       "  32.2223  21.9359  3.0706  0.3587      -7.2758  24.56     45.272   \"g\"\n",
       "  37.1289  15.3638  2.6628  0.3087     -11.9997  14.16    277.379   \"g\"\n",
       "  15.0428  12.1241  2.3579  0.6579      -6.2151  43.0169   66.4591  \"g\"\n",
       "  27.4599  12.6085  2.6069  0.4302  …    5.4168  68.844   221.497   \"h\"\n",
       "  51.5578  15.1741  2.5478  0.4363      -9.5641   5.498   148.639   \"g\""
      ]
     },
     "execution_count": 8,
     "metadata": {},
     "output_type": "execute_result"
    }
   ],
   "source": [
    "ind = randperm(19020)[1:n]\n",
    "SampleData2 = data[ind,:]"
   ]
  },
  {
   "cell_type": "markdown",
   "metadata": {},
   "source": [
    "## Stratified Sampling"
   ]
  },
  {
   "cell_type": "code",
   "execution_count": 9,
   "metadata": {
    "collapsed": false
   },
   "outputs": [
    {
     "data": {
      "text/plain": [
       "sample (generic function with 11 methods)"
      ]
     },
     "execution_count": 9,
     "metadata": {},
     "output_type": "execute_result"
    }
   ],
   "source": [
    "include(\"sample.jl\")"
   ]
  },
  {
   "cell_type": "code",
   "execution_count": 10,
   "metadata": {
    "collapsed": false
   },
   "outputs": [
    {
     "data": {
      "text/plain": [
       "(\n",
       "1902x10 Array{Any,2}:\n",
       "  46.413   17.8084  2.9479  0.292   0.164   …  -13.7728   0.595   271.668 \n",
       "  21.3806  12.6598  2.4616  0.5527  0.2988      -6.6962  12.5519  105.811 \n",
       "  53.7088  16.6628  2.8695  0.2984  0.1668     -12.9033  11.677   252.365 \n",
       " 104.514   43.6324  4.1671  0.0889  0.0503     -26.9114   0.608   271.591 \n",
       "  14.6095  12.2051  2.2989  0.6834  0.4146      -7.9362  21.3448  222.205 \n",
       "  23.8183  14.0974  2.5966  0.4582  0.262   …   -8.4034  16.8389  129.72  \n",
       "  42.2472  17.7531  2.9472  0.2292  0.1259      -7.6275   0.8358  217.043 \n",
       "  43.9963  28.965   3.0822  0.1986  0.1163     -24.23    19.6508  170.221 \n",
       "  51.0346  22.7669  2.6721  0.3511  0.2053      16.6606   9.203    78.6901\n",
       "  67.5844  14.7835  2.7631  0.3934  0.1993      -8.2886   1.0325  159.286 \n",
       "  82.7708  25.18    3.2694  0.2189  0.1358  …   16.3078   7.9764  213.973 \n",
       "  13.2754  10.6408  2.2541  0.7855  0.4262     -11.7493  16.91    154.265 \n",
       "  52.7057  20.4083  2.6469  0.4374  0.2785      18.615    2.228   282.408 \n",
       "   ⋮                                        ⋱                             \n",
       "  25.7563  19.0266  2.6196  0.3842  0.1933  …  -12.0506  38.164   224.119 \n",
       "  83.9521  46.2262  3.0986  0.1793  0.1032     -40.2171  63.5203  179.069 \n",
       " 158.32    39.2128  3.7778  0.1924  0.0832      24.5611  54.0202  337.297 \n",
       "  57.8733  33.3488  3.255   0.1579  0.0859     -17.3316   6.4404  178.703 \n",
       " 149.428   92.2107  4.0438  0.0339  0.0197     -72.7562  89.3512  270.751 \n",
       "  71.5641  35.1044  3.1497  0.1431  0.0733  …   27.1517  31.499   170.245 \n",
       "  14.8508  14.7363  2.4262  0.4417  0.2028       6.5292  18.0463   94.3795\n",
       "  19.9856  12.7567  2.6459  0.3979  0.2036       5.2597  42.7667  227.791 \n",
       "  52.0506  46.9992  3.0496  0.2869  0.1572      29.2585  43.2007  280.196 \n",
       " 137.4     95.3744  3.2817  0.1959  0.1172      47.6974  28.3911  360.51  \n",
       "  15.8778  10.9717  2.3139  0.8186  0.47    …   11.7121  71.0751  193.231 \n",
       "  29.0168  17.4193  2.7001  0.3927  0.1905     -20.2867  79.4579  204.702 ,\n",
       "\n",
       "Any[\"g\",\"g\",\"g\",\"g\",\"g\",\"g\",\"g\",\"g\",\"g\",\"g\"  …  \"h\",\"h\",\"h\",\"h\",\"h\",\"h\",\"h\",\"h\",\"h\",\"h\"])"
      ]
     },
     "execution_count": 10,
     "metadata": {},
     "output_type": "execute_result"
    }
   ],
   "source": [
    "StratifiedSample = sample(data[:,1:10], data[:,11], n)"
   ]
  },
  {
   "cell_type": "code",
   "execution_count": 11,
   "metadata": {
    "collapsed": false
   },
   "outputs": [
    {
     "data": {
      "text/plain": [
       "1902x11 Array{Any,2}:\n",
       "  46.413   17.8084  2.9479  0.292   …  -13.7728   0.595   271.668   \"g\"\n",
       "  21.3806  12.6598  2.4616  0.5527      -6.6962  12.5519  105.811   \"g\"\n",
       "  53.7088  16.6628  2.8695  0.2984     -12.9033  11.677   252.365   \"g\"\n",
       " 104.514   43.6324  4.1671  0.0889     -26.9114   0.608   271.591   \"g\"\n",
       "  14.6095  12.2051  2.2989  0.6834      -7.9362  21.3448  222.205   \"g\"\n",
       "  23.8183  14.0974  2.5966  0.4582  …   -8.4034  16.8389  129.72    \"g\"\n",
       "  42.2472  17.7531  2.9472  0.2292      -7.6275   0.8358  217.043   \"g\"\n",
       "  43.9963  28.965   3.0822  0.1986     -24.23    19.6508  170.221   \"g\"\n",
       "  51.0346  22.7669  2.6721  0.3511      16.6606   9.203    78.6901  \"g\"\n",
       "  67.5844  14.7835  2.7631  0.3934      -8.2886   1.0325  159.286   \"g\"\n",
       "  82.7708  25.18    3.2694  0.2189  …   16.3078   7.9764  213.973   \"g\"\n",
       "  13.2754  10.6408  2.2541  0.7855     -11.7493  16.91    154.265   \"g\"\n",
       "  52.7057  20.4083  2.6469  0.4374      18.615    2.228   282.408   \"g\"\n",
       "   ⋮                                ⋱                               ⋮  \n",
       "  25.7563  19.0266  2.6196  0.3842  …  -12.0506  38.164   224.119   \"h\"\n",
       "  83.9521  46.2262  3.0986  0.1793     -40.2171  63.5203  179.069   \"h\"\n",
       " 158.32    39.2128  3.7778  0.1924      24.5611  54.0202  337.297   \"h\"\n",
       "  57.8733  33.3488  3.255   0.1579     -17.3316   6.4404  178.703   \"h\"\n",
       " 149.428   92.2107  4.0438  0.0339     -72.7562  89.3512  270.751   \"h\"\n",
       "  71.5641  35.1044  3.1497  0.1431  …   27.1517  31.499   170.245   \"h\"\n",
       "  14.8508  14.7363  2.4262  0.4417       6.5292  18.0463   94.3795  \"h\"\n",
       "  19.9856  12.7567  2.6459  0.3979       5.2597  42.7667  227.791   \"h\"\n",
       "  52.0506  46.9992  3.0496  0.2869      29.2585  43.2007  280.196   \"h\"\n",
       " 137.4     95.3744  3.2817  0.1959      47.6974  28.3911  360.51    \"h\"\n",
       "  15.8778  10.9717  2.3139  0.8186  …   11.7121  71.0751  193.231   \"h\"\n",
       "  29.0168  17.4193  2.7001  0.3927     -20.2867  79.4579  204.702   \"h\""
      ]
     },
     "execution_count": 11,
     "metadata": {},
     "output_type": "execute_result"
    }
   ],
   "source": [
    "SampleData3 = hcat(StratifiedSample[1], StratifiedSample[2])"
   ]
  },
  {
   "cell_type": "markdown",
   "metadata": {},
   "source": [
    "# Performance Evaluation"
   ]
  },
  {
   "cell_type": "markdown",
   "metadata": {},
   "source": [
    "## Classification"
   ]
  },
  {
   "cell_type": "markdown",
   "metadata": {},
   "source": [
    "### Confusion Matrix"
   ]
  },
  {
   "cell_type": "code",
   "execution_count": 12,
   "metadata": {
    "collapsed": false
   },
   "outputs": [
    {
     "data": {
      "text/plain": [
       "12-element Array{Int64,1}:\n",
       " 1\n",
       " 2\n",
       " 2\n",
       " 2\n",
       " 2\n",
       " 2\n",
       " 2\n",
       " 2\n",
       " 1\n",
       " 2\n",
       " 2\n",
       " 1"
      ]
     },
     "execution_count": 12,
     "metadata": {},
     "output_type": "execute_result"
    }
   ],
   "source": [
    "t = [1, 1, 1, 1, 2, 2, 2, 2, 2, 2, 2, 2]\n",
    "y = [1, 2, 2, 2, 2, 2, 2, 2, 1, 2, 2, 1]"
   ]
  },
  {
   "cell_type": "code",
   "execution_count": 13,
   "metadata": {
    "collapsed": false
   },
   "outputs": [
    {
     "data": {
      "text/plain": [
       "2x2 Array{Int64,2}:\n",
       " 1  3\n",
       " 2  6"
      ]
     },
     "execution_count": 13,
     "metadata": {},
     "output_type": "execute_result"
    }
   ],
   "source": [
    "CM = confusmat(2, t, y) # 2 is the number of unique elements on the target array, t. This corresponds to the number of classes in the dataset"
   ]
  },
  {
   "cell_type": "markdown",
   "metadata": {},
   "source": [
    "### Accuracy (Rate)"
   ]
  },
  {
   "cell_type": "code",
   "execution_count": 14,
   "metadata": {
    "collapsed": false
   },
   "outputs": [
    {
     "data": {
      "text/plain": [
       "0.5833333333333334"
      ]
     },
     "execution_count": 14,
     "metadata": {},
     "output_type": "execute_result"
    }
   ],
   "source": [
    "correctrate(t, y)"
   ]
  },
  {
   "cell_type": "code",
   "execution_count": 15,
   "metadata": {
    "collapsed": false
   },
   "outputs": [
    {
     "data": {
      "text/plain": [
       "2-element Array{Float64,1}:\n",
       " 0.8\n",
       " 0.2"
      ]
     },
     "execution_count": 15,
     "metadata": {},
     "output_type": "execute_result"
    }
   ],
   "source": [
    "w = [4, 1] # first class is 4 times more important than the second one\n",
    "w ./= sum(w)"
   ]
  },
  {
   "cell_type": "code",
   "execution_count": 16,
   "metadata": {
    "collapsed": false
   },
   "outputs": [
    {
     "data": {
      "text/plain": [
       "0.3333333333333333"
      ]
     },
     "execution_count": 16,
     "metadata": {},
     "output_type": "execute_result"
    }
   ],
   "source": [
    "2*sum(diag(CM) .* w) / 12 # weighted accuracy"
   ]
  },
  {
   "cell_type": "code",
   "execution_count": 17,
   "metadata": {
    "collapsed": false
   },
   "outputs": [
    {
     "data": {
      "text/plain": [
       "wa (generic function with 1 method)"
      ]
     },
     "execution_count": 17,
     "metadata": {},
     "output_type": "execute_result"
    }
   ],
   "source": [
    "function wa{T <: Real}(t::Array{Int64, 1}, y::Array{Int64, 1}, w::Array{T, 1})\n",
    "    q = length(unique(t))\n",
    "    N = length(t)\n",
    "    CM = confusmat(q, t, y)\n",
    "    return q*sum(diag(CM) .* w) / N\n",
    "end"
   ]
  },
  {
   "cell_type": "markdown",
   "metadata": {},
   "source": [
    "### Precision, Recall, and F1"
   ]
  },
  {
   "cell_type": "code",
   "execution_count": 18,
   "metadata": {
    "collapsed": false
   },
   "outputs": [
    {
     "data": {
      "text/plain": [
       "P (generic function with 1 method)"
      ]
     },
     "execution_count": 18,
     "metadata": {},
     "output_type": "execute_result"
    }
   ],
   "source": [
    "P(CM::Array{Int64, 2}, c::Int64) = CM[c,c] / sum(CM[:,c]) # Precision of a class c, given the confusion matrix CM"
   ]
  },
  {
   "cell_type": "code",
   "execution_count": 19,
   "metadata": {
    "collapsed": false
   },
   "outputs": [
    {
     "data": {
      "text/plain": [
       "0.3333333333333333"
      ]
     },
     "execution_count": 19,
     "metadata": {},
     "output_type": "execute_result"
    }
   ],
   "source": [
    "P(CM,1)"
   ]
  },
  {
   "cell_type": "code",
   "execution_count": 20,
   "metadata": {
    "collapsed": false
   },
   "outputs": [
    {
     "data": {
      "text/plain": [
       "R (generic function with 1 method)"
      ]
     },
     "execution_count": 20,
     "metadata": {},
     "output_type": "execute_result"
    }
   ],
   "source": [
    "R(CM::Array{Int64, 2}, c::Int64) = CM[c,c] / sum(CM[c,:]) # Recall of a class c, given the confusion matrix CM"
   ]
  },
  {
   "cell_type": "code",
   "execution_count": 21,
   "metadata": {
    "collapsed": false
   },
   "outputs": [
    {
     "data": {
      "text/plain": [
       "0.25"
      ]
     },
     "execution_count": 21,
     "metadata": {},
     "output_type": "execute_result"
    }
   ],
   "source": [
    "R(CM,1)"
   ]
  },
  {
   "cell_type": "code",
   "execution_count": 22,
   "metadata": {
    "collapsed": false
   },
   "outputs": [
    {
     "data": {
      "text/plain": [
       "F1 (generic function with 1 method)"
      ]
     },
     "execution_count": 22,
     "metadata": {},
     "output_type": "execute_result"
    }
   ],
   "source": [
    "F1(CM::Array{Int64, 2}, c::Int64) = 2*CM[c,c] / (sum(CM[:,c]) + sum(CM[c,:])) # F1 metric of a class c, given the confusion matrix CM"
   ]
  },
  {
   "cell_type": "code",
   "execution_count": 23,
   "metadata": {
    "collapsed": false
   },
   "outputs": [
    {
     "data": {
      "text/plain": [
       "0.2857142857142857"
      ]
     },
     "execution_count": 23,
     "metadata": {},
     "output_type": "execute_result"
    }
   ],
   "source": [
    "F1(CM,1)"
   ]
  },
  {
   "cell_type": "markdown",
   "metadata": {},
   "source": [
    "### Misclassification Cost"
   ]
  },
  {
   "cell_type": "code",
   "execution_count": 24,
   "metadata": {
    "collapsed": false
   },
   "outputs": [
    {
     "data": {
      "text/plain": [
       "2x2 Array{Int64,2}:\n",
       " 0  10\n",
       " 3   0"
      ]
     },
     "execution_count": 24,
     "metadata": {},
     "output_type": "execute_result"
    }
   ],
   "source": [
    "C = [0 10;3 0]"
   ]
  },
  {
   "cell_type": "code",
   "execution_count": 25,
   "metadata": {
    "collapsed": false
   },
   "outputs": [
    {
     "data": {
      "text/plain": [
       "36"
      ]
     },
     "execution_count": 25,
     "metadata": {},
     "output_type": "execute_result"
    }
   ],
   "source": [
    "total_cost = sum(CM .* C)"
   ]
  },
  {
   "cell_type": "markdown",
   "metadata": {},
   "source": [
    "### ROC Curve and Related Metrics"
   ]
  },
  {
   "cell_type": "code",
   "execution_count": 26,
   "metadata": {
    "collapsed": false
   },
   "outputs": [
    {
     "data": {
      "text/plain": [
       "12-element Array{Float64,1}:\n",
       " 0.6 \n",
       " 0.55\n",
       " 0.65\n",
       " 0.6 \n",
       " 0.7 \n",
       " 0.65\n",
       " 0.9 \n",
       " 0.75\n",
       " 0.55\n",
       " 0.65\n",
       " 0.8 \n",
       " 0.45"
      ]
     },
     "execution_count": 26,
     "metadata": {},
     "output_type": "execute_result"
    }
   ],
   "source": [
    "p = [0.6, 0.55, 0.65, 0.6, 0.7, 0.65, 0.9, 0.75, 0.55, 0.65, 0.8, 0.45]"
   ]
  },
  {
   "cell_type": "code",
   "execution_count": 27,
   "metadata": {
    "collapsed": false
   },
   "outputs": [
    {
     "data": {
      "text/plain": [
       "12-element BitArray{1}:\n",
       "  true\n",
       " false\n",
       " false\n",
       " false\n",
       "  true\n",
       "  true\n",
       "  true\n",
       "  true\n",
       " false\n",
       "  true\n",
       "  true\n",
       " false"
      ]
     },
     "execution_count": 27,
     "metadata": {},
     "output_type": "execute_result"
    }
   ],
   "source": [
    "z = (y .== t)"
   ]
  },
  {
   "cell_type": "code",
   "execution_count": 28,
   "metadata": {
    "collapsed": false
   },
   "outputs": [
    {
     "data": {
      "text/plain": [
       "ROC.ROCData{Float64}([0.9,0.8,0.75,0.7,0.65,0.65,0.65,0.6,0.6,0.55,0.55,0.45],Bool[true,true,true,true,false,true,true,true,false,false,false,false],7,12,5,1:11,[1,2,3,4,4,5,6,7,7,7,7],[5,5,5,5,4,4,4,4,3,2,1],[0,0,0,0,1,1,1,1,2,3,4],[6,5,4,3,3,2,1,0,0,0,0],[0.0,0.0,0.0,0.0,0.2,0.2,0.2,0.2,0.4,0.6,0.8],[0.14285714285714285,0.2857142857142857,0.42857142857142855,0.5714285714285714,0.5714285714285714,0.7142857142857143,0.8571428571428571,1.0,1.0,1.0,1.0])"
      ]
     },
     "execution_count": 28,
     "metadata": {},
     "output_type": "execute_result"
    }
   ],
   "source": [
    "rc = ROC.roc(p, z)"
   ]
  },
  {
   "cell_type": "code",
   "execution_count": 29,
   "metadata": {
    "collapsed": false
   },
   "outputs": [
    {
     "data": {
      "image/png": "[encoded data removed]",
      "text/plain": [
       "Winston.FramedPlot(...)"
      ]
     },
     "execution_count": 29,
     "metadata": {},
     "output_type": "execute_result"
    }
   ],
   "source": [
    "ROC.plot(rc)"
   ]
  },
  {
   "cell_type": "code",
   "execution_count": 30,
   "metadata": {
    "collapsed": false
   },
   "outputs": [
    {
     "data": {
      "text/plain": [
       "0.7142857142857143"
      ]
     },
     "execution_count": 30,
     "metadata": {},
     "output_type": "execute_result"
    }
   ],
   "source": [
    "AUC(rc)"
   ]
  },
  {
   "cell_type": "code",
   "execution_count": 31,
   "metadata": {
    "collapsed": false
   },
   "outputs": [
    {
     "data": {
      "text/plain": [
       "GC (generic function with 1 method)"
      ]
     },
     "execution_count": 31,
     "metadata": {},
     "output_type": "execute_result"
    }
   ],
   "source": [
    "GC(roc_curve::ROC.ROCData) = 2*AUC(roc_curve) - 1 # Gini Coefficient function"
   ]
  },
  {
   "cell_type": "code",
   "execution_count": 32,
   "metadata": {
    "collapsed": false
   },
   "outputs": [
    {
     "data": {
      "text/plain": [
       "0.4285714285714286"
      ]
     },
     "execution_count": 32,
     "metadata": {},
     "output_type": "execute_result"
    }
   ],
   "source": [
    "GC(rc)"
   ]
  },
  {
   "cell_type": "markdown",
   "metadata": {},
   "source": [
    "## Regression"
   ]
  },
  {
   "cell_type": "code",
   "execution_count": 33,
   "metadata": {
    "collapsed": false
   },
   "outputs": [
    {
     "data": {
      "text/plain": [
       "12-element Array{Float64,1}:\n",
       " -0.5\n",
       "  0.6\n",
       "  1.4\n",
       "  1.2\n",
       "  1.9\n",
       "  2.6\n",
       "  3.1\n",
       "  2.4\n",
       "  2.9\n",
       "  2.5\n",
       "  1.3\n",
       "  2.8"
      ]
     },
     "execution_count": 33,
     "metadata": {},
     "output_type": "execute_result"
    }
   ],
   "source": [
    "t = [0.0, 0.5, 1.0, 1.5, 2.0, 2.5, 3.0, 2.0, 3.0, 2.5, 1.5, 3.0]\n",
    "y = [-0.5, 0.6, 1.4, 1.2, 1.9, 2.6, 3.1, 2.4, 2.9, 2.5, 1.3, 2.8]"
   ]
  },
  {
   "cell_type": "code",
   "execution_count": 34,
   "metadata": {
    "collapsed": false
   },
   "outputs": [
    {
     "data": {
      "text/plain": [
       "12-element Array{Float64,1}:\n",
       " 0.25\n",
       " 0.01\n",
       " 0.16\n",
       " 0.09\n",
       " 0.01\n",
       " 0.01\n",
       " 0.01\n",
       " 0.16\n",
       " 0.01\n",
       " 0.0 \n",
       " 0.04\n",
       " 0.04"
      ]
     },
     "execution_count": 34,
     "metadata": {},
     "output_type": "execute_result"
    }
   ],
   "source": [
    "se = (t - y).^2 # squared errors (square of residue)"
   ]
  },
  {
   "cell_type": "markdown",
   "metadata": {},
   "source": [
    "### MSE and RMSE"
   ]
  },
  {
   "cell_type": "code",
   "execution_count": 35,
   "metadata": {
    "collapsed": false
   },
   "outputs": [
    {
     "data": {
      "text/plain": [
       "0.06583333333333334"
      ]
     },
     "execution_count": 35,
     "metadata": {},
     "output_type": "execute_result"
    }
   ],
   "source": [
    "mse = mean(se)"
   ]
  },
  {
   "cell_type": "code",
   "execution_count": 36,
   "metadata": {
    "collapsed": false
   },
   "outputs": [
    {
     "data": {
      "text/plain": [
       "0.2565800719723442"
      ]
     },
     "execution_count": 36,
     "metadata": {},
     "output_type": "execute_result"
    }
   ],
   "source": [
    "rmse = sqrt(mse)"
   ]
  },
  {
   "cell_type": "code",
   "execution_count": 37,
   "metadata": {
    "collapsed": false
   },
   "outputs": [
    {
     "data": {
      "text/plain": [
       "MSE (generic function with 1 method)"
      ]
     },
     "execution_count": 37,
     "metadata": {},
     "output_type": "execute_result"
    }
   ],
   "source": [
    "MSE(t::Array{Float64, 1}, y::Array{Float64, 1}) = mean((t-y).^2)"
   ]
  },
  {
   "cell_type": "code",
   "execution_count": 38,
   "metadata": {
    "collapsed": false
   },
   "outputs": [
    {
     "data": {
      "text/plain": [
       "RMSE (generic function with 1 method)"
      ]
     },
     "execution_count": 38,
     "metadata": {},
     "output_type": "execute_result"
    }
   ],
   "source": [
    "RMSE(t::Array{Float64, 1}, y::Array{Float64, 1}) = sqrt(mean((t-y).^2))"
   ]
  },
  {
   "cell_type": "markdown",
   "metadata": {},
   "source": [
    "### SSE "
   ]
  },
  {
   "cell_type": "code",
   "execution_count": 39,
   "metadata": {
    "collapsed": false
   },
   "outputs": [
    {
     "data": {
      "text/plain": [
       "0.79"
      ]
     },
     "execution_count": 39,
     "metadata": {},
     "output_type": "execute_result"
    }
   ],
   "source": [
    "sse = sum(se)"
   ]
  },
  {
   "cell_type": "code",
   "execution_count": 40,
   "metadata": {
    "collapsed": false
   },
   "outputs": [
    {
     "data": {
      "text/plain": [
       "SSE (generic function with 1 method)"
      ]
     },
     "execution_count": 40,
     "metadata": {},
     "output_type": "execute_result"
    }
   ],
   "source": [
    "SSE(t::Array{Float64, 1}, y::Array{Float64, 1}) = sum((t-y).^2)"
   ]
  },
  {
   "cell_type": "markdown",
   "metadata": {},
   "source": [
    "### Other Metrics"
   ]
  },
  {
   "cell_type": "code",
   "execution_count": 41,
   "metadata": {
    "collapsed": false
   },
   "outputs": [
    {
     "data": {
      "text/plain": [
       "RHSE (generic function with 1 method)"
      ]
     },
     "execution_count": 41,
     "metadata": {},
     "output_type": "execute_result"
    }
   ],
   "source": [
    "function harmean{T<:Real}(X::Array{T,1}, tol::Float64 = 0.1)\n",
    "    return length(X) / sum(1./(X + tol)) - tol\n",
    "end\n",
    "\n",
    "function revharmean{T<:Real}(X::Array{T,1}, tol::Float64 = 0.1)\n",
    "    return maximum(X) + minimum(X) - harmean(X, tol)\n",
    "end\n",
    "\n",
    "function HSE{T<:Real}(y::Array{T,1}, t::Array{T,1})\n",
    "    # Harmonic mean of Squared Error\n",
    "    SE = (y-t).^2\n",
    "    return harmean(SE)\n",
    "end\n",
    "\n",
    "function RHSE{T<:Real}(y::Array{T,1}, t::Array{T,1})\n",
    "    # Reverse Harmonic mean of Squared Error\n",
    "    SE = (y-t).^2\n",
    "    return revharmean(SE)\n",
    "end"
   ]
  },
  {
   "cell_type": "markdown",
   "metadata": {},
   "source": [
    "# K-fold Cross Validation"
   ]
  },
  {
   "cell_type": "code",
   "execution_count": 42,
   "metadata": {
    "collapsed": false
   },
   "outputs": [
    {
     "data": {
      "text/plain": [
       "KFCV (generic function with 3 methods)"
      ]
     },
     "execution_count": 42,
     "metadata": {},
     "output_type": "execute_result"
    }
   ],
   "source": [
    "include(\"KFCV.jl\")"
   ]
  },
  {
   "cell_type": "code",
   "execution_count": 48,
   "metadata": {
    "collapsed": false
   },
   "outputs": [],
   "source": [
    "Ptr, Ttr, PTe, TTe = KFCV(data[:,1:(end-1)], data[:,end], 10);"
   ]
  }
 ],
 "metadata": {
  "kernelspec": {
   "display_name": "Julia 0.4.5",
   "language": "julia",
   "name": "julia-0.4"
  },
  "language_info": {
   "file_extension": ".jl",
   "mimetype": "application/julia",
   "name": "julia",
   "version": "0.4.5"
  }
 },
 "nbformat": 4,
 "nbformat_minor": 0
}
