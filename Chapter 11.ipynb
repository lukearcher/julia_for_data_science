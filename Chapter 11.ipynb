{
 "cells": [
  {
   "cell_type": "markdown",
   "metadata": {},
   "source": [
    "# Initialization"
   ]
  },
  {
   "cell_type": "markdown",
   "metadata": {},
   "source": [
    "### Packages"
   ]
  },
  {
   "cell_type": "code",
   "execution_count": 1,
   "metadata": {
    "collapsed": false
   },
   "outputs": [
    {
     "name": "stderr",
     "output_type": "stream",
     "text": [
      "INFO: Nothing to be done\n",
      "INFO: METADATA is out-of-date — you may not have the latest version of DecisionTree\n",
      "INFO: Use `Pkg.update()` to get the latest versions of your packages\n"
     ]
    }
   ],
   "source": [
    "Pkg.add(\"DecisionTree\")"
   ]
  },
  {
   "cell_type": "code",
   "execution_count": 2,
   "metadata": {
    "collapsed": false
   },
   "outputs": [
    {
     "name": "stderr",
     "output_type": "stream",
     "text": [
      "INFO: Nothing to be done\n",
      "INFO: METADATA is out-of-date — you may not have the latest version of BackpropNeuralNet\n",
      "INFO: Use `Pkg.update()` to get the latest versions of your packages\n"
     ]
    }
   ],
   "source": [
    "Pkg.add(\"BackpropNeuralNet\")"
   ]
  },
  {
   "cell_type": "code",
   "execution_count": null,
   "metadata": {
    "collapsed": false
   },
   "outputs": [],
   "source": [
    "Pkg.clone(\"git://github.com/lepisma/ELM.jl.git\")"
   ]
  },
  {
   "cell_type": "code",
   "execution_count": 3,
   "metadata": {
    "collapsed": false
   },
   "outputs": [
    {
     "name": "stderr",
     "output_type": "stream",
     "text": [
      "INFO: Nothing to be done\n",
      "INFO: METADATA is out-of-date — you may not have the latest version of GLM\n",
      "INFO: Use `Pkg.update()` to get the latest versions of your packages\n"
     ]
    }
   ],
   "source": [
    "Pkg.add(\"GLM\")"
   ]
  },
  {
   "cell_type": "code",
   "execution_count": 4,
   "metadata": {
    "collapsed": true
   },
   "outputs": [
    {
     "name": "stderr",
     "output_type": "stream",
     "text": [
      "INFO: Updating METADATA...\n",
      "INFO: Updating cache of MbedTLS...\n",
      "INFO: Updating cache of ZMQ...\n",
      "INFO: Updating cache of URIParser...\n",
      "INFO: Updating cache of Grid...\n",
      "INFO: Updating cache of JuliaParser...\n",
      "INFO: Updating cache of JuMP...\n",
      "INFO: Updating cache of HDF5...\n",
      "INFO: Updating cache of ReverseDiffSparse...\n",
      "INFO: Updating cache of MathProgBase...\n",
      "INFO: Updating GeneratedTypes...\n",
      "INFO: Updating GeneratedTables...\n",
      "INFO: Updating TSne...\n",
      "INFO: Updating GraphPlot...\n",
      "INFO: Updating ComputeFramework...\n",
      "INFO: Updating ELM...\n",
      "INFO: Updating PlotlyJS...\n",
      "INFO: Updating ROC...\n",
      "INFO: Computing changes...\n",
      "INFO: Cloning cache of Primes from git://github.com/JuliaMath/Primes.jl.git\n",
      "INFO: Upgrading ForwardDiff: v0.1.8 => v0.2.2\n",
      "INFO: Upgrading Grid: v0.4.1 => v0.4.2\n",
      "INFO: Upgrading HDF5: v0.6.4 => v0.6.5\n",
      "INFO: Upgrading Images: v0.5.7 => v0.5.8\n",
      "INFO: Upgrading JuMP: v0.13.2 => v0.14.0\n",
      "INFO: Upgrading MathProgBase: v0.5.1 => v0.5.2\n",
      "INFO: Upgrading MbedTLS: v0.2.5 => v0.2.6\n",
      "INFO: Installing Primes v0.1.1\n",
      "INFO: Upgrading ReverseDiffSparse: v0.5.6 => v0.5.8\n",
      "INFO: Upgrading Roots: v0.1.26 => v0.2.0\n",
      "INFO: Upgrading URIParser: v0.1.5 => v0.1.6\n",
      "INFO: Upgrading ZMQ: v0.3.2 => v0.3.3\n",
      "INFO: Building WinRPM\n",
      "INFO: Downloading https://cache.julialang.org/http://download.opensuse.org/repositories/windows:/mingw:/win32/openSUSE_13.2/repodata/repomd.xml\n",
      "INFO: Downloading https://cache.julialang.org/http://download.opensuse.org/repositories/windows:/mingw:/win32/openSUSE_13.2/repodata/57daf2bf781d1175ff704426d724799be7ba3460a46e6d51c40554c74f5b74ec-primary.xml.gz\n",
      "INFO: Downloading https://cache.julialang.org/http://download.opensuse.org/repositories/windows:/mingw:/win64/openSUSE_13.2/repodata/repomd.xml\n",
      "INFO: Downloading https://cache.julialang.org/http://download.opensuse.org/repositories/windows:/mingw:/win64/openSUSE_13.2/repodata/a3a916bd9c70a0815806c55b61be230ff708eb090f1da2d14513f7c338491143-primary.xml.gz\n",
      "INFO: Building Blosc\n",
      "INFO: Building HDF5\n",
      "INFO: Updating WinRPM package list\n",
      "INFO: Downloading https://cache.julialang.org/http://download.opensuse.org/repositories/windows:/mingw:/win32/openSUSE_13.2/repodata/repomd.xml\n",
      "INFO: Downloading https://cache.julialang.org/http://download.opensuse.org/repositories/windows:/mingw:/win64/openSUSE_13.2/repodata/repomd.xml\n",
      "INFO: Building Rmath\n",
      "INFO: Building MbedTLS\n",
      "INFO: Building ZMQ\n"
     ]
    }
   ],
   "source": [
    "Pkg.update()"
   ]
  },
  {
   "cell_type": "markdown",
   "metadata": {},
   "source": [
    "### Additional Scripts and Functions"
   ]
  },
  {
   "cell_type": "code",
   "execution_count": 5,
   "metadata": {
    "collapsed": false
   },
   "outputs": [
    {
     "data": {
      "text/plain": [
       "sample (generic function with 4 methods)"
      ]
     },
     "execution_count": 5,
     "metadata": {},
     "output_type": "execute_result"
    }
   ],
   "source": [
    "include(\"sample.jl\")"
   ]
  },
  {
   "cell_type": "code",
   "execution_count": 6,
   "metadata": {
    "collapsed": false
   },
   "outputs": [
    {
     "data": {
      "text/plain": [
       "normalize (generic function with 4 methods)"
      ]
     },
     "execution_count": 6,
     "metadata": {},
     "output_type": "execute_result"
    }
   ],
   "source": [
    "include(\"normalize.jl\")"
   ]
  },
  {
   "cell_type": "code",
   "execution_count": 7,
   "metadata": {
    "collapsed": false
   },
   "outputs": [
    {
     "data": {
      "text/plain": [
       "vector2ANN (generic function with 1 method)"
      ]
     },
     "execution_count": 7,
     "metadata": {},
     "output_type": "execute_result"
    }
   ],
   "source": [
    "function vector2ANN{T <: Any}(z::Array{T,1}, Q::Array{T,1})\n",
    "    # turn a vector output into a matrix one for an ANN to work with\n",
    "    noc = length(Q) # number of classes\n",
    "    N = length(z) # number of data points\n",
    "    Z = BitArray(N, noc)\n",
    "    \n",
    "    for i = 1:noc\n",
    "        Z[:,i] = (z .== Q[i])\n",
    "    end\n",
    "    \n",
    "    return float(Z)\n",
    "end"
   ]
  },
  {
   "cell_type": "code",
   "execution_count": 8,
   "metadata": {
    "collapsed": false
   },
   "outputs": [
    {
     "data": {
      "text/plain": [
       "ANN2vector (generic function with 1 method)"
      ]
     },
     "execution_count": 8,
     "metadata": {},
     "output_type": "execute_result"
    }
   ],
   "source": [
    "function ANN2vector{T <: Any}(Z::Array{Float64, 2}, Q::Array{T,1})\n",
    "    # turn a matrix one from an ANN into a vector output\n",
    "    N, noc = size(Z)\n",
    "    z = Array(T, N)\n",
    "    p = Array(Float64, N)\n",
    "    \n",
    "    for i = 1:N\n",
    "        p[i], ind = findmax(Z[i,:])\n",
    "        z[i] = Q[ind]\n",
    "    end\n",
    "    \n",
    "    return z, p\n",
    "end"
   ]
  },
  {
   "cell_type": "code",
   "execution_count": 9,
   "metadata": {
    "collapsed": false
   },
   "outputs": [
    {
     "data": {
      "text/plain": [
       "MSE (generic function with 1 method)"
      ]
     },
     "execution_count": 9,
     "metadata": {},
     "output_type": "execute_result"
    }
   ],
   "source": [
    "MSE(t::Array{Float64, 1}, y::Array{Float64, 1}) = mean((t-y).^2)"
   ]
  },
  {
   "cell_type": "markdown",
   "metadata": {},
   "source": [
    "### Datasets and Sampling"
   ]
  },
  {
   "cell_type": "code",
   "execution_count": 10,
   "metadata": {
    "collapsed": false
   },
   "outputs": [
    {
     "data": {
      "text/plain": [
       "19020x11 Array{Any,2}:\n",
       "  28.7967   16.0021  2.6449  0.3918  …   -8.2027  40.092    81.8828  \"g\"\n",
       "  31.6036   11.7235  2.5185  0.5303      -9.9574   6.3609  205.261   \"g\"\n",
       " 162.052   136.031   4.0612  0.0374     -45.216   76.96    256.788   \"g\"\n",
       "  23.8172    9.5728  2.3385  0.6147      -7.1513  10.449   116.737   \"g\"\n",
       "  75.1362   30.9205  3.1611  0.3168      21.8393   4.648   356.462   \"g\"\n",
       "  51.624    21.1502  2.9085  0.242   …    9.8145   3.613   238.098   \"g\"\n",
       "  48.2468   17.3565  3.0332  0.2529      10.5868   4.792   219.087   \"g\"\n",
       "  26.7897   13.7595  2.5521  0.4236      -2.9292   0.812   237.134   \"g\"\n",
       "  96.2327   46.5165  4.154   0.0779      43.1844   4.854   248.226   \"g\"\n",
       "  46.7619   15.1993  2.5786  0.3377      -6.6812   7.875   102.251   \"g\"\n",
       "  62.7766   29.9104  3.3331  0.2475  …   23.771    9.9144  323.094   \"g\"\n",
       "  18.8562   16.46    2.4385  0.5282     -16.9327  11.461   162.848   \"g\"\n",
       "  45.6321   22.71    3.0441  0.2213     -14.3164   0.3822  178.255   \"g\"\n",
       "   ⋮                                 ⋱                               ⋮  \n",
       " 133.495    40.1631  3.305   0.1169     -31.0503  28.1458  319.373   \"h\"\n",
       "  39.5223   18.6327  2.8341  0.2462     -12.9245  46.268   187.097   \"h\"\n",
       "  32.4902   10.6723  2.4742  0.4664  …    8.4813  69.173   120.668   \"h\"\n",
       "  79.5528   44.9929  3.5488  0.1656     -30.0054  15.8075  311.568   \"h\"\n",
       "  31.8373   13.8734  2.8251  0.4169      11.1098  11.3663  100.057   \"h\"\n",
       " 182.5      76.5568  3.6872  0.1123     -62.6192  82.1691  283.473   \"h\"\n",
       "  43.298    17.3545  2.8307  0.2877      -3.6545  78.4099  224.83    \"h\"\n",
       "  21.3846   10.917   2.6161  0.5857  …    2.8766   2.4229  106.826   \"h\"\n",
       "  28.9452    6.702   2.2672  0.5351      -2.9632  86.7975  247.456   \"h\"\n",
       "  75.4455   47.5305  3.4483  0.1417      -9.4662  30.2987  256.517   \"h\"\n",
       " 120.513    76.9018  3.9939  0.0944     -63.8389  84.6874  408.317   \"h\"\n",
       " 187.181    53.0014  3.2093  0.2876      31.4755  52.731   272.317   \"h\""
      ]
     },
     "execution_count": 10,
     "metadata": {},
     "output_type": "execute_result"
    }
   ],
   "source": [
    "magic = readcsv(\"D:\\\\data\\\\Magic\\\\magic04.csv\")"
   ]
  },
  {
   "cell_type": "code",
   "execution_count": 11,
   "metadata": {
    "collapsed": false
   },
   "outputs": [
    {
     "data": {
      "text/plain": [
       "1902"
      ]
     },
     "execution_count": 11,
     "metadata": {},
     "output_type": "execute_result"
    }
   ],
   "source": [
    "N = size(magic, 1)\n",
    "n = round(Int64, N / 10) # number of points in the (stratified) sample for the test set"
   ]
  },
  {
   "cell_type": "code",
   "execution_count": 12,
   "metadata": {
    "collapsed": true
   },
   "outputs": [
    {
     "data": {
      "text/plain": [
       "17118-element Array{Int64,1}:\n",
       "     1\n",
       "     2\n",
       "     3\n",
       "     4\n",
       "     5\n",
       "     6\n",
       "     7\n",
       "     8\n",
       "    10\n",
       "    11\n",
       "    12\n",
       "    13\n",
       "    14\n",
       "     ⋮\n",
       " 19007\n",
       " 19008\n",
       " 19010\n",
       " 19011\n",
       " 19012\n",
       " 19013\n",
       " 19014\n",
       " 19015\n",
       " 19017\n",
       " 19018\n",
       " 19019\n",
       " 19020"
      ]
     },
     "execution_count": 12,
     "metadata": {},
     "output_type": "execute_result"
    }
   ],
   "source": [
    "temp = sample(collect(1:N), magic[:,11], n) # indexes of test set & corresponding labels\n",
    "ind = temp[1][:] # indexes of test set only, in a 1-dim array format\n",
    "ind_ = setdiff(collect(1:N), ind) # indexes of training set"
   ]
  },
  {
   "cell_type": "code",
   "execution_count": 13,
   "metadata": {
    "collapsed": true
   },
   "outputs": [
    {
     "data": {
      "text/plain": [
       "19020-element Array{Any,1}:\n",
       " \"g\"\n",
       " \"g\"\n",
       " \"g\"\n",
       " \"g\"\n",
       " \"g\"\n",
       " \"g\"\n",
       " \"g\"\n",
       " \"g\"\n",
       " \"g\"\n",
       " \"g\"\n",
       " \"g\"\n",
       " \"g\"\n",
       " \"g\"\n",
       " ⋮  \n",
       " \"h\"\n",
       " \"h\"\n",
       " \"h\"\n",
       " \"h\"\n",
       " \"h\"\n",
       " \"h\"\n",
       " \"h\"\n",
       " \"h\"\n",
       " \"h\"\n",
       " \"h\"\n",
       " \"h\"\n",
       " \"h\""
      ]
     },
     "execution_count": 13,
     "metadata": {},
     "output_type": "execute_result"
    }
   ],
   "source": [
    "F_magic = map(float, magic[:,1:(end-1)]) # all features of the dataset\n",
    "T_magic = magic[:,end] # all targets (labels) of the dataset"
   ]
  },
  {
   "cell_type": "code",
   "execution_count": 14,
   "metadata": {
    "collapsed": true
   },
   "outputs": [
    {
     "data": {
      "text/plain": [
       "19020x10 Array{Float64,2}:\n",
       " -0.577211   -0.336795   -0.38112      …  -0.405831   0.476803  -1.49783  \n",
       " -0.510955   -0.570012   -0.648578        -0.490081  -0.815397   0.153121 \n",
       "  2.56821     6.2057      2.61571         -2.18297    1.88917    0.842613 \n",
       " -0.694749   -0.687241   -1.02945         -0.35535   -0.658786  -1.03144  \n",
       "  0.516609    0.476371    0.711138         1.03659   -0.881016   2.17637  \n",
       " -0.0383845  -0.0561846   0.176647     …   0.459239  -0.920666   0.592519 \n",
       " -0.118102   -0.26297     0.440507         0.49632   -0.875499   0.338129 \n",
       " -0.624585   -0.459034   -0.577481        -0.152632  -1.02797    0.579619 \n",
       "  1.01458     1.32647     2.81208          2.06145   -0.873124   0.728043 \n",
       " -0.153152   -0.380554   -0.521409        -0.332779  -0.757393  -1.22528  \n",
       "  0.224867    0.421313    1.07508      …   1.12934   -0.679266   1.72987  \n",
       " -0.811851   -0.311836   -0.817855        -0.82499   -0.620018  -0.414416 \n",
       " -0.17982     0.0288364   0.463571        -0.699372  -1.04443   -0.208252 \n",
       "  ⋮                                    ⋱                                  \n",
       "  1.89414     0.980163    1.01563         -1.50283    0.019158   1.68007  \n",
       " -0.324039   -0.193408    0.0192194       -0.632542   0.713399  -0.0899353\n",
       " -0.490028   -0.62731    -0.742315     …   0.395227   1.59086   -0.978834 \n",
       "  0.62086     1.24342     1.5315          -1.45266   -0.453508   1.57563  \n",
       " -0.505439   -0.452826    0.000175707      0.521431  -0.623646  -1.25464  \n",
       "  3.05088     2.9639      1.82435         -3.01856    2.08873    1.19969  \n",
       " -0.234915   -0.263079    0.0120251       -0.187456   1.94472    0.414976 \n",
       " -0.75217    -0.613972   -0.44206      …   0.126126  -0.966257  -1.16406  \n",
       " -0.573706   -0.843722   -1.18032         -0.154264   2.26604    0.71774  \n",
       "  0.523909    1.38174     1.31884         -0.466496   0.101633   0.838981 \n",
       "  1.58772     2.9827      2.47331         -3.07712    2.1852     2.87025  \n",
       "  3.16138     1.67995     0.813128         1.49926    0.960989   1.05041  "
      ]
     },
     "execution_count": 14,
     "metadata": {},
     "output_type": "execute_result"
    }
   ],
   "source": [
    "F_magic = normalize(F_magic, \"stat\")"
   ]
  },
  {
   "cell_type": "code",
   "execution_count": 15,
   "metadata": {
    "collapsed": false
   },
   "outputs": [
    {
     "data": {
      "text/plain": [
       "2-element Array{Any,1}:\n",
       " \"g\"\n",
       " \"h\""
      ]
     },
     "execution_count": 15,
     "metadata": {},
     "output_type": "execute_result"
    }
   ],
   "source": [
    "Q = sort(unique(T_magic)) # all classes of the dataset, sorted in ascending order"
   ]
  },
  {
   "cell_type": "code",
   "execution_count": 16,
   "metadata": {
    "collapsed": true
   },
   "outputs": [
    {
     "data": {
      "text/plain": [
       "1902-element Array{Any,1}:\n",
       " \"g\"\n",
       " \"g\"\n",
       " \"g\"\n",
       " \"g\"\n",
       " \"g\"\n",
       " \"g\"\n",
       " \"g\"\n",
       " \"g\"\n",
       " \"g\"\n",
       " \"g\"\n",
       " \"g\"\n",
       " \"g\"\n",
       " \"g\"\n",
       " ⋮  \n",
       " \"h\"\n",
       " \"h\"\n",
       " \"h\"\n",
       " \"h\"\n",
       " \"h\"\n",
       " \"h\"\n",
       " \"h\"\n",
       " \"h\"\n",
       " \"h\"\n",
       " \"h\"\n",
       " \"h\"\n",
       " \"h\""
      ]
     },
     "execution_count": 16,
     "metadata": {},
     "output_type": "execute_result"
    }
   ],
   "source": [
    "# training and testing set for all classification experiments\n",
    "P1 = F_magic[ind_,:]\n",
    "T1 = T_magic[ind_]\n",
    "PT1 = F_magic[ind,:]\n",
    "TT1 = T_magic[ind]"
   ]
  },
  {
   "cell_type": "code",
   "execution_count": 17,
   "metadata": {
    "collapsed": true
   },
   "outputs": [
    {
     "data": {
      "text/plain": [
       "39645x61 Array{Any,2}:\n",
       " \"url\"                                                                                    …      \" shares\"\n",
       " \"http://mashable.com/2013/01/07/amazon-instant-video-browser/\"                               593         \n",
       " \"http://mashable.com/2013/01/07/ap-samsung-sponsored-tweets/\"                                711         \n",
       " \"http://mashable.com/2013/01/07/apple-40-billion-app-downloads/\"                            1500         \n",
       " \"http://mashable.com/2013/01/07/astronaut-notre-dame-bcs/\"                                  1200         \n",
       " \"http://mashable.com/2013/01/07/att-u-verse-apps/\"                                       …   505         \n",
       " \"http://mashable.com/2013/01/07/beewi-smart-toys/\"                                           855         \n",
       " \"http://mashable.com/2013/01/07/bodymedia-armbandgets-update/\"                               556         \n",
       " \"http://mashable.com/2013/01/07/canon-poweshot-n/\"                                           891         \n",
       " \"http://mashable.com/2013/01/07/car-of-the-future-infographic/\"                             3600         \n",
       " \"http://mashable.com/2013/01/07/chuck-hagel-website/\"                                    …   710         \n",
       " \"http://mashable.com/2013/01/07/cosmic-events-doomsday/\"                                    2200         \n",
       " \"http://mashable.com/2013/01/07/crayon-creatures/\"                                          1900         \n",
       " ⋮                                                                                        ⋱     ⋮         \n",
       " \"http://mashable.com/2014/12/27/las-vegas-new-years/\"                                       1700         \n",
       " \"http://mashable.com/2014/12/27/lbj-adviser-slams-selma/\"                                   1500         \n",
       " \"http://mashable.com/2014/12/27/music-grid-outfits/\"                                     …  1000         \n",
       " \"http://mashable.com/2014/12/27/nike-marc-newson/\"                                          1300         \n",
       " \"http://mashable.com/2014/12/27/north-korea-internet-outage-2/\"                             1700         \n",
       " \"http://mashable.com/2014/12/27/nypd-rafael-ramos-funeral/\"                                 1400         \n",
       " \"http://mashable.com/2014/12/27/protests-continue-ramos-funeral/\"                           1200         \n",
       " \"http://mashable.com/2014/12/27/samsung-app-autism/\"                                     …  1800         \n",
       " \"http://mashable.com/2014/12/27/seth-rogen-james-franco-will-live-tweet-the-interview/\"     1900         \n",
       " \"http://mashable.com/2014/12/27/son-pays-off-mortgage/\"                                     1900         \n",
       " \"http://mashable.com/2014/12/27/ukraine-blasts/\"                                            1100         \n",
       " \"http://mashable.com/2014/12/27/youtube-channels-2015/\"                                     1300         "
      ]
     },
     "execution_count": 17,
     "metadata": {},
     "output_type": "execute_result"
    }
   ],
   "source": [
    "ONP = readcsv(\"D:\\\\data\\\\OnlineNewsPopularity\\\\OnlineNewsPopularity.csv\")"
   ]
  },
  {
   "cell_type": "code",
   "execution_count": 18,
   "metadata": {
    "collapsed": false
   },
   "outputs": [
    {
     "data": {
      "text/plain": [
       "1x60 Array{Any,2}:\n",
       " \" timedelta\"  \" n_tokens_title\"  \" n_tokens_content\"  …  \" shares\""
      ]
     },
     "execution_count": 18,
     "metadata": {},
     "output_type": "execute_result"
    }
   ],
   "source": [
    "var_names = ONP[1,2:end]"
   ]
  },
  {
   "cell_type": "code",
   "execution_count": 19,
   "metadata": {
    "collapsed": false
   },
   "outputs": [
    {
     "data": {
      "text/plain": [
       "59"
      ]
     },
     "execution_count": 19,
     "metadata": {},
     "output_type": "execute_result"
    }
   ],
   "source": [
    "N = size(ONP, 1) - 1 # number of data points in ONP dataset (without the header row)\n",
    "n = round(Int64, N / 10) # number of points in the (basic) sample for the test set\n",
    "nd = size(ONP, 2) - 2 # number of dimensions (without the target variable or the index)"
   ]
  },
  {
   "cell_type": "code",
   "execution_count": 20,
   "metadata": {
    "collapsed": false
   },
   "outputs": [
    {
     "data": {
      "text/plain": [
       "35680-element Array{Int64,1}:\n",
       " 29232\n",
       " 25552\n",
       " 36775\n",
       " 22201\n",
       " 37819\n",
       " 30583\n",
       " 15546\n",
       " 18663\n",
       " 13987\n",
       " 30997\n",
       " 29378\n",
       "  2546\n",
       " 19056\n",
       "     ⋮\n",
       " 39062\n",
       " 33314\n",
       " 17527\n",
       " 24802\n",
       " 26719\n",
       " 10525\n",
       " 17656\n",
       "  9816\n",
       "  8849\n",
       " 23435\n",
       "  2520\n",
       " 10241"
      ]
     },
     "execution_count": 20,
     "metadata": {},
     "output_type": "execute_result"
    }
   ],
   "source": [
    "R = randperm(N)\n",
    "ind = R[1:n][:] # indexes of test set only, in a 1-dim array format\n",
    "ind_ = R[(n+1):end][:] # indexes of training set only, in a 1-dim array format"
   ]
  },
  {
   "cell_type": "code",
   "execution_count": 21,
   "metadata": {
    "collapsed": false
   },
   "outputs": [
    {
     "data": {
      "text/plain": [
       "39644-element Array{Float64,1}:\n",
       "  593.0\n",
       "  711.0\n",
       " 1500.0\n",
       " 1200.0\n",
       "  505.0\n",
       "  855.0\n",
       "  556.0\n",
       "  891.0\n",
       " 3600.0\n",
       "  710.0\n",
       " 2200.0\n",
       " 1900.0\n",
       "  823.0\n",
       "    ⋮  \n",
       " 1700.0\n",
       " 1500.0\n",
       " 1000.0\n",
       " 1300.0\n",
       " 1700.0\n",
       " 1400.0\n",
       " 1200.0\n",
       " 1800.0\n",
       " 1900.0\n",
       " 1900.0\n",
       " 1100.0\n",
       " 1300.0"
      ]
     },
     "execution_count": 21,
     "metadata": {},
     "output_type": "execute_result"
    }
   ],
   "source": [
    "F_ONP = map(Float64, ONP[2:end,2:(end-1)])\n",
    "T_ONP = map(Float64,ONP[2:end,end])"
   ]
  },
  {
   "cell_type": "code",
   "execution_count": 22,
   "metadata": {
    "collapsed": false
   },
   "outputs": [
    {
     "data": {
      "text/plain": [
       "39644x59 Array{Float64,2}:\n",
       "  1.75786   0.757438  -0.695202   …  -0.97542   -1.8107     0.138918 \n",
       "  1.75786  -0.661648  -0.618786      -0.269073   0.837738  -0.689649 \n",
       "  1.75786  -0.661648  -0.712183      -0.269073   0.837738  -0.689649 \n",
       "  1.75786  -0.661648  -0.0329325     -0.269073   0.837738  -0.689649 \n",
       "  1.75786   1.23047    1.11543        0.244634  -1.56993   -0.0870549\n",
       "  1.75786  -0.18862   -0.37468    …   0.538181  -1.054      0.257285 \n",
       "  1.75786  -1.13468    0.877688      -0.269073   0.837738  -0.689649 \n",
       "  1.75786   0.757438   0.939245       1.61452    0.837738   1.51986  \n",
       "  1.75786   0.284409  -0.954166      -0.269073   0.17563   -0.689649 \n",
       "  1.75786  -0.18862   -0.66973       -0.269073   0.837738  -0.689649 \n",
       "  1.75786  -0.661648   1.48901    …  -0.269073   0.837738  -0.689649 \n",
       "  1.75786  -0.18862   -0.763127      -0.269073   0.837738  -0.689649 \n",
       "  1.75786  -0.661648  -0.578456      -4.03626    0.837738   3.72938  \n",
       "  ⋮                               ⋱                                  \n",
       " -1.61339   2.17652    0.0710778      1.61452   -1.8107     1.51986  \n",
       " -1.61339  -0.661648   0.143248      -0.269073   0.837738  -0.689649 \n",
       " -1.61339  -0.661648  -0.627277      -0.269073   0.837738  -0.689649 \n",
       " -1.61339   1.23047   -0.145433   …  -0.269073   0.308051  -0.689649 \n",
       " -1.61806  -1.13468    4.16568       -0.269073   0.837738  -0.689649 \n",
       " -1.61806   1.23047    2.29775       -2.52938   -0.309917   1.96177  \n",
       " -1.61806   0.284409  -0.686711      -0.269073   0.837738  -0.689649 \n",
       " -1.61806   0.284409  -0.425624      -0.269073   0.308051  -0.689649 \n",
       " -1.61806   0.757438  -0.463832   …   3.49811   -0.751322   3.72938  \n",
       " -1.61806  -0.18862   -0.221849       0.244634  -1.56993   -0.0870549\n",
       " -1.61806  -2.08073    0.287589      -0.269073   0.837738  -0.689649 \n",
       " -1.61806  -0.18862   -0.826806       0.672723  -0.927885   0.415107 "
      ]
     },
     "execution_count": 22,
     "metadata": {},
     "output_type": "execute_result"
    }
   ],
   "source": [
    "F_ONP = normalize(F_ONP, \"stat\")"
   ]
  },
  {
   "cell_type": "code",
   "execution_count": 23,
   "metadata": {
    "collapsed": false
   },
   "outputs": [
    {
     "data": {
      "text/plain": [
       "3964-element Array{Float64,1}:\n",
       "   739.0\n",
       "   746.0\n",
       " 32700.0\n",
       "  2200.0\n",
       " 11400.0\n",
       "  1300.0\n",
       "  1800.0\n",
       "  6200.0\n",
       "  1300.0\n",
       "  1500.0\n",
       "  5800.0\n",
       "  1200.0\n",
       "   957.0\n",
       "     ⋮  \n",
       "   701.0\n",
       "   671.0\n",
       "  1000.0\n",
       "  1300.0\n",
       "  1100.0\n",
       "  7800.0\n",
       "  1300.0\n",
       "   923.0\n",
       "  6300.0\n",
       "  1200.0\n",
       "  2100.0\n",
       "  2400.0"
      ]
     },
     "execution_count": 23,
     "metadata": {},
     "output_type": "execute_result"
    }
   ],
   "source": [
    "# training and testing set for all regression experiments\n",
    "P2 = F_ONP[ind_,:]\n",
    "T2 = T_ONP[ind_]\n",
    "PT2 = F_ONP[ind,:]\n",
    "TT2 = T_ONP[ind]"
   ]
  },
  {
   "cell_type": "markdown",
   "metadata": {},
   "source": [
    "# Tree-Based Systems"
   ]
  },
  {
   "cell_type": "code",
   "execution_count": 24,
   "metadata": {
    "collapsed": false
   },
   "outputs": [
    {
     "name": "stderr",
     "output_type": "stream",
     "text": [
      "INFO: Recompiling stale cache file C:\\Users\\Zacharias\\.julia\\lib\\v0.4\\ScikitLearnBase.ji for module ScikitLearnBase.\n"
     ]
    }
   ],
   "source": [
    "using DecisionTree"
   ]
  },
  {
   "cell_type": "code",
   "execution_count": 25,
   "metadata": {
    "collapsed": false
   },
   "outputs": [
    {
     "data": {
      "text/plain": [
       "5"
      ]
     },
     "execution_count": 25,
     "metadata": {},
     "output_type": "execute_result"
    }
   ],
   "source": [
    "CP = 0.9 # combined purity parameter\n",
    "K = 5 # number of cross-validations"
   ]
  },
  {
   "cell_type": "markdown",
   "metadata": {},
   "source": [
    "## Decision Trees"
   ]
  },
  {
   "cell_type": "code",
   "execution_count": 26,
   "metadata": {
    "collapsed": false
   },
   "outputs": [
    {
     "data": {
      "text/plain": [
       "5"
      ]
     },
     "execution_count": 26,
     "metadata": {},
     "output_type": "execute_result"
    }
   ],
   "source": [
    "td = 3 # tree depth for viewing purposes (single decision tree)\n",
    "nl = 5 # number of leaves to be used for averaging in regression applications"
   ]
  },
  {
   "cell_type": "code",
   "execution_count": 27,
   "metadata": {
    "collapsed": false
   },
   "outputs": [
    {
     "data": {
      "text/plain": [
       "Decision Tree\n",
       "Leaves: 1512\n",
       "Depth:  37"
      ]
     },
     "execution_count": 27,
     "metadata": {},
     "output_type": "execute_result"
    }
   ],
   "source": [
    "model = build_tree(T1, P1)\n",
    "model = prune_tree(model, CP)"
   ]
  },
  {
   "cell_type": "code",
   "execution_count": 28,
   "metadata": {
    "collapsed": false
   },
   "outputs": [
    {
     "name": "stdout",
     "output_type": "stream",
     "text": [
      "Feature 9, Threshold -0.3096661121768262\n",
      "L-> Feature 1, Threshold 1.525274809976256\n",
      "    L-> Feature 9, Threshold -0.6886748399536539\n",
      "        L-> \n",
      "        R-> \n",
      "    R-> Feature 7, Threshold -2.662004522793831\n",
      "        L-> h : 96/96\n",
      "        R-> \n",
      "R-> Feature 1, Threshold -0.16381866376775667\n",
      "    L-> Feature 3, Threshold -0.9316932291591371\n",
      "        L-> \n",
      "        R-> \n",
      "    R-> Feature 1, Threshold 0.42999901916694716\n",
      "        L-> \n",
      "        R-> \n"
     ]
    }
   ],
   "source": [
    "print_tree(model, td)"
   ]
  },
  {
   "cell_type": "code",
   "execution_count": 29,
   "metadata": {
    "collapsed": false
   },
   "outputs": [
    {
     "data": {
      "text/plain": [
       "1902-element Array{Any,1}:\n",
       " \"g\"\n",
       " \"g\"\n",
       " \"g\"\n",
       " \"g\"\n",
       " \"g\"\n",
       " \"g\"\n",
       " \"g\"\n",
       " \"g\"\n",
       " \"g\"\n",
       " \"g\"\n",
       " \"g\"\n",
       " \"g\"\n",
       " \"g\"\n",
       " ⋮  \n",
       " \"g\"\n",
       " \"h\"\n",
       " \"h\"\n",
       " \"h\"\n",
       " \"h\"\n",
       " \"g\"\n",
       " \"h\"\n",
       " \"g\"\n",
       " \"h\"\n",
       " \"h\"\n",
       " \"h\"\n",
       " \"h\""
      ]
     },
     "execution_count": 29,
     "metadata": {},
     "output_type": "execute_result"
    }
   ],
   "source": [
    "pred = apply_tree(model, PT1)"
   ]
  },
  {
   "cell_type": "code",
   "execution_count": 30,
   "metadata": {
    "collapsed": false
   },
   "outputs": [
    {
     "data": {
      "text/plain": [
       "1902x2 Array{Float64,2}:\n",
       " 1.0         0.0       \n",
       " 1.0         0.0       \n",
       " 1.0         0.0       \n",
       " 1.0         0.0       \n",
       " 1.0         0.0       \n",
       " 1.0         0.0       \n",
       " 1.0         0.0       \n",
       " 1.0         0.0       \n",
       " 1.0         0.0       \n",
       " 1.0         0.0       \n",
       " 1.0         0.0       \n",
       " 1.0         0.0       \n",
       " 0.997389    0.00261097\n",
       " ⋮                     \n",
       " 0.909091    0.0909091 \n",
       " 0.0         1.0       \n",
       " 0.0         1.0       \n",
       " 0.0         1.0       \n",
       " 0.00275482  0.997245  \n",
       " 1.0         0.0       \n",
       " 0.0         1.0       \n",
       " 0.967742    0.0322581 \n",
       " 0.0         1.0       \n",
       " 0.0         1.0       \n",
       " 0.0         1.0       \n",
       " 0.0         1.0       "
      ]
     },
     "execution_count": 30,
     "metadata": {},
     "output_type": "execute_result"
    }
   ],
   "source": [
    "prob = apply_tree_proba(model, PT1, Q)"
   ]
  },
  {
   "cell_type": "code",
   "execution_count": 31,
   "metadata": {
    "collapsed": false,
    "scrolled": true
   },
   "outputs": [
    {
     "name": "stdout",
     "output_type": "stream",
     "text": [
      "\n",
      "Fold 1\n"
     ]
    },
    {
     "data": {
      "text/plain": [
       "2x2 Array{Int64,2}:\n",
       " 2154  346\n",
       "  346  958"
      ]
     },
     "metadata": {},
     "output_type": "display_data"
    },
    {
     "name": "stdout",
     "output_type": "stream",
     "text": [
      "Classes:  Any[\"g\",\"h\"]\n",
      "Matrix:   \n",
      "Accuracy: 0.8180862250262881\n",
      "Kappa:    0.5962625766871166\n"
     ]
    },
    {
     "data": {
      "text/plain": [
       "2x2 Array{Int64,2}:\n",
       " 2107   322\n",
       "  334  1041"
      ]
     },
     "metadata": {},
     "output_type": "display_data"
    },
    {
     "name": "stdout",
     "output_type": "stream",
     "text": [
      "\n",
      "Fold 2\n",
      "Classes:  Any[\"g\",\"h\"]\n",
      "Matrix:   \n",
      "Accuracy: 0.8275499474237644\n",
      "Kappa:    0.6257108410820772\n"
     ]
    },
    {
     "data": {
      "text/plain": [
       "2x2 Array{Int64,2}:\n",
       " 2107   338\n",
       "  344  1015"
      ]
     },
     "metadata": {},
     "output_type": "display_data"
    },
    {
     "name": "stdout",
     "output_type": "stream",
     "text": [
      "\n",
      "Fold 3\n",
      "Classes:  Any[\"g\",\"h\"]\n",
      "Matrix:   \n",
      "Accuracy: 0.8207150368033649\n",
      "Kappa:    0.6092287476084479\n"
     ]
    },
    {
     "data": {
      "text/plain": [
       "2x2 Array{Int64,2}:\n",
       " 2134  319\n",
       "  357  994"
      ]
     },
     "metadata": {},
     "output_type": "display_data"
    },
    {
     "name": "stdout",
     "output_type": "stream",
     "text": [
      "\n",
      "Fold 4\n",
      "Classes:  Any[\"g\",\"h\"]\n",
      "Matrix:   \n",
      "Accuracy: 0.8222923238696109\n",
      "Kappa:    0.6095576613276689\n"
     ]
    },
    {
     "data": {
      "text/plain": [
       "2x2 Array{Int64,2}:\n",
       " 2145  360\n",
       "  324  975"
      ]
     },
     "metadata": {},
     "output_type": "display_data"
    },
    {
     "name": "stdout",
     "output_type": "stream",
     "text": [
      "\n",
      "Fold 5\n",
      "Classes:  Any[\"g\",\"h\"]\n",
      "Matrix:   \n",
      "Accuracy: 0.8201892744479495\n",
      "Kappa:    0.6028431148977792\n",
      "\n",
      "Mean Accuracy: 0.8217665615141957\n"
     ]
    },
    {
     "data": {
      "text/plain": [
       "5-element Array{Float64,1}:\n",
       " 0.818086\n",
       " 0.82755 \n",
       " 0.820715\n",
       " 0.822292\n",
       " 0.820189"
      ]
     },
     "execution_count": 31,
     "metadata": {},
     "output_type": "execute_result"
    }
   ],
   "source": [
    "validation = nfoldCV_tree(T_magic, F_magic, CP, K)"
   ]
  },
  {
   "cell_type": "markdown",
   "metadata": {},
   "source": [
    "## Regression Trees"
   ]
  },
  {
   "cell_type": "code",
   "execution_count": 32,
   "metadata": {
    "collapsed": false
   },
   "outputs": [
    {
     "data": {
      "text/plain": [
       "Decision Tree\n",
       "Leaves: 12247\n",
       "Depth:  44"
      ]
     },
     "execution_count": 32,
     "metadata": {},
     "output_type": "execute_result"
    }
   ],
   "source": [
    "model = build_tree(T2, P2, nl)"
   ]
  },
  {
   "cell_type": "code",
   "execution_count": 33,
   "metadata": {
    "collapsed": false
   },
   "outputs": [
    {
     "data": {
      "text/plain": [
       "3964-element Array{Float64,1}:\n",
       "   806.6 \n",
       "  2366.67\n",
       "  3525.0 \n",
       " 72377.7 \n",
       "  3200.0 \n",
       "  2575.0 \n",
       "  1800.0 \n",
       "  4400.0 \n",
       "  1269.4 \n",
       "  2166.67\n",
       "  2200.0 \n",
       "  3033.33\n",
       "   474.2 \n",
       "     ⋮   \n",
       "  1125.0 \n",
       "  1800.0 \n",
       "   947.25\n",
       "  2133.33\n",
       " 16066.7 \n",
       "  1260.0 \n",
       "  1050.0 \n",
       "  1615.25\n",
       "  1200.0 \n",
       "   814.0 \n",
       "  6400.0 \n",
       "  2550.0 "
      ]
     },
     "execution_count": 33,
     "metadata": {},
     "output_type": "execute_result"
    }
   ],
   "source": [
    "pred = apply_tree(model, PT2)"
   ]
  },
  {
   "cell_type": "code",
   "execution_count": 34,
   "metadata": {
    "collapsed": false
   },
   "outputs": [
    {
     "data": {
      "text/plain": [
       "5.1912139599959624e8"
      ]
     },
     "execution_count": 34,
     "metadata": {},
     "output_type": "execute_result"
    }
   ],
   "source": [
    "MSE(pred, TT2)"
   ]
  },
  {
   "cell_type": "markdown",
   "metadata": {},
   "source": [
    "## Random Forests"
   ]
  },
  {
   "cell_type": "code",
   "execution_count": 35,
   "metadata": {
    "collapsed": false
   },
   "outputs": [
    {
     "data": {
      "text/plain": [
       "0.5"
      ]
     },
     "execution_count": 35,
     "metadata": {},
     "output_type": "execute_result"
    }
   ],
   "source": [
    "nrf = 2 # number of random features\n",
    "nt = 10 # number of trees in forest\n",
    "ps = 0.5 # proportion of samples in every tree"
   ]
  },
  {
   "cell_type": "code",
   "execution_count": 36,
   "metadata": {
    "collapsed": false
   },
   "outputs": [
    {
     "data": {
      "text/plain": [
       "Ensemble of Decision Trees\n",
       "Trees:      10\n",
       "Avg Leaves: 1023.8\n",
       "Avg Depth:  30.0"
      ]
     },
     "execution_count": 36,
     "metadata": {},
     "output_type": "execute_result"
    }
   ],
   "source": [
    "model = build_forest(T1, P1, nrf, nt, ps)"
   ]
  },
  {
   "cell_type": "code",
   "execution_count": 37,
   "metadata": {
    "collapsed": false
   },
   "outputs": [
    {
     "data": {
      "text/plain": [
       "1902-element Array{Any,1}:\n",
       " \"g\"\n",
       " \"g\"\n",
       " \"g\"\n",
       " \"g\"\n",
       " \"g\"\n",
       " \"g\"\n",
       " \"g\"\n",
       " \"g\"\n",
       " \"g\"\n",
       " \"g\"\n",
       " \"g\"\n",
       " \"g\"\n",
       " \"g\"\n",
       " ⋮  \n",
       " \"g\"\n",
       " \"h\"\n",
       " \"h\"\n",
       " \"h\"\n",
       " \"h\"\n",
       " \"g\"\n",
       " \"h\"\n",
       " \"h\"\n",
       " \"h\"\n",
       " \"h\"\n",
       " \"h\"\n",
       " \"h\""
      ]
     },
     "execution_count": 37,
     "metadata": {},
     "output_type": "execute_result"
    }
   ],
   "source": [
    "pred = apply_forest(model, PT1)"
   ]
  },
  {
   "cell_type": "code",
   "execution_count": 38,
   "metadata": {
    "collapsed": false
   },
   "outputs": [
    {
     "data": {
      "text/plain": [
       "1902x2 Array{Float64,2}:\n",
       " 0.8  0.2\n",
       " 1.0  0.0\n",
       " 0.8  0.2\n",
       " 1.0  0.0\n",
       " 0.9  0.1\n",
       " 0.9  0.1\n",
       " 1.0  0.0\n",
       " 1.0  0.0\n",
       " 0.9  0.1\n",
       " 0.7  0.3\n",
       " 1.0  0.0\n",
       " 0.7  0.3\n",
       " 1.0  0.0\n",
       " ⋮       \n",
       " 0.8  0.2\n",
       " 0.0  1.0\n",
       " 0.0  1.0\n",
       " 0.2  0.8\n",
       " 0.0  1.0\n",
       " 1.0  0.0\n",
       " 0.1  0.9\n",
       " 0.2  0.8\n",
       " 0.0  1.0\n",
       " 0.4  0.6\n",
       " 0.2  0.8\n",
       " 0.0  1.0"
      ]
     },
     "execution_count": 38,
     "metadata": {},
     "output_type": "execute_result"
    }
   ],
   "source": [
    "prob = apply_forest_proba(model, PT1, Q)"
   ]
  },
  {
   "cell_type": "code",
   "execution_count": 39,
   "metadata": {
    "collapsed": false
   },
   "outputs": [
    {
     "data": {
      "text/plain": [
       "2x2 Array{Int64,2}:\n",
       " 2307  133\n",
       "  404  960"
      ]
     },
     "metadata": {},
     "output_type": "display_data"
    },
    {
     "name": "stdout",
     "output_type": "stream",
     "text": [
      "\n",
      "Fold 1\n",
      "Classes:  Any[\"g\",\"h\"]\n",
      "Matrix:   \n",
      "Accuracy: 0.8588328075709779\n",
      "Kappa:    0.6790515975241032\n"
     ]
    },
    {
     "data": {
      "text/plain": [
       "2x2 Array{Int64,2}:\n",
       " 2357  123\n",
       "  392  932"
      ]
     },
     "metadata": {},
     "output_type": "display_data"
    },
    {
     "name": "stdout",
     "output_type": "stream",
     "text": [
      "\n",
      "Fold 2\n",
      "Classes:  Any[\"g\",\"h\"]\n",
      "Matrix:   \n",
      "Accuracy: 0.8646161934805467\n",
      "Kappa:    0.6868548272111783\n"
     ]
    },
    {
     "data": {
      "text/plain": [
       "2x2 Array{Int64,2}:\n",
       " 2319  110\n",
       "  399  976"
      ]
     },
     "metadata": {},
     "output_type": "display_data"
    },
    {
     "name": "stdout",
     "output_type": "stream",
     "text": [
      "\n",
      "Fold 3\n",
      "Classes:  Any[\"g\",\"h\"]\n",
      "Matrix:   \n",
      "Accuracy: 0.8661934805467929\n",
      "Kappa:    0.6962835663006202\n"
     ]
    },
    {
     "data": {
      "text/plain": [
       "2x2 Array{Int64,2}:\n",
       " 2328  167\n",
       "  391  918"
      ]
     },
     "metadata": {},
     "output_type": "display_data"
    },
    {
     "name": "stdout",
     "output_type": "stream",
     "text": [
      "\n",
      "Fold 4\n",
      "Classes:  Any[\"g\",\"h\"]\n",
      "Matrix:   \n",
      "Accuracy: 0.8533123028391167\n",
      "Kappa:    0.6612593887951415\n"
     ]
    },
    {
     "data": {
      "text/plain": [
       "2x2 Array{Int64,2}:\n",
       " 2336  152\n",
       "  383  933"
      ]
     },
     "metadata": {},
     "output_type": "display_data"
    },
    {
     "name": "stdout",
     "output_type": "stream",
     "text": [
      "\n",
      "Fold 5\n",
      "Classes:  Any[\"g\",\"h\"]\n",
      "Matrix:   \n",
      "Accuracy: 0.8593585699263933\n",
      "Kappa:    0.675813564365457\n",
      "\n",
      "Mean Accuracy: 0.8604626708727656\n"
     ]
    },
    {
     "data": {
      "text/plain": [
       "5-element Array{Float64,1}:\n",
       " 0.858833\n",
       " 0.864616\n",
       " 0.866193\n",
       " 0.853312\n",
       " 0.859359"
      ]
     },
     "execution_count": 39,
     "metadata": {},
     "output_type": "execute_result"
    }
   ],
   "source": [
    "validation = nfoldCV_forest(T_magic, F_magic, nrf, nt, K, ps)"
   ]
  },
  {
   "cell_type": "code",
   "execution_count": 40,
   "metadata": {
    "collapsed": false
   },
   "outputs": [
    {
     "data": {
      "text/plain": [
       "Ensemble of Decision Trees\n",
       "Trees:      10\n",
       "Avg Leaves: 5652.2\n",
       "Avg Depth:  37.8"
      ]
     },
     "execution_count": 40,
     "metadata": {},
     "output_type": "execute_result"
    }
   ],
   "source": [
    "model = build_forest(T2, P2, nrf, nt, nl, ps)"
   ]
  },
  {
   "cell_type": "code",
   "execution_count": 41,
   "metadata": {
    "collapsed": false
   },
   "outputs": [
    {
     "data": {
      "text/plain": [
       "3964-element Array{Float64,1}:\n",
       " 6384.18 \n",
       " 2504.51 \n",
       " 2830.67 \n",
       " 3159.65 \n",
       " 2479.29 \n",
       " 2587.19 \n",
       " 2772.36 \n",
       " 1314.98 \n",
       " 2704.85 \n",
       " 1598.88 \n",
       " 2097.03 \n",
       " 4256.26 \n",
       " 3316.14 \n",
       "    ⋮    \n",
       "  930.389\n",
       " 2520.79 \n",
       " 4332.51 \n",
       " 1959.95 \n",
       " 6498.45 \n",
       " 2294.46 \n",
       " 2637.75 \n",
       " 9635.65 \n",
       " 3955.04 \n",
       " 2074.69 \n",
       " 5369.12 \n",
       " 1257.9  "
      ]
     },
     "execution_count": 41,
     "metadata": {},
     "output_type": "execute_result"
    }
   ],
   "source": [
    "pred = apply_forest(model, PT2)"
   ]
  },
  {
   "cell_type": "code",
   "execution_count": 42,
   "metadata": {
    "collapsed": false
   },
   "outputs": [
    {
     "name": "stdout",
     "output_type": "stream",
     "text": [
      "\n",
      "Fold 1\n",
      "Mean Squared Error:     2.0536091199879307e8\n",
      "Correlation Coeff:      0.06139627058722553\n",
      "Coeff of Determination: -0.03201768027005869\n",
      "\n",
      "Fold 2\n",
      "Mean Squared Error:     1.3939776799347305e8\n",
      "Correlation Coeff:      0.06160318369830016\n",
      "Coeff of Determination: -0.04281211412546537\n",
      "\n",
      "Fold 3\n",
      "Mean Squared Error:     1.3486143540915173e8\n",
      "Correlation Coeff:      0.10814284917909767\n",
      "Coeff of Determination: -0.033410948715535405\n",
      "\n",
      "Fold 4\n",
      "Mean Squared Error:     1.5888834245165324e8\n",
      "Correlation Coeff:      0.09772586699586175\n",
      "Coeff of Determination: -0.05876718165288364\n",
      "\n",
      "Fold 5\n",
      "Mean Squared Error:     7.194823294213662e7\n",
      "Correlation Coeff:      0.0766566110378445\n",
      "Coeff of Determination: -0.14780943425051518\n",
      "\n",
      "Mean Coeff of Determination: -0.06296347180289166\n"
     ]
    },
    {
     "data": {
      "text/plain": [
       "5-element Array{Float64,1}:\n",
       " -0.0320177\n",
       " -0.0428121\n",
       " -0.0334109\n",
       " -0.0587672\n",
       " -0.147809 "
      ]
     },
     "execution_count": 42,
     "metadata": {},
     "output_type": "execute_result"
    }
   ],
   "source": [
    "validation = nfoldCV_forest(T_ONP, F_ONP,  nrf, nt, K, nl, ps)"
   ]
  },
  {
   "cell_type": "markdown",
   "metadata": {},
   "source": [
    "# Network-Based Systems"
   ]
  },
  {
   "cell_type": "markdown",
   "metadata": {},
   "source": [
    "## Basic Neural Networks"
   ]
  },
  {
   "cell_type": "code",
   "execution_count": 43,
   "metadata": {
    "collapsed": false
   },
   "outputs": [
    {
     "data": {
      "text/plain": [
       "1000"
      ]
     },
     "execution_count": 43,
     "metadata": {},
     "output_type": "execute_result"
    }
   ],
   "source": [
    "nin = size(F_magic,2) # number of input nodes\n",
    "nhln = 2*nin # number hidden layer nodes\n",
    "non = length(Q) # number of output nodes\n",
    "ne = 1000 # number of epochs for training"
   ]
  },
  {
   "cell_type": "code",
   "execution_count": 44,
   "metadata": {
    "collapsed": false
   },
   "outputs": [
    {
     "data": {
      "text/plain": [
       "2"
      ]
     },
     "execution_count": 44,
     "metadata": {},
     "output_type": "execute_result"
    }
   ],
   "source": [
    "N = length(T1)\n",
    "n = size(PT1,1)\n",
    "noc = length(Q)"
   ]
  },
  {
   "cell_type": "code",
   "execution_count": 45,
   "metadata": {
    "collapsed": false
   },
   "outputs": [
    {
     "data": {
      "text/plain": [
       "17118x2 Array{Float64,2}:\n",
       " 1.0  0.0\n",
       " 1.0  0.0\n",
       " 1.0  0.0\n",
       " 1.0  0.0\n",
       " 1.0  0.0\n",
       " 1.0  0.0\n",
       " 1.0  0.0\n",
       " 1.0  0.0\n",
       " 1.0  0.0\n",
       " 1.0  0.0\n",
       " 1.0  0.0\n",
       " 1.0  0.0\n",
       " 1.0  0.0\n",
       " ⋮       \n",
       " 0.0  1.0\n",
       " 0.0  1.0\n",
       " 0.0  1.0\n",
       " 0.0  1.0\n",
       " 0.0  1.0\n",
       " 0.0  1.0\n",
       " 0.0  1.0\n",
       " 0.0  1.0\n",
       " 0.0  1.0\n",
       " 0.0  1.0\n",
       " 0.0  1.0\n",
       " 0.0  1.0"
      ]
     },
     "execution_count": 45,
     "metadata": {},
     "output_type": "execute_result"
    }
   ],
   "source": [
    "T3 = vector2ANN(T1, Q)"
   ]
  },
  {
   "cell_type": "code",
   "execution_count": 46,
   "metadata": {
    "collapsed": false
   },
   "outputs": [],
   "source": [
    "using BackpropNeuralNet"
   ]
  },
  {
   "cell_type": "code",
   "execution_count": 47,
   "metadata": {
    "collapsed": false
   },
   "outputs": [],
   "source": [
    "net = init_network([nin, nhln, non]);"
   ]
  },
  {
   "cell_type": "code",
   "execution_count": 48,
   "metadata": {
    "collapsed": false
   },
   "outputs": [
    {
     "name": "stdout",
     "output_type": "stream",
     "text": [
      "20\n",
      "40\n",
      "60\n",
      "80\n",
      "100\n",
      "120\n",
      "140\n",
      "160\n",
      "180\n",
      "200\n",
      "220\n",
      "240\n",
      "260\n",
      "280\n",
      "300\n",
      "320\n",
      "340\n",
      "360\n",
      "380\n",
      "400\n",
      "420\n",
      "440\n",
      "460\n",
      "480\n",
      "500\n",
      "520\n",
      "540\n",
      "560\n",
      "580\n",
      "600\n",
      "620\n",
      "640\n",
      "660\n",
      "680\n",
      "700\n",
      "720\n",
      "740\n",
      "760\n",
      "780\n",
      "800\n",
      "820\n",
      "840\n",
      "860\n",
      "880\n",
      "900\n",
      "920\n",
      "940\n",
      "960\n",
      "980\n",
      "1000\n"
     ]
    }
   ],
   "source": [
    "for j = 1:ne\n",
    "    if mod(j,20) == 0; println(j); end # this is just to show how the training progresses, since the whole process may take a while...\n",
    "    \n",
    "    for i = 1:N\n",
    "        a = P1[i,:]\n",
    "        b = T3[i,:]\n",
    "        train(net, a[:], b[:])\n",
    "    end\n",
    "end"
   ]
  },
  {
   "cell_type": "code",
   "execution_count": 49,
   "metadata": {
    "collapsed": false
   },
   "outputs": [],
   "source": [
    "T4 = Array(Float64, n, noc)\n",
    "\n",
    "for i = 1:n\n",
    "    T4[i,:] = net_eval(net, PT1[i,:][:])\n",
    "end"
   ]
  },
  {
   "cell_type": "code",
   "execution_count": 50,
   "metadata": {
    "collapsed": false
   },
   "outputs": [
    {
     "data": {
      "text/plain": [
       "(Any[\"h\",\"g\",\"h\",\"h\",\"h\",\"h\",\"h\",\"h\",\"h\",\"h\"  …  \"h\",\"h\",\"h\",\"h\",\"h\",\"h\",\"h\",\"h\",\"h\",\"h\"],[1.0,0.948883,1.0,0.999995,1.0,1.0,1.0,1.0,0.999288,1.0  …  1.0,0.999997,1.0,1.0,1.0,1.0,1.0,1.0,1.0,1.0])"
      ]
     },
     "execution_count": 50,
     "metadata": {},
     "output_type": "execute_result"
    }
   ],
   "source": [
    "pred, prob = ANN2vector(T4, Q)"
   ]
  },
  {
   "cell_type": "code",
   "execution_count": 51,
   "metadata": {
    "collapsed": false
   },
   "outputs": [
    {
     "data": {
      "text/plain": [
       "0.41798107255520506"
      ]
     },
     "execution_count": 51,
     "metadata": {},
     "output_type": "execute_result"
    }
   ],
   "source": [
    "sum(pred .== TT1) / n # accuracy of ANN"
   ]
  },
  {
   "cell_type": "markdown",
   "metadata": {},
   "source": [
    "## Extreme Learning Machines"
   ]
  },
  {
   "cell_type": "code",
   "execution_count": 52,
   "metadata": {
    "collapsed": false
   },
   "outputs": [
    {
     "data": {
      "text/plain": [
       "1902-element Array{Float64,1}:\n",
       " 1.0\n",
       " 1.0\n",
       " 1.0\n",
       " 1.0\n",
       " 1.0\n",
       " 1.0\n",
       " 1.0\n",
       " 1.0\n",
       " 1.0\n",
       " 1.0\n",
       " 1.0\n",
       " 1.0\n",
       " 1.0\n",
       " ⋮  \n",
       " 1.0\n",
       " 1.0\n",
       " 1.0\n",
       " 1.0\n",
       " 1.0\n",
       " 1.0\n",
       " 1.0\n",
       " 1.0\n",
       " 1.0\n",
       " 1.0\n",
       " 1.0\n",
       " 1.0"
      ]
     },
     "execution_count": 52,
     "metadata": {},
     "output_type": "execute_result"
    }
   ],
   "source": [
    "T5 = ones(N)\n",
    "T6 = ones(n)"
   ]
  },
  {
   "cell_type": "code",
   "execution_count": 53,
   "metadata": {
    "collapsed": false
   },
   "outputs": [
    {
     "data": {
      "text/plain": [
       "17118-element BitArray{1}:\n",
       " false\n",
       " false\n",
       " false\n",
       " false\n",
       " false\n",
       " false\n",
       " false\n",
       " false\n",
       " false\n",
       " false\n",
       " false\n",
       " false\n",
       " false\n",
       "     ⋮\n",
       "  true\n",
       "  true\n",
       "  true\n",
       "  true\n",
       "  true\n",
       "  true\n",
       "  true\n",
       "  true\n",
       "  true\n",
       "  true\n",
       "  true\n",
       "  true"
      ]
     },
     "execution_count": 53,
     "metadata": {},
     "output_type": "execute_result"
    }
   ],
   "source": [
    "ind_h = (T1 .== \"h\")"
   ]
  },
  {
   "cell_type": "code",
   "execution_count": 54,
   "metadata": {
    "collapsed": false
   },
   "outputs": [
    {
     "data": {
      "text/plain": [
       "2.0"
      ]
     },
     "execution_count": 54,
     "metadata": {},
     "output_type": "execute_result"
    }
   ],
   "source": [
    "T5[ind_h] = 2.0"
   ]
  },
  {
   "cell_type": "code",
   "execution_count": 55,
   "metadata": {
    "collapsed": false
   },
   "outputs": [
    {
     "data": {
      "text/plain": [
       "1902-element BitArray{1}:\n",
       " false\n",
       " false\n",
       " false\n",
       " false\n",
       " false\n",
       " false\n",
       " false\n",
       " false\n",
       " false\n",
       " false\n",
       " false\n",
       " false\n",
       " false\n",
       "     ⋮\n",
       "  true\n",
       "  true\n",
       "  true\n",
       "  true\n",
       "  true\n",
       "  true\n",
       "  true\n",
       "  true\n",
       "  true\n",
       "  true\n",
       "  true\n",
       "  true"
      ]
     },
     "execution_count": 55,
     "metadata": {},
     "output_type": "execute_result"
    }
   ],
   "source": [
    "ind_h = (TT1 .== \"h\")"
   ]
  },
  {
   "cell_type": "code",
   "execution_count": 56,
   "metadata": {
    "collapsed": false
   },
   "outputs": [
    {
     "data": {
      "text/plain": [
       "2.0"
      ]
     },
     "execution_count": 56,
     "metadata": {},
     "output_type": "execute_result"
    }
   ],
   "source": [
    "T6[ind_h] = 2.0"
   ]
  },
  {
   "cell_type": "code",
   "execution_count": 60,
   "metadata": {
    "collapsed": false,
    "scrolled": true
   },
   "outputs": [],
   "source": [
    "using ELM"
   ]
  },
  {
   "cell_type": "code",
   "execution_count": 58,
   "metadata": {
    "collapsed": false
   },
   "outputs": [],
   "source": [
    "elm = ExtremeLearningMachine(50);"
   ]
  },
  {
   "cell_type": "code",
   "execution_count": 59,
   "metadata": {
    "collapsed": false
   },
   "outputs": [
    {
     "data": {
      "text/plain": [
       "1x50 Array{Float64,2}:\n",
       " -0.379202  0.0371626  0.196451  0.101317  …  0.488155  0.319478  0.348333"
      ]
     },
     "execution_count": 59,
     "metadata": {},
     "output_type": "execute_result"
    }
   ],
   "source": [
    "ELM.fit!(elm, P1, T5)"
   ]
  },
  {
   "cell_type": "code",
   "execution_count": 61,
   "metadata": {
    "collapsed": false
   },
   "outputs": [
    {
     "data": {
      "text/plain": [
       "1902-element Array{Float64,1}:\n",
       " 1.0\n",
       " 1.0\n",
       " 1.0\n",
       " 1.0\n",
       " 1.0\n",
       " 1.0\n",
       " 1.0\n",
       " 1.0\n",
       " 1.0\n",
       " 1.0\n",
       " 1.0\n",
       " 1.0\n",
       " 1.0\n",
       " ⋮  \n",
       " 1.0\n",
       " 2.0\n",
       " 2.0\n",
       " 2.0\n",
       " 2.0\n",
       " 1.0\n",
       " 2.0\n",
       " 2.0\n",
       " 2.0\n",
       " 2.0\n",
       " 2.0\n",
       " 2.0"
      ]
     },
     "execution_count": 61,
     "metadata": {},
     "output_type": "execute_result"
    }
   ],
   "source": [
    "pred = round(ELM.predict(elm, PT1))"
   ]
  },
  {
   "cell_type": "code",
   "execution_count": 62,
   "metadata": {
    "collapsed": false
   },
   "outputs": [
    {
     "data": {
      "text/plain": [
       "0.8196635120925342"
      ]
     },
     "execution_count": 62,
     "metadata": {},
     "output_type": "execute_result"
    }
   ],
   "source": [
    "sum(pred .== T6) / n # accuracy of ELM"
   ]
  },
  {
   "cell_type": "markdown",
   "metadata": {},
   "source": [
    "# Regression"
   ]
  },
  {
   "cell_type": "code",
   "execution_count": 63,
   "metadata": {
    "collapsed": false
   },
   "outputs": [],
   "source": [
    "using DataFrames # the GLM package works only with data frames so our Array data is inapplicable"
   ]
  },
  {
   "cell_type": "code",
   "execution_count": 64,
   "metadata": {
    "collapsed": true
   },
   "outputs": [],
   "source": [
    "ONP = map(Float64, ONP[2:end,2:end]);"
   ]
  },
  {
   "cell_type": "code",
   "execution_count": 65,
   "metadata": {
    "collapsed": false
   },
   "outputs": [
    {
     "data": {
      "text/html": [
       "<table class=\"data-frame\"><tr><th></th><th>x1</th><th>x2</th><th>x3</th><th>x4</th><th>x5</th><th>x6</th><th>x7</th><th>x8</th><th>x9</th><th>x10</th><th>x11</th><th>x12</th><th>x13</th><th>x14</th><th>x15</th><th>x16</th><th>x17</th><th>x18</th><th>x19</th><th>x20</th><th>x21</th><th>x22</th><th>x23</th><th>x24</th><th>x25</th><th>x26</th><th>x27</th><th>x28</th><th>x29</th><th>x30</th><th>x31</th><th>x32</th><th>x33</th><th>x34</th><th>x35</th><th>x36</th><th>x37</th><th>x38</th><th>x39</th><th>x40</th><th>x41</th><th>x42</th><th>x43</th><th>x44</th><th>x45</th><th>x46</th><th>x47</th><th>x48</th><th>x49</th><th>x50</th><th>x51</th><th>x52</th><th>x53</th><th>x54</th><th>x55</th><th>x56</th><th>x57</th><th>x58</th><th>x59</th><th>x60</th></tr><tr><th>1</th><td>731.0</td><td>12.0</td><td>219.0</td><td>0.663594466988</td><td>0.999999992308</td><td>0.815384609112</td><td>4.0</td><td>2.0</td><td>1.0</td><td>0.0</td><td>4.6803652968</td><td>5.0</td><td>0.0</td><td>1.0</td><td>0.0</td><td>0.0</td><td>0.0</td><td>0.0</td><td>0.0</td><td>0.0</td><td>0.0</td><td>0.0</td><td>0.0</td><td>0.0</td><td>0.0</td><td>0.0</td><td>0.0</td><td>496.0</td><td>496.0</td><td>496.0</td><td>1.0</td><td>0.0</td><td>0.0</td><td>0.0</td><td>0.0</td><td>0.0</td><td>0.0</td><td>0.0</td><td>0.500331204081</td><td>0.378278929586</td><td>0.0400046751006</td><td>0.0412626477296</td><td>0.0401225435029</td><td>0.521617145481</td><td>0.0925619834711</td><td>0.0456621004566</td><td>0.013698630137</td><td>0.769230769231</td><td>0.230769230769</td><td>0.378636363636</td><td>0.1</td><td>0.7</td><td>-0.35</td><td>-0.6</td><td>-0.2</td><td>0.5</td><td>-0.1875</td><td>0.0</td><td>0.1875</td><td>593.0</td></tr><tr><th>2</th><td>731.0</td><td>9.0</td><td>255.0</td><td>0.604743080614</td><td>0.999999993289</td><td>0.79194630341</td><td>3.0</td><td>1.0</td><td>1.0</td><td>0.0</td><td>4.9137254902</td><td>4.0</td><td>0.0</td><td>0.0</td><td>1.0</td><td>0.0</td><td>0.0</td><td>0.0</td><td>0.0</td><td>0.0</td><td>0.0</td><td>0.0</td><td>0.0</td><td>0.0</td><td>0.0</td><td>0.0</td><td>0.0</td><td>0.0</td><td>0.0</td><td>0.0</td><td>1.0</td><td>0.0</td><td>0.0</td><td>0.0</td><td>0.0</td><td>0.0</td><td>0.0</td><td>0.0</td><td>0.799755687423</td><td>0.0500466753998</td><td>0.0500962518137</td><td>0.0501006734234</td><td>0.0500007119405</td><td>0.341245791246</td><td>0.148947811448</td><td>0.043137254902</td><td>0.0156862745098</td><td>0.733333333333</td><td>0.266666666667</td><td>0.286914600551</td><td>0.0333333333333</td><td>0.7</td><td>-0.11875</td><td>-0.125</td><td>-0.1</td><td>0.0</td><td>0.0</td><td>0.5</td><td>0.0</td><td>711.0</td></tr><tr><th>3</th><td>731.0</td><td>9.0</td><td>211.0</td><td>0.575129530699</td><td>0.999999991597</td><td>0.66386554064</td><td>3.0</td><td>1.0</td><td>1.0</td><td>0.0</td><td>4.39336492891</td><td>6.0</td><td>0.0</td><td>0.0</td><td>1.0</td><td>0.0</td><td>0.0</td><td>0.0</td><td>0.0</td><td>0.0</td><td>0.0</td><td>0.0</td><td>0.0</td><td>0.0</td><td>0.0</td><td>0.0</td><td>0.0</td><td>918.0</td><td>918.0</td><td>918.0</td><td>1.0</td><td>0.0</td><td>0.0</td><td>0.0</td><td>0.0</td><td>0.0</td><td>0.0</td><td>0.0</td><td>0.217792288518</td><td>0.033334456999</td><td>0.0333514249339</td><td>0.0333335358046</td><td>0.682188293744</td><td>0.702222222222</td><td>0.323333333333</td><td>0.0568720379147</td><td>0.00947867298578</td><td>0.857142857143</td><td>0.142857142857</td><td>0.495833333333</td><td>0.1</td><td>1.0</td><td>-0.466666666667</td><td>-0.8</td><td>-0.133333333333</td><td>0.0</td><td>0.0</td><td>0.5</td><td>0.0</td><td>1500.0</td></tr><tr><th>4</th><td>731.0</td><td>9.0</td><td>531.0</td><td>0.503787877834</td><td>0.999999996904</td><td>0.665634672862</td><td>9.0</td><td>0.0</td><td>1.0</td><td>0.0</td><td>4.40489642185</td><td>7.0</td><td>0.0</td><td>1.0</td><td>0.0</td><td>0.0</td><td>0.0</td><td>0.0</td><td>0.0</td><td>0.0</td><td>0.0</td><td>0.0</td><td>0.0</td><td>0.0</td><td>0.0</td><td>0.0</td><td>0.0</td><td>0.0</td><td>0.0</td><td>0.0</td><td>1.0</td><td>0.0</td><td>0.0</td><td>0.0</td><td>0.0</td><td>0.0</td><td>0.0</td><td>0.0</td><td>0.0285732164707</td><td>0.419299641782</td><td>0.49465082574</td><td>0.0289047184252</td><td>0.0285715975818</td><td>0.42984968735</td><td>0.100704665705</td><td>0.0414312617702</td><td>0.0207156308851</td><td>0.666666666667</td><td>0.333333333333</td><td>0.385965171192</td><td>0.136363636364</td><td>0.8</td><td>-0.369696969697</td><td>-0.6</td><td>-0.166666666667</td><td>0.0</td><td>0.0</td><td>0.5</td><td>0.0</td><td>1200.0</td></tr><tr><th>5</th><td>731.0</td><td>13.0</td><td>1072.0</td><td>0.41564561695</td><td>0.999999998565</td><td>0.540889525766</td><td>19.0</td><td>19.0</td><td>20.0</td><td>0.0</td><td>4.6828358209</td><td>7.0</td><td>0.0</td><td>0.0</td><td>0.0</td><td>0.0</td><td>1.0</td><td>0.0</td><td>0.0</td><td>0.0</td><td>0.0</td><td>0.0</td><td>0.0</td><td>0.0</td><td>0.0</td><td>0.0</td><td>0.0</td><td>545.0</td><td>16000.0</td><td>3151.15789474</td><td>1.0</td><td>0.0</td><td>0.0</td><td>0.0</td><td>0.0</td><td>0.0</td><td>0.0</td><td>0.0</td><td>0.0286328101715</td><td>0.0287935517322</td><td>0.0285751849112</td><td>0.028571675324</td><td>0.885426777861</td><td>0.513502122877</td><td>0.281003475691</td><td>0.0746268656716</td><td>0.0121268656716</td><td>0.860215053763</td><td>0.139784946237</td><td>0.411127435065</td><td>0.0333333333333</td><td>1.0</td><td>-0.220192307692</td><td>-0.5</td><td>-0.05</td><td>0.454545454545</td><td>0.136363636364</td><td>0.0454545454545</td><td>0.136363636364</td><td>505.0</td></tr><tr><th>6</th><td>731.0</td><td>10.0</td><td>370.0</td><td>0.559888577828</td><td>0.999999995495</td><td>0.698198195053</td><td>2.0</td><td>2.0</td><td>0.0</td><td>0.0</td><td>4.35945945946</td><td>9.0</td><td>0.0</td><td>0.0</td><td>0.0</td><td>0.0</td><td>1.0</td><td>0.0</td><td>0.0</td><td>0.0</td><td>0.0</td><td>0.0</td><td>0.0</td><td>0.0</td><td>0.0</td><td>0.0</td><td>0.0</td><td>8500.0</td><td>8500.0</td><td>8500.0</td><td>1.0</td><td>0.0</td><td>0.0</td><td>0.0</td><td>0.0</td><td>0.0</td><td>0.0</td><td>0.0</td><td>0.0222452755449</td><td>0.306717575824</td><td>0.0222312775078</td><td>0.0222242903103</td><td>0.626581580813</td><td>0.437408648699</td><td>0.0711841921519</td><td>0.0297297297297</td><td>0.027027027027</td><td>0.52380952381</td><td>0.47619047619</td><td>0.350609996065</td><td>0.136363636364</td><td>0.6</td><td>-0.195</td><td>-0.4</td><td>-0.1</td><td>0.642857142857</td><td>0.214285714286</td><td>0.142857142857</td><td>0.214285714286</td><td>855.0</td></tr><tr><th>7</th><td>731.0</td><td>8.0</td><td>960.0</td><td>0.418162618355</td><td>0.999999998339</td><td>0.54983388613</td><td>21.0</td><td>20.0</td><td>20.0</td><td>0.0</td><td>4.65416666667</td><td>10.0</td><td>1.0</td><td>0.0</td><td>0.0</td><td>0.0</td><td>0.0</td><td>0.0</td><td>0.0</td><td>0.0</td><td>0.0</td><td>0.0</td><td>0.0</td><td>0.0</td><td>0.0</td><td>0.0</td><td>0.0</td><td>545.0</td><td>16000.0</td><td>3151.15789474</td><td>1.0</td><td>0.0</td><td>0.0</td><td>0.0</td><td>0.0</td><td>0.0</td><td>0.0</td><td>0.0</td><td>0.0200816655822</td><td>0.114705387413</td><td>0.0200243688545</td><td>0.0200153281713</td><td>0.825173249979</td><td>0.514480300844</td><td>0.268302724212</td><td>0.0802083333333</td><td>0.0166666666667</td><td>0.827956989247</td><td>0.172043010753</td><td>0.402038567493</td><td>0.1</td><td>1.0</td><td>-0.224479166667</td><td>-0.5</td><td>-0.05</td><td>0.0</td><td>0.0</td><td>0.5</td><td>0.0</td><td>556.0</td></tr><tr><th>8</th><td>731.0</td><td>12.0</td><td>989.0</td><td>0.433573634981</td><td>0.999999998415</td><td>0.572107764545</td><td>20.0</td><td>20.0</td><td>20.0</td><td>0.0</td><td>4.61779575329</td><td>9.0</td><td>0.0</td><td>0.0</td><td>0.0</td><td>0.0</td><td>1.0</td><td>0.0</td><td>0.0</td><td>0.0</td><td>0.0</td><td>0.0</td><td>0.0</td><td>0.0</td><td>0.0</td><td>0.0</td><td>0.0</td><td>545.0</td><td>16000.0</td><td>3151.15789474</td><td>1.0</td><td>0.0</td><td>0.0</td><td>0.0</td><td>0.0</td><td>0.0</td><td>0.0</td><td>0.0</td><td>0.0222243573751</td><td>0.150732973266</td><td>0.243435475507</td><td>0.0222236031538</td><td>0.561383590699</td><td>0.543474234099</td><td>0.298613469863</td><td>0.0839231547017</td><td>0.0151668351871</td><td>0.84693877551</td><td>0.15306122449</td><td>0.427720492359</td><td>0.1</td><td>1.0</td><td>-0.242777777778</td><td>-0.5</td><td>-0.05</td><td>1.0</td><td>0.5</td><td>0.5</td><td>0.5</td><td>891.0</td></tr><tr><th>9</th><td>731.0</td><td>11.0</td><td>97.0</td><td>0.670103085875</td><td>0.999999979592</td><td>0.836734676801</td><td>2.0</td><td>0.0</td><td>0.0</td><td>0.0</td><td>4.85567010309</td><td>7.0</td><td>0.0</td><td>0.0</td><td>0.0</td><td>0.0</td><td>1.0</td><td>0.0</td><td>0.0</td><td>0.0</td><td>0.0</td><td>0.0</td><td>0.0</td><td>0.0</td><td>0.0</td><td>0.0</td><td>0.0</td><td>0.0</td><td>0.0</td><td>0.0</td><td>1.0</td><td>0.0</td><td>0.0</td><td>0.0</td><td>0.0</td><td>0.0</td><td>0.0</td><td>0.0</td><td>0.458250415016</td><td>0.0289794309233</td><td>0.0286618834452</td><td>0.0296958587737</td><td>0.454412411842</td><td>0.538888888889</td><td>0.161111111111</td><td>0.0309278350515</td><td>0.020618556701</td><td>0.6</td><td>0.4</td><td>0.566666666667</td><td>0.4</td><td>0.8</td><td>-0.125</td><td>-0.125</td><td>-0.125</td><td>0.125</td><td>0.0</td><td>0.375</td><td>0.0</td><td>3600.0</td></tr><tr><th>10</th><td>731.0</td><td>10.0</td><td>231.0</td><td>0.636363633609</td><td>0.999999992754</td><td>0.797101443499</td><td>4.0</td><td>1.0</td><td>1.0</td><td>1.0</td><td>5.09090909091</td><td>5.0</td><td>0.0</td><td>0.0</td><td>0.0</td><td>0.0</td><td>0.0</td><td>1.0</td><td>0.0</td><td>0.0</td><td>0.0</td><td>0.0</td><td>0.0</td><td>0.0</td><td>0.0</td><td>0.0</td><td>0.0</td><td>0.0</td><td>0.0</td><td>0.0</td><td>1.0</td><td>0.0</td><td>0.0</td><td>0.0</td><td>0.0</td><td>0.0</td><td>0.0</td><td>0.0</td><td>0.0400000958117</td><td>0.0400000263554</td><td>0.839997207202</td><td>0.0400006328035</td><td>0.0400020378274</td><td>0.313888888889</td><td>0.0518518518519</td><td>0.038961038961</td><td>0.030303030303</td><td>0.5625</td><td>0.4375</td><td>0.298412698413</td><td>0.1</td><td>0.5</td><td>-0.238095238095</td><td>-0.5</td><td>-0.1</td><td>0.0</td><td>0.0</td><td>0.5</td><td>0.0</td><td>710.0</td></tr><tr><th>11</th><td>731.0</td><td>9.0</td><td>1248.0</td><td>0.490049750837</td><td>0.999999998588</td><td>0.731638417046</td><td>11.0</td><td>0.0</td><td>1.0</td><td>0.0</td><td>4.61778846154</td><td>8.0</td><td>0.0</td><td>0.0</td><td>0.0</td><td>0.0</td><td>0.0</td><td>1.0</td><td>0.0</td><td>0.0</td><td>0.0</td><td>0.0</td><td>0.0</td><td>0.0</td><td>0.0</td><td>0.0</td><td>0.0</td><td>0.0</td><td>0.0</td><td>0.0</td><td>1.0</td><td>0.0</td><td>0.0</td><td>0.0</td><td>0.0</td><td>0.0</td><td>0.0</td><td>0.0</td><td>0.0250035640536</td><td>0.287301139934</td><td>0.400829319926</td><td>0.261863749124</td><td>0.0250022269618</td><td>0.482059813124</td><td>0.102350145729</td><td>0.0384615384615</td><td>0.0208333333333</td><td>0.648648648649</td><td>0.351351351351</td><td>0.404480068543</td><td>0.1</td><td>1.0</td><td>-0.415064102564</td><td>-1.0</td><td>-0.1</td><td>0.0</td><td>0.0</td><td>0.5</td><td>0.0</td><td>2200.0</td></tr><tr><th>12</th><td>731.0</td><td>10.0</td><td>187.0</td><td>0.666666663082</td><td>0.999999991304</td><td>0.799999993043</td><td>7.0</td><td>0.0</td><td>1.0</td><td>0.0</td><td>4.6577540107</td><td>7.0</td><td>1.0</td><td>0.0</td><td>0.0</td><td>0.0</td><td>0.0</td><td>0.0</td><td>0.0</td><td>0.0</td><td>0.0</td><td>0.0</td><td>0.0</td><td>0.0</td><td>0.0</td><td>0.0</td><td>0.0</td><td>0.0</td><td>0.0</td><td>0.0</td><td>1.0</td><td>0.0</td><td>0.0</td><td>0.0</td><td>0.0</td><td>0.0</td><td>0.0</td><td>0.0</td><td>0.02862788014</td><td>0.0285728766033</td><td>0.0285956885604</td><td>0.0287153666316</td><td>0.885488188065</td><td>0.477164502165</td><td>0.15</td><td>0.0267379679144</td><td>0.0106951871658</td><td>0.714285714286</td><td>0.285714285714</td><td>0.435</td><td>0.2</td><td>0.7</td><td>-0.2625</td><td>-0.4</td><td>-0.125</td><td>0.0</td><td>0.0</td><td>0.5</td><td>0.0</td><td>1900.0</td></tr><tr><th>13</th><td>731.0</td><td>9.0</td><td>274.0</td><td>0.609195399965</td><td>0.999999994152</td><td>0.707602335043</td><td>18.0</td><td>2.0</td><td>11.0</td><td>0.0</td><td>4.23357664234</td><td>8.0</td><td>0.0</td><td>0.0</td><td>0.0</td><td>0.0</td><td>0.0</td><td>0.0</td><td>0.0</td><td>0.0</td><td>0.0</td><td>0.0</td><td>0.0</td><td>0.0</td><td>0.0</td><td>0.0</td><td>0.0</td><td>10700.0</td><td>16200.0</td><td>13450.0</td><td>1.0</td><td>0.0</td><td>0.0</td><td>0.0</td><td>0.0</td><td>0.0</td><td>0.0</td><td>0.0</td><td>0.150492534582</td><td>0.025933599228</td><td>0.0251877092058</td><td>0.304298398227</td><td>0.494087758757</td><td>0.534950029394</td><td>0.100727513228</td><td>0.0510948905109</td><td>0.029197080292</td><td>0.636363636364</td><td>0.363636363636</td><td>0.375510204082</td><td>0.2</td><td>0.7</td><td>-0.310416666667</td><td>-0.6</td><td>-0.05</td><td>1.0</td><td>-1.0</td><td>0.5</td><td>1.0</td><td>823.0</td></tr><tr><th>14</th><td>731.0</td><td>9.0</td><td>285.0</td><td>0.744186043627</td><td>0.999999994536</td><td>0.841530050046</td><td>4.0</td><td>2.0</td><td>0.0</td><td>21.0</td><td>4.34385964912</td><td>6.0</td><td>0.0</td><td>0.0</td><td>0.0</td><td>0.0</td><td>0.0</td><td>0.0</td><td>0.0</td><td>0.0</td><td>0.0</td><td>0.0</td><td>0.0</td><td>0.0</td><td>0.0</td><td>0.0</td><td>0.0</td><td>770.0</td><td>22800.0</td><td>11785.0</td><td>1.0</td><td>0.0</td><td>0.0</td><td>0.0</td><td>0.0</td><td>0.0</td><td>0.0</td><td>0.0</td><td>0.0333862300822</td><td>0.0334265855475</td><td>0.0333515784993</td><td>0.866498538197</td><td>0.0333370676739</td><td>0.509743589744</td><td>-0.0530849358974</td><td>0.0280701754386</td><td>0.0526315789474</td><td>0.347826086957</td><td>0.652173913043</td><td>0.4575</td><td>0.16</td><td>1.0</td><td>-0.337888888889</td><td>-0.7</td><td>-0.1</td><td>1.0</td><td>-1.0</td><td>0.5</td><td>1.0</td><td>10000.0</td></tr><tr><th>15</th><td>731.0</td><td>8.0</td><td>259.0</td><td>0.562753034159</td><td>0.999999994444</td><td>0.644444440864</td><td>19.0</td><td>3.0</td><td>9.0</td><td>0.0</td><td>5.02316602317</td><td>7.0</td><td>0.0</td><td>0.0</td><td>0.0</td><td>0.0</td><td>0.0</td><td>0.0</td><td>0.0</td><td>0.0</td><td>0.0</td><td>0.0</td><td>0.0</td><td>0.0</td><td>0.0</td><td>0.0</td><td>0.0</td><td>4800.0</td><td>4800.0</td><td>4800.0</td><td>1.0</td><td>0.0</td><td>0.0</td><td>0.0</td><td>0.0</td><td>0.0</td><td>0.0</td><td>0.0</td><td>0.0287800668244</td><td>0.028814084746</td><td>0.0285743343251</td><td>0.885144107655</td><td>0.0286874064498</td><td>0.295175127902</td><td>0.0572992916175</td><td>0.015444015444</td><td>0.011583011583</td><td>0.571428571429</td><td>0.428571428571</td><td>0.249090909091</td><td>0.136363636364</td><td>0.5</td><td>-0.13869047619</td><td>-0.1875</td><td>-0.05</td><td>0.75</td><td>0.55</td><td>0.25</td><td>0.55</td><td>761.0</td></tr><tr><th>16</th><td>731.0</td><td>12.0</td><td>682.0</td><td>0.459541984031</td><td>0.999999997429</td><td>0.634961437956</td><td>10.0</td><td>0.0</td><td>1.0</td><td>0.0</td><td>4.62023460411</td><td>6.0</td><td>0.0</td><td>0.0</td><td>0.0</td><td>0.0</td><td>0.0</td><td>1.0</td><td>0.0</td><td>0.0</td><td>0.0</td><td>0.0</td><td>0.0</td><td>0.0</td><td>0.0</td><td>0.0</td><td>0.0</td><td>0.0</td><td>0.0</td><td>0.0</td><td>1.0</td><td>0.0</td><td>0.0</td><td>0.0</td><td>0.0</td><td>0.0</td><td>0.0</td><td>0.0</td><td>0.0333338761316</td><td>0.0333336748346</td><td>0.866662607102</td><td>0.0333350169295</td><td>0.0333348250024</td><td>0.473285048285</td><td>0.0622266622267</td><td>0.049853372434</td><td>0.0395894428152</td><td>0.55737704918</td><td>0.44262295082</td><td>0.343070409982</td><td>0.05</td><td>0.6</td><td>-0.220149911817</td><td>-0.6</td><td>-0.05</td><td>0.75</td><td>-0.25</td><td>0.25</td><td>0.25</td><td>1600.0</td></tr><tr><th>17</th><td>731.0</td><td>8.0</td><td>1118.0</td><td>0.512396693744</td><td>0.999999998563</td><td>0.709770113923</td><td>26.0</td><td>18.0</td><td>12.0</td><td>1.0</td><td>4.70393559928</td><td>5.0</td><td>0.0</td><td>0.0</td><td>0.0</td><td>0.0</td><td>0.0</td><td>0.0</td><td>0.0</td><td>0.0</td><td>0.0</td><td>0.0</td><td>0.0</td><td>0.0</td><td>0.0</td><td>0.0</td><td>0.0</td><td>555.0</td><td>14000.0</td><td>3904.625</td><td>1.0</td><td>0.0</td><td>0.0</td><td>0.0</td><td>0.0</td><td>0.0</td><td>0.0</td><td>0.0</td><td>0.0400805062393</td><td>0.0401443799046</td><td>0.0400276469927</td><td>0.839741883778</td><td>0.0400055830855</td><td>0.57962962963</td><td>0.056378600823</td><td>0.04114490161</td><td>0.025939177102</td><td>0.613333333333</td><td>0.386666666667</td><td>0.504528985507</td><td>0.1</td><td>1.0</td><td>-0.401436781609</td><td>-1.0</td><td>-0.05</td><td>0.566666666667</td><td>-0.1</td><td>0.0666666666667</td><td>0.1</td><td>13600.0</td></tr><tr><th>18</th><td>731.0</td><td>8.0</td><td>397.0</td><td>0.624678661633</td><td>0.999999995951</td><td>0.805668012933</td><td>11.0</td><td>0.0</td><td>1.0</td><td>0.0</td><td>5.44584382872</td><td>6.0</td><td>0.0</td><td>0.0</td><td>1.0</td><td>0.0</td><td>0.0</td><td>0.0</td><td>0.0</td><td>0.0</td><td>0.0</td><td>0.0</td><td>0.0</td><td>0.0</td><td>0.0</td><td>0.0</td><td>0.0</td><td>0.0</td><td>0.0</td><td>0.0</td><td>1.0</td><td>0.0</td><td>0.0</td><td>0.0</td><td>0.0</td><td>0.0</td><td>0.0</td><td>0.0</td><td>0.866666195415</td><td>0.0333334892453</td><td>0.0333335297611</td><td>0.0333333688356</td><td>0.033333416743</td><td>0.374313754427</td><td>0.212487701692</td><td>0.0654911838791</td><td>0.0100755667506</td><td>0.866666666667</td><td>0.133333333333</td><td>0.381847319347</td><td>0.0333333333333</td><td>1.0</td><td>-0.144642857143</td><td>-0.2</td><td>-0.1</td><td>0.0</td><td>0.0</td><td>0.5</td><td>0.0</td><td>3100.0</td></tr><tr><th>19</th><td>731.0</td><td>11.0</td><td>103.0</td><td>0.689320381657</td><td>0.999999983871</td><td>0.806451599896</td><td>3.0</td><td>1.0</td><td>1.0</td><td>0.0</td><td>4.84466019417</td><td>6.0</td><td>1.0</td><td>0.0</td><td>0.0</td><td>0.0</td><td>0.0</td><td>0.0</td><td>0.0</td><td>0.0</td><td>0.0</td><td>0.0</td><td>0.0</td><td>0.0</td><td>0.0</td><td>0.0</td><td>0.0</td><td>5000.0</td><td>5000.0</td><td>5000.0</td><td>1.0</td><td>0.0</td><td>0.0</td><td>0.0</td><td>0.0</td><td>0.0</td><td>0.0</td><td>0.0</td><td>0.437373579034</td><td>0.200363493223</td><td>0.0334567892956</td><td>0.0334034723591</td><td>0.295402666088</td><td>0.423611111111</td><td>0.118055555556</td><td>0.0291262135922</td><td>0.00970873786408</td><td>0.75</td><td>0.25</td><td>0.277777777778</td><td>0.0333333333333</td><td>0.5</td><td>-0.125</td><td>-0.125</td><td>-0.125</td><td>0.857142857143</td><td>-0.714285714286</td><td>0.357142857143</td><td>0.714285714286</td><td>5700.0</td></tr><tr><th>20</th><td>731.0</td><td>8.0</td><td>1207.0</td><td>0.410579344743</td><td>0.999999998711</td><td>0.548969071458</td><td>24.0</td><td>24.0</td><td>42.0</td><td>0.0</td><td>4.71665285833</td><td>8.0</td><td>0.0</td><td>0.0</td><td>0.0</td><td>0.0</td><td>1.0</td><td>0.0</td><td>0.0</td><td>0.0</td><td>0.0</td><td>0.0</td><td>0.0</td><td>0.0</td><td>0.0</td><td>0.0</td><td>0.0</td><td>545.0</td><td>16000.0</td><td>2829.54166667</td><td>1.0</td><td>0.0</td><td>0.0</td><td>0.0</td><td>0.0</td><td>0.0</td><td>0.0</td><td>0.0</td><td>0.0250005815555</td><td>0.0251633668123</td><td>0.0250005510306</td><td>0.0250002351713</td><td>0.89983526543</td><td>0.539251643418</td><td>0.288259179093</td><td>0.069594034797</td><td>0.0115990057995</td><td>0.857142857143</td><td>0.142857142857</td><td>0.426568491033</td><td>0.1</td><td>1.0</td><td>-0.226785714286</td><td>-0.5</td><td>-0.05</td><td>0.5</td><td>0.0</td><td>0.0</td><td>0.0</td><td>17100.0</td></tr><tr><th>21</th><td>731.0</td><td>13.0</td><td>1248.0</td><td>0.390637610661</td><td>0.999999998736</td><td>0.523388115647</td><td>21.0</td><td>19.0</td><td>20.0</td><td>0.0</td><td>4.68669871795</td><td>10.0</td><td>0.0</td><td>0.0</td><td>0.0</td><td>0.0</td><td>1.0</td><td>0.0</td><td>0.0</td><td>0.0</td><td>0.0</td><td>0.0</td><td>0.0</td><td>0.0</td><td>0.0</td><td>0.0</td><td>0.0</td><td>545.0</td><td>16000.0</td><td>3151.15789474</td><td>1.0</td><td>0.0</td><td>0.0</td><td>0.0</td><td>0.0</td><td>0.0</td><td>0.0</td><td>0.0</td><td>0.0200687474478</td><td>0.0200045250931</td><td>0.0200185078531</td><td>0.0200084249105</td><td>0.919899794695</td><td>0.506535131535</td><td>0.29044039294</td><td>0.068108974359</td><td>0.0112179487179</td><td>0.858585858586</td><td>0.141414141414</td><td>0.408244716068</td><td>0.1</td><td>1.0</td><td>-0.206547619048</td><td>-0.5</td><td>-0.05</td><td>0.0</td><td>0.0</td><td>0.5</td><td>0.0</td><td>2800.0</td></tr><tr><th>22</th><td>731.0</td><td>9.0</td><td>391.0</td><td>0.510256408948</td><td>0.999999995833</td><td>0.649999997292</td><td>9.0</td><td>2.0</td><td>1.0</td><td>1.0</td><td>5.29667519182</td><td>7.0</td><td>0.0</td><td>0.0</td><td>0.0</td><td>0.0</td><td>0.0</td><td>1.0</td><td>0.0</td><td>0.0</td><td>0.0</td><td>0.0</td><td>0.0</td><td>0.0</td><td>0.0</td><td>0.0</td><td>0.0</td><td>704.0</td><td>704.0</td><td>704.0</td><td>1.0</td><td>0.0</td><td>0.0</td><td>0.0</td><td>0.0</td><td>0.0</td><td>0.0</td><td>0.0</td><td>0.0287743893255</td><td>0.0285772058633</td><td>0.680662391754</td><td>0.0285738751076</td><td>0.23341213795</td><td>0.284210526316</td><td>0.0333333333333</td><td>0.0179028132992</td><td>0.00511508951407</td><td>0.777777777778</td><td>0.222222222222</td><td>0.15</td><td>0.05</td><td>0.35</td><td>-0.108333333333</td><td>-0.166666666667</td><td>-0.05</td><td>0.0</td><td>0.0</td><td>0.5</td><td>0.0</td><td>598.0</td></tr><tr><th>23</th><td>731.0</td><td>11.0</td><td>1154.0</td><td>0.42730496416</td><td>0.999999998613</td><td>0.572815533186</td><td>20.0</td><td>20.0</td><td>20.0</td><td>0.0</td><td>4.62998266898</td><td>7.0</td><td>0.0</td><td>0.0</td><td>0.0</td><td>0.0</td><td>1.0</td><td>0.0</td><td>0.0</td><td>0.0</td><td>0.0</td><td>0.0</td><td>0.0</td><td>0.0</td><td>0.0</td><td>0.0</td><td>0.0</td><td>545.0</td><td>16000.0</td><td>3151.15789474</td><td>1.0</td><td>0.0</td><td>0.0</td><td>0.0</td><td>0.0</td><td>0.0</td><td>0.0</td><td>0.0</td><td>0.31193116381</td><td>0.232677833294</td><td>0.0285750198108</td><td>0.0285742921237</td><td>0.398241690961</td><td>0.53365762214</td><td>0.268667864873</td><td>0.0745233968804</td><td>0.0164644714038</td><td>0.819047619048</td><td>0.180952380952</td><td>0.416342998087</td><td>0.1</td><td>1.0</td><td>-0.230263157895</td><td>-0.5</td><td>-0.05</td><td>0.0</td><td>0.0</td><td>0.5</td><td>0.0</td><td>445.0</td></tr><tr><th>24</th><td>731.0</td><td>11.0</td><td>125.0</td><td>0.674796742481</td><td>0.999999987342</td><td>0.797468344336</td><td>1.0</td><td>1.0</td><td>1.0</td><td>0.0</td><td>4.824</td><td>6.0</td><td>0.0</td><td>0.0</td><td>0.0</td><td>0.0</td><td>0.0</td><td>1.0</td><td>0.0</td><td>0.0</td><td>0.0</td><td>0.0</td><td>0.0</td><td>0.0</td><td>0.0</td><td>0.0</td><td>0.0</td><td>16100.0</td><td>16100.0</td><td>16100.0</td><td>1.0</td><td>0.0</td><td>0.0</td><td>0.0</td><td>0.0</td><td>0.0</td><td>0.0</td><td>0.0</td><td>0.033333533043</td><td>0.0333354513717</td><td>0.69998514044</td><td>0.200010578813</td><td>0.0333352963323</td><td>0.396401515152</td><td>0.210795454545</td><td>0.048</td><td>0.0</td><td>1.0</td><td>0.0</td><td>0.281060606061</td><td>0.1</td><td>0.6</td><td>0.0</td><td>0.0</td><td>0.0</td><td>0.45</td><td>0.4</td><td>0.05</td><td>0.4</td><td>1500.0</td></tr><tr><th>25</th><td>731.0</td><td>13.0</td><td>244.0</td><td>0.559999997511</td><td>0.999999993197</td><td>0.680272104216</td><td>3.0</td><td>2.0</td><td>1.0</td><td>0.0</td><td>4.42213114754</td><td>4.0</td><td>0.0</td><td>0.0</td><td>1.0</td><td>0.0</td><td>0.0</td><td>0.0</td><td>0.0</td><td>0.0</td><td>0.0</td><td>0.0</td><td>0.0</td><td>0.0</td><td>0.0</td><td>0.0</td><td>0.0</td><td>2800.0</td><td>2800.0</td><td>2800.0</td><td>1.0</td><td>0.0</td><td>0.0</td><td>0.0</td><td>0.0</td><td>0.0</td><td>0.0</td><td>0.0</td><td>0.300293733076</td><td>0.0500009756327</td><td>0.0500010257644</td><td>0.0500001760383</td><td>0.549704089489</td><td>0.331639928699</td><td>-0.0923054070113</td><td>0.016393442623</td><td>0.0245901639344</td><td>0.4</td><td>0.6</td><td>0.292424242424</td><td>0.136363636364</td><td>0.433333333333</td><td>-0.456481481481</td><td>-1.0</td><td>-0.125</td><td>0.7</td><td>-0.4</td><td>0.2</td><td>0.4</td><td>852.0</td></tr><tr><th>26</th><td>731.0</td><td>8.0</td><td>266.0</td><td>0.572580642852</td><td>0.999999993197</td><td>0.721088430469</td><td>5.0</td><td>2.0</td><td>1.0</td><td>0.0</td><td>4.25939849624</td><td>10.0</td><td>0.0</td><td>0.0</td><td>0.0</td><td>0.0</td><td>1.0</td><td>0.0</td><td>0.0</td><td>0.0</td><td>0.0</td><td>0.0</td><td>0.0</td><td>0.0</td><td>0.0</td><td>0.0</td><td>0.0</td><td>924.0</td><td>924.0</td><td>924.0</td><td>1.0</td><td>0.0</td><td>0.0</td><td>0.0</td><td>0.0</td><td>0.0</td><td>0.0</td><td>0.0</td><td>0.020006297487</td><td>0.367327915265</td><td>0.0201908614887</td><td>0.0200039267721</td><td>0.572470998987</td><td>0.313095238095</td><td>0.0487012987013</td><td>0.0112781954887</td><td>0.0112781954887</td><td>0.5</td><td>0.5</td><td>0.295238095238</td><td>0.25</td><td>0.35</td><td>-0.116666666667</td><td>-0.2</td><td>-0.05</td><td>0.9</td><td>0.4</td><td>0.4</td><td>0.4</td><td>783.0</td></tr><tr><th>27</th><td>731.0</td><td>8.0</td><td>331.0</td><td>0.562691129778</td><td>0.999999994898</td><td>0.724489792222</td><td>5.0</td><td>3.0</td><td>1.0</td><td>0.0</td><td>4.78247734139</td><td>9.0</td><td>0.0</td><td>0.0</td><td>0.0</td><td>0.0</td><td>1.0</td><td>0.0</td><td>0.0</td><td>0.0</td><td>0.0</td><td>0.0</td><td>0.0</td><td>0.0</td><td>0.0</td><td>0.0</td><td>0.0</td><td>2500.0</td><td>2500.0</td><td>2500.0</td><td>1.0</td><td>0.0</td><td>0.0</td><td>0.0</td><td>0.0</td><td>0.0</td><td>0.0</td><td>0.0</td><td>0.0222434557218</td><td>0.0225871965548</td><td>0.133363343037</td><td>0.132968811616</td><td>0.68883719307</td><td>0.560695732839</td><td>0.295414347557</td><td>0.0604229607251</td><td>0.00906344410876</td><td>0.869565217391</td><td>0.130434782609</td><td>0.556558441558</td><td>0.1</td><td>1.0</td><td>-0.263888888889</td><td>-0.5</td><td>-0.125</td><td>0.0</td><td>0.0</td><td>0.5</td><td>0.0</td><td>1500.0</td></tr><tr><th>28</th><td>731.0</td><td>12.0</td><td>1225.0</td><td>0.385451504694</td><td>0.999999998689</td><td>0.508519003265</td><td>22.0</td><td>22.0</td><td>28.0</td><td>0.0</td><td>4.63591836735</td><td>9.0</td><td>0.0</td><td>0.0</td><td>0.0</td><td>0.0</td><td>1.0</td><td>0.0</td><td>0.0</td><td>0.0</td><td>0.0</td><td>0.0</td><td>0.0</td><td>0.0</td><td>0.0</td><td>0.0</td><td>0.0</td><td>545.0</td><td>16000.0</td><td>3035.65</td><td>1.0</td><td>0.0</td><td>0.0</td><td>0.0</td><td>0.0</td><td>0.0</td><td>0.0</td><td>0.0</td><td>0.0222749437596</td><td>0.362350365123</td><td>0.0222247626978</td><td>0.0223492036867</td><td>0.570800724733</td><td>0.480777660778</td><td>0.242447154947</td><td>0.0644897959184</td><td>0.0163265306122</td><td>0.79797979798</td><td>0.20202020202</td><td>0.417415200833</td><td>0.05</td><td>1.0</td><td>-0.202291666667</td><td>-0.5</td><td>-0.05</td><td>0.5</td><td>0.5</td><td>0.0</td><td>0.5</td><td>1800.0</td></tr><tr><th>29</th><td>731.0</td><td>10.0</td><td>243.0</td><td>0.619246859334</td><td>0.999999992366</td><td>0.824427474623</td><td>1.0</td><td>1.0</td><td>0.0</td><td>0.0</td><td>4.38271604938</td><td>10.0</td><td>1.0</td><td>0.0</td><td>0.0</td><td>0.0</td><td>0.0</td><td>0.0</td><td>0.0</td><td>0.0</td><td>0.0</td><td>0.0</td><td>0.0</td><td>0.0</td><td>0.0</td><td>0.0</td><td>0.0</td><td>0.0</td><td>0.0</td><td>0.0</td><td>1.0</td><td>0.0</td><td>0.0</td><td>0.0</td><td>0.0</td><td>0.0</td><td>0.0</td><td>0.0</td><td>0.0200408987745</td><td>0.0200307799268</td><td>0.0200147024607</td><td>0.0200084043756</td><td>0.919905214462</td><td>0.517984307359</td><td>0.155603354978</td><td>0.0493827160494</td><td>0.0205761316872</td><td>0.705882352941</td><td>0.294117647059</td><td>0.333297258297</td><td>0.136363636364</td><td>0.6</td><td>-0.1775</td><td>-0.3125</td><td>-0.125</td><td>0.0</td><td>0.0</td><td>0.5</td><td>0.0</td><td>462.0</td></tr><tr><th>30</th><td>731.0</td><td>11.0</td><td>723.0</td><td>0.490934448409</td><td>0.999999997845</td><td>0.642241377926</td><td>18.0</td><td>1.0</td><td>1.0</td><td>0.0</td><td>5.22821576763</td><td>6.0</td><td>0.0</td><td>0.0</td><td>1.0</td><td>0.0</td><td>0.0</td><td>0.0</td><td>0.0</td><td>0.0</td><td>0.0</td><td>0.0</td><td>0.0</td><td>0.0</td><td>0.0</td><td>0.0</td><td>0.0</td><td>0.0</td><td>0.0</td><td>0.0</td><td>1.0</td><td>0.0</td><td>0.0</td><td>0.0</td><td>0.0</td><td>0.0</td><td>0.0</td><td>0.0</td><td>0.866656685064</td><td>0.0333372075669</td><td>0.0333354827452</td><td>0.0333356642467</td><td>0.0333349603771</td><td>0.375048678466</td><td>0.182696038139</td><td>0.0636237897649</td><td>0.00829875518672</td><td>0.884615384615</td><td>0.115384615385</td><td>0.340572181442</td><td>0.0333333333333</td><td>1.0</td><td>-0.213888888889</td><td>-0.6</td><td>-0.1</td><td>0.5</td><td>0.5</td><td>0.0</td><td>0.5</td><td>425.0</td></tr><tr><th>&vellip;</th><td>&vellip;</td><td>&vellip;</td><td>&vellip;</td><td>&vellip;</td><td>&vellip;</td><td>&vellip;</td><td>&vellip;</td><td>&vellip;</td><td>&vellip;</td><td>&vellip;</td><td>&vellip;</td><td>&vellip;</td><td>&vellip;</td><td>&vellip;</td><td>&vellip;</td><td>&vellip;</td><td>&vellip;</td><td>&vellip;</td><td>&vellip;</td><td>&vellip;</td><td>&vellip;</td><td>&vellip;</td><td>&vellip;</td><td>&vellip;</td><td>&vellip;</td><td>&vellip;</td><td>&vellip;</td><td>&vellip;</td><td>&vellip;</td><td>&vellip;</td><td>&vellip;</td><td>&vellip;</td><td>&vellip;</td><td>&vellip;</td><td>&vellip;</td><td>&vellip;</td><td>&vellip;</td><td>&vellip;</td><td>&vellip;</td><td>&vellip;</td><td>&vellip;</td><td>&vellip;</td><td>&vellip;</td><td>&vellip;</td><td>&vellip;</td><td>&vellip;</td><td>&vellip;</td><td>&vellip;</td><td>&vellip;</td><td>&vellip;</td><td>&vellip;</td><td>&vellip;</td><td>&vellip;</td><td>&vellip;</td><td>&vellip;</td><td>&vellip;</td><td>&vellip;</td><td>&vellip;</td><td>&vellip;</td><td>&vellip;</td></tr></table>"
      ],
      "text/plain": [
       "39644×60 DataFrames.DataFrame\n",
       "│ Row   │ x1    │ x2   │ x3     │ x4       │ x5  │ x6       │ x7   │ x8   │\n",
       "├───────┼───────┼──────┼────────┼──────────┼─────┼──────────┼──────┼──────┤\n",
       "│ 1     │ 731.0 │ 12.0 │ 219.0  │ 0.663594 │ 1.0 │ 0.815385 │ 4.0  │ 2.0  │\n",
       "│ 2     │ 731.0 │ 9.0  │ 255.0  │ 0.604743 │ 1.0 │ 0.791946 │ 3.0  │ 1.0  │\n",
       "│ 3     │ 731.0 │ 9.0  │ 211.0  │ 0.57513  │ 1.0 │ 0.663866 │ 3.0  │ 1.0  │\n",
       "│ 4     │ 731.0 │ 9.0  │ 531.0  │ 0.503788 │ 1.0 │ 0.665635 │ 9.0  │ 0.0  │\n",
       "│ 5     │ 731.0 │ 13.0 │ 1072.0 │ 0.415646 │ 1.0 │ 0.54089  │ 19.0 │ 19.0 │\n",
       "│ 6     │ 731.0 │ 10.0 │ 370.0  │ 0.559889 │ 1.0 │ 0.698198 │ 2.0  │ 2.0  │\n",
       "│ 7     │ 731.0 │ 8.0  │ 960.0  │ 0.418163 │ 1.0 │ 0.549834 │ 21.0 │ 20.0 │\n",
       "│ 8     │ 731.0 │ 12.0 │ 989.0  │ 0.433574 │ 1.0 │ 0.572108 │ 20.0 │ 20.0 │\n",
       "│ 9     │ 731.0 │ 11.0 │ 97.0   │ 0.670103 │ 1.0 │ 0.836735 │ 2.0  │ 0.0  │\n",
       "│ 10    │ 731.0 │ 10.0 │ 231.0  │ 0.636364 │ 1.0 │ 0.797101 │ 4.0  │ 1.0  │\n",
       "│ 11    │ 731.0 │ 9.0  │ 1248.0 │ 0.49005  │ 1.0 │ 0.731638 │ 11.0 │ 0.0  │\n",
       "⋮\n",
       "│ 39633 │ 9.0   │ 15.0 │ 580.0  │ 0.506261 │ 1.0 │ 0.661891 │ 15.0 │ 2.0  │\n",
       "│ 39634 │ 9.0   │ 9.0  │ 614.0  │ 0.476033 │ 1.0 │ 0.614987 │ 10.0 │ 0.0  │\n",
       "│ 39635 │ 9.0   │ 9.0  │ 251.0  │ 0.666667 │ 1.0 │ 0.786164 │ 21.0 │ 13.0 │\n",
       "│ 39636 │ 9.0   │ 13.0 │ 478.0  │ 0.514039 │ 1.0 │ 0.641844 │ 18.0 │ 2.0  │\n",
       "│ 39637 │ 8.0   │ 8.0  │ 2509.0 │ 0.348878 │ 1.0 │ 0.464923 │ 23.0 │ 1.0  │\n",
       "│ 39638 │ 8.0   │ 13.0 │ 1629.0 │ 0.425711 │ 1.0 │ 0.606092 │ 15.0 │ 12.0 │\n",
       "│ 39639 │ 8.0   │ 11.0 │ 223.0  │ 0.653153 │ 1.0 │ 0.825758 │ 5.0  │ 3.0  │\n",
       "│ 39640 │ 8.0   │ 11.0 │ 346.0  │ 0.529052 │ 1.0 │ 0.684783 │ 9.0  │ 7.0  │\n",
       "│ 39641 │ 8.0   │ 12.0 │ 328.0  │ 0.696296 │ 1.0 │ 0.885057 │ 9.0  │ 7.0  │\n",
       "│ 39642 │ 8.0   │ 10.0 │ 442.0  │ 0.516355 │ 1.0 │ 0.644128 │ 24.0 │ 1.0  │\n",
       "│ 39643 │ 8.0   │ 6.0  │ 682.0  │ 0.539493 │ 1.0 │ 0.692661 │ 10.0 │ 1.0  │\n",
       "│ 39644 │ 8.0   │ 10.0 │ 157.0  │ 0.701987 │ 1.0 │ 0.846154 │ 1.0  │ 1.0  │\n",
       "\n",
       "│ Row   │ x9   │ x10  │ x11     │ x12  │ x13 │ x14 │ x15 │ x16 │ x17 │ x18 │\n",
       "├───────┼──────┼──────┼─────────┼──────┼─────┼─────┼─────┼─────┼─────┼─────┤\n",
       "│ 1     │ 1.0  │ 0.0  │ 4.68037 │ 5.0  │ 0.0 │ 1.0 │ 0.0 │ 0.0 │ 0.0 │ 0.0 │\n",
       "│ 2     │ 1.0  │ 0.0  │ 4.91373 │ 4.0  │ 0.0 │ 0.0 │ 1.0 │ 0.0 │ 0.0 │ 0.0 │\n",
       "│ 3     │ 1.0  │ 0.0  │ 4.39336 │ 6.0  │ 0.0 │ 0.0 │ 1.0 │ 0.0 │ 0.0 │ 0.0 │\n",
       "│ 4     │ 1.0  │ 0.0  │ 4.4049  │ 7.0  │ 0.0 │ 1.0 │ 0.0 │ 0.0 │ 0.0 │ 0.0 │\n",
       "│ 5     │ 20.0 │ 0.0  │ 4.68284 │ 7.0  │ 0.0 │ 0.0 │ 0.0 │ 0.0 │ 1.0 │ 0.0 │\n",
       "│ 6     │ 0.0  │ 0.0  │ 4.35946 │ 9.0  │ 0.0 │ 0.0 │ 0.0 │ 0.0 │ 1.0 │ 0.0 │\n",
       "│ 7     │ 20.0 │ 0.0  │ 4.65417 │ 10.0 │ 1.0 │ 0.0 │ 0.0 │ 0.0 │ 0.0 │ 0.0 │\n",
       "│ 8     │ 20.0 │ 0.0  │ 4.6178  │ 9.0  │ 0.0 │ 0.0 │ 0.0 │ 0.0 │ 1.0 │ 0.0 │\n",
       "│ 9     │ 0.0  │ 0.0  │ 4.85567 │ 7.0  │ 0.0 │ 0.0 │ 0.0 │ 0.0 │ 1.0 │ 0.0 │\n",
       "│ 10    │ 1.0  │ 1.0  │ 5.09091 │ 5.0  │ 0.0 │ 0.0 │ 0.0 │ 0.0 │ 0.0 │ 1.0 │\n",
       "│ 11    │ 1.0  │ 0.0  │ 4.61779 │ 8.0  │ 0.0 │ 0.0 │ 0.0 │ 0.0 │ 0.0 │ 1.0 │\n",
       "⋮\n",
       "│ 39633 │ 3.0  │ 0.0  │ 5.00517 │ 7.0  │ 0.0 │ 0.0 │ 0.0 │ 0.0 │ 0.0 │ 1.0 │\n",
       "│ 39634 │ 1.0  │ 0.0  │ 5.09446 │ 6.0  │ 0.0 │ 0.0 │ 0.0 │ 0.0 │ 0.0 │ 1.0 │\n",
       "│ 39635 │ 9.0  │ 2.0  │ 4.68526 │ 9.0  │ 0.0 │ 0.0 │ 0.0 │ 0.0 │ 0.0 │ 0.0 │\n",
       "│ 39636 │ 2.0  │ 0.0  │ 4.89121 │ 6.0  │ 0.0 │ 0.0 │ 1.0 │ 0.0 │ 0.0 │ 0.0 │\n",
       "│ 39637 │ 10.0 │ 0.0  │ 4.56955 │ 10.0 │ 1.0 │ 0.0 │ 0.0 │ 0.0 │ 0.0 │ 0.0 │\n",
       "│ 39638 │ 6.0  │ 0.0  │ 4.55249 │ 8.0  │ 0.0 │ 1.0 │ 0.0 │ 0.0 │ 0.0 │ 0.0 │\n",
       "│ 39639 │ 1.0  │ 0.0  │ 4.92377 │ 6.0  │ 0.0 │ 0.0 │ 1.0 │ 0.0 │ 0.0 │ 0.0 │\n",
       "│ 39640 │ 1.0  │ 1.0  │ 4.52312 │ 8.0  │ 0.0 │ 0.0 │ 0.0 │ 0.0 │ 1.0 │ 0.0 │\n",
       "│ 39641 │ 3.0  │ 48.0 │ 4.40549 │ 7.0  │ 0.0 │ 0.0 │ 0.0 │ 1.0 │ 0.0 │ 0.0 │\n",
       "│ 39642 │ 12.0 │ 1.0  │ 5.07692 │ 8.0  │ 0.0 │ 0.0 │ 0.0 │ 0.0 │ 0.0 │ 0.0 │\n",
       "│ 39643 │ 1.0  │ 0.0  │ 4.97507 │ 5.0  │ 0.0 │ 0.0 │ 0.0 │ 0.0 │ 0.0 │ 1.0 │\n",
       "│ 39644 │ 0.0  │ 2.0  │ 4.47134 │ 4.0  │ 0.0 │ 1.0 │ 0.0 │ 0.0 │ 0.0 │ 0.0 │\n",
       "\n",
       "│ Row   │ x19  │ x20    │ x21     │ x22      │ x23      │ x24       │ x25     │\n",
       "├───────┼──────┼────────┼─────────┼──────────┼──────────┼───────────┼─────────┤\n",
       "│ 1     │ 0.0  │ 0.0    │ 0.0     │ 0.0      │ 0.0      │ 0.0       │ 0.0     │\n",
       "│ 2     │ 0.0  │ 0.0    │ 0.0     │ 0.0      │ 0.0      │ 0.0       │ 0.0     │\n",
       "│ 3     │ 0.0  │ 0.0    │ 0.0     │ 0.0      │ 0.0      │ 0.0       │ 0.0     │\n",
       "│ 4     │ 0.0  │ 0.0    │ 0.0     │ 0.0      │ 0.0      │ 0.0       │ 0.0     │\n",
       "│ 5     │ 0.0  │ 0.0    │ 0.0     │ 0.0      │ 0.0      │ 0.0       │ 0.0     │\n",
       "│ 6     │ 0.0  │ 0.0    │ 0.0     │ 0.0      │ 0.0      │ 0.0       │ 0.0     │\n",
       "│ 7     │ 0.0  │ 0.0    │ 0.0     │ 0.0      │ 0.0      │ 0.0       │ 0.0     │\n",
       "│ 8     │ 0.0  │ 0.0    │ 0.0     │ 0.0      │ 0.0      │ 0.0       │ 0.0     │\n",
       "│ 9     │ 0.0  │ 0.0    │ 0.0     │ 0.0      │ 0.0      │ 0.0       │ 0.0     │\n",
       "│ 10    │ 0.0  │ 0.0    │ 0.0     │ 0.0      │ 0.0      │ 0.0       │ 0.0     │\n",
       "│ 11    │ 0.0  │ 0.0    │ 0.0     │ 0.0      │ 0.0      │ 0.0       │ 0.0     │\n",
       "⋮\n",
       "│ 39633 │ -1.0 │ 447.0  │ 88.8571 │ 17200.0  │ 843300.0 │ 2.66629e5 │ 1558.76 │\n",
       "│ 39634 │ -1.0 │ 1400.0 │ 362.0   │ 1400.0   │ 843300.0 │ 211750.0  │ 1058.0  │\n",
       "│ 39635 │ -1.0 │ 720.0  │ 85.8889 │ 12700.0  │ 843300.0 │ 3.09256e5 │ 3385.39 │\n",
       "│ 39636 │ -1.0 │ 530.0  │ 102.863 │ 8200.0   │ 843300.0 │ 5.01017e5 │ 1682.92 │\n",
       "│ 39637 │ -1.0 │ 646.0  │ 152.3   │ 31000.0  │ 843300.0 │ 275140.0  │ 2990.74 │\n",
       "│ 39638 │ -1.0 │ 1100.0 │ 354.0   │ 1500.0   │ 843300.0 │ 200800.0  │ 1300.0  │\n",
       "│ 39639 │ -1.0 │ 459.0  │ 91.0    │ 0.0      │ 843300.0 │ 4.84083e5 │ 0.0     │\n",
       "│ 39640 │ -1.0 │ 671.0  │ 173.125 │ 26900.0  │ 843300.0 │ 3.74963e5 │ 2514.74 │\n",
       "│ 39641 │ -1.0 │ 616.0  │ 184.0   │ 6500.0   │ 843300.0 │ 1.92986e5 │ 1664.27 │\n",
       "│ 39642 │ -1.0 │ 691.0  │ 168.25  │ 6200.0   │ 843300.0 │ 295850.0  │ 1753.88 │\n",
       "│ 39643 │ -1.0 │ 0.0    │ -1.0    │ 0.0      │ 843300.0 │ 254600.0  │ 0.0     │\n",
       "│ 39644 │ -1.0 │ 97.0   │ 23.5    │ 205600.0 │ 843300.0 │ 366200.0  │ 3035.08 │\n",
       "\n",
       "│ Row   │ x26     │ x27     │ x28     │ x29     │ x30     │ x31 │ x32 │ x33 │\n",
       "├───────┼─────────┼─────────┼─────────┼─────────┼─────────┼─────┼─────┼─────┤\n",
       "│ 1     │ 0.0     │ 0.0     │ 496.0   │ 496.0   │ 496.0   │ 1.0 │ 0.0 │ 0.0 │\n",
       "│ 2     │ 0.0     │ 0.0     │ 0.0     │ 0.0     │ 0.0     │ 1.0 │ 0.0 │ 0.0 │\n",
       "│ 3     │ 0.0     │ 0.0     │ 918.0   │ 918.0   │ 918.0   │ 1.0 │ 0.0 │ 0.0 │\n",
       "│ 4     │ 0.0     │ 0.0     │ 0.0     │ 0.0     │ 0.0     │ 1.0 │ 0.0 │ 0.0 │\n",
       "│ 5     │ 0.0     │ 0.0     │ 545.0   │ 16000.0 │ 3151.16 │ 1.0 │ 0.0 │ 0.0 │\n",
       "│ 6     │ 0.0     │ 0.0     │ 8500.0  │ 8500.0  │ 8500.0  │ 1.0 │ 0.0 │ 0.0 │\n",
       "│ 7     │ 0.0     │ 0.0     │ 545.0   │ 16000.0 │ 3151.16 │ 1.0 │ 0.0 │ 0.0 │\n",
       "│ 8     │ 0.0     │ 0.0     │ 545.0   │ 16000.0 │ 3151.16 │ 1.0 │ 0.0 │ 0.0 │\n",
       "│ 9     │ 0.0     │ 0.0     │ 0.0     │ 0.0     │ 0.0     │ 1.0 │ 0.0 │ 0.0 │\n",
       "│ 10    │ 0.0     │ 0.0     │ 0.0     │ 0.0     │ 0.0     │ 1.0 │ 0.0 │ 0.0 │\n",
       "│ 11    │ 0.0     │ 0.0     │ 0.0     │ 0.0     │ 0.0     │ 1.0 │ 0.0 │ 0.0 │\n",
       "⋮\n",
       "│ 39633 │ 4966.67 │ 2730.94 │ 1400.0  │ 1400.0  │ 1400.0  │ 0.0 │ 1.0 │ 0.0 │\n",
       "│ 39634 │ 3385.39 │ 2122.43 │ 0.0     │ 0.0     │ 0.0     │ 0.0 │ 1.0 │ 0.0 │\n",
       "│ 39635 │ 7519.38 │ 5286.92 │ 941.0   │ 7800.0  │ 2745.08 │ 0.0 │ 1.0 │ 0.0 │\n",
       "│ 39636 │ 7028.66 │ 3929.22 │ 7200.0  │ 7200.0  │ 7200.0  │ 0.0 │ 1.0 │ 0.0 │\n",
       "│ 39637 │ 6880.69 │ 4349.05 │ 4900.0  │ 4900.0  │ 4900.0  │ 0.0 │ 0.0 │ 1.0 │\n",
       "│ 39638 │ 4288.89 │ 2746.8  │ 857.0   │ 16900.0 │ 5181.42 │ 0.0 │ 0.0 │ 1.0 │\n",
       "│ 39639 │ 4301.33 │ 2665.71 │ 2000.0  │ 5700.0  │ 3633.33 │ 0.0 │ 0.0 │ 1.0 │\n",
       "│ 39640 │ 4004.34 │ 3031.12 │ 11400.0 │ 48000.0 │ 37033.3 │ 0.0 │ 0.0 │ 1.0 │\n",
       "│ 39641 │ 5470.17 │ 3411.66 │ 2100.0  │ 2100.0  │ 2100.0  │ 0.0 │ 0.0 │ 1.0 │\n",
       "│ 39642 │ 6880.69 │ 4206.44 │ 1400.0  │ 1400.0  │ 1400.0  │ 0.0 │ 0.0 │ 1.0 │\n",
       "│ 39643 │ 3384.32 │ 1777.9  │ 452.0   │ 452.0   │ 452.0   │ 0.0 │ 0.0 │ 1.0 │\n",
       "│ 39644 │ 3613.51 │ 3296.91 │ 2100.0  │ 2100.0  │ 2100.0  │ 0.0 │ 0.0 │ 1.0 │\n",
       "\n",
       "│ Row   │ x34 │ x35 │ x36 │ x37 │ x38 │ x39       │ x40       │ x41       │\n",
       "├───────┼─────┼─────┼─────┼─────┼─────┼───────────┼───────────┼───────────┤\n",
       "│ 1     │ 0.0 │ 0.0 │ 0.0 │ 0.0 │ 0.0 │ 0.500331  │ 0.378279  │ 0.0400047 │\n",
       "│ 2     │ 0.0 │ 0.0 │ 0.0 │ 0.0 │ 0.0 │ 0.799756  │ 0.0500467 │ 0.0500963 │\n",
       "│ 3     │ 0.0 │ 0.0 │ 0.0 │ 0.0 │ 0.0 │ 0.217792  │ 0.0333345 │ 0.0333514 │\n",
       "│ 4     │ 0.0 │ 0.0 │ 0.0 │ 0.0 │ 0.0 │ 0.0285732 │ 0.4193    │ 0.494651  │\n",
       "│ 5     │ 0.0 │ 0.0 │ 0.0 │ 0.0 │ 0.0 │ 0.0286328 │ 0.0287936 │ 0.0285752 │\n",
       "│ 6     │ 0.0 │ 0.0 │ 0.0 │ 0.0 │ 0.0 │ 0.0222453 │ 0.306718  │ 0.0222313 │\n",
       "│ 7     │ 0.0 │ 0.0 │ 0.0 │ 0.0 │ 0.0 │ 0.0200817 │ 0.114705  │ 0.0200244 │\n",
       "│ 8     │ 0.0 │ 0.0 │ 0.0 │ 0.0 │ 0.0 │ 0.0222244 │ 0.150733  │ 0.243435  │\n",
       "│ 9     │ 0.0 │ 0.0 │ 0.0 │ 0.0 │ 0.0 │ 0.45825   │ 0.0289794 │ 0.0286619 │\n",
       "│ 10    │ 0.0 │ 0.0 │ 0.0 │ 0.0 │ 0.0 │ 0.0400001 │ 0.04      │ 0.839997  │\n",
       "│ 11    │ 0.0 │ 0.0 │ 0.0 │ 0.0 │ 0.0 │ 0.0250036 │ 0.287301  │ 0.400829  │\n",
       "⋮\n",
       "│ 39633 │ 0.0 │ 0.0 │ 0.0 │ 0.0 │ 0.0 │ 0.0285788 │ 0.028573  │ 0.7929    │\n",
       "│ 39634 │ 0.0 │ 0.0 │ 0.0 │ 0.0 │ 0.0 │ 0.0333344 │ 0.0333345 │ 0.866662  │\n",
       "│ 39635 │ 0.0 │ 0.0 │ 0.0 │ 0.0 │ 0.0 │ 0.0222585 │ 0.0222419 │ 0.0223477 │\n",
       "│ 39636 │ 0.0 │ 0.0 │ 0.0 │ 0.0 │ 0.0 │ 0.865892  │ 0.0340323 │ 0.03337   │\n",
       "│ 39637 │ 0.0 │ 0.0 │ 0.0 │ 0.0 │ 0.0 │ 0.165551  │ 0.0200129 │ 0.0200009 │\n",
       "│ 39638 │ 0.0 │ 0.0 │ 0.0 │ 0.0 │ 0.0 │ 0.0250004 │ 0.768945  │ 0.0254805 │\n",
       "│ 39639 │ 0.0 │ 0.0 │ 0.0 │ 0.0 │ 0.0 │ 0.551338  │ 0.0333372 │ 0.0333472 │\n",
       "│ 39640 │ 0.0 │ 0.0 │ 0.0 │ 0.0 │ 0.0 │ 0.0250378 │ 0.0250006 │ 0.151701  │\n",
       "│ 39641 │ 0.0 │ 0.0 │ 0.0 │ 0.0 │ 0.0 │ 0.0293487 │ 0.0285749 │ 0.231866  │\n",
       "│ 39642 │ 0.0 │ 0.0 │ 0.0 │ 0.0 │ 0.0 │ 0.159004  │ 0.0250247 │ 0.0252073 │\n",
       "│ 39643 │ 0.0 │ 0.0 │ 0.0 │ 0.0 │ 0.0 │ 0.0400036 │ 0.0400035 │ 0.839987  │\n",
       "│ 39644 │ 0.0 │ 0.0 │ 0.0 │ 0.0 │ 0.0 │ 0.0500013 │ 0.799339  │ 0.0500004 │\n",
       "\n",
       "│ Row   │ x42       │ x43       │ x44      │ x45         │ x46       │\n",
       "├───────┼───────────┼───────────┼──────────┼─────────────┼───────────┤\n",
       "│ 1     │ 0.0412626 │ 0.0401225 │ 0.521617 │ 0.092562    │ 0.0456621 │\n",
       "│ 2     │ 0.0501007 │ 0.0500007 │ 0.341246 │ 0.148948    │ 0.0431373 │\n",
       "│ 3     │ 0.0333335 │ 0.682188  │ 0.702222 │ 0.323333    │ 0.056872  │\n",
       "│ 4     │ 0.0289047 │ 0.0285716 │ 0.42985  │ 0.100705    │ 0.0414313 │\n",
       "│ 5     │ 0.0285717 │ 0.885427  │ 0.513502 │ 0.281003    │ 0.0746269 │\n",
       "│ 6     │ 0.0222243 │ 0.626582  │ 0.437409 │ 0.0711842   │ 0.0297297 │\n",
       "│ 7     │ 0.0200153 │ 0.825173  │ 0.51448  │ 0.268303    │ 0.0802083 │\n",
       "│ 8     │ 0.0222236 │ 0.561384  │ 0.543474 │ 0.298613    │ 0.0839232 │\n",
       "│ 9     │ 0.0296959 │ 0.454412  │ 0.538889 │ 0.161111    │ 0.0309278 │\n",
       "│ 10    │ 0.0400006 │ 0.040002  │ 0.313889 │ 0.0518519   │ 0.038961  │\n",
       "│ 11    │ 0.261864  │ 0.0250022 │ 0.48206  │ 0.10235     │ 0.0384615 │\n",
       "⋮\n",
       "│ 39633 │ 0.0285715 │ 0.121376  │ 0.428833 │ 0.188667    │ 0.0258621 │\n",
       "│ 39634 │ 0.033334  │ 0.0333345 │ 0.469965 │ 0.126641    │ 0.0374593 │\n",
       "│ 39635 │ 0.80263   │ 0.130522  │ 0.755769 │ 0.13141     │ 0.0318725 │\n",
       "│ 39636 │ 0.0333721 │ 0.0333338 │ 0.391249 │ 0.108725    │ 0.0292887 │\n",
       "│ 39637 │ 0.354187  │ 0.440248  │ 0.483535 │ 0.0797063   │ 0.0267039 │\n",
       "│ 39638 │ 0.155574  │ 0.0250002 │ 0.440152 │ 0.105424    │ 0.0466544 │\n",
       "│ 39639 │ 0.033335  │ 0.348642  │ 0.552041 │ 0.268878    │ 0.0313901 │\n",
       "│ 39640 │ 0.0250001 │ 0.77326   │ 0.482679 │ 0.141964    │ 0.0375723 │\n",
       "│ 39641 │ 0.681635  │ 0.0285754 │ 0.564374 │ 0.194249    │ 0.0396341 │\n",
       "│ 39642 │ 0.643794  │ 0.14697   │ 0.510296 │ 0.0246086   │ 0.0339367 │\n",
       "│ 39643 │ 0.0400021 │ 0.0400036 │ 0.358578 │ -0.00806586 │ 0.0205279 │\n",
       "│ 39644 │ 0.0506587 │ 0.0500006 │ 0.517893 │ 0.104892    │ 0.0636943 │\n",
       "\n",
       "│ Row   │ x47        │ x48      │ x49      │ x50      │ x51       │ x52  │\n",
       "├───────┼────────────┼──────────┼──────────┼──────────┼───────────┼──────┤\n",
       "│ 1     │ 0.0136986  │ 0.769231 │ 0.230769 │ 0.378636 │ 0.1       │ 0.7  │\n",
       "│ 2     │ 0.0156863  │ 0.733333 │ 0.266667 │ 0.286915 │ 0.0333333 │ 0.7  │\n",
       "│ 3     │ 0.00947867 │ 0.857143 │ 0.142857 │ 0.495833 │ 0.1       │ 1.0  │\n",
       "│ 4     │ 0.0207156  │ 0.666667 │ 0.333333 │ 0.385965 │ 0.136364  │ 0.8  │\n",
       "│ 5     │ 0.0121269  │ 0.860215 │ 0.139785 │ 0.411127 │ 0.0333333 │ 1.0  │\n",
       "│ 6     │ 0.027027   │ 0.52381  │ 0.47619  │ 0.35061  │ 0.136364  │ 0.6  │\n",
       "│ 7     │ 0.0166667  │ 0.827957 │ 0.172043 │ 0.402039 │ 0.1       │ 1.0  │\n",
       "│ 8     │ 0.0151668  │ 0.846939 │ 0.153061 │ 0.42772  │ 0.1       │ 1.0  │\n",
       "│ 9     │ 0.0206186  │ 0.6      │ 0.4      │ 0.566667 │ 0.4       │ 0.8  │\n",
       "│ 10    │ 0.030303   │ 0.5625   │ 0.4375   │ 0.298413 │ 0.1       │ 0.5  │\n",
       "│ 11    │ 0.0208333  │ 0.648649 │ 0.351351 │ 0.40448  │ 0.1       │ 1.0  │\n",
       "⋮\n",
       "│ 39633 │ 0.00862069 │ 0.75     │ 0.25     │ 0.407333 │ 0.1       │ 0.8  │\n",
       "│ 39634 │ 0.0179153  │ 0.676471 │ 0.323529 │ 0.399407 │ 0.05      │ 0.8  │\n",
       "│ 39635 │ 0.0199203  │ 0.615385 │ 0.384615 │ 0.6125   │ 0.25      │ 1.0  │\n",
       "│ 39636 │ 0.0125523  │ 0.7      │ 0.3      │ 0.32105  │ 0.0333333 │ 1.0  │\n",
       "│ 39637 │ 0.021124   │ 0.558333 │ 0.441667 │ 0.351871 │ 0.1       │ 1.0  │\n",
       "│ 39638 │ 0.0208717  │ 0.690909 │ 0.309091 │ 0.459539 │ 0.0333333 │ 1.0  │\n",
       "│ 39639 │ 0.0044843  │ 0.875    │ 0.125    │ 0.573469 │ 0.214286  │ 0.8  │\n",
       "│ 39640 │ 0.0144509  │ 0.722222 │ 0.277778 │ 0.333791 │ 0.1       │ 0.75 │\n",
       "│ 39641 │ 0.00914634 │ 0.8125   │ 0.1875   │ 0.374825 │ 0.136364  │ 0.7  │\n",
       "│ 39642 │ 0.0248869  │ 0.576923 │ 0.423077 │ 0.307273 │ 0.136364  │ 0.5  │\n",
       "│ 39643 │ 0.0234604  │ 0.466667 │ 0.533333 │ 0.236851 │ 0.0625    │ 0.5  │\n",
       "│ 39644 │ 0.0127389  │ 0.833333 │ 0.166667 │ 0.247338 │ 0.1       │ 0.5  │\n",
       "\n",
       "│ Row   │ x53       │ x54    │ x55       │ x56      │ x57      │ x58       │\n",
       "├───────┼───────────┼────────┼───────────┼──────────┼──────────┼───────────┤\n",
       "│ 1     │ -0.35     │ -0.6   │ -0.2      │ 0.5      │ -0.1875  │ 0.0       │\n",
       "│ 2     │ -0.11875  │ -0.125 │ -0.1      │ 0.0      │ 0.0      │ 0.5       │\n",
       "│ 3     │ -0.466667 │ -0.8   │ -0.133333 │ 0.0      │ 0.0      │ 0.5       │\n",
       "│ 4     │ -0.369697 │ -0.6   │ -0.166667 │ 0.0      │ 0.0      │ 0.5       │\n",
       "│ 5     │ -0.220192 │ -0.5   │ -0.05     │ 0.454545 │ 0.136364 │ 0.0454545 │\n",
       "│ 6     │ -0.195    │ -0.4   │ -0.1      │ 0.642857 │ 0.214286 │ 0.142857  │\n",
       "│ 7     │ -0.224479 │ -0.5   │ -0.05     │ 0.0      │ 0.0      │ 0.5       │\n",
       "│ 8     │ -0.242778 │ -0.5   │ -0.05     │ 1.0      │ 0.5      │ 0.5       │\n",
       "│ 9     │ -0.125    │ -0.125 │ -0.125    │ 0.125    │ 0.0      │ 0.375     │\n",
       "│ 10    │ -0.238095 │ -0.5   │ -0.1      │ 0.0      │ 0.0      │ 0.5       │\n",
       "│ 11    │ -0.415064 │ -1.0   │ -0.1      │ 0.0      │ 0.0      │ 0.5       │\n",
       "⋮\n",
       "│ 39633 │ -0.115    │ -0.125 │ -0.1      │ 0.5      │ 0.5      │ 0.0       │\n",
       "│ 39634 │ -0.181313 │ -0.3   │ -0.05     │ 0.0      │ 0.0      │ 0.5       │\n",
       "│ 39635 │ -0.558333 │ -1.0   │ -0.125    │ 0.0      │ 0.0      │ 0.5       │\n",
       "│ 39636 │ -0.223611 │ -0.4   │ -0.05     │ 0.1      │ 0.0      │ 0.4       │\n",
       "│ 39637 │ -0.231612 │ -0.6   │ -0.05     │ 0.0      │ 0.0      │ 0.5       │\n",
       "│ 39638 │ -0.429534 │ -1.0   │ -0.05     │ 0.783333 │ -0.6     │ 0.283333  │\n",
       "│ 39639 │ -0.25     │ -0.25  │ -0.25     │ 0.0      │ 0.0      │ 0.5       │\n",
       "│ 39640 │ -0.26     │ -0.5   │ -0.125    │ 0.1      │ 0.0      │ 0.4       │\n",
       "│ 39641 │ -0.211111 │ -0.4   │ -0.1      │ 0.3      │ 1.0      │ 0.2       │\n",
       "│ 39642 │ -0.356439 │ -0.8   │ -0.166667 │ 0.454545 │ 0.136364 │ 0.0454545 │\n",
       "│ 39643 │ -0.205246 │ -0.5   │ -0.0125   │ 0.0      │ 0.0      │ 0.5       │\n",
       "│ 39644 │ -0.2      │ -0.2   │ -0.2      │ 0.333333 │ 0.25     │ 0.166667  │\n",
       "\n",
       "│ Row   │ x59      │ x60    │\n",
       "├───────┼──────────┼────────┤\n",
       "│ 1     │ 0.1875   │ 593.0  │\n",
       "│ 2     │ 0.0      │ 711.0  │\n",
       "│ 3     │ 0.0      │ 1500.0 │\n",
       "│ 4     │ 0.0      │ 1200.0 │\n",
       "│ 5     │ 0.136364 │ 505.0  │\n",
       "│ 6     │ 0.214286 │ 855.0  │\n",
       "│ 7     │ 0.0      │ 556.0  │\n",
       "│ 8     │ 0.5      │ 891.0  │\n",
       "│ 9     │ 0.0      │ 3600.0 │\n",
       "│ 10    │ 0.0      │ 710.0  │\n",
       "│ 11    │ 0.0      │ 2200.0 │\n",
       "⋮\n",
       "│ 39633 │ 0.5      │ 1700.0 │\n",
       "│ 39634 │ 0.0      │ 1500.0 │\n",
       "│ 39635 │ 0.0      │ 1000.0 │\n",
       "│ 39636 │ 0.0      │ 1300.0 │\n",
       "│ 39637 │ 0.0      │ 1700.0 │\n",
       "│ 39638 │ 0.6      │ 1400.0 │\n",
       "│ 39639 │ 0.0      │ 1200.0 │\n",
       "│ 39640 │ 0.0      │ 1800.0 │\n",
       "│ 39641 │ 1.0      │ 1900.0 │\n",
       "│ 39642 │ 0.136364 │ 1900.0 │\n",
       "│ 39643 │ 0.0      │ 1100.0 │\n",
       "│ 39644 │ 0.25     │ 1300.0 │"
      ]
     },
     "execution_count": 65,
     "metadata": {},
     "output_type": "execute_result"
    }
   ],
   "source": [
    "data = DataFrame(ONP)"
   ]
  },
  {
   "cell_type": "code",
   "execution_count": 66,
   "metadata": {
    "collapsed": false
   },
   "outputs": [],
   "source": [
    "for i = 1:(nd+1)\n",
    "    rename!(data, names(data)[i], symbol(var_names[i][2:end]))\n",
    "end"
   ]
  },
  {
   "cell_type": "code",
   "execution_count": 67,
   "metadata": {
    "collapsed": false
   },
   "outputs": [
    {
     "data": {
      "text/plain": [
       "60-element Array{Symbol,1}:\n",
       " :timedelta                   \n",
       " :n_tokens_title              \n",
       " :n_tokens_content            \n",
       " :n_unique_tokens             \n",
       " :n_non_stop_words            \n",
       " :n_non_stop_unique_tokens    \n",
       " :num_hrefs                   \n",
       " :num_self_hrefs              \n",
       " :num_imgs                    \n",
       " :num_videos                  \n",
       " :average_token_length        \n",
       " :num_keywords                \n",
       " :data_channel_is_lifestyle   \n",
       " ⋮                            \n",
       " :rate_negative_words         \n",
       " :avg_positive_polarity       \n",
       " :min_positive_polarity       \n",
       " :max_positive_polarity       \n",
       " :avg_negative_polarity       \n",
       " :min_negative_polarity       \n",
       " :max_negative_polarity       \n",
       " :title_subjectivity          \n",
       " :title_sentiment_polarity    \n",
       " :abs_title_subjectivity      \n",
       " :abs_title_sentiment_polarity\n",
       " :shares                      "
      ]
     },
     "execution_count": 67,
     "metadata": {},
     "output_type": "execute_result"
    }
   ],
   "source": [
    "names(data)"
   ]
  },
  {
   "cell_type": "code",
   "execution_count": 68,
   "metadata": {
    "collapsed": false
   },
   "outputs": [
    {
     "name": "stderr",
     "output_type": "stream",
     "text": [
      "INFO: Recompiling stale cache file C:\\Users\\Zacharias\\.julia\\lib\\v0.4\\Distributions.ji for module Distributions.\n"
     ]
    }
   ],
   "source": [
    "using GLM"
   ]
  },
  {
   "cell_type": "code",
   "execution_count": 69,
   "metadata": {
    "collapsed": false
   },
   "outputs": [
    {
     "data": {
      "text/plain": [
       "\" timedelta + n_tokens_title + n_tokens_content + n_unique_tokens + n_non_stop_words + n_non_stop_unique_tokens + num_hrefs + num_self_hrefs + num_imgs + num_videos + average_token_length + num_keywords + data_channel_is_lifestyle + data_channel_is_entertainment + data_channel_is_bus + data_channel_is_socmed + data_channel_is_tech + data_channel_is_world + kw_min_min + kw_max_min + kw_avg_min + kw_min_max + kw_max_max + kw_avg_max + kw_min_avg + kw_max_avg + kw_avg_avg + self_reference_min_shares + self_reference_max_shares + self_reference_avg_sharess + weekday_is_monday + weekday_is_tuesday + weekday_is_wednesday + weekday_is_thursday + weekday_is_friday + weekday_is_saturday + weekday_is_sunday + is_weekend + LDA_00 + LDA_01 + LDA_02 + LDA_03 + LDA_04 + global_subjectivity + global_sentiment_polarity + global_rate_positive_words + global_rate_negative_words + rate_positive_words + rate_negative_words + avg_positive_polarity + min_positive_polarity + max_positive_polarity + avg_negative_polarity + min_negative_polarity + max_negative_polarity + title_subjectivity + title_sentiment_polarity + abs_title_subjectivity + abs_title_sentiment_polarity + shares\""
      ]
     },
     "execution_count": 69,
     "metadata": {},
     "output_type": "execute_result"
    }
   ],
   "source": [
    "join(var_names, \" +\")"
   ]
  },
  {
   "cell_type": "code",
   "execution_count": 70,
   "metadata": {
    "collapsed": false
   },
   "outputs": [
    {
     "data": {
      "text/plain": [
       "DataFrames.DataFrameRegressionModel{GLM.LinearModel{GLM.LmResp{Array{Float64,1}},GLM.DensePredQR{Float64}},Float64}\n",
       "\n",
       "Formula: shares ~ 1 + timedelta + n_tokens_title + n_tokens_content + n_unique_tokens + n_non_stop_words + n_non_stop_unique_tokens + num_hrefs + num_self_hrefs + num_imgs + num_videos + average_token_length + num_keywords + data_channel_is_lifestyle + data_channel_is_entertainment + data_channel_is_bus + data_channel_is_socmed + data_channel_is_tech + data_channel_is_world + kw_min_min + kw_max_min + kw_avg_min + kw_min_max + kw_max_max + kw_avg_max + kw_min_avg + kw_max_avg + kw_avg_avg + self_reference_min_shares + self_reference_max_shares + self_reference_avg_sharess + weekday_is_monday + weekday_is_tuesday + weekday_is_wednesday + weekday_is_thursday + weekday_is_friday + weekday_is_saturday + weekday_is_sunday + is_weekend + LDA_00 + LDA_01 + LDA_02 + LDA_03 + LDA_04 + global_subjectivity + global_sentiment_polarity + global_rate_positive_words + global_rate_negative_words + rate_positive_words + rate_negative_words + avg_positive_polarity + min_positive_polarity + max_positive_polarity + avg_negative_polarity + min_negative_polarity + max_negative_polarity + title_subjectivity + title_sentiment_polarity + abs_title_subjectivity + abs_title_sentiment_polarity\n",
       "\n",
       "Coefficients:\n",
       "                                  Estimate   Std.Error    t value Pr(>|t|)\n",
       "(Intercept)                    -2.44184e16  1.51454e17  -0.161226   0.8719\n",
       "timedelta                          1.58132    0.405446     3.9002    <1e-4\n",
       "n_tokens_title                     123.145       30.19    4.07899    <1e-4\n",
       "n_tokens_content                  0.768745    0.233251    3.29578   0.0010\n",
       "n_unique_tokens                    3915.94     1990.96    1.96686   0.0492\n",
       "n_non_stop_words                  -1853.46     6653.44  -0.278571   0.7806\n",
       "n_non_stop_unique_tokens          -1977.72     1684.54   -1.17405   0.2404\n",
       "num_hrefs                          25.4078     6.92165    3.67078   0.0002\n",
       "num_self_hrefs                    -67.7709     18.2923   -3.70489   0.0002\n",
       "num_imgs                           7.49244     9.23287   0.811496   0.4171\n",
       "num_videos                        -3.42217      16.171  -0.211624   0.8324\n",
       "average_token_length              -504.072     250.612   -2.01136   0.0443\n",
       "num_keywords                       69.1562     38.5048    1.79604   0.0725\n",
       "data_channel_is_lifestyle         -1086.81     409.207   -2.65588   0.0079\n",
       "data_channel_is_entertainment     -1167.06     265.473   -4.39614    <1e-4\n",
       "data_channel_is_bus               -998.732     395.523   -2.52509   0.0116\n",
       "data_channel_is_socmed            -649.512      385.69   -1.68403   0.0922\n",
       "data_channel_is_tech              -630.196     384.672   -1.63827   0.1014\n",
       "data_channel_is_world             -514.495     391.051   -1.31567   0.1883\n",
       "kw_min_min                         3.11026     1.68729    1.84335   0.0653\n",
       "kw_max_min                       0.0824834   0.0515084    1.60136   0.1093\n",
       "kw_avg_min                       -0.424651    0.314911   -1.34848   0.1775\n",
       "kw_min_max                     -0.00251796  0.00124678   -2.01957   0.0434\n",
       "kw_max_max                     0.000355729 0.000610067   0.583097   0.5598\n",
       "kw_avg_max                     0.000729163 0.000877643    0.83082   0.4061\n",
       "kw_min_avg                       -0.334626   0.0784069   -4.26781    <1e-4\n",
       "kw_max_avg                        -0.18042   0.0257807   -6.99825   <1e-11\n",
       "kw_avg_avg                         1.53205    0.148709    10.3023   <1e-24\n",
       "self_reference_min_shares        0.0198676  0.00792311    2.50755   0.0122\n",
       "self_reference_max_shares      0.000155861  0.00441013  0.0353416   0.9718\n",
       "self_reference_avg_sharess      0.00685224   0.0111627   0.613849   0.5393\n",
       "weekday_is_monday               2.44184e16  1.51454e17   0.161226   0.8719\n",
       "weekday_is_tuesday              2.44184e16  1.51454e17   0.161226   0.8719\n",
       "weekday_is_wednesday            2.44184e16  1.51454e17   0.161226   0.8719\n",
       "weekday_is_thursday             2.44184e16  1.51454e17   0.161226   0.8719\n",
       "weekday_is_friday               2.44184e16  1.51454e17   0.161226   0.8719\n",
       "weekday_is_saturday             2.51086e17  3.85977e17    0.65052   0.5154\n",
       "weekday_is_sunday               2.51086e17  3.85977e17    0.65052   0.5154\n",
       "is_weekend                     -2.26668e17  3.38963e17  -0.668709   0.5037\n",
       "LDA_00                           -476800.0   6.90366e6 -0.0690648   0.9449\n",
       "LDA_01                          -4.77616e5   6.90365e6  -0.069183   0.9448\n",
       "LDA_02                          -4.78017e5   6.90367e6 -0.0692411   0.9448\n",
       "LDA_03                          -4.77229e5   6.90365e6  -0.069127   0.9449\n",
       "LDA_04                          -4.77161e5   6.90366e6 -0.0691172   0.9449\n",
       "global_subjectivity                2810.82      881.29    3.18943   0.0014\n",
       "global_sentiment_polarity          1481.59     1725.36   0.858716   0.3905\n",
       "global_rate_positive_words        -14993.6      7414.3   -2.02225   0.0432\n",
       "global_rate_negative_words         1979.54     14111.5   0.140278   0.8884\n",
       "rate_positive_words                2147.81     6528.55   0.328987   0.7422\n",
       "rate_negative_words                2362.71     6571.71   0.359527   0.7192\n",
       "avg_positive_polarity             -2379.18     1410.18   -1.68715   0.0916\n",
       "min_positive_polarity              -1684.3      1184.5   -1.42195   0.1550\n",
       "max_positive_polarity              355.793     445.614   0.798434   0.4246\n",
       "avg_negative_polarity             -2764.43     1299.05   -2.12804   0.0333\n",
       "min_negative_polarity              639.231     473.733    1.34935   0.1772\n",
       "max_negative_polarity              290.941     1080.93   0.269157   0.7878\n",
       "title_subjectivity                -136.766     283.328   -0.48271   0.6293\n",
       "title_sentiment_polarity           216.132     257.129    0.84056   0.4006\n",
       "abs_title_subjectivity             532.051     375.785    1.41584   0.1568\n",
       "abs_title_sentiment_polarity       722.673     408.102    1.77081   0.0766\n"
      ]
     },
     "execution_count": 70,
     "metadata": {},
     "output_type": "execute_result"
    }
   ],
   "source": [
    "model1 = fit(LinearModel, shares ~ timedelta + n_tokens_title + n_tokens_content + n_unique_tokens + n_non_stop_words + n_non_stop_unique_tokens + num_hrefs + num_self_hrefs + num_imgs + num_videos + average_token_length + num_keywords + data_channel_is_lifestyle + data_channel_is_entertainment + data_channel_is_bus + data_channel_is_socmed + data_channel_is_tech + data_channel_is_world + kw_min_min + kw_max_min + kw_avg_min + kw_min_max + kw_max_max + kw_avg_max + kw_min_avg + kw_max_avg + kw_avg_avg + self_reference_min_shares + self_reference_max_shares + self_reference_avg_sharess + weekday_is_monday + weekday_is_tuesday + weekday_is_wednesday + weekday_is_thursday + weekday_is_friday + weekday_is_saturday + weekday_is_sunday + is_weekend + LDA_00 + LDA_01 + LDA_02 + LDA_03 + LDA_04 + global_subjectivity + global_sentiment_polarity + global_rate_positive_words + global_rate_negative_words + rate_positive_words + rate_negative_words + avg_positive_polarity + min_positive_polarity + max_positive_polarity + avg_negative_polarity + min_negative_polarity + max_negative_polarity + title_subjectivity + title_sentiment_polarity + abs_title_subjectivity + abs_title_sentiment_polarity, data[ind_,:])"
   ]
  },
  {
   "cell_type": "code",
   "execution_count": 71,
   "metadata": {
    "collapsed": false
   },
   "outputs": [
    {
     "data": {
      "text/plain": [
       "DataFrames.DataFrameRegressionModel{GLM.LinearModel{GLM.LmResp{Array{Float64,1}},GLM.DensePredQR{Float64}},Float64}\n",
       "\n",
       "Formula: shares ~ 1 + timedelta + n_tokens_title + n_tokens_content + num_hrefs + num_self_hrefs + average_token_length + data_channel_is_lifestyle + data_channel_is_entertainment + data_channel_is_bus + kw_max_min + kw_min_max + kw_min_avg + self_reference_min_shares + global_subjectivity\n",
       "\n",
       "Coefficients:\n",
       "                                  Estimate  Std.Error  t value Pr(>|t|)\n",
       "(Intercept)                        2763.93    493.052  5.60575    <1e-7\n",
       "timedelta                         0.937314   0.298315  3.14203   0.0017\n",
       "n_tokens_title                     112.097    29.6459  3.78118   0.0002\n",
       "n_tokens_content                 -0.150399    0.14529 -1.03516   0.3006\n",
       "num_hrefs                          58.2279    6.26845  9.28904   <1e-19\n",
       "num_self_hrefs                    -76.1849    17.2443 -4.41799    <1e-5\n",
       "average_token_length              -930.849    91.0515 -10.2233   <1e-23\n",
       "data_channel_is_lifestyle         -302.218    274.979 -1.09906   0.2717\n",
       "data_channel_is_entertainment     -700.149     163.63 -4.27887    <1e-4\n",
       "data_channel_is_bus               -316.208    171.345 -1.84544   0.0650\n",
       "kw_max_min                       0.0700315  0.0155799  4.49498    <1e-5\n",
       "kw_min_max                     -0.00150007 0.00114159 -1.31402   0.1888\n",
       "kw_min_avg                        0.349682  0.0576814  6.06229    <1e-8\n",
       "self_reference_min_shares        0.0317828 0.00302708  10.4995   <1e-25\n",
       "global_subjectivity                6000.95    654.594  9.16744   <1e-19\n"
      ]
     },
     "execution_count": 71,
     "metadata": {},
     "output_type": "execute_result"
    }
   ],
   "source": [
    "model2 = fit(LinearModel, shares ~ timedelta + n_tokens_title + n_tokens_content + num_hrefs + num_self_hrefs + average_token_length + data_channel_is_lifestyle + data_channel_is_entertainment + data_channel_is_bus + kw_max_min + kw_min_max + kw_min_avg + self_reference_min_shares + global_subjectivity, data[ind_,:])"
   ]
  },
  {
   "cell_type": "code",
   "execution_count": 72,
   "metadata": {
    "collapsed": false
   },
   "outputs": [
    {
     "data": {
      "text/plain": [
       "DataFrames.DataFrameRegressionModel{GLM.LinearModel{GLM.LmResp{Array{Float64,1}},GLM.DensePredQR{Float64}},Float64}\n",
       "\n",
       "Formula: shares ~ 1 + timedelta + n_tokens_title + num_hrefs + num_self_hrefs + average_token_length + data_channel_is_entertainment + kw_max_min + kw_min_avg + self_reference_min_shares + global_subjectivity\n",
       "\n",
       "Coefficients:\n",
       "                                Estimate  Std.Error  t value Pr(>|t|)\n",
       "(Intercept)                      2702.41    491.744  5.49557    <1e-7\n",
       "timedelta                        0.93205   0.296252  3.14614   0.0017\n",
       "n_tokens_title                   111.964    29.6119  3.78105   0.0002\n",
       "num_hrefs                        56.3832    5.88885  9.57458   <1e-20\n",
       "num_self_hrefs                  -76.0022    16.9134 -4.49362    <1e-5\n",
       "average_token_length            -950.672    90.2949 -10.5285   <1e-25\n",
       "data_channel_is_entertainment   -633.175    158.874 -3.98539    <1e-4\n",
       "kw_max_min                     0.0708171  0.0155634  4.55024    <1e-5\n",
       "kw_min_avg                      0.325455  0.0539613  6.03127    <1e-8\n",
       "self_reference_min_shares      0.0319376 0.00302571  10.5554   <1e-25\n",
       "global_subjectivity              6046.36    651.788  9.27657   <1e-19\n"
      ]
     },
     "execution_count": 72,
     "metadata": {},
     "output_type": "execute_result"
    }
   ],
   "source": [
    "model3 = fit(LinearModel, shares ~ timedelta + n_tokens_title + num_hrefs + num_self_hrefs + average_token_length + data_channel_is_entertainment + kw_max_min + kw_min_avg + self_reference_min_shares + global_subjectivity, data[ind_,:])"
   ]
  },
  {
   "cell_type": "code",
   "execution_count": 73,
   "metadata": {
    "collapsed": false
   },
   "outputs": [
    {
     "data": {
      "text/plain": [
       "11-element Array{Float64,1}:\n",
       " 2702.41     \n",
       "    0.93205  \n",
       "  111.964    \n",
       "   56.3832   \n",
       "  -76.0022   \n",
       " -950.672    \n",
       " -633.175    \n",
       "    0.0708171\n",
       "    0.325455 \n",
       "    0.0319376\n",
       " 6046.36     "
      ]
     },
     "execution_count": 73,
     "metadata": {},
     "output_type": "execute_result"
    }
   ],
   "source": [
    "w = coef(model3) # weights"
   ]
  },
  {
   "cell_type": "code",
   "execution_count": 74,
   "metadata": {
    "collapsed": false
   },
   "outputs": [
    {
     "data": {
      "text/plain": [
       "3964x10 Array{Float64,2}:\n",
       " 393.0  13.0  16.0   4.0  4.64626  1.0  5600.0     0.0     979.0  0.539005\n",
       " 547.0  14.0  11.0   8.0  4.77535  1.0  1100.0  1150.0     790.0  0.446161\n",
       " 689.0   9.0   7.0   2.0  4.71183  0.0   382.0  1227.38    382.0  0.525177\n",
       "  53.0  12.0  45.0   5.0  5.05806  0.0   489.0  3062.03   3200.0  0.478977\n",
       " 722.0   9.0   4.0   1.0  4.55634  0.0   400.0     0.0       0.0  0.418182\n",
       " 209.0  10.0  21.0   8.0  4.68707  0.0   734.0     0.0     839.0  0.465273\n",
       "  10.0  10.0   2.0   2.0  4.7765   0.0   561.0     0.0   10800.0  0.327381\n",
       "  62.0  14.0   6.0   3.0  4.74595  0.0   444.0  1611.82   1300.0  0.4844  \n",
       " 124.0  15.0   3.0   3.0  4.56752  0.0   649.0     0.0    2700.0  0.448271\n",
       " 276.0  12.0   7.0   3.0  4.76037  0.0   441.0  1826.52    967.0  0.554713\n",
       " 531.0   6.0   4.0   4.0  4.28507  0.0  1100.0  2440.0    1100.0  0.518265\n",
       " 393.0  10.0   9.0   3.0  4.63946  0.0   784.0     0.0    1900.0  0.602778\n",
       " 715.0  11.0  15.0   4.0  5.03823  0.0   300.0     0.0    1100.0  0.515444\n",
       "   ⋮                               ⋮                                      \n",
       " 133.0  10.0   7.0   3.0  5.21638  0.0     0.0  1738.78   1200.0  0.25428 \n",
       " 265.0   9.0  13.0   5.0  4.73647  0.0   190.0  1337.37    881.0  0.343849\n",
       " 188.0  10.0  19.0   2.0  4.67651  0.0    43.0  2187.63    614.0  0.371389\n",
       " 247.0  11.0   8.0   3.0  5.01437  0.0   533.0     0.0    1800.0  0.45501 \n",
       "  69.0   7.0   0.0   0.0  0.0      0.0   937.0     0.0       0.0  0.0     \n",
       " 603.0  10.0   0.0   0.0  0.0      0.0   458.0  2983.46      0.0  0.0     \n",
       " 490.0  11.0   5.0   0.0  4.73077  0.0   932.0  1912.3       0.0  0.377727\n",
       "  76.0  12.0   3.0   2.0  4.73154  0.0   534.0  3452.15   1100.0  0.656042\n",
       " 384.0  11.0   8.0   2.0  4.63715  0.0  1800.0  3477.72    915.0  0.426625\n",
       " 577.0  13.0   6.0   3.0  5.0      0.0   224.0     0.0    2700.0  0.447619\n",
       " 618.0  10.0   6.0   2.0  4.63771  0.0   500.0  2641.12   8400.0  0.517025\n",
       "  28.0  15.0  20.0  13.0  4.39568  1.0   887.0  1916.03    651.0  0.464565"
      ]
     },
     "execution_count": 74,
     "metadata": {},
     "output_type": "execute_result"
    }
   ],
   "source": [
    "PT3 = convert(Array,data[ind, [:timedelta, :n_tokens_title, :num_hrefs, :num_self_hrefs, :average_token_length, :data_channel_is_entertainment, :kw_max_min, :kw_min_avg, :self_reference_min_shares, :global_subjectivity]])"
   ]
  },
  {
   "cell_type": "code",
   "execution_count": 75,
   "metadata": {
    "collapsed": false
   },
   "outputs": [
    {
     "data": {
      "text/plain": [
       "3964-element Array{Float64,1}:\n",
       " 3758.98\n",
       " 2794.02\n",
       " 3729.66\n",
       " 5473.5 \n",
       " 2757.78\n",
       " 3029.0 \n",
       " 1615.36\n",
       " 3452.54\n",
       " 2938.97\n",
       " 3954.91\n",
       " 3757.7 \n",
       " 3818.0 \n",
       " 3525.4 \n",
       "    ⋮   \n",
       " 1295.31\n",
       " 2363.1 \n",
       " 3450.91\n",
       " 2466.66\n",
       " 3616.83\n",
       " 5387.49\n",
       " 3147.47\n",
       " 4798.95\n",
       " 4050.64\n",
       " 2861.23\n",
       " 4464.78\n",
       " 3251.69"
      ]
     },
     "execution_count": 75,
     "metadata": {},
     "output_type": "execute_result"
    }
   ],
   "source": [
    "pred = PT3 * w[2:end] + w[1]"
   ]
  },
  {
   "cell_type": "code",
   "execution_count": 76,
   "metadata": {
    "collapsed": false
   },
   "outputs": [
    {
     "data": {
      "text/plain": [
       "1.8275045910710382e8"
      ]
     },
     "execution_count": 76,
     "metadata": {},
     "output_type": "execute_result"
    }
   ],
   "source": [
    "MSE(pred, TT2)"
   ]
  }
 ],
 "metadata": {
  "kernelspec": {
   "display_name": "Julia 0.4.5",
   "language": "julia",
   "name": "julia-0.4"
  },
  "language_info": {
   "file_extension": ".jl",
   "mimetype": "application/julia",
   "name": "julia",
   "version": "0.4.5"
  }
 },
 "nbformat": 4,
 "nbformat_minor": 0
}
