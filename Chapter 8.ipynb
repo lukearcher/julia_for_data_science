{
 "cells": [
  {
   "cell_type": "code",
   "execution_count": 2,
   "metadata": {
    "collapsed": false,
    "scrolled": true
   },
   "outputs": [
    {
     "name": "stderr",
     "output_type": "stream",
     "text": [
      "INFO: Nothing to be done\n"
     ]
    }
   ],
   "source": [
    "Pkg.add(\"MultivariateStats\")"
   ]
  },
  {
   "cell_type": "code",
   "execution_count": 3,
   "metadata": {
    "collapsed": false
   },
   "outputs": [
    {
     "name": "stderr",
     "output_type": "stream",
     "text": [
      "INFO: Recompiling stale cache file C:\\Users\\Zacharias\\.julia\\lib\\v0.4\\MultivariateStats.ji for module MultivariateStats.\n"
     ]
    }
   ],
   "source": [
    "using MultivariateStats"
   ]
  },
  {
   "cell_type": "code",
   "execution_count": 6,
   "metadata": {
    "collapsed": false
   },
   "outputs": [
    {
     "name": "stderr",
     "output_type": "stream",
     "text": [
      "INFO: Updating METADATA...\n",
      "INFO: Updating GeneratedTypes...\n",
      "INFO: Updating GeneratedTables...\n",
      "INFO: Updating TSne...\n",
      "INFO: Updating GraphPlot...\n",
      "INFO: Updating ComputeFramework...\n",
      "INFO: Updating ELM...\n",
      "INFO: Updating PlotlyJS...\n",
      "INFO: Updating ROC...\n",
      "INFO: Computing changes...\n",
      "INFO: No packages to install, update or remove\n"
     ]
    }
   ],
   "source": [
    "Pkg.update()"
   ]
  },
  {
   "cell_type": "code",
   "execution_count": 5,
   "metadata": {
    "collapsed": true
   },
   "outputs": [],
   "source": [
    "cd(\"d:\\\\data\\\\OnlineNewsPopularity\")"
   ]
  },
  {
   "cell_type": "code",
   "execution_count": 35,
   "metadata": {
    "collapsed": false
   },
   "outputs": [],
   "source": [
    "X = readcsv(\"OnlineNewsPopularity.csv\")[2:end,2:end] # get the numeric data only\n",
    "\n",
    "N, n = size(X)\n",
    "n -= 1 # remove output column in the col. count (so, now n = number of features)\n",
    "I = Array(Float64, N, n)\n",
    "O = X[:, end]\n",
    "\n",
    "for j = 1:n\n",
    "    for i = 1:N\n",
    "        I[i,j] = Float64(X[i,j])\n",
    "    end\n",
    "end"
   ]
  },
  {
   "cell_type": "code",
   "execution_count": 37,
   "metadata": {
    "collapsed": false
   },
   "outputs": [
    {
     "data": {
      "text/plain": [
       "true"
      ]
     },
     "execution_count": 37,
     "metadata": {},
     "output_type": "execute_result"
    }
   ],
   "source": [
    "ind = (O .>= 10000) # cases of \"viral\" result\n",
    "O_bin = falses(N)\n",
    "O_bin[ind] = true"
   ]
  },
  {
   "cell_type": "code",
   "execution_count": 41,
   "metadata": {
    "collapsed": false
   },
   "outputs": [
    {
     "data": {
      "text/plain": [
       "39644-element Array{Int64,1}:\n",
       "  4441\n",
       " 11863\n",
       " 37218\n",
       "  1432\n",
       " 14723\n",
       " 15635\n",
       " 19759\n",
       " 27440\n",
       "  8768\n",
       " 16895\n",
       " 10879\n",
       " 18196\n",
       "  3080\n",
       "     ⋮\n",
       "  9457\n",
       "  4924\n",
       " 16534\n",
       "  6600\n",
       "   404\n",
       " 19262\n",
       "  8012\n",
       "  7377\n",
       "  2288\n",
       "  7535\n",
       "  6210\n",
       " 37897"
      ]
     },
     "execution_count": 41,
     "metadata": {},
     "output_type": "execute_result"
    }
   ],
   "source": [
    "z = round(Int64, N*0.8)\n",
    "ind = randperm(N)"
   ]
  },
  {
   "cell_type": "code",
   "execution_count": 42,
   "metadata": {
    "collapsed": false
   },
   "outputs": [
    {
     "data": {
      "text/plain": [
       "7929-element Array{Any,1}:\n",
       "  1800\n",
       "  1100\n",
       "   928\n",
       "   860\n",
       "  4900\n",
       " 14100\n",
       "  2400\n",
       "   804\n",
       "  2300\n",
       "  5000\n",
       "  1400\n",
       "  1400\n",
       "   906\n",
       "     ⋮\n",
       "  1200\n",
       "  1600\n",
       "  4100\n",
       "  1200\n",
       "  1300\n",
       "  2900\n",
       "    99\n",
       "  7600\n",
       "  1200\n",
       " 21500\n",
       "  4600\n",
       "  4800"
      ]
     },
     "execution_count": 42,
     "metadata": {},
     "output_type": "execute_result"
    }
   ],
   "source": [
    "Itr = I[ind[1:z],:]\n",
    "Ite = I[ind[(z+1):end],:]\n",
    "Otr = O[ind[1:z]] # this will be useful later on\n",
    "Ote = O[ind[(z+1):end]] # this will be useful later on"
   ]
  },
  {
   "cell_type": "code",
   "execution_count": 43,
   "metadata": {
    "collapsed": false
   },
   "outputs": [
    {
     "data": {
      "text/plain": [
       "PCA(indim = 59, outdim = 4, principalratio = 0.99432)"
      ]
     },
     "execution_count": 43,
     "metadata": {},
     "output_type": "execute_result"
    }
   ],
   "source": [
    "M = fit(PCA, Itr'; maxoutdim = 10) # limit the total number of variables in reduced feature set to 10"
   ]
  },
  {
   "cell_type": "code",
   "execution_count": 44,
   "metadata": {
    "collapsed": false
   },
   "outputs": [
    {
     "data": {
      "text/plain": [
       "31715x4 Array{Float64,2}:\n",
       "     -1.72968e5   -51330.0         10100.2    -2609.47\n",
       "  40486.2        -125950.0         23542.6    -1036.78\n",
       "      1.0455e5      5030.53       -15348.9   -15228.2 \n",
       "     -7.17541e5    79428.4         -6427.05   -4027.68\n",
       "  45391.4             -1.15521e5    8467.82   41557.6 \n",
       "  51924.2        -102180.0         16139.9     3151.56\n",
       " 107273.0          10448.0        -25476.0     9492.71\n",
       "      1.19281e5    35401.8        -22503.3   -19913.1 \n",
       " -11037.3              1.16436e5  -35440.1   -26302.9 \n",
       "  70928.3         -63497.3          6659.22  -10030.9 \n",
       "  11265.4        -185433.0         41757.2     6611.88\n",
       " 118538.0          44346.8         26455.4    -8769.9 \n",
       "     -5.6765e5     27254.1          3706.9    -5296.01\n",
       "      ⋮                                               \n",
       "     -1.11233e5   -89426.2         19023.9    -1276.48\n",
       "      1.1379e5     23576.1        -21765.4   -19956.7 \n",
       "      1.32817e5    63813.4        -26433.3   -24753.4 \n",
       "      1.08093e5    11968.8        -18552.8   -17318.4 \n",
       "  65391.0         -75089.6          8150.52   -7147.89\n",
       "  83972.7         -36003.8          2247.04  -10820.2 \n",
       "  69626.3         -65322.2          9573.48   -3297.76\n",
       "      1.15315e5    27358.9        -20857.2   -15607.8 \n",
       "     -7.49213e5    82076.7         -9191.0     8029.29\n",
       "     -7.38283e5    76007.8         -3650.06   -6782.84\n",
       "  65237.8         -75328.3          4616.75    5880.11\n",
       "  84540.7         -35414.9         -1263.29   -9892.03"
      ]
     },
     "execution_count": 44,
     "metadata": {},
     "output_type": "execute_result"
    }
   ],
   "source": [
    "Jtr = transform(M, Itr')'"
   ]
  },
  {
   "cell_type": "code",
   "execution_count": 45,
   "metadata": {
    "collapsed": false
   },
   "outputs": [
    {
     "data": {
      "text/plain": [
       "7929x4 Array{Float64,2}:\n",
       "       1.49575e5   97375.6        -42102.4     -21798.3  \n",
       "       1.05878e5    8668.34       -10786.6     -18035.9  \n",
       "   52024.4            -1.01127e5   20819.2       1477.77 \n",
       " -118183.0            -1.03591e5   23247.6        825.798\n",
       "  -43732.7         49823.5        -21841.5       4234.47 \n",
       "       1.19078e5   34395.4        -26970.7     -14412.6  \n",
       "   38268.0            -1.2926e5     -126.416    96671.1  \n",
       "       1.05539e5    6948.36       -15770.1     -17636.2  \n",
       "       1.09631e5   15109.6        -19560.2     -17524.9  \n",
       "       1.14631e5   25293.4        -22443.0     -19602.6  \n",
       "   78405.0        -47887.7          1318.78     -3894.65 \n",
       "   81218.3        -42824.6         -1748.13    -10940.4  \n",
       "   70644.2        -64367.7          4259.69     -6243.71 \n",
       "       ⋮                                                 \n",
       "   65923.8        -69799.5          6402.4      63307.2  \n",
       "      -1.52232e5   -8922.52        -1099.67    -11099.8  \n",
       "   46100.7            -1.10885e5   30151.6      21592.3  \n",
       "  -46221.9         43324.1        -20415.7     -17444.7  \n",
       "      -7.51827e5   81182.8         -4616.53     -7029.15 \n",
       "   32561.6            -1.41901e5   22772.6      21835.6  \n",
       "  -71295.4         -6854.62           76.5073  -11894.0  \n",
       "  -98567.2        -62764.7          9885.18     12918.5  \n",
       "      -7.15528e5   83509.5         -7097.03     -6653.66 \n",
       "  -32400.3         71508.2        -38333.9       8923.45 \n",
       "  -94660.5        -55631.6          8253.93     -3783.84 \n",
       "   63314.3        -79335.6          9921.71     -8367.21 "
      ]
     },
     "execution_count": 45,
     "metadata": {},
     "output_type": "execute_result"
    }
   ],
   "source": [
    "Jte = transform(M, Ite')'"
   ]
  },
  {
   "cell_type": "code",
   "execution_count": 14,
   "metadata": {
    "collapsed": false
   },
   "outputs": [
    {
     "data": {
      "text/plain": [
       "cossim (generic function with 1 method)"
      ]
     },
     "execution_count": 14,
     "metadata": {},
     "output_type": "execute_result"
    }
   ],
   "source": [
    "function cossim(x::Array, y::Array)\n",
    "    # Cosine Similarity Function\n",
    "    nx = norm(x)\n",
    "    ny = norm(y)\n",
    "    \n",
    "    if (nx == 0) | (ny == 0)\n",
    "        return NaN\n",
    "    else\n",
    "        return dot(x,y) / (nx * ny)\n",
    "    end\n",
    "end"
   ]
  },
  {
   "cell_type": "code",
   "execution_count": 46,
   "metadata": {
    "collapsed": false
   },
   "outputs": [],
   "source": [
    "V = Array(Float64, n);"
   ]
  },
  {
   "cell_type": "code",
   "execution_count": 47,
   "metadata": {
    "collapsed": true
   },
   "outputs": [],
   "source": [
    "for i = 1:n\n",
    "    V[i] = cossim(Itr[:,i], Otr)\n",
    "end"
   ]
  },
  {
   "cell_type": "code",
   "execution_count": 48,
   "metadata": {
    "collapsed": false
   },
   "outputs": [
    {
     "data": {
      "text/plain": [
       "([0.25362064598653405,0.28619684676702817,0.21589821404321854,0.041548246519832646,0.04977053431283567],0.17628312528531498)"
      ]
     },
     "execution_count": 48,
     "metadata": {},
     "output_type": "execute_result"
    }
   ],
   "source": [
    "abs(V[1:5]), mean(abs(V))"
   ]
  },
  {
   "cell_type": "code",
   "execution_count": 49,
   "metadata": {
    "collapsed": false
   },
   "outputs": [
    {
     "data": {
      "text/plain": [
       "26"
      ]
     },
     "execution_count": 49,
     "metadata": {},
     "output_type": "execute_result"
    }
   ],
   "source": [
    "th = 0.2\n",
    "feat_ind = (abs(V) .>= th)\n",
    "sum(feat_ind)"
   ]
  },
  {
   "cell_type": "code",
   "execution_count": 50,
   "metadata": {
    "collapsed": false,
    "scrolled": true
   },
   "outputs": [
    {
     "name": "stdout",
     "output_type": "stream",
     "text": [
      "[1,2,3,7,11,12,23,24,25,26,27,42,44,45,46,47,48,49,50,51,52,53,54,55,56,58]"
     ]
    }
   ],
   "source": [
    "show(find(feat_ind)) # features in reduced feature set"
   ]
  },
  {
   "cell_type": "code",
   "execution_count": 51,
   "metadata": {
    "collapsed": false
   },
   "outputs": [
    {
     "data": {
      "text/plain": [
       "7929-element Array{Bool,1}:\n",
       " false\n",
       " false\n",
       " false\n",
       " false\n",
       " false\n",
       "  true\n",
       " false\n",
       " false\n",
       " false\n",
       " false\n",
       " false\n",
       " false\n",
       " false\n",
       "     ⋮\n",
       " false\n",
       " false\n",
       " false\n",
       " false\n",
       " false\n",
       " false\n",
       " false\n",
       " false\n",
       " false\n",
       "  true\n",
       " false\n",
       " false"
      ]
     },
     "execution_count": 51,
     "metadata": {},
     "output_type": "execute_result"
    }
   ],
   "source": [
    "Otr = Array(O_bin[ind[1:z]])\n",
    "Ote = Array(O_bin[ind[(z+1):end]])"
   ]
  },
  {
   "cell_type": "code",
   "execution_count": 52,
   "metadata": {
    "collapsed": false
   },
   "outputs": [
    {
     "data": {
      "text/plain": [
       "DID (generic function with 4 methods)"
      ]
     },
     "execution_count": 52,
     "metadata": {},
     "output_type": "execute_result"
    }
   ],
   "source": [
    "include(\"C:\\\\users\\\\Zacharias\\\\Documents\\\\Julia\\\\DID.jl\")"
   ]
  },
  {
   "cell_type": "code",
   "execution_count": 53,
   "metadata": {
    "collapsed": false
   },
   "outputs": [],
   "source": [
    "for i = 1:n\n",
    "    V[i] = DID(Itr[:,i], Otr)[1]\n",
    "end"
   ]
  },
  {
   "cell_type": "code",
   "execution_count": 54,
   "metadata": {
    "collapsed": false
   },
   "outputs": [
    {
     "data": {
      "text/plain": [
       "([0.50965273498501,0.19815453812576508,0.040647320638097506,0.1667844945508427,0.07425604603497078],0.19631837816413597)"
      ]
     },
     "execution_count": 54,
     "metadata": {},
     "output_type": "execute_result"
    }
   ],
   "source": [
    "V[1:5], mean(V)"
   ]
  },
  {
   "cell_type": "code",
   "execution_count": 55,
   "metadata": {
    "collapsed": false
   },
   "outputs": [
    {
     "data": {
      "text/plain": [
       "10"
      ]
     },
     "execution_count": 55,
     "metadata": {},
     "output_type": "execute_result"
    }
   ],
   "source": [
    "th = 0.35\n",
    "feat_ind = (V .>= th)\n",
    "sum(feat_ind)"
   ]
  },
  {
   "cell_type": "code",
   "execution_count": 56,
   "metadata": {
    "collapsed": false
   },
   "outputs": [
    {
     "name": "stdout",
     "output_type": "stream",
     "text": [
      "[1,14,25,32,33,34,42,54,56,58]"
     ]
    }
   ],
   "source": [
    "show(find(feat_ind)) # features in reduced feature set"
   ]
  }
 ],
 "metadata": {
  "anaconda-cloud": {},
  "kernelspec": {
   "display_name": "Julia 0.5.0",
   "language": "julia",
   "name": "julia-0.5"
  },
  "language_info": {
   "file_extension": ".jl",
   "mimetype": "application/julia",
   "name": "julia",
   "version": "0.5.0"
  }
 },
 "nbformat": 4,
 "nbformat_minor": 0
}
