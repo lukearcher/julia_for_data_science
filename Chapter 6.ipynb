{
 "cells": [
  {
   "cell_type": "code",
   "execution_count": 1,
   "metadata": {
    "collapsed": false
   },
   "outputs": [
    {
     "name": "stderr",
     "output_type": "stream",
     "text": [
      "INFO: Nothing to be done\n",
      "INFO: Updating METADATA...\n",
      "INFO: Updating GeneratedTypes...\n",
      "INFO: Updating GeneratedTables...\n",
      "INFO: Updating TSne...\n",
      "INFO: Updating GraphPlot...\n",
      "INFO: Updating ComputeFramework...\n",
      "INFO: Updating ELM...\n",
      "INFO: Updating PlotlyJS...\n",
      "INFO: Updating ROC...\n",
      "INFO: Computing changes...\n",
      "INFO: No packages to install, update or remove\n"
     ]
    }
   ],
   "source": [
    "Pkg.add(\"DataFrames\")\n",
    "Pkg.update() # the output on your computer is bound to be much different (and the whole thing much faster!)"
   ]
  },
  {
   "cell_type": "code",
   "execution_count": 3,
   "metadata": {
    "collapsed": false
   },
   "outputs": [
    {
     "name": "stderr",
     "output_type": "stream",
     "text": [
      "INFO: Recompiling stale cache file C:\\Users\\Zacharias\\.julia\\lib\\v0.4\\DataFrames.ji for module DataFrames.\n",
      "INFO: Recompiling stale cache file C:\\Users\\Zacharias\\.julia\\lib\\v0.4\\StatsBase.ji for module StatsBase.\n",
      "INFO: Recompiling stale cache file C:\\Users\\Zacharias\\.julia\\lib\\v0.4\\StatsFuns.ji for module StatsFuns.\n",
      "INFO: Recompiling stale cache file C:\\Users\\Zacharias\\.julia\\lib\\v0.4\\DataArrays.ji for module DataArrays.\n",
      "INFO: Recompiling stale cache file C:\\Users\\Zacharias\\.julia\\lib\\v0.4\\GZip.ji for module GZip.\n",
      "INFO: Recompiling stale cache file C:\\Users\\Zacharias\\.julia\\lib\\v0.4\\SortingAlgorithms.ji for module SortingAlgorithms.\n",
      "INFO: Recompiling stale cache file C:\\Users\\Zacharias\\.julia\\lib\\v0.4\\Docile.ji for module Docile.\n"
     ]
    }
   ],
   "source": [
    "using DataFrames"
   ]
  },
  {
   "cell_type": "code",
   "execution_count": 4,
   "metadata": {
    "collapsed": false
   },
   "outputs": [
    {
     "data": {
      "text/html": [
       "<table class=\"data-frame\"><tr><th></th></tr></table>"
      ],
      "text/plain": [
       "0×0 DataFrames.DataFrame\n"
      ]
     },
     "execution_count": 4,
     "metadata": {},
     "output_type": "execute_result"
    }
   ],
   "source": [
    "df = DataFrame()"
   ]
  },
  {
   "cell_type": "code",
   "execution_count": 5,
   "metadata": {
    "collapsed": false
   },
   "outputs": [
    {
     "data": {
      "text/plain": [
       "10-element DataArrays.DataArray{Int64,1}:\n",
       "  1\n",
       "  2\n",
       "  3\n",
       "  4\n",
       "  5\n",
       "  6\n",
       "  7\n",
       "  8\n",
       "  9\n",
       " 10"
      ]
     },
     "execution_count": 5,
     "metadata": {},
     "output_type": "execute_result"
    }
   ],
   "source": [
    "da = DataArray([1,2,3,4,5,6,7,8,9,10])"
   ]
  },
  {
   "cell_type": "code",
   "execution_count": 6,
   "metadata": {
    "collapsed": false
   },
   "outputs": [
    {
     "data": {
      "text/plain": [
       "10-element DataArrays.DataArray{Int64,1}:\n",
       "  2\n",
       "  4\n",
       "  6\n",
       "  8\n",
       " 10\n",
       " 12\n",
       " 14\n",
       " 16\n",
       " 18\n",
       " 20"
      ]
     },
     "execution_count": 6,
     "metadata": {},
     "output_type": "execute_result"
    }
   ],
   "source": [
    "da1 = da\n",
    "da2 = 2*da"
   ]
  },
  {
   "cell_type": "code",
   "execution_count": 7,
   "metadata": {
    "collapsed": false
   },
   "outputs": [
    {
     "data": {
      "text/plain": [
       "10-element DataArrays.DataArray{Int64,1}:\n",
       "  2\n",
       "  4\n",
       "  6\n",
       "  8\n",
       " 10\n",
       " 12\n",
       " 14\n",
       " 16\n",
       " 18\n",
       " 20"
      ]
     },
     "execution_count": 7,
     "metadata": {},
     "output_type": "execute_result"
    }
   ],
   "source": [
    "df[:var1] = da1\n",
    "df[:var2] = da2"
   ]
  },
  {
   "cell_type": "code",
   "execution_count": 8,
   "metadata": {
    "collapsed": false
   },
   "outputs": [
    {
     "data": {
      "text/plain": [
       "2-element Array{Symbol,1}:\n",
       " :var1\n",
       " :var2"
      ]
     },
     "execution_count": 8,
     "metadata": {},
     "output_type": "execute_result"
    }
   ],
   "source": [
    "names(df)"
   ]
  },
  {
   "cell_type": "code",
   "execution_count": 9,
   "metadata": {
    "collapsed": false
   },
   "outputs": [
    {
     "data": {
      "text/html": [
       "<table class=\"data-frame\"><tr><th></th><th>length</th><th>width</th></tr><tr><th>1</th><td>1</td><td>2</td></tr><tr><th>2</th><td>2</td><td>4</td></tr><tr><th>3</th><td>3</td><td>6</td></tr><tr><th>4</th><td>4</td><td>8</td></tr><tr><th>5</th><td>5</td><td>10</td></tr><tr><th>6</th><td>6</td><td>12</td></tr><tr><th>7</th><td>7</td><td>14</td></tr><tr><th>8</th><td>8</td><td>16</td></tr><tr><th>9</th><td>9</td><td>18</td></tr><tr><th>10</th><td>10</td><td>20</td></tr></table>"
      ],
      "text/plain": [
       "10×2 DataFrames.DataFrame\n",
       "│ Row │ length │ width │\n",
       "├─────┼────────┼───────┤\n",
       "│ 1   │ 1      │ 2     │\n",
       "│ 2   │ 2      │ 4     │\n",
       "│ 3   │ 3      │ 6     │\n",
       "│ 4   │ 4      │ 8     │\n",
       "│ 5   │ 5      │ 10    │\n",
       "│ 6   │ 6      │ 12    │\n",
       "│ 7   │ 7      │ 14    │\n",
       "│ 8   │ 8      │ 16    │\n",
       "│ 9   │ 9      │ 18    │\n",
       "│ 10  │ 10     │ 20    │"
      ]
     },
     "execution_count": 9,
     "metadata": {},
     "output_type": "execute_result"
    }
   ],
   "source": [
    "rename!(df, [:var1, :var2], [:length, :width])"
   ]
  },
  {
   "cell_type": "code",
   "execution_count": 10,
   "metadata": {
    "collapsed": false
   },
   "outputs": [
    {
     "data": {
      "text/html": [
       "<table class=\"data-frame\"><tr><th></th><th>length</th><th>height</th></tr><tr><th>1</th><td>1</td><td>2</td></tr><tr><th>2</th><td>2</td><td>4</td></tr><tr><th>3</th><td>3</td><td>6</td></tr><tr><th>4</th><td>4</td><td>8</td></tr><tr><th>5</th><td>5</td><td>10</td></tr><tr><th>6</th><td>6</td><td>12</td></tr><tr><th>7</th><td>7</td><td>14</td></tr><tr><th>8</th><td>8</td><td>16</td></tr><tr><th>9</th><td>9</td><td>18</td></tr><tr><th>10</th><td>10</td><td>20</td></tr></table>"
      ],
      "text/plain": [
       "10×2 DataFrames.DataFrame\n",
       "│ Row │ length │ height │\n",
       "├─────┼────────┼────────┤\n",
       "│ 1   │ 1      │ 2      │\n",
       "│ 2   │ 2      │ 4      │\n",
       "│ 3   │ 3      │ 6      │\n",
       "│ 4   │ 4      │ 8      │\n",
       "│ 5   │ 5      │ 10     │\n",
       "│ 6   │ 6      │ 12     │\n",
       "│ 7   │ 7      │ 14     │\n",
       "│ 8   │ 8      │ 16     │\n",
       "│ 9   │ 9      │ 18     │\n",
       "│ 10  │ 10     │ 20     │"
      ]
     },
     "execution_count": 10,
     "metadata": {},
     "output_type": "execute_result"
    }
   ],
   "source": [
    "rename!(df, :width, :height)"
   ]
  },
  {
   "cell_type": "code",
   "execution_count": 11,
   "metadata": {
    "collapsed": false
   },
   "outputs": [
    {
     "data": {
      "text/plain": [
       "10-element DataArrays.DataArray{Int64,1}:\n",
       "  1\n",
       "  2\n",
       "  3\n",
       "  4\n",
       "  5\n",
       "  6\n",
       "  7\n",
       "  8\n",
       "  9\n",
       " 10"
      ]
     },
     "execution_count": 11,
     "metadata": {},
     "output_type": "execute_result"
    }
   ],
   "source": [
    "df[:length]"
   ]
  },
  {
   "cell_type": "code",
   "execution_count": 12,
   "metadata": {
    "collapsed": false
   },
   "outputs": [
    {
     "data": {
      "text/plain": [
       "10-element DataArrays.DataArray{Int64,1}:\n",
       "  2\n",
       "  4\n",
       "  6\n",
       "  8\n",
       " 10\n",
       " 12\n",
       " 14\n",
       " 16\n",
       " 18\n",
       " 20"
      ]
     },
     "execution_count": 12,
     "metadata": {},
     "output_type": "execute_result"
    }
   ],
   "source": [
    "var_name = \"height\"\n",
    "df[symbol(var_name)]"
   ]
  },
  {
   "cell_type": "code",
   "execution_count": 13,
   "metadata": {
    "collapsed": false
   },
   "outputs": [
    {
     "name": "stdout",
     "output_type": "stream",
     "text": [
      "10×2 DataFrames.DataFrame\n",
      "│ Col # │ Name   │ Eltype │ Missing │\n",
      "├───────┼────────┼────────┼─────────┤\n",
      "│ 1     │ length │ Int64  │ 0       │\n",
      "│ 2     │ height │ Int64  │ 0       │"
     ]
    }
   ],
   "source": [
    "showcols(df)"
   ]
  },
  {
   "cell_type": "code",
   "execution_count": 14,
   "metadata": {
    "collapsed": false
   },
   "outputs": [
    {
     "data": {
      "text/html": [
       "<table class=\"data-frame\"><tr><th></th><th>length</th><th>height</th></tr><tr><th>1</th><td>1</td><td>2</td></tr><tr><th>2</th><td>2</td><td>4</td></tr><tr><th>3</th><td>3</td><td>6</td></tr><tr><th>4</th><td>4</td><td>8</td></tr><tr><th>5</th><td>5</td><td>10</td></tr><tr><th>6</th><td>6</td><td>12</td></tr></table>"
      ],
      "text/plain": [
       "6×2 DataFrames.DataFrame\n",
       "│ Row │ length │ height │\n",
       "├─────┼────────┼────────┤\n",
       "│ 1   │ 1      │ 2      │\n",
       "│ 2   │ 2      │ 4      │\n",
       "│ 3   │ 3      │ 6      │\n",
       "│ 4   │ 4      │ 8      │\n",
       "│ 5   │ 5      │ 10     │\n",
       "│ 6   │ 6      │ 12     │"
      ]
     },
     "execution_count": 14,
     "metadata": {},
     "output_type": "execute_result"
    }
   ],
   "source": [
    "head(df)"
   ]
  },
  {
   "cell_type": "code",
   "execution_count": 15,
   "metadata": {
    "collapsed": false
   },
   "outputs": [
    {
     "data": {
      "text/html": [
       "<table class=\"data-frame\"><tr><th></th><th>length</th><th>height</th></tr><tr><th>1</th><td>5</td><td>10</td></tr><tr><th>2</th><td>6</td><td>12</td></tr><tr><th>3</th><td>7</td><td>14</td></tr><tr><th>4</th><td>8</td><td>16</td></tr><tr><th>5</th><td>9</td><td>18</td></tr><tr><th>6</th><td>10</td><td>20</td></tr></table>"
      ],
      "text/plain": [
       "6×2 DataFrames.DataFrame\n",
       "│ Row │ length │ height │\n",
       "├─────┼────────┼────────┤\n",
       "│ 1   │ 5      │ 10     │\n",
       "│ 2   │ 6      │ 12     │\n",
       "│ 3   │ 7      │ 14     │\n",
       "│ 4   │ 8      │ 16     │\n",
       "│ 5   │ 9      │ 18     │\n",
       "│ 6   │ 10     │ 20     │"
      ]
     },
     "execution_count": 15,
     "metadata": {},
     "output_type": "execute_result"
    }
   ],
   "source": [
    "tail(df)"
   ]
  },
  {
   "cell_type": "code",
   "execution_count": 16,
   "metadata": {
    "collapsed": false
   },
   "outputs": [
    {
     "name": "stdout",
     "output_type": "stream",
     "text": [
      "length\n",
      "Min      1.0\n",
      "1st Qu.  3.25\n",
      "Median   5.5\n",
      "Mean     5.5\n",
      "3rd Qu.  7.75\n",
      "Max      10.0\n",
      "NAs      0\n",
      "NA%      0.0%\n",
      "\n",
      "height\n",
      "Min      2.0\n",
      "1st Qu.  6.5\n",
      "Median   11.0\n",
      "Mean     11.0\n",
      "3rd Qu.  15.5\n",
      "Max      20.0\n",
      "NAs      0\n",
      "NA%      0.0%\n",
      "\n"
     ]
    }
   ],
   "source": [
    "describe(df)"
   ]
  },
  {
   "cell_type": "code",
   "execution_count": 17,
   "metadata": {
    "collapsed": false
   },
   "outputs": [
    {
     "data": {
      "text/html": [
       "<table class=\"data-frame\"><tr><th></th><th>length</th></tr><tr><th>1</th><td>1</td></tr><tr><th>2</th><td>2</td></tr><tr><th>3</th><td>3</td></tr><tr><th>4</th><td>4</td></tr><tr><th>5</th><td>5</td></tr></table>"
      ],
      "text/plain": [
       "5×1 DataFrames.DataFrame\n",
       "│ Row │ length │\n",
       "├─────┼────────┤\n",
       "│ 1   │ 1      │\n",
       "│ 2   │ 2      │\n",
       "│ 3   │ 3      │\n",
       "│ 4   │ 4      │\n",
       "│ 5   │ 5      │"
      ]
     },
     "execution_count": 17,
     "metadata": {},
     "output_type": "execute_result"
    }
   ],
   "source": [
    "df[1:5, [:length]]"
   ]
  },
  {
   "cell_type": "code",
   "execution_count": 18,
   "metadata": {
    "collapsed": false
   },
   "outputs": [
    {
     "data": {
      "text/html": [
       "<table class=\"data-frame\"><tr><th></th><th>length</th><th>height</th></tr><tr><th>1</th><td>3</td><td>6</td></tr><tr><th>2</th><td>4</td><td>8</td></tr><tr><th>3</th><td>5</td><td>10</td></tr><tr><th>4</th><td>6</td><td>12</td></tr><tr><th>5</th><td>7</td><td>14</td></tr><tr><th>6</th><td>8</td><td>16</td></tr><tr><th>7</th><td>9</td><td>18</td></tr><tr><th>8</th><td>10</td><td>20</td></tr></table>"
      ],
      "text/plain": [
       "8×2 DataFrames.DataFrame\n",
       "│ Row │ length │ height │\n",
       "├─────┼────────┼────────┤\n",
       "│ 1   │ 3      │ 6      │\n",
       "│ 2   │ 4      │ 8      │\n",
       "│ 3   │ 5      │ 10     │\n",
       "│ 4   │ 6      │ 12     │\n",
       "│ 5   │ 7      │ 14     │\n",
       "│ 6   │ 8      │ 16     │\n",
       "│ 7   │ 9      │ 18     │\n",
       "│ 8   │ 10     │ 20     │"
      ]
     },
     "execution_count": 18,
     "metadata": {},
     "output_type": "execute_result"
    }
   ],
   "source": [
    "df[df[:length] .> 2, :]"
   ]
  },
  {
   "cell_type": "code",
   "execution_count": 19,
   "metadata": {
    "collapsed": false
   },
   "outputs": [
    {
     "data": {
      "text/html": [
       "<table class=\"data-frame\"><tr><th></th><th>length</th><th>height</th></tr><tr><th>1</th><td>3</td><td>6</td></tr><tr><th>2</th><td>4</td><td>8</td></tr><tr><th>3</th><td>5</td><td>10</td></tr><tr><th>4</th><td>6</td><td>12</td></tr><tr><th>5</th><td>7</td><td>14</td></tr><tr><th>6</th><td>8</td><td>16</td></tr><tr><th>7</th><td>9</td><td>18</td></tr><tr><th>8</th><td>10</td><td>20</td></tr></table>"
      ],
      "text/plain": [
       "8×2 DataFrames.DataFrame\n",
       "│ Row │ length │ height │\n",
       "├─────┼────────┼────────┤\n",
       "│ 1   │ 3      │ 6      │\n",
       "│ 2   │ 4      │ 8      │\n",
       "│ 3   │ 5      │ 10     │\n",
       "│ 4   │ 6      │ 12     │\n",
       "│ 5   │ 7      │ 14     │\n",
       "│ 6   │ 8      │ 16     │\n",
       "│ 7   │ 9      │ 18     │\n",
       "│ 8   │ 10     │ 20     │"
      ]
     },
     "execution_count": 19,
     "metadata": {},
     "output_type": "execute_result"
    }
   ],
   "source": [
    "ind = df[:length] .> 2\n",
    "df[ind, :]"
   ]
  },
  {
   "cell_type": "code",
   "execution_count": 20,
   "metadata": {
    "collapsed": false
   },
   "outputs": [
    {
     "data": {
      "text/plain": [
       "2-element Array{Any,1}:\n",
       " [10]\n",
       " [20]"
      ]
     },
     "execution_count": 20,
     "metadata": {},
     "output_type": "execute_result"
    }
   ],
   "source": [
    "colwise(maximum, df)"
   ]
  },
  {
   "cell_type": "code",
   "execution_count": 21,
   "metadata": {
    "collapsed": false
   },
   "outputs": [
    {
     "data": {
      "text/plain": [
       "2-element Array{Any,1}:\n",
       " [5.5] \n",
       " [11.0]"
      ]
     },
     "execution_count": 21,
     "metadata": {},
     "output_type": "execute_result"
    }
   ],
   "source": [
    "colwise(mean, df[[:length, :height]])"
   ]
  },
  {
   "cell_type": "code",
   "execution_count": 22,
   "metadata": {
    "collapsed": false
   },
   "outputs": [
    {
     "data": {
      "text/plain": [
       "NA"
      ]
     },
     "execution_count": 22,
     "metadata": {},
     "output_type": "execute_result"
    }
   ],
   "source": [
    "df[:weight] = DataArray([10,20,-1,15,25,5,10,20,-1,5])\n",
    "df[df[:weight] .== -1,:weight] = NA # unknown cases relabeled as NA\n",
    "mean(df[:weight])"
   ]
  },
  {
   "cell_type": "code",
   "execution_count": 23,
   "metadata": {
    "collapsed": false
   },
   "outputs": [
    {
     "data": {
      "text/plain": [
       "10-element BitArray{1}:\n",
       " false\n",
       " false\n",
       "  true\n",
       " false\n",
       " false\n",
       " false\n",
       " false\n",
       " false\n",
       "  true\n",
       " false"
      ]
     },
     "execution_count": 23,
     "metadata": {},
     "output_type": "execute_result"
    }
   ],
   "source": [
    "isna(df[:weight])"
   ]
  },
  {
   "cell_type": "code",
   "execution_count": 24,
   "metadata": {
    "collapsed": false
   },
   "outputs": [
    {
     "data": {
      "text/plain": [
       "2-element Array{Int64,1}:\n",
       " 3\n",
       " 9"
      ]
     },
     "execution_count": 24,
     "metadata": {},
     "output_type": "execute_result"
    }
   ],
   "source": [
    "find(isna(df[:weight]))"
   ]
  },
  {
   "cell_type": "code",
   "execution_count": 25,
   "metadata": {
    "collapsed": false
   },
   "outputs": [
    {
     "data": {
      "text/plain": [
       "14"
      ]
     },
     "execution_count": 25,
     "metadata": {},
     "output_type": "execute_result"
    }
   ],
   "source": [
    "m = round(Int64,mean(df[!isna(df[:weight]), :weight]))"
   ]
  },
  {
   "cell_type": "code",
   "execution_count": 26,
   "metadata": {
    "collapsed": false
   },
   "outputs": [
    {
     "name": "stdout",
     "output_type": "stream",
     "text": [
      "[10,20,14,15,25,5,10,20,14,5]"
     ]
    }
   ],
   "source": [
    "df[isna(df[:weight]), :weight] = m\n",
    "show(df[:weight])"
   ]
  },
  {
   "cell_type": "code",
   "execution_count": 27,
   "metadata": {
    "collapsed": false
   },
   "outputs": [
    {
     "data": {
      "text/html": [
       "<table class=\"data-frame\"><tr><th></th><th>height</th><th>weight</th></tr><tr><th>1</th><td>2</td><td>10</td></tr><tr><th>2</th><td>4</td><td>20</td></tr><tr><th>3</th><td>6</td><td>14</td></tr><tr><th>4</th><td>8</td><td>15</td></tr><tr><th>5</th><td>10</td><td>25</td></tr><tr><th>6</th><td>12</td><td>5</td></tr><tr><th>7</th><td>14</td><td>10</td></tr><tr><th>8</th><td>16</td><td>20</td></tr><tr><th>9</th><td>18</td><td>14</td></tr><tr><th>10</th><td>20</td><td>5</td></tr></table>"
      ],
      "text/plain": [
       "10×2 DataFrames.DataFrame\n",
       "│ Row │ height │ weight │\n",
       "├─────┼────────┼────────┤\n",
       "│ 1   │ 2      │ 10     │\n",
       "│ 2   │ 4      │ 20     │\n",
       "│ 3   │ 6      │ 14     │\n",
       "│ 4   │ 8      │ 15     │\n",
       "│ 5   │ 10     │ 25     │\n",
       "│ 6   │ 12     │ 5      │\n",
       "│ 7   │ 14     │ 10     │\n",
       "│ 8   │ 16     │ 20     │\n",
       "│ 9   │ 18     │ 14     │\n",
       "│ 10  │ 20     │ 5      │"
      ]
     },
     "execution_count": 27,
     "metadata": {},
     "output_type": "execute_result"
    }
   ],
   "source": [
    "delete!(df, :length)"
   ]
  },
  {
   "cell_type": "code",
   "execution_count": 28,
   "metadata": {
    "collapsed": true
   },
   "outputs": [],
   "source": [
    "push!(df, @data([6, 15]))"
   ]
  },
  {
   "cell_type": "code",
   "execution_count": 29,
   "metadata": {
    "collapsed": false
   },
   "outputs": [
    {
     "data": {
      "text/html": [
       "<table class=\"data-frame\"><tr><th></th><th>height</th><th>weight</th></tr><tr><th>1</th><td>2</td><td>10</td></tr><tr><th>2</th><td>4</td><td>20</td></tr><tr><th>3</th><td>6</td><td>14</td></tr><tr><th>4</th><td>8</td><td>15</td></tr><tr><th>5</th><td>10</td><td>25</td></tr><tr><th>6</th><td>12</td><td>5</td></tr><tr><th>7</th><td>14</td><td>10</td></tr><tr><th>8</th><td>16</td><td>20</td></tr></table>"
      ],
      "text/plain": [
       "8×2 DataFrames.DataFrame\n",
       "│ Row │ height │ weight │\n",
       "├─────┼────────┼────────┤\n",
       "│ 1   │ 2      │ 10     │\n",
       "│ 2   │ 4      │ 20     │\n",
       "│ 3   │ 6      │ 14     │\n",
       "│ 4   │ 8      │ 15     │\n",
       "│ 5   │ 10     │ 25     │\n",
       "│ 6   │ 12     │ 5      │\n",
       "│ 7   │ 14     │ 10     │\n",
       "│ 8   │ 16     │ 20     │"
      ]
     },
     "execution_count": 29,
     "metadata": {},
     "output_type": "execute_result"
    }
   ],
   "source": [
    "deleterows!(df, 9:11)"
   ]
  },
  {
   "cell_type": "code",
   "execution_count": 30,
   "metadata": {
    "collapsed": false
   },
   "outputs": [
    {
     "data": {
      "text/html": [
       "<table class=\"data-frame\"><tr><th></th><th>height</th><th>weight</th></tr><tr><th>1</th><td>6</td><td>14</td></tr><tr><th>2</th><td>10</td><td>25</td></tr><tr><th>3</th><td>12</td><td>5</td></tr><tr><th>4</th><td>14</td><td>10</td></tr><tr><th>5</th><td>16</td><td>20</td></tr></table>"
      ],
      "text/plain": [
       "5×2 DataFrames.DataFrame\n",
       "│ Row │ height │ weight │\n",
       "├─────┼────────┼────────┤\n",
       "│ 1   │ 6      │ 14     │\n",
       "│ 2   │ 10     │ 25     │\n",
       "│ 3   │ 12     │ 5      │\n",
       "│ 4   │ 14     │ 10     │\n",
       "│ 5   │ 16     │ 20     │"
      ]
     },
     "execution_count": 30,
     "metadata": {},
     "output_type": "execute_result"
    }
   ],
   "source": [
    "deleterows!(df, [1, 2, 4])"
   ]
  },
  {
   "cell_type": "code",
   "execution_count": 31,
   "metadata": {
    "collapsed": false
   },
   "outputs": [
    {
     "data": {
      "text/html": [
       "<table class=\"data-frame\"><tr><th></th><th>weight</th><th>x1</th></tr><tr><th>1</th><td>5</td><td>1</td></tr><tr><th>2</th><td>10</td><td>1</td></tr><tr><th>3</th><td>14</td><td>1</td></tr><tr><th>4</th><td>20</td><td>1</td></tr><tr><th>5</th><td>25</td><td>1</td></tr></table>"
      ],
      "text/plain": [
       "5×2 DataFrames.DataFrame\n",
       "│ Row │ weight │ x1 │\n",
       "├─────┼────────┼────┤\n",
       "│ 1   │ 5      │ 1  │\n",
       "│ 2   │ 10     │ 1  │\n",
       "│ 3   │ 14     │ 1  │\n",
       "│ 4   │ 20     │ 1  │\n",
       "│ 5   │ 25     │ 1  │"
      ]
     },
     "execution_count": 31,
     "metadata": {},
     "output_type": "execute_result"
    }
   ],
   "source": [
    "by(df, :weight, nrow)"
   ]
  },
  {
   "cell_type": "code",
   "execution_count": 32,
   "metadata": {
    "collapsed": false
   },
   "outputs": [
    {
     "data": {
      "text/html": [
       "<table class=\"data-frame\"><tr><th></th><th>height</th><th>weight</th></tr><tr><th>1</th><td>6</td><td>14</td></tr><tr><th>2</th><td>10</td><td>25</td></tr><tr><th>3</th><td>12</td><td>5</td></tr><tr><th>4</th><td>14</td><td>10</td></tr><tr><th>5</th><td>16</td><td>20</td></tr></table>"
      ],
      "text/plain": [
       "5×2 DataFrames.DataFrame\n",
       "│ Row │ height │ weight │\n",
       "├─────┼────────┼────────┤\n",
       "│ 1   │ 6      │ 14     │\n",
       "│ 2   │ 10     │ 25     │\n",
       "│ 3   │ 12     │ 5      │\n",
       "│ 4   │ 14     │ 10     │\n",
       "│ 5   │ 16     │ 20     │"
      ]
     },
     "execution_count": 32,
     "metadata": {},
     "output_type": "execute_result"
    }
   ],
   "source": [
    "sort!(df, cols = [order(:height), order(:weight)])"
   ]
  },
  {
   "cell_type": "code",
   "execution_count": 37,
   "metadata": {
    "collapsed": false
   },
   "outputs": [
    {
     "name": "stderr",
     "output_type": "stream",
     "text": [
      "INFO: Cloning cache of MNIST from git://github.com/johnmyleswhite/MNIST.jl.git\n",
      "INFO: Installing MNIST v0.0.2\n",
      "INFO: Package database updated\n"
     ]
    }
   ],
   "source": [
    "Pkg.add(\"JSON\")"
   ]
  },
  {
   "cell_type": "code",
   "execution_count": 38,
   "metadata": {
    "collapsed": true
   },
   "outputs": [],
   "source": [
    "import JSON # \"using JSON\" would also work, but it's best to avoid that option"
   ]
  },
  {
   "cell_type": "code",
   "execution_count": 39,
   "metadata": {
    "collapsed": true
   },
   "outputs": [],
   "source": [
    "f = open(\"file.json\")\n",
    "X = JSON.parse(f)\n",
    "close(f)"
   ]
  },
  {
   "cell_type": "code",
   "execution_count": 40,
   "metadata": {
    "collapsed": false
   },
   "outputs": [],
   "source": [
    "f = open(\"test.json\", \"w\")\n",
    "JSON.print(f, X)\n",
    "close(f)"
   ]
  },
  {
   "cell_type": "code",
   "execution_count": 42,
   "metadata": {
    "collapsed": false
   },
   "outputs": [
    {
     "data": {
      "text/html": [
       "<table class=\"data-frame\"><tr><th></th><th>ID</th><th>MoviesWatched</th><th>FavoriteEpisode</th><th>Age</th><th>Gender</th><th>BlogRole</th><th>MoneySpent</th><th>FavoriteProduct</th></tr><tr><th>1</th><td>1</td><td>-</td><td>VI</td><td>-</td><td>M</td><td>ActiveUser</td><td>1050</td><td>VideoGame</td></tr><tr><th>2</th><td>2</td><td>3</td><td>VI</td><td>45</td><td>-</td><td>NormalUser</td><td>1000</td><td>Book</td></tr><tr><th>3</th><td>3</td><td>44</td><td>IV</td><td>33</td><td>F</td><td>-</td><td>650</td><td>Book</td></tr><tr><th>4</th><td>4</td><td>3</td><td>-</td><td>40</td><td>M</td><td>Moderator</td><td>11000</td><td>Book</td></tr><tr><th>5</th><td>5</td><td>7</td><td>VI</td><td>25</td><td>F</td><td>NormalUser</td><td>100</td><td>App</td></tr><tr><th>6</th><td>6</td><td>7</td><td>IV</td><td>29</td><td>M</td><td>ActiveUser</td><td>250</td><td>VideoGame</td></tr><tr><th>7</th><td>7</td><td>4</td><td>VI</td><td>37</td><td>M</td><td>Moderator</td><td>700</td><td>Book</td></tr><tr><th>8</th><td>8</td><td>6</td><td>III</td><td>20</td><td>M</td><td>ActiveUser</td><td>350</td><td>VideoGame</td></tr><tr><th>9</th><td>9</td><td>7</td><td>IV</td><td>27</td><td>M</td><td>ActiveUser</td><td>450</td><td>App</td></tr><tr><th>10</th><td>10</td><td>7</td><td>IV</td><td>30</td><td>F</td><td>NormalUser</td><td>350</td><td>Book</td></tr><tr><th>11</th><td>11</td><td>5</td><td>-</td><td>33</td><td>M</td><td>NormalUser</td><td>50</td><td>None</td></tr><tr><th>12</th><td>12</td><td>7</td><td>VII</td><td>-</td><td>-</td><td>ActiveUser</td><td>300</td><td>App</td></tr><tr><th>13</th><td>13</td><td>3</td><td>IV</td><td>39</td><td>F</td><td>NormalUser</td><td>300</td><td>App</td></tr><tr><th>14</th><td>14</td><td>-</td><td>VII</td><td>42</td><td>M</td><td>-</td><td>400</td><td>App</td></tr><tr><th>15</th><td>15</td><td>4</td><td>V</td><td>45</td><td>M</td><td>ActiveUser</td><td>100</td><td>None</td></tr><tr><th>16</th><td>16</td><td>7</td><td>VI</td><td>48</td><td>F</td><td>NormalUser</td><td>250</td><td>Book</td></tr><tr><th>17</th><td>17</td><td>77</td><td>IV</td><td>51</td><td>M</td><td>NormalUser</td><td>400</td><td>App</td></tr><tr><th>18</th><td>18</td><td>7</td><td>VI</td><td>54</td><td>M</td><td>NormalUser</td><td>550</td><td>Book</td></tr><tr><th>19</th><td>19</td><td>6</td><td>V</td><td>57</td><td>M</td><td>NormalUser</td><td>450</td><td>Book</td></tr><tr><th>20</th><td>20</td><td>4</td><td>VI</td><td>60</td><td>M</td><td>-</td><td>100</td><td>None</td></tr><tr><th>21</th><td>21</td><td>5</td><td>IV</td><td>-</td><td>M</td><td>NormalUser</td><td>150</td><td>Book</td></tr><tr><th>22</th><td>22</td><td>3</td><td>V</td><td>66</td><td>M</td><td>NormalUser</td><td>50</td><td>None</td></tr><tr><th>23</th><td>23</td><td>4</td><td>IV</td><td>34</td><td>M</td><td>ActiveUser</td><td>250</td><td>VideoGame</td></tr><tr><th>24</th><td>24</td><td>-</td><td>-</td><td>45</td><td>-</td><td>NormalUser</td><td>300</td><td>Book</td></tr><tr><th>25</th><td>25</td><td>4</td><td>V</td><td>33</td><td>M</td><td>ActiveUser</td><td>350</td><td>App</td></tr><tr><th>26</th><td>26</td><td>7</td><td>VI</td><td>40</td><td>F</td><td>ActiveUser</td><td>50</td><td>None</td></tr><tr><th>27</th><td>27</td><td>7</td><td>IV</td><td>26</td><td>M</td><td>ActiveUser</td><td>200</td><td>VideoGame</td></tr><tr><th>28</th><td>28</td><td>7</td><td>VII</td><td>29</td><td>M</td><td>ActiveUser</td><td>250</td><td>App</td></tr><tr><th>29</th><td>29</td><td>5</td><td>IV</td><td>37</td><td>M</td><td>ActiveUser</td><td>500</td><td>VideoGame</td></tr><tr><th>30</th><td>30</td><td>6</td><td>IV</td><td>21</td><td>M</td><td>ActiveUser</td><td>250</td><td>App</td></tr><tr><th>&vellip;</th><td>&vellip;</td><td>&vellip;</td><td>&vellip;</td><td>&vellip;</td><td>&vellip;</td><td>&vellip;</td><td>&vellip;</td><td>&vellip;</td></tr></table>"
      ],
      "text/plain": [
       "100×8 DataFrames.DataFrame\n",
       "│ Row │ ID  │ MoviesWatched │ FavoriteEpisode │ Age   │ Gender │ BlogRole     │\n",
       "├─────┼─────┼───────────────┼─────────────────┼───────┼────────┼──────────────┤\n",
       "│ 1   │ 1   │ \"-\"           │ \"VI\"            │ \"-\"   │ \"M\"    │ \"ActiveUser\" │\n",
       "│ 2   │ 2   │ \"3\"           │ \"VI\"            │ \"45\"  │ \"-\"    │ \"NormalUser\" │\n",
       "│ 3   │ 3   │ \"44\"          │ \"IV\"            │ \"33\"  │ \"F\"    │ \"-\"          │\n",
       "│ 4   │ 4   │ \"3\"           │ \"-\"             │ \"40\"  │ \"M\"    │ \"Moderator\"  │\n",
       "│ 5   │ 5   │ \"7\"           │ \"VI\"            │ \"25\"  │ \"F\"    │ \"NormalUser\" │\n",
       "│ 6   │ 6   │ \"7\"           │ \"IV\"            │ \"29\"  │ \"M\"    │ \"ActiveUser\" │\n",
       "│ 7   │ 7   │ \"4\"           │ \"VI\"            │ \"37\"  │ \"M\"    │ \"Moderator\"  │\n",
       "│ 8   │ 8   │ \"6\"           │ \"III\"           │ \"20\"  │ \"M\"    │ \"ActiveUser\" │\n",
       "│ 9   │ 9   │ \"7\"           │ \"IV\"            │ \"27\"  │ \"M\"    │ \"ActiveUser\" │\n",
       "│ 10  │ 10  │ \"7\"           │ \"IV\"            │ \"30\"  │ \"F\"    │ \"NormalUser\" │\n",
       "│ 11  │ 11  │ \"5\"           │ \"-\"             │ \"33\"  │ \"M\"    │ \"NormalUser\" │\n",
       "⋮\n",
       "│ 89  │ 89  │ \"7\"           │ \"VII\"           │ \"40\"  │ \"M\"    │ \"ActiveUser\" │\n",
       "│ 90  │ 90  │ \"4\"           │ \"VI\"            │ \"145\" │ \"M\"    │ \"ActiveUser\" │\n",
       "│ 91  │ 91  │ \"6\"           │ \"IV\"            │ \"19\"  │ \"F\"    │ \"NormalUser\" │\n",
       "│ 92  │ 92  │ \"4\"           │ \"VI\"            │ \"29\"  │ \"M\"    │ \"NormalUser\" │\n",
       "│ 93  │ 93  │ \"7\"           │ \"VI\"            │ \"30\"  │ \"M\"    │ \"NormalUser\" │\n",
       "│ 94  │ 94  │ \"7\"           │ \"-\"             │ \"46\"  │ \"-\"    │ \"NormalUser\" │\n",
       "│ 95  │ 95  │ \"5\"           │ \"V\"             │ \"50\"  │ \"M\"    │ \"NormalUser\" │\n",
       "│ 96  │ 96  │ \"3\"           │ \"V\"             │ \"-\"   │ \"M\"    │ \"NormalUser\" │\n",
       "│ 97  │ 97  │ \"4\"           │ \"IV\"            │ \"52\"  │ \"M\"    │ \"-\"          │\n",
       "│ 98  │ 98  │ \"3\"           │ \"VI\"            │ \"49\"  │ \"M\"    │ \"ActiveUser\" │\n",
       "│ 99  │ 99  │ \"6\"           │ \"III\"           │ \"12\"  │ \"M\"    │ \"ActiveUser\" │\n",
       "│ 100 │ 100 │ \"-\"           │ \"IV\"            │ \"39\"  │ \"M\"    │ \"ActiveUser\" │\n",
       "\n",
       "│ Row │ MoneySpent │ FavoriteProduct │\n",
       "├─────┼────────────┼─────────────────┤\n",
       "│ 1   │ 1050       │ \"VideoGame\"     │\n",
       "│ 2   │ 1000       │ \"Book\"          │\n",
       "│ 3   │ 650        │ \"Book\"          │\n",
       "│ 4   │ 11000      │ \"Book\"          │\n",
       "│ 5   │ 100        │ \"App\"           │\n",
       "│ 6   │ 250        │ \"VideoGame\"     │\n",
       "│ 7   │ 700        │ \"Book\"          │\n",
       "│ 8   │ 350        │ \"VideoGame\"     │\n",
       "│ 9   │ 450        │ \"App\"           │\n",
       "│ 10  │ 350        │ \"Book\"          │\n",
       "│ 11  │ 50         │ \"None\"          │\n",
       "⋮\n",
       "│ 89  │ 350        │ \"None\"          │\n",
       "│ 90  │ 250        │ \"Book\"          │\n",
       "│ 91  │ 250        │ \"App\"           │\n",
       "│ 92  │ 250        │ \"VideoGame\"     │\n",
       "│ 93  │ 200        │ \"App\"           │\n",
       "│ 94  │ 100        │ \"Book\"          │\n",
       "│ 95  │ 50         │ \"Book\"          │\n",
       "│ 96  │ 150        │ \"None\"          │\n",
       "│ 97  │ 100        │ \"Book\"          │\n",
       "│ 98  │ 750        │ \"Book\"          │\n",
       "│ 99  │ 150        │ \"VideoGame\"     │\n",
       "│ 100 │ 400        │ \"Book\"          │"
      ]
     },
     "execution_count": 42,
     "metadata": {},
     "output_type": "execute_result"
    }
   ],
   "source": [
    "df = readtable(\"d:\\\\data\\\\CaffeineForTheForce.csv\")"
   ]
  },
  {
   "cell_type": "code",
   "execution_count": 43,
   "metadata": {
    "collapsed": false
   },
   "outputs": [
    {
     "data": {
      "text/html": [
       "<table class=\"data-frame\"><tr><th></th><th>ID</th><th>MoviesWatched</th><th>FavoriteEpisode</th><th>Age</th><th>Gender</th><th>BlogRole</th><th>MoneySpent</th><th>FavoriteProduct</th></tr><tr><th>1</th><td>1</td><td>NA</td><td>VI</td><td>NA</td><td>M</td><td>ActiveUser</td><td>1050</td><td>VideoGame</td></tr><tr><th>2</th><td>2</td><td>3</td><td>VI</td><td>45</td><td>NA</td><td>NormalUser</td><td>1000</td><td>Book</td></tr><tr><th>3</th><td>3</td><td>44</td><td>IV</td><td>33</td><td>F</td><td>NA</td><td>650</td><td>Book</td></tr><tr><th>4</th><td>4</td><td>3</td><td>NA</td><td>40</td><td>M</td><td>Moderator</td><td>11000</td><td>Book</td></tr><tr><th>5</th><td>5</td><td>7</td><td>VI</td><td>25</td><td>F</td><td>NormalUser</td><td>100</td><td>App</td></tr><tr><th>6</th><td>6</td><td>7</td><td>IV</td><td>29</td><td>M</td><td>ActiveUser</td><td>250</td><td>VideoGame</td></tr><tr><th>7</th><td>7</td><td>4</td><td>VI</td><td>37</td><td>M</td><td>Moderator</td><td>700</td><td>Book</td></tr><tr><th>8</th><td>8</td><td>6</td><td>III</td><td>20</td><td>M</td><td>ActiveUser</td><td>350</td><td>VideoGame</td></tr><tr><th>9</th><td>9</td><td>7</td><td>IV</td><td>27</td><td>M</td><td>ActiveUser</td><td>450</td><td>App</td></tr><tr><th>10</th><td>10</td><td>7</td><td>IV</td><td>30</td><td>F</td><td>NormalUser</td><td>350</td><td>Book</td></tr><tr><th>11</th><td>11</td><td>5</td><td>NA</td><td>33</td><td>M</td><td>NormalUser</td><td>50</td><td>None</td></tr><tr><th>12</th><td>12</td><td>7</td><td>VII</td><td>NA</td><td>NA</td><td>ActiveUser</td><td>300</td><td>App</td></tr><tr><th>13</th><td>13</td><td>3</td><td>IV</td><td>39</td><td>F</td><td>NormalUser</td><td>300</td><td>App</td></tr><tr><th>14</th><td>14</td><td>NA</td><td>VII</td><td>42</td><td>M</td><td>NA</td><td>400</td><td>App</td></tr><tr><th>15</th><td>15</td><td>4</td><td>V</td><td>45</td><td>M</td><td>ActiveUser</td><td>100</td><td>None</td></tr><tr><th>16</th><td>16</td><td>7</td><td>VI</td><td>48</td><td>F</td><td>NormalUser</td><td>250</td><td>Book</td></tr><tr><th>17</th><td>17</td><td>77</td><td>IV</td><td>51</td><td>M</td><td>NormalUser</td><td>400</td><td>App</td></tr><tr><th>18</th><td>18</td><td>7</td><td>VI</td><td>54</td><td>M</td><td>NormalUser</td><td>550</td><td>Book</td></tr><tr><th>19</th><td>19</td><td>6</td><td>V</td><td>57</td><td>M</td><td>NormalUser</td><td>450</td><td>Book</td></tr><tr><th>20</th><td>20</td><td>4</td><td>VI</td><td>60</td><td>M</td><td>NA</td><td>100</td><td>None</td></tr><tr><th>21</th><td>21</td><td>5</td><td>IV</td><td>NA</td><td>M</td><td>NormalUser</td><td>150</td><td>Book</td></tr><tr><th>22</th><td>22</td><td>3</td><td>V</td><td>66</td><td>M</td><td>NormalUser</td><td>50</td><td>None</td></tr><tr><th>23</th><td>23</td><td>4</td><td>IV</td><td>34</td><td>M</td><td>ActiveUser</td><td>250</td><td>VideoGame</td></tr><tr><th>24</th><td>24</td><td>NA</td><td>NA</td><td>45</td><td>NA</td><td>NormalUser</td><td>300</td><td>Book</td></tr><tr><th>25</th><td>25</td><td>4</td><td>V</td><td>33</td><td>M</td><td>ActiveUser</td><td>350</td><td>App</td></tr><tr><th>26</th><td>26</td><td>7</td><td>VI</td><td>40</td><td>F</td><td>ActiveUser</td><td>50</td><td>None</td></tr><tr><th>27</th><td>27</td><td>7</td><td>IV</td><td>26</td><td>M</td><td>ActiveUser</td><td>200</td><td>VideoGame</td></tr><tr><th>28</th><td>28</td><td>7</td><td>VII</td><td>29</td><td>M</td><td>ActiveUser</td><td>250</td><td>App</td></tr><tr><th>29</th><td>29</td><td>5</td><td>IV</td><td>37</td><td>M</td><td>ActiveUser</td><td>500</td><td>VideoGame</td></tr><tr><th>30</th><td>30</td><td>6</td><td>IV</td><td>21</td><td>M</td><td>ActiveUser</td><td>250</td><td>App</td></tr><tr><th>&vellip;</th><td>&vellip;</td><td>&vellip;</td><td>&vellip;</td><td>&vellip;</td><td>&vellip;</td><td>&vellip;</td><td>&vellip;</td><td>&vellip;</td></tr></table>"
      ],
      "text/plain": [
       "100×8 DataFrames.DataFrame\n",
       "│ Row │ ID  │ MoviesWatched │ FavoriteEpisode │ Age │ Gender │ BlogRole     │\n",
       "├─────┼─────┼───────────────┼─────────────────┼─────┼────────┼──────────────┤\n",
       "│ 1   │ 1   │ NA            │ \"VI\"            │ NA  │ \"M\"    │ \"ActiveUser\" │\n",
       "│ 2   │ 2   │ 3             │ \"VI\"            │ 45  │ NA     │ \"NormalUser\" │\n",
       "│ 3   │ 3   │ 44            │ \"IV\"            │ 33  │ \"F\"    │ NA           │\n",
       "│ 4   │ 4   │ 3             │ NA              │ 40  │ \"M\"    │ \"Moderator\"  │\n",
       "│ 5   │ 5   │ 7             │ \"VI\"            │ 25  │ \"F\"    │ \"NormalUser\" │\n",
       "│ 6   │ 6   │ 7             │ \"IV\"            │ 29  │ \"M\"    │ \"ActiveUser\" │\n",
       "│ 7   │ 7   │ 4             │ \"VI\"            │ 37  │ \"M\"    │ \"Moderator\"  │\n",
       "│ 8   │ 8   │ 6             │ \"III\"           │ 20  │ \"M\"    │ \"ActiveUser\" │\n",
       "│ 9   │ 9   │ 7             │ \"IV\"            │ 27  │ \"M\"    │ \"ActiveUser\" │\n",
       "│ 10  │ 10  │ 7             │ \"IV\"            │ 30  │ \"F\"    │ \"NormalUser\" │\n",
       "│ 11  │ 11  │ 5             │ NA              │ 33  │ \"M\"    │ \"NormalUser\" │\n",
       "⋮\n",
       "│ 89  │ 89  │ 7             │ \"VII\"           │ 40  │ \"M\"    │ \"ActiveUser\" │\n",
       "│ 90  │ 90  │ 4             │ \"VI\"            │ 145 │ \"M\"    │ \"ActiveUser\" │\n",
       "│ 91  │ 91  │ 6             │ \"IV\"            │ 19  │ \"F\"    │ \"NormalUser\" │\n",
       "│ 92  │ 92  │ 4             │ \"VI\"            │ 29  │ \"M\"    │ \"NormalUser\" │\n",
       "│ 93  │ 93  │ 7             │ \"VI\"            │ 30  │ \"M\"    │ \"NormalUser\" │\n",
       "│ 94  │ 94  │ 7             │ NA              │ 46  │ NA     │ \"NormalUser\" │\n",
       "│ 95  │ 95  │ 5             │ \"V\"             │ 50  │ \"M\"    │ \"NormalUser\" │\n",
       "│ 96  │ 96  │ 3             │ \"V\"             │ NA  │ \"M\"    │ \"NormalUser\" │\n",
       "│ 97  │ 97  │ 4             │ \"IV\"            │ 52  │ \"M\"    │ NA           │\n",
       "│ 98  │ 98  │ 3             │ \"VI\"            │ 49  │ \"M\"    │ \"ActiveUser\" │\n",
       "│ 99  │ 99  │ 6             │ \"III\"           │ 12  │ \"M\"    │ \"ActiveUser\" │\n",
       "│ 100 │ 100 │ NA            │ \"IV\"            │ 39  │ \"M\"    │ \"ActiveUser\" │\n",
       "\n",
       "│ Row │ MoneySpent │ FavoriteProduct │\n",
       "├─────┼────────────┼─────────────────┤\n",
       "│ 1   │ 1050       │ \"VideoGame\"     │\n",
       "│ 2   │ 1000       │ \"Book\"          │\n",
       "│ 3   │ 650        │ \"Book\"          │\n",
       "│ 4   │ 11000      │ \"Book\"          │\n",
       "│ 5   │ 100        │ \"App\"           │\n",
       "│ 6   │ 250        │ \"VideoGame\"     │\n",
       "│ 7   │ 700        │ \"Book\"          │\n",
       "│ 8   │ 350        │ \"VideoGame\"     │\n",
       "│ 9   │ 450        │ \"App\"           │\n",
       "│ 10  │ 350        │ \"Book\"          │\n",
       "│ 11  │ 50         │ \"None\"          │\n",
       "⋮\n",
       "│ 89  │ 350        │ \"None\"          │\n",
       "│ 90  │ 250        │ \"Book\"          │\n",
       "│ 91  │ 250        │ \"App\"           │\n",
       "│ 92  │ 250        │ \"VideoGame\"     │\n",
       "│ 93  │ 200        │ \"App\"           │\n",
       "│ 94  │ 100        │ \"Book\"          │\n",
       "│ 95  │ 50         │ \"Book\"          │\n",
       "│ 96  │ 150        │ \"None\"          │\n",
       "│ 97  │ 100        │ \"Book\"          │\n",
       "│ 98  │ 750        │ \"Book\"          │\n",
       "│ 99  │ 150        │ \"VideoGame\"     │\n",
       "│ 100 │ 400        │ \"Book\"          │"
      ]
     },
     "execution_count": 43,
     "metadata": {},
     "output_type": "execute_result"
    }
   ],
   "source": [
    "df = readtable(\"d:\\\\data\\\\CaffeineForTheForce.csv\", nastrings = [\"N/A\", \"-\", \"\"])"
   ]
  },
  {
   "cell_type": "code",
   "execution_count": 44,
   "metadata": {
    "collapsed": true
   },
   "outputs": [],
   "source": [
    "writetable(\"dataset.csv\", df)"
   ]
  },
  {
   "cell_type": "code",
   "execution_count": 45,
   "metadata": {
    "collapsed": true
   },
   "outputs": [],
   "source": [
    "writetable(\"dataset.tsv\", df)"
   ]
  },
  {
   "cell_type": "code",
   "execution_count": 46,
   "metadata": {
    "collapsed": false
   },
   "outputs": [
    {
     "data": {
      "text/plain": [
       "\"Mr. Smith is particularly fond of product #2235; what a surprise!\""
      ]
     },
     "execution_count": 46,
     "metadata": {},
     "output_type": "execute_result"
    }
   ],
   "source": [
    "S = \"Mr. Smith is particularly fond of product #2235; what a surprise!\""
   ]
  },
  {
   "cell_type": "code",
   "execution_count": 47,
   "metadata": {
    "collapsed": false
   },
   "outputs": [],
   "source": [
    "Z = \"\"\n",
    "\n",
    "for c in S\n",
    "    if lowercase(c) in \"qwertyuiopasdfghjklzxcvbnm \"; Z = string(Z,c); end\n",
    "end"
   ]
  },
  {
   "cell_type": "code",
   "execution_count": 48,
   "metadata": {
    "collapsed": false
   },
   "outputs": [
    {
     "name": "stdout",
     "output_type": "stream",
     "text": [
      "Mr Smith is particularly fond of product  what a surprise\n"
     ]
    }
   ],
   "source": [
    "println(Z)"
   ]
  },
  {
   "cell_type": "code",
   "execution_count": 49,
   "metadata": {
    "collapsed": false
   },
   "outputs": [
    {
     "data": {
      "text/plain": [
       "6-element Array{Float64,1}:\n",
       "   1.0\n",
       "   5.0\n",
       "   3.0\n",
       "  78.0\n",
       "  -2.0\n",
       " -54.0"
      ]
     },
     "execution_count": 49,
     "metadata": {},
     "output_type": "execute_result"
    }
   ],
   "source": [
    "x = [1.0, 5.0, 3.0, 78.0, -2.0, -54.0]"
   ]
  },
  {
   "cell_type": "code",
   "execution_count": 50,
   "metadata": {
    "collapsed": false
   },
   "outputs": [
    {
     "name": "stdout",
     "output_type": "stream",
     "text": [
      "Int8[1,5,3,78,-2,-54]"
     ]
    }
   ],
   "source": [
    "x = convert(Array{Int8}, x)\n",
    "show(x)"
   ]
  },
  {
   "cell_type": "code",
   "execution_count": 51,
   "metadata": {
    "collapsed": false
   },
   "outputs": [
    {
     "data": {
      "text/plain": [
       "6-element Array{Float16,1}:\n",
       "   1.0\n",
       "   5.0\n",
       "   3.0\n",
       "  78.0\n",
       "  -2.0\n",
       " -54.0"
      ]
     },
     "execution_count": 51,
     "metadata": {},
     "output_type": "execute_result"
    }
   ],
   "source": [
    "x = convert(Array{Float16}, x)"
   ]
  },
  {
   "cell_type": "code",
   "execution_count": 52,
   "metadata": {
    "collapsed": false
   },
   "outputs": [
    {
     "data": {
      "text/plain": [
       "false"
      ]
     },
     "execution_count": 52,
     "metadata": {},
     "output_type": "execute_result"
    }
   ],
   "source": [
    "'c' == \"c\""
   ]
  },
  {
   "cell_type": "code",
   "execution_count": 53,
   "metadata": {
    "collapsed": false
   },
   "outputs": [
    {
     "name": "stdout",
     "output_type": "stream",
     "text": [
      "Bool[true,true,false,false,false]"
     ]
    }
   ],
   "source": [
    "age_new = [\"young\", \"young\", \"mature\", \"middle-aged\", \"mature\"]\n",
    "is_young = (age_new .== \"young\")\n",
    "is_middle_aged = (age_new .== \"middle-aged\")\n",
    "is_mature = (age_new .== \"mature\")\n",
    "show(is_young)"
   ]
  },
  {
   "cell_type": "code",
   "execution_count": 54,
   "metadata": {
    "collapsed": false
   },
   "outputs": [
    {
     "name": "stdout",
     "output_type": "stream",
     "text": [
      "Bool[false,false,true,false,false,true,true,false,true]"
     ]
    }
   ],
   "source": [
    "age_new = [\"young\", \"young\", \"\", \"mature\", \"middle-aged\", \"\", \"NA\", \"mature\", \"\"]\n",
    "is_missing = (age_new .== \"\") | (age_new .== \"NA\")\n",
    "show(is_missing)"
   ]
  },
  {
   "cell_type": "code",
   "execution_count": 55,
   "metadata": {
    "collapsed": false
   },
   "outputs": [
    {
     "data": {
      "text/plain": [
       "5-element Array{ASCIIString,1}:\n",
       " \"\"   \n",
       " \"NA\" \n",
       " \"na\" \n",
       " \"N/A\"\n",
       " \"-\"  "
      ]
     },
     "execution_count": 55,
     "metadata": {},
     "output_type": "execute_result"
    }
   ],
   "source": [
    "NA_denotations = [\"\", \"NA\", \"na\", \"N/A\", \"-\"]"
   ]
  },
  {
   "cell_type": "code",
   "execution_count": 56,
   "metadata": {
    "collapsed": false
   },
   "outputs": [
    {
     "data": {
      "text/plain": [
       "9-element Array{Any,1}:\n",
       " false\n",
       " false\n",
       "  true\n",
       " false\n",
       " false\n",
       "  true\n",
       "  true\n",
       " false\n",
       "  true"
      ]
     },
     "execution_count": 56,
     "metadata": {},
     "output_type": "execute_result"
    }
   ],
   "source": [
    "is_missing = [age_value in NA_denotations for age_value in age_new]"
   ]
  },
  {
   "cell_type": "code",
   "execution_count": 57,
   "metadata": {
    "collapsed": false
   },
   "outputs": [
    {
     "data": {
      "text/plain": [
       "\"mr. smith is particularly fond of product #2235; what a surprise!\""
      ]
     },
     "execution_count": 57,
     "metadata": {},
     "output_type": "execute_result"
    }
   ],
   "source": [
    "S_new = lowercase(S)"
   ]
  },
  {
   "cell_type": "code",
   "execution_count": 58,
   "metadata": {
    "collapsed": false
   },
   "outputs": [
    {
     "data": {
      "text/plain": [
       "4-element Array{ASCIIString,1}:\n",
       " \"Julia is a relatively new programming language\"   \n",
       " \"Julia can be used in data science\"                \n",
       " \"Data science is used to derive insights from data\"\n",
       " \"Data is often noisy\"                              "
      ]
     },
     "execution_count": 58,
     "metadata": {},
     "output_type": "execute_result"
    }
   ],
   "source": [
    "X = [\"Julia is a relatively new programming language\", \"Julia can be used in data science\", \"Data science is used to derive insights from data\", \"Data is often noisy\"]"
   ]
  },
  {
   "cell_type": "code",
   "execution_count": 59,
   "metadata": {
    "collapsed": false
   },
   "outputs": [
    {
     "name": "stdout",
     "output_type": "stream",
     "text": [
      "SubString{ASCIIString}[\"a\",\"be\",\"can\",\"data\",\"derive\",\"from\",\"in\",\"insights\",\"is\",\"julia\",\"language\",\"new\",\"noisy\",\"often\",\"programming\",\"relatively\",\"science\",\"to\",\"used\"]"
     ]
    }
   ],
   "source": [
    "temp = [split(lowercase(x), \" \") for x in X]\n",
    "vocabulary = unique(temp[1])\n",
    "for T in temp[2:end]\n",
    "    vocabulary = union(vocabulary, T)\n",
    "end\n",
    "vocabulary = sort(vocabulary)\n",
    "N = length(vocabulary)\n",
    "show(vocabulary)"
   ]
  },
  {
   "cell_type": "code",
   "execution_count": 60,
   "metadata": {
    "collapsed": false
   },
   "outputs": [
    {
     "name": "stdout",
     "output_type": "stream",
     "text": [
      "Int8[1 0 0 0 0 0 0 0 1 1 1 1 0 0 1 1 0 0 0\n",
      "     0 1 1 1 0 0 1 0 0 1 0 0 0 0 0 0 1 0 1\n",
      "     0 0 0 1 1 1 0 1 1 0 0 0 0 0 0 0 1 1 1\n",
      "     0 0 0 1 0 0 0 0 1 0 0 0 1 1 0 0 0 0 0]\n"
     ]
    }
   ],
   "source": [
    "n = length(X)\n",
    "VX = zeros(Int8, n, N) # Vectorized X\n",
    "for i = 1:n\n",
    "    temp = split(lowercase(X[i]))\n",
    "    for T in temp\n",
    "        ind = find(T .== vocabulary)\n",
    "        VX[i,ind] = 1\n",
    "    end    \n",
    "end\n",
    "println(VX)"
   ]
  }
 ],
 "metadata": {
  "kernelspec": {
   "display_name": "Julia 0.4.5",
   "language": "julia",
   "name": "julia-0.4"
  },
  "language_info": {
   "file_extension": ".jl",
   "mimetype": "application/julia",
   "name": "julia",
   "version": "0.4.5"
  }
 },
 "nbformat": 4,
 "nbformat_minor": 0
}
