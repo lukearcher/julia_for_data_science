{
 "cells": [
  {
   "cell_type": "markdown",
   "metadata": {},
   "source": [
    "# Initialization"
   ]
  },
  {
   "cell_type": "markdown",
   "metadata": {},
   "source": [
    "### Load Original Datafiles"
   ]
  },
  {
   "cell_type": "code",
   "execution_count": 5,
   "metadata": {
    "collapsed": false
   },
   "outputs": [
    {
     "data": {
      "text/plain": [
       "3-element Array{ASCIIString,1}:\n",
       " \"spam\"    \n",
       " \"hard_ham\"\n",
       " \"easy_ham\""
      ]
     },
     "execution_count": 5,
     "metadata": {},
     "output_type": "execute_result"
    }
   ],
   "source": [
    "p = \"D:\\\\data\\\\Spam Assassin\\\\\"\n",
    "d = [\"spam\", \"hard_ham\", \"easy_ham\"]"
   ]
  },
  {
   "cell_type": "code",
   "execution_count": 2,
   "metadata": {
    "collapsed": false
   },
   "outputs": [],
   "source": [
    "N = 0\n",
    "files = Array(Array, 3)\n",
    "\n",
    "for i = 1:3\n",
    "    path = string(p, d[i], \"\\\\\")\n",
    "    files[i] = readdir(path)\n",
    "    c = length(files[i])\n",
    "    N += c\n",
    "end"
   ]
  },
  {
   "cell_type": "code",
   "execution_count": 3,
   "metadata": {
    "collapsed": true
   },
   "outputs": [],
   "source": [
    "data = Array(Any, N, 2)\n",
    "c = 0\n",
    "\n",
    "for i = 1:3\n",
    "    if i == 1\n",
    "        flag = 1\n",
    "    else\n",
    "        flag = 0\n",
    "    end\n",
    "    \n",
    "    for file in files[i]\n",
    "        f = open(string(p, d[i], \"\\\\\", file))\n",
    "        lines = readlines(f)\n",
    "        text = \"\"\n",
    "        \n",
    "        for line in lines\n",
    "            if startswith(line, \"Subject\")\n",
    "                text = line[10:(end-1)] # omit the \"Subject: \" part along with the last character (line break)\n",
    "                break # no need to examine the rest of the lines of the email\n",
    "            end\n",
    "        end\n",
    "        \n",
    "        close(f)\n",
    "        c += 1        \n",
    "        data[c,1] = text\n",
    "        data[c,2] = flag\n",
    "    end\n",
    "end"
   ]
  },
  {
   "cell_type": "code",
   "execution_count": 4,
   "metadata": {
    "collapsed": false
   },
   "outputs": [
    {
     "data": {
      "text/plain": [
       "(3301,2)"
      ]
     },
     "execution_count": 4,
     "metadata": {},
     "output_type": "execute_result"
    }
   ],
   "source": [
    "size(data)"
   ]
  },
  {
   "cell_type": "markdown",
   "metadata": {},
   "source": [
    "### Parity Check"
   ]
  },
  {
   "cell_type": "code",
   "execution_count": 5,
   "metadata": {
    "collapsed": false
   },
   "outputs": [],
   "source": [
    "bad_records = []\n",
    "\n",
    "for i = 1:N\n",
    "    if typeof(data[i,1]) != ASCIIString # text contains some strange characters (probably in a different language)\n",
    "        push!(bad_records, i)\n",
    "    end\n",
    "end"
   ]
  },
  {
   "cell_type": "code",
   "execution_count": 6,
   "metadata": {
    "collapsed": false
   },
   "outputs": [
    {
     "data": {
      "text/plain": [
       "17-element Array{Any,1}:\n",
       "   37\n",
       "   38\n",
       "   79\n",
       "  253\n",
       "  254\n",
       "  298\n",
       "  323\n",
       "  341\n",
       "  347\n",
       "  418\n",
       "  448\n",
       " 2882\n",
       " 2996\n",
       " 3074\n",
       " 3130\n",
       " 3134\n",
       " 3201"
      ]
     },
     "execution_count": 6,
     "metadata": {},
     "output_type": "execute_result"
    }
   ],
   "source": [
    "bad_records"
   ]
  },
  {
   "cell_type": "code",
   "execution_count": 7,
   "metadata": {
    "collapsed": false
   },
   "outputs": [
    {
     "data": {
      "text/plain": [
       "3284-element Array{Any,1}:\n",
       "    1\n",
       "    2\n",
       "    3\n",
       "    4\n",
       "    5\n",
       "    6\n",
       "    7\n",
       "    8\n",
       "    9\n",
       "   10\n",
       "   11\n",
       "   12\n",
       "   13\n",
       "    ⋮\n",
       " 3290\n",
       " 3291\n",
       " 3292\n",
       " 3293\n",
       " 3294\n",
       " 3295\n",
       " 3296\n",
       " 3297\n",
       " 3298\n",
       " 3299\n",
       " 3300\n",
       " 3301"
      ]
     },
     "execution_count": 7,
     "metadata": {},
     "output_type": "execute_result"
    }
   ],
   "source": [
    "good_records = setdiff(1:N, bad_records)"
   ]
  },
  {
   "cell_type": "code",
   "execution_count": 8,
   "metadata": {
    "collapsed": true
   },
   "outputs": [],
   "source": [
    "data = data[good_records,:];"
   ]
  },
  {
   "cell_type": "code",
   "execution_count": 9,
   "metadata": {
    "collapsed": false
   },
   "outputs": [
    {
     "data": {
      "text/plain": [
       "3284"
      ]
     },
     "execution_count": 9,
     "metadata": {},
     "output_type": "execute_result"
    }
   ],
   "source": [
    "N = size(data,1)"
   ]
  },
  {
   "cell_type": "markdown",
   "metadata": {},
   "source": [
    "### Save New Datafile (Summary)"
   ]
  },
  {
   "cell_type": "code",
   "execution_count": 10,
   "metadata": {
    "collapsed": false
   },
   "outputs": [
    {
     "data": {
      "text/plain": [
       "\"D:\\\\data\\\\Spam Assassin\\\\titles_only.csv\""
      ]
     },
     "execution_count": 10,
     "metadata": {},
     "output_type": "execute_result"
    }
   ],
   "source": [
    "fn = string(p, \"titles_only.csv\")"
   ]
  },
  {
   "cell_type": "code",
   "execution_count": 11,
   "metadata": {
    "collapsed": true
   },
   "outputs": [],
   "source": [
    "writedlm(fn, data, \",\")"
   ]
  },
  {
   "cell_type": "markdown",
   "metadata": {},
   "source": [
    "### Load Datafile (in case you don't want to go through the first steps)"
   ]
  },
  {
   "cell_type": "code",
   "execution_count": 6,
   "metadata": {
    "collapsed": false
   },
   "outputs": [],
   "source": [
    "# although readdlm() and readcsv() should also work, since this dataset mixes different types of elements, it is much safer to load everything manually\n",
    "\n",
    "fn = string(p, \"titles_only.csv\")\n",
    "f = open(fn, \"r\")\n",
    "lines = readlines(f)\n",
    "N = length(lines)\n",
    "data = Array(Any, N, 2)\n",
    "\n",
    "for i = 1:N\n",
    "    data[i,1] = lines[i][1:(end-2)]\n",
    "    data[i,2] = string(lines[i][end-1])\n",
    "end\n",
    "\n",
    "close(f)"
   ]
  },
  {
   "cell_type": "markdown",
   "metadata": {},
   "source": [
    "### Auxiliary Functions"
   ]
  },
  {
   "cell_type": "code",
   "execution_count": 7,
   "metadata": {
    "collapsed": false
   },
   "outputs": [
    {
     "data": {
      "text/plain": [
       "apply_kNN (generic function with 1 method)"
      ]
     },
     "execution_count": 7,
     "metadata": {},
     "output_type": "execute_result"
    }
   ],
   "source": [
    "include(\"KFCV.jl\")\n",
    "include(\"kNN.jl\")"
   ]
  },
  {
   "cell_type": "code",
   "execution_count": 8,
   "metadata": {
    "collapsed": false
   },
   "outputs": [
    {
     "data": {
      "text/plain": [
       "SJS (generic function with 1 method)"
      ]
     },
     "execution_count": 8,
     "metadata": {},
     "output_type": "execute_result"
    }
   ],
   "source": [
    "function cont_table(x::BitArray{1}, y::BitArray{1})\n",
    "    a = sum(!x & !y)\n",
    "    b = sum(!x & y)\n",
    "    c = sum(x & !y)\n",
    "    d = sum(x & y)\n",
    "    return a, b, c, d\n",
    "end\n",
    "\n",
    "function SJS(x::BitArray{1}, y::BitArray{1}) # Symmetric Jaccard Similarity\n",
    "    a, b, c, d = cont_table(x,y)\n",
    "    J1 = b / (a + b + d)\n",
    "    J2 = d / (b + c + d)\n",
    "    return max(J1, J2)\n",
    "end"
   ]
  },
  {
   "cell_type": "code",
   "execution_count": 9,
   "metadata": {
    "collapsed": false
   },
   "outputs": [
    {
     "data": {
      "text/plain": [
       "word_length_index (generic function with 2 methods)"
      ]
     },
     "execution_count": 9,
     "metadata": {},
     "output_type": "execute_result"
    }
   ],
   "source": [
    "function sig(x::Float64, a::Float64 = 0.0, b::Float64 = 1.0, c::Float64 = 1.0)\n",
    "    # sigmoid function\n",
    "    return 1 ./ (1 + c*exp(a - b*x))\n",
    "end\n",
    "\n",
    "function word_length_index{T <: AbstractString}(x::T)\n",
    "    # feature taking values between 0 and 1, with higher values corresponding to words of 10 characters or more\n",
    "    z = Float64(length(x))    \n",
    "    return sig(z, 10.0)\n",
    "end\n",
    "\n",
    "function word_length_index{T <: AbstractString}(x::Array{T,1})\n",
    "    n = length(x)\n",
    "    Z = Array(Float64, n)\n",
    "    \n",
    "    for i = 1:n\n",
    "        Z[i] = word_length_index(x[i])\n",
    "    end\n",
    "    \n",
    "    return Z\n",
    "end"
   ]
  },
  {
   "cell_type": "code",
   "execution_count": 10,
   "metadata": {
    "collapsed": false
   },
   "outputs": [
    {
     "data": {
      "text/plain": [
       "number_of_digits_index (generic function with 1 method)"
      ]
     },
     "execution_count": 10,
     "metadata": {},
     "output_type": "execute_result"
    }
   ],
   "source": [
    "function number_of_digits_index{T <: AbstractString}(X::T)\n",
    "    # feature that takes a value of 0.5 or higher for cases where there are 9 or more digits in the text\n",
    "    c = 0.0\n",
    "    \n",
    "    for x in X\n",
    "        if x in \"0123456789\"\n",
    "            c += 1.0\n",
    "        end\n",
    "    end\n",
    "    \n",
    "    return sig(c, 9.0)\n",
    "end"
   ]
  },
  {
   "cell_type": "code",
   "execution_count": 11,
   "metadata": {
    "collapsed": false
   },
   "outputs": [
    {
     "data": {
      "text/plain": [
       "caps_proportion (generic function with 1 method)"
      ]
     },
     "execution_count": 11,
     "metadata": {},
     "output_type": "execute_result"
    }
   ],
   "source": [
    "function caps_proportion{T <: AbstractString}(X::T)\n",
    "    L = length(X)    \n",
    "    if L == 0; return 0.0; end\n",
    "    z = 0\n",
    "    \n",
    "    for x in X\n",
    "        if x in \"QWERTYUIOPASDFGHJKLZXCVBNM\"\n",
    "            z += 1\n",
    "        end\n",
    "    end\n",
    "    \n",
    "    return z / L\n",
    "end"
   ]
  },
  {
   "cell_type": "code",
   "execution_count": 12,
   "metadata": {
    "collapsed": false
   },
   "outputs": [
    {
     "data": {
      "text/plain": [
       "spaces_proportion (generic function with 1 method)"
      ]
     },
     "execution_count": 12,
     "metadata": {},
     "output_type": "execute_result"
    }
   ],
   "source": [
    "function spaces_proportion{T <: AbstractString}(X::T)\n",
    "    L = length(X)    \n",
    "    if L == 0; return 0.0; end\n",
    "    z = 0\n",
    "    \n",
    "    for x in X\n",
    "        if x == ' '\n",
    "            z += 1\n",
    "        end\n",
    "    end    \n",
    "    \n",
    "    return z / L\n",
    "end"
   ]
  },
  {
   "cell_type": "code",
   "execution_count": 13,
   "metadata": {
    "collapsed": false
   },
   "outputs": [
    {
     "data": {
      "text/plain": [
       "est_prob (generic function with 2 methods)"
      ]
     },
     "execution_count": 13,
     "metadata": {},
     "output_type": "execute_result"
    }
   ],
   "source": [
    "function est_prob{T <: Real}(y::Array{Float64, 1}, Q::Array{T, 1}, th::Float64 = 0.5)\n",
    "    # probabilities for continuous predictions (assuming presence of two classes only), applicable on ELMs, RRFs, etc.\n",
    "    # Note: this is a heuristic and is not backed by any theory\n",
    "    \n",
    "    QQ = map(Float64, Q)\n",
    "    q = length(Q)\n",
    "    d = Array(Float64, q)\n",
    "    n = length(y)\n",
    "    p = Array(Float64, n)\n",
    "    m = minimum(QQ)\n",
    "    mp = (maximum(QQ) - m)*th + m  # middle point\n",
    "    \n",
    "    for i = 1:n\n",
    "        for j = 1:q\n",
    "            d[j] = abs(y[i] - QQ[j]) / abs(mp - QQ[j])\n",
    "        end\n",
    "        \n",
    "        p[i] = 1 - minimum(d) / sum(d)\n",
    "    end\n",
    "    \n",
    "    return p\n",
    "end"
   ]
  },
  {
   "cell_type": "code",
   "execution_count": 14,
   "metadata": {
    "collapsed": false
   },
   "outputs": [
    {
     "data": {
      "text/plain": [
       "CM (generic function with 1 method)"
      ]
     },
     "execution_count": 14,
     "metadata": {},
     "output_type": "execute_result"
    }
   ],
   "source": [
    "function CM(pred::Array, gt::Array)\n",
    "    C = sort(unique(gt)) # unique classes (sorted)\n",
    "    n = length(C) # number of classes\n",
    "    M = zeros(Int64, n, n) # confusion matrix\n",
    "\n",
    "    for i in 1:length(gt)\n",
    "        ind1 = indexin([gt[i]], C) # ground truth class index\n",
    "\n",
    "        if gt[i] == pred[i]\n",
    "            M[ind1, ind1] += 1\n",
    "        else\n",
    "            ind2 = indexin([pred[i]], C) # classifier's class index\n",
    "            M[ind1, ind2] += 1\n",
    "        end\n",
    "    end\n",
    "\n",
    "    return M\n",
    "end"
   ]
  },
  {
   "cell_type": "code",
   "execution_count": 15,
   "metadata": {
    "collapsed": false
   },
   "outputs": [
    {
     "data": {
      "text/plain": [
       "F1 (generic function with 1 method)"
      ]
     },
     "execution_count": 15,
     "metadata": {},
     "output_type": "execute_result"
    }
   ],
   "source": [
    "F1(CM::Array{Int64, 2}, c::Int64) = 2*CM[c,c] / (sum(CM[:,c]) + sum(CM[c,:]))"
   ]
  },
  {
   "cell_type": "markdown",
   "metadata": {},
   "source": [
    "### Packages to Be Used"
   ]
  },
  {
   "cell_type": "code",
   "execution_count": 16,
   "metadata": {
    "collapsed": true
   },
   "outputs": [
    {
     "name": "stderr",
     "output_type": "stream",
     "text": [
      "WARNING: Union(args...) is deprecated, use Union{args...} instead.\n",
      " in depwarn at deprecated.jl:73\n",
      " in call at deprecated.jl:50\n",
      " in include at boot.jl:261\n",
      " in include_from_node1 at loading.jl:320\n",
      " in include at boot.jl:261\n",
      " in include_from_node1 at loading.jl:320\n",
      " in require at loading.jl:259\n",
      " in include_string at loading.jl:282\n",
      " in execute_request at C:\\Users\\Zacharias\\.julia\\v0.4\\IJulia\\src\\execute_request.jl:164\n",
      " in eventloop at C:\\Users\\Zacharias\\.julia\\v0.4\\IJulia\\src\\IJulia.jl:138\n",
      " in anonymous at task.jl:447\n",
      "while loading C:\\Users\\Zacharias\\.julia\\v0.4\\ELM\\src\\base.jl, in expression starting on line 77\n",
      "WARNING: Union(args...) is deprecated, use Union{args...} instead.\n",
      " in depwarn at deprecated.jl:73\n",
      " in call at deprecated.jl:50\n",
      " in include at boot.jl:261\n",
      " in include_from_node1 at loading.jl:320\n",
      " in include at boot.jl:261\n",
      " in include_from_node1 at loading.jl:320\n",
      " in require at loading.jl:259\n",
      " in include_string at loading.jl:282\n",
      " in execute_request at C:\\Users\\Zacharias\\.julia\\v0.4\\IJulia\\src\\execute_request.jl:164\n",
      " in eventloop at C:\\Users\\Zacharias\\.julia\\v0.4\\IJulia\\src\\IJulia.jl:138\n",
      " in anonymous at task.jl:447\n",
      "while loading C:\\Users\\Zacharias\\.julia\\v0.4\\ELM\\src\\base.jl, in expression starting on line 77\n",
      "WARNING: Union(args...) is deprecated, use Union{args...} instead.\n",
      " in depwarn at deprecated.jl:73\n",
      " in call at deprecated.jl:50\n",
      " in include at boot.jl:261\n",
      " in include_from_node1 at loading.jl:320\n",
      " in include at boot.jl:261\n",
      " in include_from_node1 at loading.jl:320\n",
      " in require at loading.jl:259\n",
      " in include_string at loading.jl:282\n",
      " in execute_request at C:\\Users\\Zacharias\\.julia\\v0.4\\IJulia\\src\\execute_request.jl:164\n",
      " in eventloop at C:\\Users\\Zacharias\\.julia\\v0.4\\IJulia\\src\\IJulia.jl:138\n",
      " in anonymous at task.jl:447\n",
      "while loading C:\\Users\\Zacharias\\.julia\\v0.4\\ELM\\src\\base.jl, in expression starting on line 111\n"
     ]
    }
   ],
   "source": [
    "using MultivariateStats\n",
    "using DecisionTree\n",
    "using ELM"
   ]
  },
  {
   "cell_type": "markdown",
   "metadata": {},
   "source": [
    "# Data Engineering"
   ]
  },
  {
   "cell_type": "markdown",
   "metadata": {},
   "source": [
    "### Data Preparation and Representation"
   ]
  },
  {
   "cell_type": "code",
   "execution_count": 17,
   "metadata": {
    "collapsed": false
   },
   "outputs": [],
   "source": [
    "S = Array(ASCIIString, N, 1);\n",
    "O = Array(Int8, N, 1);"
   ]
  },
  {
   "cell_type": "code",
   "execution_count": 18,
   "metadata": {
    "collapsed": false
   },
   "outputs": [
    {
     "data": {
      "text/plain": [
       "\"1234567890qwertyuiopasdfghjklzxcvbnmQWERTYUIOPASDFGHJKLZXCVBNM \""
      ]
     },
     "execution_count": 18,
     "metadata": {},
     "output_type": "execute_result"
    }
   ],
   "source": [
    "an = \"1234567890qwertyuiopasdfghjklzxcvbnmQWERTYUIOPASDFGHJKLZXCVBNM \" # all alphanumeric characters"
   ]
  },
  {
   "cell_type": "code",
   "execution_count": 19,
   "metadata": {
    "collapsed": false
   },
   "outputs": [],
   "source": [
    "for i = 1:N\n",
    "    temp = data[i,1]\n",
    "    clean = \"\"\n",
    "    \n",
    "    for c in temp\n",
    "        if c in an\n",
    "            clean = string(clean, c)\n",
    "        else\n",
    "            clean = string(clean, \" \")\n",
    "        end\n",
    "    end\n",
    "\n",
    "    S[i] = convert(ASCIIString, clean)\n",
    "    O[i] = (data[i,2] == \"1\" ? 1 : 0)\n",
    "end"
   ]
  },
  {
   "cell_type": "code",
   "execution_count": 20,
   "metadata": {
    "collapsed": false
   },
   "outputs": [
    {
     "data": {
      "text/plain": [
       "3284-element Array{Int8,1}:\n",
       " 1\n",
       " 1\n",
       " 1\n",
       " 1\n",
       " 1\n",
       " 1\n",
       " 1\n",
       " 1\n",
       " 1\n",
       " 1\n",
       " 1\n",
       " 1\n",
       " 1\n",
       " ⋮\n",
       " 0\n",
       " 0\n",
       " 0\n",
       " 0\n",
       " 0\n",
       " 0\n",
       " 0\n",
       " 0\n",
       " 0\n",
       " 0\n",
       " 0\n",
       " 0"
      ]
     },
     "execution_count": 20,
     "metadata": {},
     "output_type": "execute_result"
    }
   ],
   "source": [
    "O = O[:];  # make sure that the outputs variable is a vector"
   ]
  },
  {
   "cell_type": "markdown",
   "metadata": {},
   "source": [
    "### Feature Development"
   ]
  },
  {
   "cell_type": "code",
   "execution_count": 21,
   "metadata": {
    "collapsed": false
   },
   "outputs": [],
   "source": [
    "phrases = [\n",
    "    \"sale\",\n",
    "    \"guaranteed\",\n",
    "    \"low price\",\n",
    "    \"zzzzteana\",\n",
    "    \"fortune\",\n",
    "    \"money\",\n",
    "    \"entrepreneurs\",\n",
    "    \"perl\",\n",
    "    \"bug\",\n",
    "    \"investment\",\n",
    "    \"spam\",\n",
    "    \"mortgage\",\n",
    "    \"deserve\",\n",
    "    \"account\",\n",
    "    \"loss\",\n",
    "    \"hiring\",\n",
    "    \"wrong\",\n",
    "    \"invest\",\n",
    "    \"discount\",\n",
    "    \"adult\",\n",
    "    \"per\",\n",
    "    \"cost\",\n",
    "    \"make\",\n",
    "    \"nothing\",\n",
    "    \"rates\",\n",
    "    \"need\",\n",
    "    \"computer\",\n",
    "    \"ringing\",\n",
    "    \"home\",\n",
    "    \"dude\",\n",
    "    \"congratulations\",\n",
    "    \"cartridges\",\n",
    "    \"never pay\",\n",
    "    \"clearance\",\n",
    "    \"survey\",\n",
    "    \"information\",\n",
    "    \"mime\",\n",
    "    \"linux\",\n",
    "    \"only\",\n",
    "    \"quotes\",\n",
    "    \"cheap\",\n",
    "    \"needed\",\n",
    "    \"partnership\",\n",
    "    \"protect\",\n",
    "    \"join\",\n",
    "    \"attn\",\n",
    "    \"singles\",\n",
    "    \"zzzz\",\n",
    "    \"warranties\",\n",
    "    \"urgent\",\n",
    "    \"try\",\n",
    "    \"poker\",\n",
    "    \"you want\",\n",
    "    \"adv\",\n",
    "    \"company\",\n",
    "    \"prescription\",\n",
    "    \"future\",\n",
    "    \"back to the\",\n",
    "    \"ouch\",\n",
    "    \"satalk\",\n",
    "    \"java\",\n",
    "    \"wealth\",\n",
    "    \"better\",\n",
    "    \"ilug social\",\n",
    "    \"best product\",\n",
    "    \"prices\",\n",
    "    \"looking for\",\n",
    "    \"ilug\",\n",
    "    \"order\",\n",
    "    \"protected\",\n",
    "    \"marketing\"\n",
    "];"
   ]
  },
  {
   "cell_type": "code",
   "execution_count": 22,
   "metadata": {
    "collapsed": false
   },
   "outputs": [
    {
     "data": {
      "text/plain": [
       "71"
      ]
     },
     "execution_count": 22,
     "metadata": {},
     "output_type": "execute_result"
    }
   ],
   "source": [
    "n = length(phrases)"
   ]
  },
  {
   "cell_type": "code",
   "execution_count": 23,
   "metadata": {
    "collapsed": false
   },
   "outputs": [],
   "source": [
    "I = Array(Float64, N, n + 4);"
   ]
  },
  {
   "cell_type": "code",
   "execution_count": 24,
   "metadata": {
    "collapsed": false
   },
   "outputs": [],
   "source": [
    "# Phrase-based features\n",
    "\n",
    "for i = 1:N    \n",
    "    s = lowercase(S[i])\n",
    "    \n",
    "    for j = 1:n\n",
    "        I[i,j] = Float64(contains(s, phrases[j]))\n",
    "    end\n",
    "end"
   ]
  },
  {
   "cell_type": "code",
   "execution_count": 25,
   "metadata": {
    "collapsed": false
   },
   "outputs": [],
   "source": [
    "# Numeric features\n",
    "\n",
    "for j = 1:N\n",
    "    I[j, n + 1] = maximum(word_length_index(split(S[j], \" \")))  # maximum word length feature\n",
    "    I[j, n + 2] = number_of_digits_index(S[j])  # number of digits index feature\n",
    "    I[j, n + 3] = caps_proportion(S[j])  # proportion of capital letters feature\n",
    "    I[j, end] = spaces_proportion(S[j])  # proportion of empty spaces feature\n",
    "end"
   ]
  },
  {
   "cell_type": "markdown",
   "metadata": {},
   "source": [
    "### Save the feature-based dataset, just in case"
   ]
  },
  {
   "cell_type": "code",
   "execution_count": 26,
   "metadata": {
    "collapsed": false
   },
   "outputs": [
    {
     "data": {
      "text/plain": [
       "\"D:\\\\data\\\\Spam Assassin\\\\features.csv\""
      ]
     },
     "execution_count": 26,
     "metadata": {},
     "output_type": "execute_result"
    }
   ],
   "source": [
    "fn = string(p, \"features.csv\")"
   ]
  },
  {
   "cell_type": "code",
   "execution_count": 27,
   "metadata": {
    "collapsed": true
   },
   "outputs": [],
   "source": [
    "writedlm(fn, hcat(I,O), \",\")"
   ]
  },
  {
   "cell_type": "markdown",
   "metadata": {},
   "source": [
    "### Load the feature-based dataset (in case you need to revert to the features dataset)"
   ]
  },
  {
   "cell_type": "code",
   "execution_count": 28,
   "metadata": {
    "collapsed": true
   },
   "outputs": [],
   "source": [
    "IO = readdlm(fn, ',');"
   ]
  },
  {
   "cell_type": "code",
   "execution_count": 29,
   "metadata": {
    "collapsed": true
   },
   "outputs": [],
   "source": [
    "I = IO[:,1:(end-1)];\n",
    "O = IO[:,end];"
   ]
  },
  {
   "cell_type": "markdown",
   "metadata": {},
   "source": [
    "### K-Fold Cross Validation Setup"
   ]
  },
  {
   "cell_type": "code",
   "execution_count": 30,
   "metadata": {
    "collapsed": false
   },
   "outputs": [
    {
     "data": {
      "text/plain": [
       "10"
      ]
     },
     "execution_count": 30,
     "metadata": {},
     "output_type": "execute_result"
    }
   ],
   "source": [
    "K = 10"
   ]
  },
  {
   "cell_type": "code",
   "execution_count": 31,
   "metadata": {
    "collapsed": false
   },
   "outputs": [],
   "source": [
    "P, T, PT, TT = KFCV(I, O, K);"
   ]
  },
  {
   "cell_type": "markdown",
   "metadata": {},
   "source": [
    "### Dimensionality Reduction Prep"
   ]
  },
  {
   "cell_type": "code",
   "execution_count": 32,
   "metadata": {
    "collapsed": false
   },
   "outputs": [
    {
     "data": {
      "text/plain": [
       "apply_PCA (generic function with 2 methods)"
      ]
     },
     "execution_count": 32,
     "metadata": {},
     "output_type": "execute_result"
    }
   ],
   "source": [
    "function apply_PCA(Itr::Array{Float64, 2}, Ite::Array{Float64, 2}, nd::Int64 = 5)\n",
    "    M = MultivariateStats.fit(PCA, Itr'; maxoutdim = nd) \n",
    "    Jtr = MultivariateStats.transform(M, Itr')'\n",
    "    Jte = MultivariateStats.transform(M, Ite')'\n",
    "    return Jtr, Jte\n",
    "end"
   ]
  },
  {
   "cell_type": "markdown",
   "metadata": {},
   "source": [
    "# Data Modeling"
   ]
  },
  {
   "cell_type": "markdown",
   "metadata": {},
   "source": [
    "### Parameter Definition"
   ]
  },
  {
   "cell_type": "code",
   "execution_count": 33,
   "metadata": {
    "collapsed": false
   },
   "outputs": [
    {
     "data": {
      "text/plain": [
       "10x3 Array{Array{T,N},2}:\n",
       " #undef  #undef  #undef\n",
       " #undef  #undef  #undef\n",
       " #undef  #undef  #undef\n",
       " #undef  #undef  #undef\n",
       " #undef  #undef  #undef\n",
       " #undef  #undef  #undef\n",
       " #undef  #undef  #undef\n",
       " #undef  #undef  #undef\n",
       " #undef  #undef  #undef\n",
       " #undef  #undef  #undef"
      ]
     },
     "execution_count": 33,
     "metadata": {},
     "output_type": "execute_result"
    }
   ],
   "source": [
    "Y = Array(Array, K, 3); # outputs for the random forest (RF), the ELM, and the MSTC systems, respectively\n",
    "p = Array(Array, K, 3); # corresponding probabilities"
   ]
  },
  {
   "cell_type": "code",
   "execution_count": 34,
   "metadata": {
    "collapsed": false
   },
   "outputs": [
    {
     "data": {
      "text/plain": [
       "5"
      ]
     },
     "execution_count": 34,
     "metadata": {},
     "output_type": "execute_result"
    }
   ],
   "source": [
    "# Parameters for RF\n",
    "nrf = 2 # number of random features\n",
    "nt = 10 # number of trees in forest\n",
    "ps = 0.5 # proportion of samples in every tree\n",
    "Q = sort(unique(O))\n",
    "\n",
    "# Parameters for ELM\n",
    "nn = 15 # number of nodes (in the hidden layer)\n",
    "th = 0.2 # threshold beyond which a data point is classified as spam\n",
    "\n",
    "# Parameter for kNN\n",
    "k = 5"
   ]
  },
  {
   "cell_type": "markdown",
   "metadata": {},
   "source": [
    "### Model Training and Application"
   ]
  },
  {
   "cell_type": "code",
   "execution_count": 35,
   "metadata": {
    "collapsed": false
   },
   "outputs": [
    {
     "name": "stdout",
     "output_type": "stream",
     "text": [
      "Validation round: 1\n",
      "Validation round: 2\n",
      "Validation round: 3\n",
      "Validation round: 4\n",
      "Validation round: 5\n",
      "Validation round: 6\n",
      "Validation round: 7\n",
      "Validation round: 8\n",
      "Validation round: 9\n",
      "Validation round: 10\n",
      "\n",
      "Ready!\n"
     ]
    }
   ],
   "source": [
    "for i = 1:K\n",
    "    println(\"Validation round: \", i)\n",
    "    \n",
    "    # Applying PCA...\n",
    "    Itr, Ite = apply_PCA(P[i], PT[i], 15) # get the 15 first meta-features\n",
    "    \n",
    "    # Planting random forest...\n",
    "    model = build_forest(T[i], Itr, nrf, nt, ps)\n",
    "    y = apply_forest(model, Ite)\n",
    "    Y[i, 1] = round(Int8, y)\n",
    "    p[i, 1] = est_prob(y, Q)\n",
    "    \n",
    "    # Building ELM...\n",
    "    elm = ExtremeLearningMachine(nn)\n",
    "    ELM.fit!(elm, Itr, T[i])\n",
    "    y = ELM.predict(elm, Ite)\n",
    "    n = length(y)\n",
    "    temp = zeros(Int8, n)\n",
    "    temp[y .>= th] = 1\n",
    "    Y[i, 2] = temp\n",
    "    p[i, 2] = est_prob(y, Q, th)\n",
    "    \n",
    "    # Applying kNN classifier...\n",
    "    y, p[i, 3] = apply_kNN(Itr, T[i], Ite, k)\n",
    "    Y[i, 3] = round(Int8, y)\n",
    "end\n",
    "\n",
    "println(\"\\nReady!\")"
   ]
  },
  {
   "cell_type": "markdown",
   "metadata": {},
   "source": [
    "# Evaluating Results"
   ]
  },
  {
   "cell_type": "code",
   "execution_count": 36,
   "metadata": {
    "collapsed": false
   },
   "outputs": [],
   "source": [
    "FS = Array(Float64, K, 3)  # F1 Scores\n",
    "\n",
    "for j = 1:3\n",
    "    for i = 1:K\n",
    "        cm = CM(map(Int8, TT[i]), Y[i,j])\n",
    "        FS[i,j] = F1(cm, 2) # F1 score for class of interest (spam, i.e. the 2nd one)\n",
    "    end\n",
    "end"
   ]
  },
  {
   "cell_type": "code",
   "execution_count": 37,
   "metadata": {
    "collapsed": false
   },
   "outputs": [
    {
     "data": {
      "text/plain": [
       "1x3 Array{Float64,2}:\n",
       " 0.617884  0.451812  0.545949"
      ]
     },
     "execution_count": 37,
     "metadata": {},
     "output_type": "execute_result"
    }
   ],
   "source": [
    "fs = mean(FS, 1) # average F1 scores over K-fold cross validation"
   ]
  },
  {
   "cell_type": "code",
   "execution_count": 38,
   "metadata": {
    "collapsed": false
   },
   "outputs": [
    {
     "data": {
      "text/plain": [
       "1"
      ]
     },
     "execution_count": 38,
     "metadata": {},
     "output_type": "execute_result"
    }
   ],
   "source": [
    "ind1 = indmax(fs) # best performing classifier, for predicting the spam class"
   ]
  },
  {
   "cell_type": "code",
   "execution_count": 39,
   "metadata": {
    "collapsed": false
   },
   "outputs": [
    {
     "data": {
      "text/plain": [
       "5"
      ]
     },
     "execution_count": 39,
     "metadata": {},
     "output_type": "execute_result"
    }
   ],
   "source": [
    "ind2 = indmax(FS[:, ind1]) # best validation iteration for this classifier"
   ]
  },
  {
   "cell_type": "code",
   "execution_count": 40,
   "metadata": {
    "collapsed": false
   },
   "outputs": [
    {
     "data": {
      "text/plain": [
       "2x2 Array{Int64,2}:\n",
       " 275  20\n",
       "   4  29"
      ]
     },
     "execution_count": 40,
     "metadata": {},
     "output_type": "execute_result"
    }
   ],
   "source": [
    "CM(map(Int8, TT[ind2]), Y[ind2,ind1])"
   ]
  }
 ],
 "metadata": {
  "kernelspec": {
   "display_name": "Julia 0.4.5",
   "language": "julia",
   "name": "julia-0.4"
  },
  "language_info": {
   "file_extension": ".jl",
   "mimetype": "application/julia",
   "name": "julia",
   "version": "0.4.5"
  }
 },
 "nbformat": 4,
 "nbformat_minor": 0
}
