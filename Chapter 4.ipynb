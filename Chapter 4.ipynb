{
 "cells": [
  {
   "cell_type": "code",
   "execution_count": 1,
   "metadata": {
    "collapsed": false
   },
   "outputs": [
    {
     "data": {
      "text/plain": [
       "\"Learning the ropes of Julia\""
      ]
     },
     "execution_count": 1,
     "metadata": {},
     "output_type": "execute_result"
    }
   ],
   "source": [
    "q = \"Learning the ropes of Julia\""
   ]
  },
  {
   "cell_type": "code",
   "execution_count": 2,
   "metadata": {
    "collapsed": false
   },
   "outputs": [
    {
     "data": {
      "text/plain": [
       "\"ropes\""
      ]
     },
     "execution_count": 2,
     "metadata": {},
     "output_type": "execute_result"
    }
   ],
   "source": [
    "q[14:18]"
   ]
  },
  {
   "cell_type": "code",
   "execution_count": 3,
   "metadata": {
    "collapsed": false
   },
   "outputs": [
    {
     "data": {
      "text/plain": [
       "'J'"
      ]
     },
     "execution_count": 3,
     "metadata": {},
     "output_type": "execute_result"
    }
   ],
   "source": [
    "q[23]"
   ]
  },
  {
   "cell_type": "code",
   "execution_count": 4,
   "metadata": {
    "collapsed": false
   },
   "outputs": [
    {
     "data": {
      "text/plain": [
       "\"Lite\""
      ]
     },
     "execution_count": 4,
     "metadata": {},
     "output_type": "execute_result"
    }
   ],
   "source": [
    "q[[1,6,10,12]]"
   ]
  },
  {
   "cell_type": "code",
   "execution_count": 5,
   "metadata": {
    "collapsed": true
   },
   "outputs": [],
   "source": [
    "s = \"Winter is coming!\";"
   ]
  },
  {
   "cell_type": "code",
   "execution_count": 6,
   "metadata": {
    "collapsed": false
   },
   "outputs": [
    {
     "name": "stdout",
     "output_type": "stream",
     "text": [
      "SubString{ASCIIString}[\"Winter\",\"is\",\"coming!\"]"
     ]
    }
   ],
   "source": [
    "show(split(s))"
   ]
  },
  {
   "cell_type": "code",
   "execution_count": 7,
   "metadata": {
    "collapsed": true
   },
   "outputs": [],
   "source": [
    "s = \"Julia\";"
   ]
  },
  {
   "cell_type": "code",
   "execution_count": 8,
   "metadata": {
    "collapsed": false
   },
   "outputs": [
    {
     "name": "stdout",
     "output_type": "stream",
     "text": [
      "SubString{ASCIIString}[\"J\",\"u\",\"l\",\"i\",\"a\"]"
     ]
    }
   ],
   "source": [
    "show(split(s, \"\"))"
   ]
  },
  {
   "cell_type": "code",
   "execution_count": 9,
   "metadata": {
    "collapsed": true
   },
   "outputs": [],
   "source": [
    "z = [235, \"something\", true, -3232.34, 'd', 12345];"
   ]
  },
  {
   "cell_type": "code",
   "execution_count": 10,
   "metadata": {
    "collapsed": false
   },
   "outputs": [
    {
     "data": {
      "text/plain": [
       "\"235 something true -3232.34 d 12345\""
      ]
     },
     "execution_count": 10,
     "metadata": {},
     "output_type": "execute_result"
    }
   ],
   "source": [
    "join(z, \" \")"
   ]
  },
  {
   "cell_type": "code",
   "execution_count": 13,
   "metadata": {
    "collapsed": false
   },
   "outputs": [
    {
     "data": {
      "text/plain": [
       "\"The days of the week are Monday, Tuesday, Wednesday, Thursday, Friday, Saturday, and Sunday.\""
      ]
     },
     "execution_count": 13,
     "metadata": {},
     "output_type": "execute_result"
    }
   ],
   "source": [
    "p =  r\"([A-Z])\\w+\"\n",
    "s = \"The days of the week are Monday, Tuesday, Wednesday, Thursday, Friday, Saturday, and Sunday.\""
   ]
  },
  {
   "cell_type": "code",
   "execution_count": 14,
   "metadata": {
    "collapsed": false
   },
   "outputs": [
    {
     "data": {
      "text/plain": [
       "true"
      ]
     },
     "execution_count": 14,
     "metadata": {},
     "output_type": "execute_result"
    }
   ],
   "source": [
    "ismatch(p, s)"
   ]
  },
  {
   "cell_type": "code",
   "execution_count": 15,
   "metadata": {
    "collapsed": false
   },
   "outputs": [
    {
     "data": {
      "text/plain": [
       "false"
      ]
     },
     "execution_count": 15,
     "metadata": {},
     "output_type": "execute_result"
    }
   ],
   "source": [
    "ismatch(p, \"some random string without any capitalized words in it\")"
   ]
  },
  {
   "cell_type": "code",
   "execution_count": 16,
   "metadata": {
    "collapsed": false
   },
   "outputs": [
    {
     "data": {
      "text/plain": [
       "RegexMatch(\"The\", 1=\"T\")"
      ]
     },
     "execution_count": 16,
     "metadata": {},
     "output_type": "execute_result"
    }
   ],
   "source": [
    "m = match(p, s)"
   ]
  },
  {
   "cell_type": "code",
   "execution_count": 17,
   "metadata": {
    "collapsed": false
   },
   "outputs": [
    {
     "data": {
      "text/plain": [
       "\"The\""
      ]
     },
     "execution_count": 17,
     "metadata": {},
     "output_type": "execute_result"
    }
   ],
   "source": [
    "m.match "
   ]
  },
  {
   "cell_type": "code",
   "execution_count": 18,
   "metadata": {
    "collapsed": false
   },
   "outputs": [
    {
     "data": {
      "text/plain": [
       "1"
      ]
     },
     "execution_count": 18,
     "metadata": {},
     "output_type": "execute_result"
    }
   ],
   "source": [
    "m.offset"
   ]
  },
  {
   "cell_type": "code",
   "execution_count": 19,
   "metadata": {
    "collapsed": false
   },
   "outputs": [
    {
     "data": {
      "text/plain": [
       "8-element Array{SubString{UTF8String},1}:\n",
       " \"The\"      \n",
       " \"Monday\"   \n",
       " \"Tuesday\"  \n",
       " \"Wednesday\"\n",
       " \"Thursday\" \n",
       " \"Friday\"   \n",
       " \"Saturday\" \n",
       " \"Sunday\"   "
      ]
     },
     "execution_count": 19,
     "metadata": {},
     "output_type": "execute_result"
    }
   ],
   "source": [
    "matchall(p, s)"
   ]
  },
  {
   "cell_type": "code",
   "execution_count": 20,
   "metadata": {
    "collapsed": false
   },
   "outputs": [
    {
     "name": "stdout",
     "output_type": "stream",
     "text": [
      "The - 1\n",
      "Monday - 26\n",
      "Tuesday - 34\n",
      "Wednesday - 43\n",
      "Thursday - 54\n",
      "Friday - 64\n",
      "Saturday - 72\n",
      "Sunday - 86\n"
     ]
    }
   ],
   "source": [
    "for m in eachmatch(p, s) \n",
    "    println(m.match, \" - \", m.offset) \n",
    "end "
   ]
  },
  {
   "cell_type": "code",
   "execution_count": 28,
   "metadata": {
    "collapsed": false
   },
   "outputs": [
    {
     "data": {
      "text/plain": [
       "res (generic function with 2 methods)"
      ]
     },
     "execution_count": 28,
     "metadata": {},
     "output_type": "execute_result"
    }
   ],
   "source": [
    "res(x::Array) = x - mean(x)"
   ]
  },
  {
   "cell_type": "code",
   "execution_count": 26,
   "metadata": {
    "collapsed": false
   },
   "outputs": [],
   "source": [
    "X = [1,2,3,4,5,6,7,8,9,10,11]; "
   ]
  },
  {
   "cell_type": "code",
   "execution_count": 24,
   "metadata": {
    "collapsed": false
   },
   "outputs": [
    {
     "data": {
      "text/plain": [
       "(anonymous function)"
      ]
     },
     "execution_count": 24,
     "metadata": {},
     "output_type": "execute_result"
    }
   ],
   "source": [
    "mx = mean(X)\n",
    "x -> x - mx "
   ]
  },
  {
   "cell_type": "code",
   "execution_count": 25,
   "metadata": {
    "collapsed": false
   },
   "outputs": [
    {
     "name": "stdout",
     "output_type": "stream",
     "text": [
      "[-5.0,-4.0,-3.0,-2.0,-1.0,0.0,1.0,2.0,3.0,4.0,5.0]"
     ]
    }
   ],
   "source": [
    "X = [1,2,3,4,5,6,7,8,9,10,11]; \n",
    "mx = mean(X); \n",
    "show(map(x -> x - mx, X))"
   ]
  },
  {
   "cell_type": "code",
   "execution_count": 27,
   "metadata": {
    "collapsed": false
   },
   "outputs": [
    {
     "data": {
      "text/plain": [
       "res (generic function with 1 method)"
      ]
     },
     "execution_count": 27,
     "metadata": {},
     "output_type": "execute_result"
    }
   ],
   "source": [
    "res(x::Number) = x"
   ]
  },
  {
   "cell_type": "code",
   "execution_count": 29,
   "metadata": {
    "collapsed": false
   },
   "outputs": [
    {
     "data": {
      "text/plain": [
       "hdist (generic function with 1 method)"
      ]
     },
     "execution_count": 29,
     "metadata": {},
     "output_type": "execute_result"
    }
   ],
   "source": [
    "function hdist(X::AbstractString, Y::AbstractString) \n",
    "  # Hamming Distance between two strings \n",
    "   lx = length(X) \n",
    "   ly = length(Y) \n",
    "   if lx != ly\n",
    "       return -1 \n",
    "   else\n",
    "       lettersX = split(X, \"\")\n",
    "       lettersY = split(Y, \"\")\n",
    "       dif = (lettersX .== lettersY)\n",
    "       return sum(dif) \n",
    "   end\n",
    "end"
   ]
  },
  {
   "cell_type": "code",
   "execution_count": 30,
   "metadata": {
    "collapsed": false
   },
   "outputs": [
    {
     "data": {
      "text/html": [
       "5 methods for generic function <b>median</b>:<ul><li> median<i>{T<:Real}</i>(r::<b>Range{T<:Real}</b>) at <a href=\"https://github.com/JuliaLang/julia/tree/2ac304dfba75fad148d4070ef4f8a2e400c305bb/base/range.jl#L714\" target=\"_blank\">range.jl:714</a><li> median<i>{T}</i>(v::<b>AbstractArray{T,N}</b>) at <a href=\"https://github.com/JuliaLang/julia/tree/2ac304dfba75fad148d4070ef4f8a2e400c305bb/base/statistics.jl#L507\" target=\"_blank\">statistics.jl:507</a><li> median(v::<b>AbstractArray{T,N}</b>) at <a href=\"https://github.com/JuliaLang/julia/tree/2ac304dfba75fad148d4070ef4f8a2e400c305bb/base/deprecated.jl#L49\" target=\"_blank\">deprecated.jl:49</a><li> median<i>{T}</i>(v::<b>AbstractArray{T,N}</b>, region) at <a href=\"https://github.com/JuliaLang/julia/tree/2ac304dfba75fad148d4070ef4f8a2e400c305bb/base/statistics.jl#L508\" target=\"_blank\">statistics.jl:508</a><li> median(v::<b>AbstractArray{T,N}</b>, region) at <a href=\"https://github.com/JuliaLang/julia/tree/2ac304dfba75fad148d4070ef4f8a2e400c305bb/base/deprecated.jl#L49\" target=\"_blank\">deprecated.jl:49</a></ul>"
      ],
      "text/plain": [
       "# 5 methods for generic function \"median\":\n",
       "median{T<:Real}(r::Range{T<:Real}) at range.jl:714\n",
       "median{T}(v::AbstractArray{T,N}) at statistics.jl:507\n",
       "median(v::AbstractArray{T,N}) at deprecated.jl:49\n",
       "median{T}(v::AbstractArray{T,N}, region) at statistics.jl:508\n",
       "median(v::AbstractArray{T,N}, region) at deprecated.jl:49"
      ]
     },
     "execution_count": 30,
     "metadata": {},
     "output_type": "execute_result"
    }
   ],
   "source": [
    "methods(median)"
   ]
  },
  {
   "cell_type": "code",
   "execution_count": 1,
   "metadata": {
    "collapsed": false
   },
   "outputs": [
    {
     "data": {
      "text/plain": [
       "skewness_type (generic function with 1 method)"
      ]
     },
     "execution_count": 1,
     "metadata": {},
     "output_type": "execute_result"
    }
   ],
   "source": [
    "function skewness_type{T<:Number}(X::Array{T, 1})\n",
    "   m = mean(X) \n",
    "   M = median(X)\n",
    "   if m > M \n",
    "      output = \"positive\" \n",
    "   elseif m < M \n",
    "      output = \"negative\" \n",
    "   else \n",
    "      output = \"balanced\" \n",
    "   end \n",
    "   return output\n",
    " end "
   ]
  },
  {
   "cell_type": "code",
   "execution_count": 32,
   "metadata": {
    "collapsed": false
   },
   "outputs": [
    {
     "data": {
      "text/plain": [
       "\"balanced\""
      ]
     },
     "execution_count": 32,
     "metadata": {},
     "output_type": "execute_result"
    }
   ],
   "source": [
    "skewness_type([1,2,3,4,5])"
   ]
  },
  {
   "cell_type": "code",
   "execution_count": 33,
   "metadata": {
    "collapsed": false
   },
   "outputs": [
    {
     "data": {
      "text/plain": [
       "\"positive\""
      ]
     },
     "execution_count": 33,
     "metadata": {},
     "output_type": "execute_result"
    }
   ],
   "source": [
    "skewness_type([1,2,3,4,100]) "
   ]
  },
  {
   "cell_type": "code",
   "execution_count": 34,
   "metadata": {
    "collapsed": false
   },
   "outputs": [
    {
     "data": {
      "text/plain": [
       "\"negative\""
      ]
     },
     "execution_count": 34,
     "metadata": {},
     "output_type": "execute_result"
    }
   ],
   "source": [
    "skewness_type([-100,2,3,4,5])"
   ]
  },
  {
   "cell_type": "code",
   "execution_count": 35,
   "metadata": {
    "collapsed": false
   },
   "outputs": [
    {
     "ename": "LoadError",
     "evalue": "LoadError: MethodError: `+` has no method matching +(::ASCIIString, ::ASCIIString)\nClosest candidates are:\n  +(::Any, ::Any, !Matched::Any, !Matched::Any...)\nwhile loading In[35], in expression starting on line 1",
     "output_type": "error",
     "traceback": [
      "LoadError: MethodError: `+` has no method matching +(::ASCIIString, ::ASCIIString)\nClosest candidates are:\n  +(::Any, ::Any, !Matched::Any, !Matched::Any...)\nwhile loading In[35], in expression starting on line 1",
      "",
      " in _mapreduce at reduce.jl:145",
      " in skewness_type at In[31]:2"
     ]
    }
   ],
   "source": [
    "skewness_type([\"this\", \"that\", \"other\"]) "
   ]
  },
  {
   "cell_type": "code",
   "execution_count": 2,
   "metadata": {
    "collapsed": false
   },
   "outputs": [
    {
     "ename": "LoadError",
     "evalue": "LoadError: MethodError: `skewness_type` has no method matching skewness_type(::Array{Int64,2})\nwhile loading In[2], in expression starting on line 1",
     "output_type": "error",
     "traceback": [
      "LoadError: MethodError: `skewness_type` has no method matching skewness_type(::Array{Int64,2})\nwhile loading In[2], in expression starting on line 1",
      ""
     ]
    }
   ],
   "source": [
    "A = rand(Int64, 5, 4); skewness_type(A)"
   ]
  },
  {
   "cell_type": "code",
   "execution_count": 3,
   "metadata": {
    "collapsed": false
   },
   "outputs": [
    {
     "data": {
      "text/plain": [
       "mode (generic function with 1 method)"
      ]
     },
     "execution_count": 3,
     "metadata": {},
     "output_type": "execute_result"
    }
   ],
   "source": [
    "function mode{T<:Any}(X::Array{T})\n",
    "    ux = unique(X)  # find all the unique values of the given array X\n",
    "    n = length(ux)  # find the number of elements in array X\n",
    "    z = zeros(n)  # create a blank 1-dim array of size n\n",
    "\n",
    "    for x in X  # iterate over all elements in array X\n",
    "        ind = findin(ux, x)  # find which unique value x corresponds to\n",
    "        z[ind] += 1  # increase the counter for that unique value\n",
    "    end\n",
    "\n",
    "    mind = findmax(z)[2]  # get the largest counter in array z\n",
    "    return ux[mind]  # output the mode of X\n",
    "end"
   ]
  },
  {
   "cell_type": "code",
   "execution_count": 5,
   "metadata": {
    "collapsed": false
   },
   "outputs": [
    {
     "data": {
      "text/plain": [
       "missing_values_indexes (generic function with 1 method)"
      ]
     },
     "execution_count": 5,
     "metadata": {},
     "output_type": "execute_result"
    }
   ],
   "source": [
    "function missing_values_indexes{T<:Any}(X::Array{T})\n",
    "    ind = Int[]  # create an empty Integer array named \"ind\" for \"index\"\n",
    "    n = length(X)  # find the number of elements in array X\n",
    "\n",
    "    for i = 1:n  # repeat n times (i = variable to be used as an index)\n",
    "           if isempty(X[i]) # check if there is a missing value in this location of the X array\n",
    "               push!(ind, i)  # missing value found. Add its index to \"ind\" array\n",
    "           end\n",
    "       end\n",
    "\n",
    "       return ind  # output index array \"ind\"\n",
    "end"
   ]
  },
  {
   "cell_type": "code",
   "execution_count": 6,
   "metadata": {
    "collapsed": false
   },
   "outputs": [
    {
     "data": {
      "text/plain": [
       "feature_type (generic function with 1 method)"
      ]
     },
     "execution_count": 6,
     "metadata": {},
     "output_type": "execute_result"
    }
   ],
   "source": [
    "function feature_type{T<:Any}(X::Array{T})\n",
    "    n = length(X)  # find the number of elements in array X\n",
    "    ft = \"discreet\"  # set feature type variable to one of the possible values\n",
    "\n",
    "    for i = 1:n  # do n iterations of the index variable i\n",
    "        if length(X[i]) > 0  # check if the i-th element of X isn’t empty\n",
    "            tx = string(typeof(X[i]))  # get the type of that element \n",
    "                                                 \n",
    "            if tx in [\"ASCIIString\", \"Char\", \"Bool\"]  # is its type one of these types?\n",
    "                ft = \"discreet\"  # feature X is discreet\n",
    "                break  # exit the loop\n",
    "            elseif contains(tx, \"Float\")  # is the type some kind of Float?  \n",
    "                ft = \"continuous\" # feature X is continuous (for the time being)\n",
    "            end\n",
    "        end\n",
    "    end\n",
    "\n",
    "    return ft  # output feature type variable\n",
    "end"
   ]
  },
  {
   "cell_type": "code",
   "execution_count": 7,
   "metadata": {
    "collapsed": false
   },
   "outputs": [
    {
     "data": {
      "text/plain": [
       "main (generic function with 1 method)"
      ]
     },
     "execution_count": 7,
     "metadata": {},
     "output_type": "execute_result"
    }
   ],
   "source": [
    "function main{T<:Any}(X::Array{T})\n",
    "    N, n = size(X)  # get the dimensions of array X\n",
    "    Y = Array(T,N,n)  # create an empty array of the same dimensions and of the same type\n",
    "\n",
    "    for i = 1:n  # do n iterations\n",
    "        F = X[:,i]  # get the i-th feature of X and store it in F\n",
    "        ind = missing_values_indexes(F)  # find the indexes of the missing values of that feature\n",
    "\n",
    "        if length(ind) > 0  # feature F has at least one missing value\n",
    "            ind2 = setdiff(1:N, ind) # indexes having actual values\n",
    "\n",
    "            if feature_type(F) == \"discreet\"  # is that feature a discreet variable?\n",
    "                y = mode(F[ind2])  # calculate the mode of F and store it in y\n",
    "            else\n",
    "                y = median(F[ind2]) # calculate the median of F store it in y\n",
    "            end\n",
    "\n",
    "            F[ind] = y  # replace all missing values of F with y\n",
    "        end\n",
    "\n",
    "        Y[:,i] = F  # store F in Y as the i-th column\n",
    "    end\n",
    "\n",
    "    return Y  # output array Y\n",
    "end"
   ]
  }
 ],
 "metadata": {
  "kernelspec": {
   "display_name": "Julia 0.4.5",
   "language": "julia",
   "name": "julia-0.4"
  },
  "language_info": {
   "file_extension": ".jl",
   "mimetype": "application/julia",
   "name": "julia",
   "version": "0.4.5"
  }
 },
 "nbformat": 4,
 "nbformat_minor": 0
}
