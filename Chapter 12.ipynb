{
 "cells": [
  {
   "cell_type": "markdown",
   "metadata": {},
   "source": [
    "# Initialization"
   ]
  },
  {
   "cell_type": "markdown",
   "metadata": {},
   "source": [
    "### Package used"
   ]
  },
  {
   "cell_type": "code",
   "execution_count": 1,
   "metadata": {
    "collapsed": false
   },
   "outputs": [
    {
     "name": "stderr",
     "output_type": "stream",
     "text": [
      "INFO: Nothing to be done\n",
      "INFO: METADATA is out-of-date — you may not have the latest version of Graphs\n",
      "INFO: Use `Pkg.update()` to get the latest versions of your packages\n",
      "INFO: Nothing to be done\n",
      "INFO: METADATA is out-of-date — you may not have the latest version of LightGraphs\n",
      "INFO: Use `Pkg.update()` to get the latest versions of your packages\n"
     ]
    }
   ],
   "source": [
    "Pkg.add(\"Graphs\")\n",
    "Pkg.add(\"LightGraphs\")"
   ]
  },
  {
   "cell_type": "code",
   "execution_count": 2,
   "metadata": {
    "collapsed": false
   },
   "outputs": [
    {
     "name": "stderr",
     "output_type": "stream",
     "text": [
      "INFO: Updating METADATA...\n",
      "INFO: Updating cache of Requires...\n",
      "INFO: Updating cache of DataFrames...\n",
      "INFO: Updating cache of Distributions...\n",
      "INFO: Updating GeneratedTypes...\n",
      "INFO: Updating GeneratedTables...\n",
      "INFO: Updating TSne...\n",
      "INFO: Updating GraphPlot...\n",
      "INFO: Updating ComputeFramework...\n",
      "INFO: Updating ELM...\n",
      "INFO: Updating PlotlyJS...\n",
      "INFO: Updating ROC...\n",
      "INFO: Computing changes...\n",
      "INFO: Upgrading DataFrames: v0.7.6 => v0.7.7\n",
      "INFO: Upgrading Distributions: v0.10.0 => v0.10.1\n",
      "INFO: Building Rmath\n"
     ]
    }
   ],
   "source": [
    "Pkg.update()"
   ]
  },
  {
   "cell_type": "code",
   "execution_count": 3,
   "metadata": {
    "collapsed": false
   },
   "outputs": [],
   "source": [
    "using Graphs\n",
    "using LightGraphs"
   ]
  },
  {
   "cell_type": "markdown",
   "metadata": {},
   "source": [
    "### Auxiliary Functions"
   ]
  },
  {
   "cell_type": "code",
   "execution_count": 22,
   "metadata": {
    "collapsed": false
   },
   "outputs": [
    {
     "data": {
      "text/plain": [
       "CM2EL (generic function with 1 method)"
      ]
     },
     "execution_count": 22,
     "metadata": {},
     "output_type": "execute_result"
    }
   ],
   "source": [
    "function CM2EL{T <: Union{Real, Bool}}(M::Array{T, 2}) # convert a connection (adjacency) matrix to an edge list\n",
    "    n = sqrt(length(M))    \n",
    "    \n",
    "    if n != round(n)\n",
    "        println(\"Matrix needs to be square!\")\n",
    "        return []\n",
    "    end\n",
    "    \n",
    "    if eltype(M) != Bool\n",
    "        AM = (M .!= 0.0) # weights can be negative in some cases, so any non-zero element is a connection\n",
    "    else\n",
    "        AM = M\n",
    "    end\n",
    "    \n",
    "    n = convert(Int64, n)\n",
    "    N = div(sum(AM), 2) # maximum possible number of edges in graph\n",
    "    z = collect(1:n)\n",
    "    E = Array(Int64, N, 2)\n",
    "    c = 0\n",
    "\n",
    "    for i = 1:(n-1)\n",
    "        for j = (i+1):n\n",
    "            if AM[i,j]\n",
    "                c += 1\n",
    "                E[c,1] = i\n",
    "                E[c,2] = j                \n",
    "            end\n",
    "        end\n",
    "    end\n",
    "    \n",
    "    return E[1:c,:]\n",
    "end"
   ]
  },
  {
   "cell_type": "code",
   "execution_count": 5,
   "metadata": {
    "collapsed": false
   },
   "outputs": [
    {
     "data": {
      "text/plain": [
       "EL2CM (generic function with 2 methods)"
      ]
     },
     "execution_count": 5,
     "metadata": {},
     "output_type": "execute_result"
    }
   ],
   "source": [
    "function EL2CM{T <: Real}(E::Array{Int64, 2}, n::Int64, w::Array{T, 1} = [0.0]) # convert an edge list to a connection (adjacency) matrix\n",
    "    if n < 2\n",
    "        println(\"Trivial case. Aborting...\")\n",
    "        return -ones(1,1)\n",
    "    end\n",
    "    \n",
    "    if n < maximum(E)\n",
    "        println(\"Number of nodes is too small and/or there is a mistake in the edge list...\")\n",
    "        return -ones(1,1)\n",
    "    end\n",
    "    \n",
    "    nwp = (length(w) == 1) # no weights were provided\n",
    "    ne = size(E, 1) # number of edges\n",
    "        \n",
    "    if nwp\n",
    "        M = Array(Bool, n, n)\n",
    "        M[:] = false\n",
    "    else\n",
    "        if length(w) != ne\n",
    "            println(\"Number of weights must be equal to the number of edges!\")\n",
    "            return -ones(1,1)\n",
    "        end\n",
    "        \n",
    "        M = zeros(T, n, n)\n",
    "    end    \n",
    "\n",
    "    for i = 1:ne\n",
    "        x, y = E[i,:]\n",
    "        \n",
    "        if nwp\n",
    "            M[x,y] = true\n",
    "            M[y,x] = true\n",
    "        else\n",
    "            M[x,y] = w[i]\n",
    "            M[y,x] = w[i]\n",
    "        end\n",
    "    end\n",
    "    \n",
    "    return M\n",
    "end"
   ]
  },
  {
   "cell_type": "code",
   "execution_count": 6,
   "metadata": {
    "collapsed": false
   },
   "outputs": [
    {
     "data": {
      "text/plain": [
       "G2LG (generic function with 1 method)"
      ]
     },
     "execution_count": 6,
     "metadata": {},
     "output_type": "execute_result"
    }
   ],
   "source": [
    "function G2LG{T <: GenericGraph}(G::T)\n",
    "    n = num_vertices(G)\n",
    "\n",
    "    if Graphs.is_directed(G)\n",
    "        g = LightGraphs.DiGraph(n)\n",
    "    else\n",
    "        g = LightGraphs.Graph(n)\n",
    "    end\n",
    "    \n",
    "    AM = Graphs.adjacency_matrix(G)\n",
    "    z = collect(1:n)\n",
    "    \n",
    "    for i = 1:n        \n",
    "        X = z[AM[i,:][:]]\n",
    "        \n",
    "        for x in X\n",
    "            LightGraphs.add_edge!(g, i, x)\n",
    "        end\n",
    "    end\n",
    "    \n",
    "    return g\n",
    "end"
   ]
  },
  {
   "cell_type": "code",
   "execution_count": 7,
   "metadata": {
    "collapsed": false
   },
   "outputs": [
    {
     "data": {
      "text/plain": [
       "LG2G (generic function with 1 method)"
      ]
     },
     "execution_count": 7,
     "metadata": {},
     "output_type": "execute_result"
    }
   ],
   "source": [
    "function LG2G(g::LightGraphs.Graph) # UNdirected graph created with LightGraphs\n",
    "    n = nv(g)\n",
    "    G = simple_graph(n, is_directed=false)\n",
    "    E = collect(LightGraphs.edges(g))\n",
    "    N = length(E)\n",
    "        \n",
    "    for i = 1:N      \n",
    "        x, y = E[i]\n",
    "        Graphs.add_edge!(G, x, y)\n",
    "    end\n",
    "    \n",
    "    return G\n",
    "end"
   ]
  },
  {
   "cell_type": "code",
   "execution_count": 8,
   "metadata": {
    "collapsed": false
   },
   "outputs": [
    {
     "data": {
      "text/plain": [
       "LG2G (generic function with 2 methods)"
      ]
     },
     "execution_count": 8,
     "metadata": {},
     "output_type": "execute_result"
    }
   ],
   "source": [
    "function LG2G(g::LightGraphs.DiGraph) # directed graph created with LightGraphs\n",
    "    n = nv(g)\n",
    "    G = simple_graph(n, is_directed=true)\n",
    "    E = collect(LightGraphs.edges(g))\n",
    "    N = length(E)\n",
    "        \n",
    "    for i = 1:N      \n",
    "        x, y = E[i]\n",
    "        Graphs.add_edge!(G, x, y)\n",
    "    end\n",
    "    \n",
    "    return G\n",
    "end"
   ]
  },
  {
   "cell_type": "code",
   "execution_count": 9,
   "metadata": {
    "collapsed": false
   },
   "outputs": [
    {
     "data": {
      "text/plain": [
       "normalize (generic function with 4 methods)"
      ]
     },
     "execution_count": 9,
     "metadata": {},
     "output_type": "execute_result"
    }
   ],
   "source": [
    "include(\"normalize.jl\")"
   ]
  },
  {
   "cell_type": "markdown",
   "metadata": {},
   "source": [
    "### Dataset Creation"
   ]
  },
  {
   "cell_type": "code",
   "execution_count": 10,
   "metadata": {
    "collapsed": false
   },
   "outputs": [
    {
     "data": {
      "text/plain": [
       "Undirected Graph (7 vertices, 0 edges)"
      ]
     },
     "execution_count": 10,
     "metadata": {},
     "output_type": "execute_result"
    }
   ],
   "source": [
    "g = simple_graph(7, is_directed=false)"
   ]
  },
  {
   "cell_type": "code",
   "execution_count": 11,
   "metadata": {
    "collapsed": false
   },
   "outputs": [
    {
     "data": {
      "text/plain": [
       "edge [15]: 6 -- 7"
      ]
     },
     "execution_count": 11,
     "metadata": {},
     "output_type": "execute_result"
    }
   ],
   "source": [
    "Graphs.add_edge!(g, 1, 2)\n",
    "Graphs.add_edge!(g, 1, 3)\n",
    "Graphs.add_edge!(g, 1, 5)\n",
    "Graphs.add_edge!(g, 1, 7)\n",
    "Graphs.add_edge!(g, 2, 3)\n",
    "Graphs.add_edge!(g, 2, 5)\n",
    "Graphs.add_edge!(g, 2, 6)\n",
    "Graphs.add_edge!(g, 2, 7)\n",
    "Graphs.add_edge!(g, 3, 4)\n",
    "Graphs.add_edge!(g, 3, 6)\n",
    "Graphs.add_edge!(g, 3, 7)\n",
    "Graphs.add_edge!(g, 4, 6)\n",
    "Graphs.add_edge!(g, 4, 7)\n",
    "Graphs.add_edge!(g, 5, 6)\n",
    "Graphs.add_edge!(g, 6, 7)"
   ]
  },
  {
   "cell_type": "code",
   "execution_count": 12,
   "metadata": {
    "collapsed": false
   },
   "outputs": [
    {
     "data": {
      "text/plain": [
       "15-element Array{Float64,1}:\n",
       " 0.00956345\n",
       " 0.952837  \n",
       " 0.775323  \n",
       " 0.0875062 \n",
       " 0.546019  \n",
       " 0.573757  \n",
       " 0.43756   \n",
       " 0.665684  \n",
       " 0.445205  \n",
       " 0.248718  \n",
       " 0.977219  \n",
       " 0.732508  \n",
       " 0.149959  \n",
       " 0.284119  \n",
       " 0.990848  "
      ]
     },
     "execution_count": 12,
     "metadata": {},
     "output_type": "execute_result"
    }
   ],
   "source": [
    "w = [0.00956345, 0.952837, 0.775323, 0.0875062, 0.546019, 0.573757, 0.43756, 0.665684, 0.445205, 0.248718, 0.977219, 0.732508, 0.149959, 0.284119, 0.990848]"
   ]
  },
  {
   "cell_type": "markdown",
   "metadata": {},
   "source": [
    "### Loading Conventional Dataset and Obtaining the Features Graph"
   ]
  },
  {
   "cell_type": "code",
   "execution_count": 13,
   "metadata": {
    "collapsed": false
   },
   "outputs": [
    {
     "data": {
      "text/plain": [
       "39645x61 Array{Any,2}:\n",
       " \"url\"                                                                                    …      \" shares\"\n",
       " \"http://mashable.com/2013/01/07/amazon-instant-video-browser/\"                               593         \n",
       " \"http://mashable.com/2013/01/07/ap-samsung-sponsored-tweets/\"                                711         \n",
       " \"http://mashable.com/2013/01/07/apple-40-billion-app-downloads/\"                            1500         \n",
       " \"http://mashable.com/2013/01/07/astronaut-notre-dame-bcs/\"                                  1200         \n",
       " \"http://mashable.com/2013/01/07/att-u-verse-apps/\"                                       …   505         \n",
       " \"http://mashable.com/2013/01/07/beewi-smart-toys/\"                                           855         \n",
       " \"http://mashable.com/2013/01/07/bodymedia-armbandgets-update/\"                               556         \n",
       " \"http://mashable.com/2013/01/07/canon-poweshot-n/\"                                           891         \n",
       " \"http://mashable.com/2013/01/07/car-of-the-future-infographic/\"                             3600         \n",
       " \"http://mashable.com/2013/01/07/chuck-hagel-website/\"                                    …   710         \n",
       " \"http://mashable.com/2013/01/07/cosmic-events-doomsday/\"                                    2200         \n",
       " \"http://mashable.com/2013/01/07/crayon-creatures/\"                                          1900         \n",
       " ⋮                                                                                        ⋱     ⋮         \n",
       " \"http://mashable.com/2014/12/27/las-vegas-new-years/\"                                       1700         \n",
       " \"http://mashable.com/2014/12/27/lbj-adviser-slams-selma/\"                                   1500         \n",
       " \"http://mashable.com/2014/12/27/music-grid-outfits/\"                                     …  1000         \n",
       " \"http://mashable.com/2014/12/27/nike-marc-newson/\"                                          1300         \n",
       " \"http://mashable.com/2014/12/27/north-korea-internet-outage-2/\"                             1700         \n",
       " \"http://mashable.com/2014/12/27/nypd-rafael-ramos-funeral/\"                                 1400         \n",
       " \"http://mashable.com/2014/12/27/protests-continue-ramos-funeral/\"                           1200         \n",
       " \"http://mashable.com/2014/12/27/samsung-app-autism/\"                                     …  1800         \n",
       " \"http://mashable.com/2014/12/27/seth-rogen-james-franco-will-live-tweet-the-interview/\"     1900         \n",
       " \"http://mashable.com/2014/12/27/son-pays-off-mortgage/\"                                     1900         \n",
       " \"http://mashable.com/2014/12/27/ukraine-blasts/\"                                            1100         \n",
       " \"http://mashable.com/2014/12/27/youtube-channels-2015/\"                                     1300         "
      ]
     },
     "execution_count": 13,
     "metadata": {},
     "output_type": "execute_result"
    }
   ],
   "source": [
    "ONP = readcsv(\"D:\\\\data\\\\OnlineNewsPopularity\\\\OnlineNewsPopularity.csv\")"
   ]
  },
  {
   "cell_type": "code",
   "execution_count": 14,
   "metadata": {
    "collapsed": false
   },
   "outputs": [
    {
     "data": {
      "text/plain": [
       "59"
      ]
     },
     "execution_count": 14,
     "metadata": {},
     "output_type": "execute_result"
    }
   ],
   "source": [
    "nd = size(ONP, 2) - 2 # number of dimensions (without the target variable or the index)"
   ]
  },
  {
   "cell_type": "code",
   "execution_count": 15,
   "metadata": {
    "collapsed": false
   },
   "outputs": [
    {
     "data": {
      "text/plain": [
       "39644x60 Array{Float64,2}:\n",
       "  1.75786   0.757438  -0.695202   …  -1.8107     0.138918   -0.241025 \n",
       "  1.75786  -0.661648  -0.618786       0.837738  -0.689649   -0.230876 \n",
       "  1.75786  -0.661648  -0.712183       0.837738  -0.689649   -0.163016 \n",
       "  1.75786  -0.661648  -0.0329325      0.837738  -0.689649   -0.188818 \n",
       "  1.75786   1.23047    1.11543       -1.56993   -0.0870549  -0.248593 \n",
       "  1.75786  -0.18862   -0.37468    …  -1.054      0.257285   -0.218491 \n",
       "  1.75786  -1.13468    0.877688       0.837738  -0.689649   -0.244207 \n",
       "  1.75786   0.757438   0.939245       0.837738   1.51986    -0.215394 \n",
       "  1.75786   0.284409  -0.954166       0.17563   -0.689649    0.0175988\n",
       "  1.75786  -0.18862   -0.66973        0.837738  -0.689649   -0.230962 \n",
       "  1.75786  -0.661648   1.48901    …   0.837738  -0.689649   -0.102811 \n",
       "  1.75786  -0.18862   -0.763127       0.837738  -0.689649   -0.128613 \n",
       "  1.75786  -0.661648  -0.578456       0.837738   3.72938    -0.221243 \n",
       "  ⋮                               ⋱                                   \n",
       " -1.61339   2.17652    0.0710778     -1.8107     1.51986    -0.145815 \n",
       " -1.61339  -0.661648   0.143248       0.837738  -0.689649   -0.163016 \n",
       " -1.61339  -0.661648  -0.627277       0.837738  -0.689649   -0.20602  \n",
       " -1.61339   1.23047   -0.145433   …   0.308051  -0.689649   -0.180218 \n",
       " -1.61806  -1.13468    4.16568        0.837738  -0.689649   -0.145815 \n",
       " -1.61806   1.23047    2.29775       -0.309917   1.96177    -0.171617 \n",
       " -1.61806   0.284409  -0.686711       0.837738  -0.689649   -0.188818 \n",
       " -1.61806   0.284409  -0.425624       0.308051  -0.689649   -0.137214 \n",
       " -1.61806   0.757438  -0.463832   …  -0.751322   3.72938    -0.128613 \n",
       " -1.61806  -0.18862   -0.221849      -1.56993   -0.0870549  -0.128613 \n",
       " -1.61806  -2.08073    0.287589       0.837738  -0.689649   -0.197419 \n",
       " -1.61806  -0.18862   -0.826806      -0.927885   0.415107   -0.180218 "
      ]
     },
     "execution_count": 15,
     "metadata": {},
     "output_type": "execute_result"
    }
   ],
   "source": [
    "ONP = normalize(map(Float64,ONP[2:end,2:end]), \"stat\")"
   ]
  },
  {
   "cell_type": "code",
   "execution_count": 16,
   "metadata": {
    "collapsed": false
   },
   "outputs": [],
   "source": [
    "F = ONP[:,1:(end-1)];"
   ]
  },
  {
   "cell_type": "code",
   "execution_count": 17,
   "metadata": {
    "collapsed": false
   },
   "outputs": [
    {
     "data": {
      "text/plain": [
       "59x59 Array{Float64,2}:\n",
       "  1.0          -0.24032      -0.0628668    …   0.0115507   -0.00274519\n",
       " -0.24032       1.0           0.0181596       -0.146954     0.0405497 \n",
       " -0.0628668     0.0181596     1.0              0.00713597   0.0134393 \n",
       "  0.00286616   -0.00531822   -0.00473669      -0.00924245  -0.00421656\n",
       "  8.93253e-5   -0.00475391    0.0175118       -0.0085109   -0.0043914 \n",
       "  0.00380488   -0.00541976    0.000373251  …  -0.0085723   -0.00534239\n",
       " -0.000832066  -0.0534962     0.423065         0.00944307   0.0565254 \n",
       "  0.0645305    -0.0148562     0.304682         0.00896102  -0.00670937\n",
       " -0.0276359    -0.00885831    0.3426          -0.0137594    0.0633067 \n",
       "  0.000935717   0.0514602     0.103699        -0.0219817    0.0552314 \n",
       "  0.130465     -0.0714025     0.167789     …   0.0265856   -0.0369527 \n",
       "  0.0468835    -0.00607696    0.0728448       -0.0109917    0.0235327 \n",
       "  0.0544918    -0.0708153     0.0375483        0.00686095   0.0179655 \n",
       "  ⋮                                        ⋱                          \n",
       "  0.198654     -0.0665891     0.0989595       -0.0178757   -0.00335593\n",
       " -0.0719683     0.0341856     0.101053         0.0408978   -0.0264951 \n",
       "  0.126344     -0.0496191     0.135123         0.0151413    0.101191  \n",
       "  0.054772     -0.0250685    -0.261493     …   0.0169914    0.0115123 \n",
       "  0.098288     -0.0216617     0.415706        -0.0171307    0.0829661 \n",
       " -0.000506516  -0.0170959    -0.130375        -0.00657289  -0.0755941 \n",
       "  0.0621751    -0.0291456    -0.450603        -0.0105306   -0.0583981 \n",
       " -0.0632387     0.0114246     0.22587         -0.00187736  -0.0174443 \n",
       " -0.0159186     0.0772448     0.00448381   …  -0.487172     0.714528  \n",
       "  0.0387106     0.000239599   0.0233577       -0.240112     0.410205  \n",
       "  0.0115507    -0.146954      0.00713597       1.0         -0.400272  \n",
       " -0.00274519    0.0405497     0.0134393       -0.400272     1.0       "
      ]
     },
     "execution_count": 17,
     "metadata": {},
     "output_type": "execute_result"
    }
   ],
   "source": [
    "CM = cor(F) # Correlation Matrix"
   ]
  },
  {
   "cell_type": "code",
   "execution_count": 18,
   "metadata": {
    "collapsed": false
   },
   "outputs": [
    {
     "data": {
      "text/plain": [
       "59x59 Array{Bool,2}:\n",
       "  true  false   true   true  false  …  false  false  false   true  false\n",
       "  true  false   true   true  false     false  false  false  false   true\n",
       " false   true   true  false  false     false   true  false  false   true\n",
       " false  false   true  false  false      true   true  false   true  false\n",
       "  true   true  false   true  false     false   true  false   true   true\n",
       " false  false   true  false  false  …   true   true  false   true  false\n",
       " false  false   true   true  false      true   true  false  false   true\n",
       "  true  false   true   true  false      true   true   true  false   true\n",
       "  true  false   true  false  false      true   true  false  false   true\n",
       " false  false   true   true  false     false   true   true  false   true\n",
       " false  false  false   true  false  …  false   true   true  false   true\n",
       " false  false  false   true  false      true   true  false  false   true\n",
       " false   true   true   true  false     false  false   true   true  false\n",
       "     ⋮                              ⋱             ⋮                     \n",
       "  true  false   true  false  false      true   true   true   true  false\n",
       " false  false   true  false  false      true   true  false   true  false\n",
       " false  false   true   true  false      true   true  false   true  false\n",
       "  true  false   true  false  false  …   true   true   true   true  false\n",
       " false  false   true  false  false      true   true   true   true   true\n",
       "  true  false   true  false  false      true   true   true   true  false\n",
       "  true  false   true   true   true      true  false   true   true  false\n",
       "  true   true   true   true  false     false  false  false  false   true\n",
       "  true  false   true  false   true  …  false  false   true  false  false\n",
       "  true  false   true  false  false      true  false  false   true  false\n",
       " false  false   true  false  false      true  false   true  false   true\n",
       "  true  false   true  false  false      true   true   true   true   true"
      ]
     },
     "execution_count": 18,
     "metadata": {},
     "output_type": "execute_result"
    }
   ],
   "source": [
    "M = Array(Bool, nd, nd) # connectivity matrix, based on strong correlations"
   ]
  },
  {
   "cell_type": "code",
   "execution_count": 19,
   "metadata": {
    "collapsed": true
   },
   "outputs": [],
   "source": [
    "for i = 1:(nd-1)\n",
    "    M[i,i] = true\n",
    "    for j = (i+1):nd\n",
    "        M[i,j] = M[j,i] = (abs(CM[i,j]) .> 0.7)\n",
    "    end\n",
    "end"
   ]
  },
  {
   "cell_type": "code",
   "execution_count": 23,
   "metadata": {
    "collapsed": false
   },
   "outputs": [
    {
     "data": {
      "text/plain": [
       "17x2 Array{Int64,2}:\n",
       "  4   5\n",
       "  4   6\n",
       "  5   6\n",
       " 15  39\n",
       " 17  43\n",
       " 18  41\n",
       " 19  23\n",
       " 20  21\n",
       " 26  27\n",
       " 28  30\n",
       " 29  30\n",
       " 37  38\n",
       " 45  48\n",
       " 47  49\n",
       " 50  52\n",
       " 53  54\n",
       " 56  59"
      ]
     },
     "execution_count": 23,
     "metadata": {},
     "output_type": "execute_result"
    }
   ],
   "source": [
    "E = CM2EL(M)"
   ]
  },
  {
   "cell_type": "code",
   "execution_count": 24,
   "metadata": {
    "collapsed": false
   },
   "outputs": [
    {
     "data": {
      "text/plain": [
       "Undirected Graph (59 vertices, 0 edges)"
      ]
     },
     "execution_count": 24,
     "metadata": {},
     "output_type": "execute_result"
    }
   ],
   "source": [
    "g2 = simple_graph(nd, is_directed=false)"
   ]
  },
  {
   "cell_type": "code",
   "execution_count": 25,
   "metadata": {
    "collapsed": false
   },
   "outputs": [],
   "source": [
    "for i = 1:size(E, 1)\n",
    "    e = E[i,:]\n",
    "    Graphs.add_edge!(g2, e[1], e[2])\n",
    "end"
   ]
  },
  {
   "cell_type": "code",
   "execution_count": 26,
   "metadata": {
    "collapsed": false
   },
   "outputs": [
    {
     "data": {
      "text/plain": [
       "Undirected Graph (59 vertices, 17 edges)"
      ]
     },
     "execution_count": 26,
     "metadata": {},
     "output_type": "execute_result"
    }
   ],
   "source": [
    "g2"
   ]
  },
  {
   "cell_type": "markdown",
   "metadata": {},
   "source": [
    "# Graph Analysis"
   ]
  },
  {
   "cell_type": "markdown",
   "metadata": {},
   "source": [
    "### Basic Stats of Graph"
   ]
  },
  {
   "cell_type": "code",
   "execution_count": 27,
   "metadata": {
    "collapsed": false
   },
   "outputs": [
    {
     "data": {
      "text/plain": [
       "7"
      ]
     },
     "execution_count": 27,
     "metadata": {},
     "output_type": "execute_result"
    }
   ],
   "source": [
    "num_vertices(g)"
   ]
  },
  {
   "cell_type": "code",
   "execution_count": 28,
   "metadata": {
    "collapsed": false
   },
   "outputs": [
    {
     "data": {
      "text/plain": [
       "15"
      ]
     },
     "execution_count": 28,
     "metadata": {},
     "output_type": "execute_result"
    }
   ],
   "source": [
    "num_edges(g)"
   ]
  },
  {
   "cell_type": "code",
   "execution_count": 29,
   "metadata": {
    "collapsed": false
   },
   "outputs": [
    {
     "data": {
      "text/plain": [
       "1:7"
      ]
     },
     "execution_count": 29,
     "metadata": {},
     "output_type": "execute_result"
    }
   ],
   "source": [
    "Graphs.vertices(g)"
   ]
  },
  {
   "cell_type": "code",
   "execution_count": 30,
   "metadata": {
    "collapsed": false
   },
   "outputs": [
    {
     "data": {
      "text/plain": [
       "15-element Array{Graphs.Edge{Int64},1}:\n",
       " edge [1]: 1 -- 2 \n",
       " edge [2]: 1 -- 3 \n",
       " edge [3]: 1 -- 5 \n",
       " edge [4]: 1 -- 7 \n",
       " edge [5]: 2 -- 3 \n",
       " edge [6]: 2 -- 5 \n",
       " edge [7]: 2 -- 6 \n",
       " edge [8]: 2 -- 7 \n",
       " edge [9]: 3 -- 4 \n",
       " edge [10]: 3 -- 6\n",
       " edge [11]: 3 -- 7\n",
       " edge [12]: 4 -- 6\n",
       " edge [13]: 4 -- 7\n",
       " edge [14]: 5 -- 6\n",
       " edge [15]: 6 -- 7"
      ]
     },
     "execution_count": 30,
     "metadata": {},
     "output_type": "execute_result"
    },
    {
     "name": "stderr",
     "output_type": "stream",
     "text": [
      "WARNING: both LightGraphs and Graphs export \"Edge\"; uses of it in module Main must be qualified\n"
     ]
    }
   ],
   "source": [
    "Graphs.edges(g)"
   ]
  },
  {
   "cell_type": "code",
   "execution_count": 31,
   "metadata": {
    "collapsed": false
   },
   "outputs": [
    {
     "data": {
      "text/plain": [
       "false"
      ]
     },
     "execution_count": 31,
     "metadata": {},
     "output_type": "execute_result"
    }
   ],
   "source": [
    "Graphs.is_directed(g)"
   ]
  },
  {
   "cell_type": "code",
   "execution_count": 32,
   "metadata": {
    "collapsed": false
   },
   "outputs": [
    {
     "data": {
      "text/plain": [
       "4"
      ]
     },
     "execution_count": 32,
     "metadata": {},
     "output_type": "execute_result"
    }
   ],
   "source": [
    "out_degree(1, g)"
   ]
  },
  {
   "cell_type": "code",
   "execution_count": 33,
   "metadata": {
    "collapsed": false
   },
   "outputs": [
    {
     "data": {
      "text/plain": [
       "Graphs.TargetIterator{Graphs.GenericGraph{Int64,Graphs.Edge{Int64},UnitRange{Int64},Array{Graphs.Edge{Int64},1},Array{Array{Graphs.Edge{Int64},1},1}},Array{Graphs.Edge{Int64},1}}(Undirected Graph (7 vertices, 15 edges),[edge [1]: 1 -- 2,edge [2]: 1 -- 3,edge [3]: 1 -- 5,edge [4]: 1 -- 7])"
      ]
     },
     "execution_count": 33,
     "metadata": {},
     "output_type": "execute_result"
    }
   ],
   "source": [
    "Graphs.out_neighbors(1, g)"
   ]
  },
  {
   "cell_type": "code",
   "execution_count": 34,
   "metadata": {
    "collapsed": false
   },
   "outputs": [
    {
     "data": {
      "text/plain": [
       "5"
      ]
     },
     "execution_count": 34,
     "metadata": {},
     "output_type": "execute_result"
    }
   ],
   "source": [
    "n = num_vertices(g)\n",
    "d = Array(Int64, n)\n",
    "\n",
    "for i = 1:n\n",
    "    d[i] = out_degree(i, g)\n",
    "end\n",
    "\n",
    "dg = maximum(d)"
   ]
  },
  {
   "cell_type": "markdown",
   "metadata": {},
   "source": [
    "### Cycle Detection"
   ]
  },
  {
   "cell_type": "code",
   "execution_count": 35,
   "metadata": {
    "collapsed": false
   },
   "outputs": [
    {
     "data": {
      "text/plain": [
       "true"
      ]
     },
     "execution_count": 35,
     "metadata": {},
     "output_type": "execute_result"
    }
   ],
   "source": [
    "test_cyclic_by_dfs(g)"
   ]
  },
  {
   "cell_type": "code",
   "execution_count": 36,
   "metadata": {
    "collapsed": false
   },
   "outputs": [
    {
     "data": {
      "text/plain": [
       "true"
      ]
     },
     "execution_count": 36,
     "metadata": {},
     "output_type": "execute_result"
    }
   ],
   "source": [
    "test_cyclic_by_dfs(g2)"
   ]
  },
  {
   "cell_type": "markdown",
   "metadata": {},
   "source": [
    "### Connected Components"
   ]
  },
  {
   "cell_type": "code",
   "execution_count": 37,
   "metadata": {
    "collapsed": false
   },
   "outputs": [
    {
     "data": {
      "text/plain": [
       "1-element Array{Array{Int64,1},1}:\n",
       " [1,2,3,5,7,6,4]"
      ]
     },
     "execution_count": 37,
     "metadata": {},
     "output_type": "execute_result"
    }
   ],
   "source": [
    "Graphs.connected_components(g)"
   ]
  },
  {
   "cell_type": "code",
   "execution_count": 38,
   "metadata": {
    "collapsed": false
   },
   "outputs": [
    {
     "data": {
      "text/plain": [
       "43-element Array{Array{Int64,1},1}:\n",
       " [1]    \n",
       " [2]    \n",
       " [3]    \n",
       " [4,5,6]\n",
       " [7]    \n",
       " [8]    \n",
       " [9]    \n",
       " [10]   \n",
       " [11]   \n",
       " [12]   \n",
       " [13]   \n",
       " [14]   \n",
       " [15,39]\n",
       " ⋮      \n",
       " [42]   \n",
       " [44]   \n",
       " [45,48]\n",
       " [46]   \n",
       " [47,49]\n",
       " [50,52]\n",
       " [51]   \n",
       " [53,54]\n",
       " [55]   \n",
       " [56,59]\n",
       " [57]   \n",
       " [58]   "
      ]
     },
     "execution_count": 38,
     "metadata": {},
     "output_type": "execute_result"
    }
   ],
   "source": [
    "Graphs.connected_components(g2)"
   ]
  },
  {
   "cell_type": "code",
   "execution_count": 39,
   "metadata": {
    "collapsed": false
   },
   "outputs": [
    {
     "data": {
      "text/plain": [
       "0.714527589349792"
      ]
     },
     "execution_count": 39,
     "metadata": {},
     "output_type": "execute_result"
    }
   ],
   "source": [
    "CM[56, 59]"
   ]
  },
  {
   "cell_type": "markdown",
   "metadata": {},
   "source": [
    "### Maximal Clique"
   ]
  },
  {
   "cell_type": "code",
   "execution_count": 40,
   "metadata": {
    "collapsed": false
   },
   "outputs": [
    {
     "data": {
      "text/plain": [
       "5-element Array{Array{Int64,N},1}:\n",
       " [4,7,3,6]\n",
       " [2,7,3,6]\n",
       " [2,7,3,1]\n",
       " [2,5,6]  \n",
       " [2,5,1]  "
      ]
     },
     "execution_count": 40,
     "metadata": {},
     "output_type": "execute_result"
    }
   ],
   "source": [
    "Graphs.maximal_cliques(g)"
   ]
  },
  {
   "cell_type": "markdown",
   "metadata": {},
   "source": [
    "### Shortest Distance / Path in a Graph"
   ]
  },
  {
   "cell_type": "code",
   "execution_count": 41,
   "metadata": {
    "collapsed": false
   },
   "outputs": [
    {
     "data": {
      "text/plain": [
       "15-element Array{Float64,1}:\n",
       " 0.990437\n",
       " 0.047163\n",
       " 0.224677\n",
       " 0.912494\n",
       " 0.453981\n",
       " 0.426243\n",
       " 0.56244 \n",
       " 0.334316\n",
       " 0.554795\n",
       " 0.751282\n",
       " 0.022781\n",
       " 0.267492\n",
       " 0.850041\n",
       " 0.715881\n",
       " 0.009152"
      ]
     },
     "execution_count": 41,
     "metadata": {},
     "output_type": "execute_result"
    }
   ],
   "source": [
    "ww = 1 - w"
   ]
  },
  {
   "cell_type": "code",
   "execution_count": 42,
   "metadata": {
    "collapsed": false
   },
   "outputs": [
    {
     "data": {
      "text/plain": [
       "Graphs.DijkstraStates{Int64,Float64,DataStructures.MutableBinaryHeap{Graphs.DijkstraHEntry{Int64,Float64},DataStructures.LessThan},Int64}([1,7,1,6,1,7,3],[1,7,1,6,1,7,3],[0.0,0.40425999999999995,0.047162999999999955,0.346588,0.22467700000000002,0.07909600000000006,0.069944],[2,2,2,2,2,2,2],MutableBinaryHeap(),[0,1,2,5,3,6,4])"
      ]
     },
     "execution_count": 42,
     "metadata": {},
     "output_type": "execute_result"
    }
   ],
   "source": [
    "z = Graphs.dijkstra_shortest_paths(g, ww, 1)"
   ]
  },
  {
   "cell_type": "code",
   "execution_count": 43,
   "metadata": {
    "collapsed": false
   },
   "outputs": [
    {
     "data": {
      "text/plain": [
       "7-element Array{Int64,1}:\n",
       " 1\n",
       " 7\n",
       " 1\n",
       " 6\n",
       " 1\n",
       " 7\n",
       " 3"
      ]
     },
     "execution_count": 43,
     "metadata": {},
     "output_type": "execute_result"
    }
   ],
   "source": [
    "z.parents"
   ]
  },
  {
   "cell_type": "code",
   "execution_count": 44,
   "metadata": {
    "collapsed": false
   },
   "outputs": [
    {
     "data": {
      "text/plain": [
       "7-element Array{Float64,1}:\n",
       " 0.0     \n",
       " 0.40426 \n",
       " 0.047163\n",
       " 0.346588\n",
       " 0.224677\n",
       " 0.079096\n",
       " 0.069944"
      ]
     },
     "execution_count": 44,
     "metadata": {},
     "output_type": "execute_result"
    }
   ],
   "source": [
    "z.dists"
   ]
  },
  {
   "cell_type": "markdown",
   "metadata": {},
   "source": [
    "### Minimum Spanning Trees"
   ]
  },
  {
   "cell_type": "code",
   "execution_count": 45,
   "metadata": {
    "collapsed": false
   },
   "outputs": [
    {
     "data": {
      "text/plain": [
       "([edge [15]: 6 -- 7,edge [11]: 3 -- 7,edge [2]: 1 -- 3,edge [3]: 1 -- 5,edge [12]: 4 -- 6,edge [8]: 2 -- 7],[0.009152000000000049,0.02278100000000005,0.047162999999999955,0.22467700000000002,0.26749199999999995,0.33431599999999995])"
      ]
     },
     "execution_count": 45,
     "metadata": {},
     "output_type": "execute_result"
    }
   ],
   "source": [
    "E, W = kruskal_minimum_spantree(g, ww)"
   ]
  },
  {
   "cell_type": "code",
   "execution_count": 46,
   "metadata": {
    "collapsed": false
   },
   "outputs": [
    {
     "data": {
      "text/plain": [
       "0.15093016666666667"
      ]
     },
     "execution_count": 46,
     "metadata": {},
     "output_type": "execute_result"
    }
   ],
   "source": [
    "mean(W)"
   ]
  },
  {
   "cell_type": "markdown",
   "metadata": {},
   "source": [
    "# I/O Operations with Graph Data"
   ]
  },
  {
   "cell_type": "markdown",
   "metadata": {},
   "source": [
    "### Graph Transformation"
   ]
  },
  {
   "cell_type": "code",
   "execution_count": 47,
   "metadata": {
    "collapsed": false
   },
   "outputs": [
    {
     "data": {
      "text/plain": [
       "{7, 15} undirected graph"
      ]
     },
     "execution_count": 47,
     "metadata": {},
     "output_type": "execute_result"
    }
   ],
   "source": [
    "gg = G2LG(g)"
   ]
  },
  {
   "cell_type": "markdown",
   "metadata": {},
   "source": [
    "### Saving a Graph"
   ]
  },
  {
   "cell_type": "code",
   "execution_count": 48,
   "metadata": {
    "collapsed": false
   },
   "outputs": [
    {
     "data": {
      "text/plain": [
       "1"
      ]
     },
     "execution_count": 48,
     "metadata": {},
     "output_type": "execute_result"
    }
   ],
   "source": [
    "save(\"graph data.jgz\", gg, \"AliceGang\", compress=true)"
   ]
  },
  {
   "cell_type": "markdown",
   "metadata": {},
   "source": [
    "### Loading a Graph"
   ]
  },
  {
   "cell_type": "code",
   "execution_count": 49,
   "metadata": {
    "collapsed": false
   },
   "outputs": [
    {
     "data": {
      "text/plain": [
       "{7, 15} undirected graph"
      ]
     },
     "execution_count": 49,
     "metadata": {},
     "output_type": "execute_result"
    }
   ],
   "source": [
    "gg_loaded = load(\"graph data.jgz\", \"AliceGang\")"
   ]
  },
  {
   "cell_type": "markdown",
   "metadata": {},
   "source": [
    "### Graph Transformation Again"
   ]
  },
  {
   "cell_type": "code",
   "execution_count": 50,
   "metadata": {
    "collapsed": false
   },
   "outputs": [
    {
     "data": {
      "text/plain": [
       "Undirected Graph (7 vertices, 15 edges)"
      ]
     },
     "execution_count": 50,
     "metadata": {},
     "output_type": "execute_result"
    }
   ],
   "source": [
    "g_loaded = LG2G(gg_loaded)"
   ]
  },
  {
   "cell_type": "code",
   "execution_count": 52,
   "metadata": {
    "collapsed": false
   },
   "outputs": [
    {
     "data": {
      "text/plain": [
       "15x2 Array{Graphs.Edge{Int64},2}:\n",
       " edge [1]: 1 -- 2   edge [1]: 1 -- 2 \n",
       " edge [2]: 1 -- 3   edge [2]: 1 -- 3 \n",
       " edge [3]: 1 -- 5   edge [3]: 1 -- 5 \n",
       " edge [4]: 1 -- 7   edge [4]: 1 -- 7 \n",
       " edge [5]: 2 -- 3   edge [5]: 2 -- 3 \n",
       " edge [6]: 2 -- 5   edge [6]: 2 -- 5 \n",
       " edge [7]: 2 -- 6   edge [7]: 2 -- 6 \n",
       " edge [8]: 2 -- 7   edge [8]: 2 -- 7 \n",
       " edge [9]: 3 -- 4   edge [9]: 3 -- 4 \n",
       " edge [10]: 3 -- 6  edge [10]: 3 -- 6\n",
       " edge [11]: 3 -- 7  edge [11]: 3 -- 7\n",
       " edge [12]: 4 -- 6  edge [12]: 4 -- 6\n",
       " edge [13]: 4 -- 7  edge [13]: 4 -- 7\n",
       " edge [14]: 5 -- 6  edge [14]: 5 -- 6\n",
       " edge [15]: 6 -- 7  edge [15]: 6 -- 7"
      ]
     },
     "execution_count": 52,
     "metadata": {},
     "output_type": "execute_result"
    }
   ],
   "source": [
    "hcat(Graphs.edges(g_loaded), Graphs.edges(g))"
   ]
  }
 ],
 "metadata": {
  "kernelspec": {
   "display_name": "Julia 0.4.5",
   "language": "julia",
   "name": "julia-0.4"
  },
  "language_info": {
   "file_extension": ".jl",
   "mimetype": "application/julia",
   "name": "julia",
   "version": "0.4.5"
  }
 },
 "nbformat": 4,
 "nbformat_minor": 0
}
