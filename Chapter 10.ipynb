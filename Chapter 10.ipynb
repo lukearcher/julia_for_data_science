{
 "cells": [
  {
   "cell_type": "markdown",
   "metadata": {},
   "source": [
    "# Initialization"
   ]
  },
  {
   "cell_type": "markdown",
   "metadata": {},
   "source": [
    "### Packages"
   ]
  },
  {
   "cell_type": "code",
   "execution_count": 1,
   "metadata": {
    "collapsed": false
   },
   "outputs": [
    {
     "name": "stderr",
     "output_type": "stream",
     "text": [
      "INFO: Nothing to be done\n",
      "INFO: METADATA is out-of-date — you may not have the latest version of Distances\n",
      "INFO: Use `Pkg.update()` to get the latest versions of your packages\n"
     ]
    }
   ],
   "source": [
    "Pkg.add(\"Distances\")"
   ]
  },
  {
   "cell_type": "code",
   "execution_count": 2,
   "metadata": {
    "collapsed": false
   },
   "outputs": [
    {
     "name": "stderr",
     "output_type": "stream",
     "text": [
      "INFO: Nothing to be done\n",
      "INFO: METADATA is out-of-date — you may not have the latest version of Clustering\n",
      "INFO: Use `Pkg.update()` to get the latest versions of your packages\n"
     ]
    }
   ],
   "source": [
    "Pkg.add(\"Clustering\")"
   ]
  },
  {
   "cell_type": "code",
   "execution_count": 3,
   "metadata": {
    "collapsed": false
   },
   "outputs": [
    {
     "name": "stderr",
     "output_type": "stream",
     "text": [
      "INFO: Nothing to be done\n",
      "INFO: METADATA is out-of-date — you may not have the latest version of QuickShiftClustering\n",
      "INFO: Use `Pkg.update()` to get the latest versions of your packages\n"
     ]
    }
   ],
   "source": [
    "Pkg.add(\"QuickShiftClustering\")"
   ]
  },
  {
   "cell_type": "code",
   "execution_count": 4,
   "metadata": {
    "collapsed": false
   },
   "outputs": [
    {
     "name": "stderr",
     "output_type": "stream",
     "text": [
      "INFO: Updating METADATA...\n",
      "INFO: Updating cache of LightXML...\n",
      "INFO: Updating cache of IJulia...\n",
      "INFO: Updating cache of Iterators...\n",
      "INFO: Updating cache of Codecs...\n",
      "INFO: Updating GeneratedTypes...\n",
      "INFO: Updating GeneratedTables...\n",
      "INFO: Updating TSne...\n",
      "INFO: Updating GraphPlot...\n",
      "INFO: Updating ComputeFramework...\n",
      "INFO: Updating ELM...\n",
      "INFO: Updating PlotlyJS...\n",
      "INFO: Updating ROC...\n",
      "INFO: Computing changes...\n",
      "INFO: Upgrading Codecs: v0.1.5 => v0.2.0\n",
      "INFO: Upgrading Discretizers: v0.2.0 => v0.3.0\n",
      "INFO: Upgrading IJulia: v1.1.10 => v1.2.0\n",
      "INFO: Upgrading Iterators: v0.1.9 => v0.1.10\n",
      "INFO: Upgrading LightXML: v0.2.1 => v0.3.0\n",
      "INFO: Building Rmath\n",
      "INFO: Building WinRPM\n",
      "INFO: Downloading https://cache.julialang.org/http://download.opensuse.org/repositories/windows:/mingw:/win32/openSUSE_13.2/repodata/repomd.xml\n",
      "INFO: Downloading https://cache.julialang.org/http://download.opensuse.org/repositories/windows:/mingw:/win32/openSUSE_13.2/repodata/1c5e2131aa6f41f3b5a48396d8a597b03898b6db7e3375473db4f66c7ff1de7c-primary.xml.gz\n",
      "INFO: Downloading https://cache.julialang.org/http://download.opensuse.org/repositories/windows:/mingw:/win64/openSUSE_13.2/repodata/repomd.xml\n",
      "INFO: Downloading https://cache.julialang.org/http://download.opensuse.org/repositories/windows:/mingw:/win64/openSUSE_13.2/repodata/d211d93ddc3bb766ba4b9f8f4e4d3cc9608d6f470c605491265ecb1efb351592-primary.xml.gz\n",
      "INFO: Building Nettle\n",
      "INFO: Updating WinRPM package list\n",
      "INFO: Downloading https://cache.julialang.org/http://download.opensuse.org/repositories/windows:/mingw:/win32/openSUSE_13.2/repodata/repomd.xml\n",
      "INFO: Downloading https://cache.julialang.org/http://download.opensuse.org/repositories/windows:/mingw:/win64/openSUSE_13.2/repodata/repomd.xml\n",
      "INFO: Building ZMQ\n",
      "INFO: Building IJulia\n",
      "INFO: Installing Jupyter via the Conda package.\n"
     ]
    },
    {
     "name": "stdout",
     "output_type": "stream",
     "text": [
      "Fetching package metadata .........\n",
      "Solving package specifications: ..........\n",
      "\n",
      "Package plan for installation in environment C:\\Users\\Zacharias\\.julia\\v0.4\\Conda\\deps\\usr:\n",
      "\n",
      "The following packages will be downloaded:\n",
      "\n",
      "    package                    |            build\n",
      "    ---------------------------|-----------------\n",
      "    jupyter-1.0.0              |           py27_3           3 KB\n",
      "\n",
      "The following packages will be UPDATED:\n",
      "\n",
      "    jupyter: 1.0.0-py27_2 --> 1.0.0-py27_3\n",
      "\n",
      "Fetching packages ...\n",
      "jupyter-1.0.0- 100% |###############################| Time: 0:00:00 334.13 kB/s\n",
      "Extracting packages ...\n",
      "[      COMPLETE      ]|##################################################| 100%\n",
      "Unlinking packages ...\n",
      "[      COMPLETE      ]|##################################################| 100%\n",
      "Linking packages ...\n",
      "[      COMPLETE      ]|##################################################| 100%\n"
     ]
    },
    {
     "name": "stderr",
     "output_type": "stream",
     "text": [
      "INFO: Found Jupyter version 4.1.0: C:\\Users\\Zacharias\\.julia\\v0.4\\Conda\\deps\\usr\\Scripts\\jupyter\n",
      "Writing IJulia kernelspec to C:\\Users\\Zacharias\\.julia\\v0.4\\IJulia\\deps\\julia-0.4\\kernel.json ...\n",
      "Installing julia kernelspec julia-0.4\n",
      "[InstallKernelSpec] Removing existing kernelspec in C:\\Users\\Zacharias\\AppData\\Roaming\\jupyter\\kernels\\julia-0.4\n",
      "[InstallKernelSpec] Installed kernelspec julia-0.4 in C:\\Users\\Zacharias\\AppData\\Roaming\\jupyter\\kernels\\julia-0.4\n",
      "INFO: Building LightXML\n",
      "INFO: Nothing to do\n"
     ]
    }
   ],
   "source": [
    "Pkg.update()"
   ]
  },
  {
   "cell_type": "code",
   "execution_count": 5,
   "metadata": {
    "collapsed": false
   },
   "outputs": [],
   "source": [
    "using Distances"
   ]
  },
  {
   "cell_type": "code",
   "execution_count": 6,
   "metadata": {
    "collapsed": false
   },
   "outputs": [
    {
     "name": "stderr",
     "output_type": "stream",
     "text": [
      "INFO: Recompiling stale cache file C:\\Users\\Zacharias\\.julia\\lib\\v0.4\\Clustering.ji for module Clustering.\n",
      "INFO: Recompiling stale cache file C:\\Users\\Zacharias\\.julia\\lib\\v0.4\\Rmath.ji for module Rmath.\n",
      "INFO: Recompiling stale cache file C:\\Users\\Zacharias\\.julia\\lib\\v0.4\\StatsBase.ji for module StatsBase.\n",
      "INFO: Recompiling stale cache file C:\\Users\\Zacharias\\.julia\\lib\\v0.4\\StatsFuns.ji for module StatsFuns.\n"
     ]
    }
   ],
   "source": [
    "using Clustering"
   ]
  },
  {
   "cell_type": "markdown",
   "metadata": {},
   "source": [
    "### Auxiliary Functions"
   ]
  },
  {
   "cell_type": "code",
   "execution_count": 7,
   "metadata": {
    "collapsed": false
   },
   "outputs": [
    {
     "data": {
      "text/plain": [
       "normalize (generic function with 4 methods)"
      ]
     },
     "execution_count": 7,
     "metadata": {},
     "output_type": "execute_result"
    }
   ],
   "source": [
    "function normalize{T<:Real}(x::Array{T,1}, method = \"stat\")\n",
    "    # normalize a variable to the interval [0, 1] or (0, 1)\n",
    "\n",
    "    method = lowercase(method)\n",
    "\n",
    "    if method == \"linear\"\n",
    "        m = minimum(x)\n",
    "        y = (x - m) / (maximum(x) - m)\n",
    "    elseif method == \"stat\"\n",
    "        mx = mean(x)\n",
    "        sx = std(x)\n",
    "        y = (x - mx) / sx\n",
    "    else\n",
    "        error(\"invalid normalization method! Please select either \"\"stat\"\" or \"\"linear\"\"!\")\n",
    "    end\n",
    "\n",
    "    return y\n",
    "end\n",
    "\n",
    "function normalize{T<:Real}(X::Array{T,2}, method = \"stat\")\n",
    "    N, n = size(X)\n",
    "    Y = Array(Float64, N, n)\n",
    "\n",
    "    for i = 1:n\n",
    "        x = X[:,i]\n",
    "        y = normalize(x, method)\n",
    "        Y[:,i] = y\n",
    "    end\n",
    "\n",
    "    return Y\n",
    "end"
   ]
  },
  {
   "cell_type": "code",
   "execution_count": 8,
   "metadata": {
    "collapsed": false
   },
   "outputs": [
    {
     "data": {
      "text/plain": [
       "dist (generic function with 1 method)"
      ]
     },
     "execution_count": 8,
     "metadata": {},
     "output_type": "execute_result"
    }
   ],
   "source": [
    "function dist(X::Array{Float64,2}, x::Array{Float64,2}, i::Int64)\n",
    "    d = Array(Float64, i)\n",
    "\n",
    "    for j = 1:i\n",
    "        d[j] = norm(X[j,:] - x)\n",
    "    end\n",
    "\n",
    "    return d\n",
    "end"
   ]
  },
  {
   "cell_type": "code",
   "execution_count": 9,
   "metadata": {
    "collapsed": false
   },
   "outputs": [
    {
     "data": {
      "text/plain": [
       "dmatrix (generic function with 1 method)"
      ]
     },
     "execution_count": 9,
     "metadata": {},
     "output_type": "execute_result"
    }
   ],
   "source": [
    "function dmatrix(X::Array{Float64,2})\n",
    "    N = size(X,1)\n",
    "    D = zeros(N,N)\n",
    "\n",
    "    for i = 1:(N-1)   \n",
    "        i1 = i + 1\n",
    "        D[i,i1:end] = dist(X[i1:end,:], X[i,:], (N - i))\n",
    "        D[i1:end,i] = D[i,i1:end]\n",
    "    end\n",
    "\n",
    "    return D + D'\n",
    "end"
   ]
  },
  {
   "cell_type": "code",
   "execution_count": 50,
   "metadata": {
    "collapsed": false
   },
   "outputs": [
    {
     "data": {
      "text/plain": [
       "sil (generic function with 1 method)"
      ]
     },
     "execution_count": 50,
     "metadata": {},
     "output_type": "execute_result"
    }
   ],
   "source": [
    "function sil{T <: Integer}(labels::Array{T, 1}, D::Array{Float64, 2})\n",
    "    # Silhouettes metric (aka Silhouette Width) \n",
    "    \n",
    "    N = length(labels)\n",
    "    S = Array(Float64, N) # Silhouette values for particular data points\n",
    "    \n",
    "    for i = 1:N\n",
    "        same = (labels .== labels[i])\n",
    "        same[i] = false # exclude current data point\n",
    "        other = (labels .!= labels[i])\n",
    "        a = mean(D[i,same])      \n",
    "        b = minimum(D[i,other])\n",
    "        S[i] = (b - a) / max(a, b)\n",
    "    end\n",
    "    \n",
    "    s = mean(S) # overall Silhouette value\n",
    "    \n",
    "    return s, S \n",
    "end"
   ]
  },
  {
   "cell_type": "markdown",
   "metadata": {},
   "source": [
    "# Distance Metrics"
   ]
  },
  {
   "cell_type": "code",
   "execution_count": 11,
   "metadata": {
    "collapsed": false
   },
   "outputs": [
    {
     "data": {
      "text/plain": [
       "3-element Array{Float64,1}:\n",
       " -1.0\n",
       "  2.5\n",
       "  0.0"
      ]
     },
     "execution_count": 11,
     "metadata": {},
     "output_type": "execute_result"
    }
   ],
   "source": [
    "x = [1.0, 2.0, 3.0]\n",
    "y = [-1.0, 2.5, 0.0]"
   ]
  },
  {
   "cell_type": "code",
   "execution_count": 12,
   "metadata": {
    "collapsed": false
   },
   "outputs": [
    {
     "data": {
      "text/plain": [
       "3.640054944640259"
      ]
     },
     "execution_count": 12,
     "metadata": {},
     "output_type": "execute_result"
    }
   ],
   "source": [
    "d = evaluate(Euclidean(), x, y)"
   ]
  },
  {
   "cell_type": "code",
   "execution_count": 13,
   "metadata": {
    "collapsed": false
   },
   "outputs": [
    {
     "data": {
      "text/plain": [
       "5.5"
      ]
     },
     "execution_count": 13,
     "metadata": {},
     "output_type": "execute_result"
    }
   ],
   "source": [
    "d = evaluate(Cityblock(), x, y)"
   ]
  },
  {
   "cell_type": "code",
   "execution_count": 14,
   "metadata": {
    "collapsed": false
   },
   "outputs": [
    {
     "data": {
      "text/plain": [
       "0.6029666664116279"
      ]
     },
     "execution_count": 14,
     "metadata": {},
     "output_type": "execute_result"
    }
   ],
   "source": [
    "d = evaluate(CosineDist(), x, y)"
   ]
  },
  {
   "cell_type": "code",
   "execution_count": 15,
   "metadata": {
    "collapsed": false
   },
   "outputs": [
    {
     "data": {
      "text/plain": [
       "0.8461538461538461"
      ]
     },
     "execution_count": 15,
     "metadata": {},
     "output_type": "execute_result"
    }
   ],
   "source": [
    "d = evaluate(Jaccard(), x, y)"
   ]
  },
  {
   "cell_type": "markdown",
   "metadata": {},
   "source": [
    "# Clustering"
   ]
  },
  {
   "cell_type": "markdown",
   "metadata": {},
   "source": [
    "## Methods"
   ]
  },
  {
   "cell_type": "markdown",
   "metadata": {},
   "source": [
    "### K-Means"
   ]
  },
  {
   "cell_type": "code",
   "execution_count": 16,
   "metadata": {
    "collapsed": false
   },
   "outputs": [],
   "source": [
    "using Clustering"
   ]
  },
  {
   "cell_type": "code",
   "execution_count": 17,
   "metadata": {
    "collapsed": false
   },
   "outputs": [],
   "source": [
    "data = readdlm(\"d://data//OnlineNewsPopularity//OnlineNewsPopularity.csv\", ',');"
   ]
  },
  {
   "cell_type": "code",
   "execution_count": 18,
   "metadata": {
    "collapsed": false
   },
   "outputs": [
    {
     "data": {
      "text/plain": [
       "39644x59 Array{Float64,2}:\n",
       " 731.0  12.0   219.0  0.663594  1.0  …  -0.1875    0.0        0.1875  \n",
       " 731.0   9.0   255.0  0.604743  1.0      0.0       0.5        0.0     \n",
       " 731.0   9.0   211.0  0.57513   1.0      0.0       0.5        0.0     \n",
       " 731.0   9.0   531.0  0.503788  1.0      0.0       0.5        0.0     \n",
       " 731.0  13.0  1072.0  0.415646  1.0      0.136364  0.0454545  0.136364\n",
       " 731.0  10.0   370.0  0.559889  1.0  …   0.214286  0.142857   0.214286\n",
       " 731.0   8.0   960.0  0.418163  1.0      0.0       0.5        0.0     \n",
       " 731.0  12.0   989.0  0.433574  1.0      0.5       0.5        0.5     \n",
       " 731.0  11.0    97.0  0.670103  1.0      0.0       0.375      0.0     \n",
       " 731.0  10.0   231.0  0.636364  1.0      0.0       0.5        0.0     \n",
       " 731.0   9.0  1248.0  0.49005   1.0  …   0.0       0.5        0.0     \n",
       " 731.0  10.0   187.0  0.666667  1.0      0.0       0.5        0.0     \n",
       " 731.0   9.0   274.0  0.609195  1.0     -1.0       0.5        1.0     \n",
       "   ⋮                                 ⋱                                \n",
       "   9.0  15.0   580.0  0.506261  1.0      0.5       0.0        0.5     \n",
       "   9.0   9.0   614.0  0.476033  1.0      0.0       0.5        0.0     \n",
       "   9.0   9.0   251.0  0.666667  1.0      0.0       0.5        0.0     \n",
       "   9.0  13.0   478.0  0.514039  1.0  …   0.0       0.4        0.0     \n",
       "   8.0   8.0  2509.0  0.348878  1.0      0.0       0.5        0.0     \n",
       "   8.0  13.0  1629.0  0.425711  1.0     -0.6       0.283333   0.6     \n",
       "   8.0  11.0   223.0  0.653153  1.0      0.0       0.5        0.0     \n",
       "   8.0  11.0   346.0  0.529052  1.0      0.0       0.4        0.0     \n",
       "   8.0  12.0   328.0  0.696296  1.0  …   1.0       0.2        1.0     \n",
       "   8.0  10.0   442.0  0.516355  1.0      0.136364  0.0454545  0.136364\n",
       "   8.0   6.0   682.0  0.539493  1.0      0.0       0.5        0.0     \n",
       "   8.0  10.0   157.0  0.701987  1.0      0.25      0.166667   0.25    "
      ]
     },
     "execution_count": 18,
     "metadata": {},
     "output_type": "execute_result"
    }
   ],
   "source": [
    "F = map(float, data[2:end,2:60])"
   ]
  },
  {
   "cell_type": "code",
   "execution_count": 19,
   "metadata": {
    "collapsed": false
   },
   "outputs": [
    {
     "data": {
      "text/plain": [
       "39644x59 Array{Float64,2}:\n",
       " 1.0         0.47619   0.0258438  …  0.40625   0.0        0.1875  \n",
       " 1.0         0.333333  0.030092      0.5       1.0        0.0     \n",
       " 1.0         0.333333  0.0248997     0.5       1.0        0.0     \n",
       " 1.0         0.333333  0.0626623     0.5       1.0        0.0     \n",
       " 1.0         0.52381   0.126505      0.568182  0.0909091  0.136364\n",
       " 1.0         0.380952  0.043663   …  0.607143  0.285714   0.214286\n",
       " 1.0         0.285714  0.113288      0.5       1.0        0.0     \n",
       " 1.0         0.47619   0.11671       0.75      1.0        0.5     \n",
       " 1.0         0.428571  0.0114468     0.5       0.75       0.0     \n",
       " 1.0         0.380952  0.0272599     0.5       1.0        0.0     \n",
       " 1.0         0.333333  0.147274   …  0.5       1.0        0.0     \n",
       " 1.0         0.380952  0.0220675     0.5       1.0        0.0     \n",
       " 1.0         0.333333  0.0323342     0.0       1.0        1.0     \n",
       " ⋮                                ⋱                               \n",
       " 0.00138313  0.619048  0.0684447     0.75      0.0        0.5     \n",
       " 0.00138313  0.333333  0.0724569     0.5       1.0        0.0     \n",
       " 0.00138313  0.333333  0.02962       0.5       1.0        0.0     \n",
       " 0.00138313  0.52381   0.0564078  …  0.5       0.8        0.0     \n",
       " 0.0         0.285714  0.296082      0.5       1.0        0.0     \n",
       " 0.0         0.52381   0.192235      0.2       0.566667   0.6     \n",
       " 0.0         0.428571  0.0263158     0.5       1.0        0.0     \n",
       " 0.0         0.428571  0.0408308     0.5       0.8        0.0     \n",
       " 0.0         0.47619   0.0387066  …  1.0       0.4        1.0     \n",
       " 0.0         0.380952  0.0521595     0.568182  0.0909091  0.136364\n",
       " 0.0         0.190476  0.0804815     0.5       1.0        0.0     \n",
       " 0.0         0.380952  0.0185273     0.625     0.333333   0.25    "
      ]
     },
     "execution_count": 19,
     "metadata": {},
     "output_type": "execute_result"
    }
   ],
   "source": [
    "F = normalize(F, \"linear\")"
   ]
  },
  {
   "cell_type": "code",
   "execution_count": 20,
   "metadata": {
    "collapsed": false
   },
   "outputs": [
    {
     "data": {
      "text/plain": [
       "Clustering.KmeansResult{Float64}(59x2 Array{Float64,2}:\n",
       " 0.382139     0.505558   \n",
       " 0.40947      0.397365   \n",
       " 0.0705159    0.0628651  \n",
       " 0.000728291  0.00079658 \n",
       " 0.000930001  0.000963414\n",
       " 0.0010232    0.00107029 \n",
       " 0.0335319    0.0364152  \n",
       " 0.0207853    0.03045    \n",
       " 0.0222058    0.039095   \n",
       " 0.0060364    0.0158159  \n",
       " 0.581611     0.561264   \n",
       " 0.698804     0.689563   \n",
       " 0.0          0.0672584  \n",
       " ⋮                       \n",
       " 0.623223     0.698079   \n",
       " 0.345838     0.272281   \n",
       " 0.324438     0.361769   \n",
       " 0.0884394    0.0973394  \n",
       " 0.698853     0.772372   \n",
       " 0.747769     0.738504   \n",
       " 0.439294     0.488534   \n",
       " 0.906135     0.888814   \n",
       " 0.243458     0.292867   \n",
       " 0.514996     0.541313   \n",
       " 0.722441     0.673209   \n",
       " 0.127649     0.163745   ,[2,2,2,2,2,2,2,2,2,1  …  2,2,2,2,2,2,2,2,1,2],[3.67908,3.91388,3.71817,3.48113,3.94922,3.52169,4.1322,4.06038,3.38478,2.58089  …  2.89291,2.77359,2.94321,3.28736,2.71495,2.45658,3.77607,2.08861,1.46165,3.22999],[8436,31208],[8436.0,31208.0],110911.422011086,6,true)"
      ]
     },
     "execution_count": 20,
     "metadata": {},
     "output_type": "execute_result"
    }
   ],
   "source": [
    "Z = kmeans(F', 2)"
   ]
  },
  {
   "cell_type": "code",
   "execution_count": 21,
   "metadata": {
    "collapsed": false
   },
   "outputs": [
    {
     "name": "stdout",
     "output_type": "stream",
     "text": [
      "[2,2,2,2,2,2,2,2,2,1][8436,31208][0.3821391822047006 0.505558031543492\n",
      " 0.40946961999592846 0.39736453412433603\n",
      " 0.07051594966020513 0.06286506180190116\n",
      " 0.00072829082065273 0.0007965795130288157\n",
      " 0.0009300011157573742 0.0009634138252223355]"
     ]
    }
   ],
   "source": [
    "labels = assignments(Z); show(labels[1:10])\n",
    "c = counts(Z); show(c)\n",
    "C = Z.centers; show(C[1:5,:])"
   ]
  },
  {
   "cell_type": "markdown",
   "metadata": {},
   "source": [
    "### DBSCAN"
   ]
  },
  {
   "cell_type": "code",
   "execution_count": 22,
   "metadata": {
    "collapsed": false
   },
   "outputs": [],
   "source": [
    "D = dmatrix(F[1:10000,:]); # distance matrix (pairwise distances for first 10000 data points in F)"
   ]
  },
  {
   "cell_type": "code",
   "execution_count": 23,
   "metadata": {
    "collapsed": false
   },
   "outputs": [
    {
     "data": {
      "text/plain": [
       "10x10 Array{Float64,2}:\n",
       " 0.0      3.94864  4.14599  2.76905  …  4.46469  4.31555  3.81211  4.3178 \n",
       " 3.94864  0.0      2.70077  3.76575     4.14676  4.55785  3.36532  3.84579\n",
       " 4.14599  2.70077  0.0      3.62306     3.2041   3.92133  3.54944  4.07379\n",
       " 2.76905  3.76575  3.62306  0.0         3.749    4.09672  3.67218  3.18781\n",
       " 3.79716  4.53629  3.72834  4.33102     3.60341  2.48664  2.57463  4.64259\n",
       " 3.60809  4.32906  4.0151   3.94627  …  3.82502  2.42273  2.20086  4.2473 \n",
       " 4.46469  4.14676  3.2041   3.749       0.0      3.74515  3.57713  4.22238\n",
       " 4.31555  4.55785  3.92133  4.09672     3.74515  0.0      2.92036  4.45282\n",
       " 3.81211  3.36532  3.54944  3.67218     3.57713  2.92036  0.0      3.89197\n",
       " 4.3178   3.84579  4.07379  3.18781     4.22238  4.45282  3.89197  0.0    "
      ]
     },
     "execution_count": 23,
     "metadata": {},
     "output_type": "execute_result"
    }
   ],
   "source": [
    "D[1:10,1:10]"
   ]
  },
  {
   "cell_type": "code",
   "execution_count": 24,
   "metadata": {
    "collapsed": false
   },
   "outputs": [
    {
     "data": {
      "text/plain": [
       "4.874257821045708"
      ]
     },
     "execution_count": 24,
     "metadata": {},
     "output_type": "execute_result"
    }
   ],
   "source": [
    "mean(D)"
   ]
  },
  {
   "cell_type": "code",
   "execution_count": 25,
   "metadata": {
    "collapsed": false
   },
   "outputs": [
    {
     "data": {
      "text/plain": [
       "Clustering.DbscanResult([1,313],[1,1,1,1,1,1,1,1,1,1  …  1,1,1,1,1,1,1,1,1,1],[8699,1149])"
      ]
     },
     "execution_count": 25,
     "metadata": {},
     "output_type": "execute_result"
    }
   ],
   "source": [
    "Z = dbscan(D, 3.0, 60)"
   ]
  },
  {
   "cell_type": "code",
   "execution_count": 26,
   "metadata": {
    "collapsed": false
   },
   "outputs": [
    {
     "name": "stdout",
     "output_type": "stream",
     "text": [
      "[1,1,1,1,1,1,1,1,1,1][8699,1149]"
     ]
    }
   ],
   "source": [
    "labels = assignments(Z); show(labels[1:10])\n",
    "c = counts(Z); show(c)"
   ]
  },
  {
   "cell_type": "markdown",
   "metadata": {},
   "source": [
    "### Hierarchical Clustering"
   ]
  },
  {
   "cell_type": "code",
   "execution_count": 27,
   "metadata": {
    "collapsed": false
   },
   "outputs": [
    {
     "name": "stderr",
     "output_type": "stream",
     "text": [
      "INFO: Recompiling stale cache file C:\\Users\\Zacharias\\.julia\\lib\\v0.4\\QuickShiftClustering.ji for module QuickShiftClustering.\n",
      "INFO: Recompiling stale cache file C:\\Users\\Zacharias\\.julia\\lib\\v0.4\\PyPlot.ji for module PyPlot.\n",
      "INFO: Recompiling stale cache file C:\\Users\\Zacharias\\.julia\\lib\\v0.4\\PyCall.ji for module PyCall.\n",
      "INFO: Recompiling stale cache file C:\\Users\\Zacharias\\.julia\\lib\\v0.4\\LaTeXStrings.ji for module LaTeXStrings.\n",
      "INFO: Recompiling stale cache file C:\\Users\\Zacharias\\.julia\\lib\\v0.4\\KDTrees.ji for module KDTrees.\n",
      "INFO: Recompiling stale cache file C:\\Users\\Zacharias\\.julia\\lib\\v0.4\\Devectorize.ji for module Devectorize.\n",
      "WARNING: KDTrees.jl is deprecated in favor of NearestNeighbors.jl. If you still want to use KDTrees.jl or rely on a package that uses it, please run Pkg.pin(\"KDTrees\", v\"0.5.13\") and this warning will go away\n",
      "INFO: Recompiling stale cache file C:\\Users\\Zacharias\\.julia\\lib\\v0.4\\FunctionalDataUtils.ji for module FunctionalDataUtils.\n",
      "INFO: Recompiling stale cache file C:\\Users\\Zacharias\\.julia\\lib\\v0.4\\FunctionalData.ji for module FunctionalData.\n",
      "INFO: Recompiling stale cache file C:\\Users\\Zacharias\\.julia\\lib\\v0.4\\FactCheck.ji for module FactCheck.\n",
      "INFO: Recompiling stale cache file C:\\Users\\Zacharias\\.julia\\lib\\v0.4\\MultivariateStats.ji for module MultivariateStats.\n"
     ]
    }
   ],
   "source": [
    "using QuickShiftClustering\n",
    "using PyPlot"
   ]
  },
  {
   "cell_type": "code",
   "execution_count": 28,
   "metadata": {
    "collapsed": false
   },
   "outputs": [
    {
     "name": "stderr",
     "output_type": "stream",
     "text": [
      "WARNING: using MultivariateStats.evaluate in module Main conflicts with an existing identifier.\n"
     ]
    }
   ],
   "source": [
    "using MultivariateStats"
   ]
  },
  {
   "cell_type": "code",
   "execution_count": 29,
   "metadata": {
    "collapsed": false
   },
   "outputs": [
    {
     "data": {
      "text/plain": [
       "PCA(indim = 59, outdim = 2, principalratio = 0.19306)"
      ]
     },
     "execution_count": 29,
     "metadata": {},
     "output_type": "execute_result"
    }
   ],
   "source": [
    "M = fit(PCA, F'; maxoutdim = 2)"
   ]
  },
  {
   "cell_type": "code",
   "execution_count": 54,
   "metadata": {
    "collapsed": true
   },
   "outputs": [
    {
     "data": {
      "text/plain": [
       "500x2 Array{Float64,2}:\n",
       " -0.533168    0.584386 \n",
       " -0.403413   -0.156891 \n",
       " -0.499464   -0.43728  \n",
       " -0.0401124   0.274606 \n",
       " -0.77428    -0.99262  \n",
       " -0.630526   -0.798575 \n",
       " -0.401091   -0.684933 \n",
       " -0.589204   -0.848625 \n",
       " -0.576909   -0.947126 \n",
       "  1.05565    -0.33847  \n",
       "  0.734312   -0.137645 \n",
       " -0.330835   -0.699345 \n",
       " -0.392602   -0.077567 \n",
       "  ⋮                    \n",
       " -0.204093   -0.0270889\n",
       "  0.664515   -0.129602 \n",
       " -0.296511   -0.58733  \n",
       "  0.992545   -0.231196 \n",
       " -0.480629   -1.25395  \n",
       " -0.465165   -1.11811  \n",
       " -0.598537   -0.084546 \n",
       " -0.216255    0.361288 \n",
       "  0.926683   -0.357506 \n",
       " -0.450198    0.233885 \n",
       " -0.456639   -0.198447 \n",
       " -0.318118    0.250468 "
      ]
     },
     "execution_count": 54,
     "metadata": {},
     "output_type": "execute_result"
    }
   ],
   "source": [
    "G = transform(M, F[1:500,:]')'"
   ]
  },
  {
   "cell_type": "code",
   "execution_count": 55,
   "metadata": {
    "collapsed": false
   },
   "outputs": [
    {
     "data": {
      "text/plain": [
       "QuickShiftClustering.QuickShift(104,[Any[],Any[(0.10847624f0,70),(0.034176994f0,112),(0.059333604f0,396),(0.2889811f0,481)],Any[(0.054553565f0,417),(0.08732781f0,441)],Any[],Any[(0.01852951f0,20)],Any[(0.13567832f0,292),(0.022923734f0,299),(0.06822841f0,392)],Any[(0.022824246f0,391),(0.019982692f0,480)],Any[(0.046230927f0,154)],Any[(0.025192859f0,23),(0.017019311f0,53)],Any[(0.033589464f0,381)]  …  Any[(0.2045096f0,76),(0.08401168f0,129),(0.04043319f0,188),(0.08615068f0,203)],Any[],Any[],Any[(0.013327682f0,347)],Any[],Any[],Any[(0.012390504f0,434)],Any[],Any[(0.01991819f0,94),(0.024155818f0,460)],Any[]],0.008133243f0)"
      ]
     },
     "execution_count": 55,
     "metadata": {},
     "output_type": "execute_result"
    }
   ],
   "source": [
    "Z = quickshift(G')"
   ]
  },
  {
   "cell_type": "code",
   "execution_count": 56,
   "metadata": {
    "collapsed": false
   },
   "outputs": [],
   "source": [
    "labels = quickshiftlabels(Z);"
   ]
  },
  {
   "cell_type": "code",
   "execution_count": 57,
   "metadata": {
    "collapsed": false
   },
   "outputs": [
    {
     "data": {
      "image/png": "[encoded data removed]",
      "text/plain": [
       "PyPlot.Figure(PyObject <matplotlib.figure.Figure object at 0x000000002D1933C8>)"
      ]
     },
     "metadata": {},
     "output_type": "display_data"
    },
    {
     "data": {
      "text/plain": [
       "PyObject <matplotlib.collections.PathCollection object at 0x0000000031E332E8>"
      ]
     },
     "execution_count": 57,
     "metadata": {},
     "output_type": "execute_result"
    }
   ],
   "source": [
    "quickshiftplot(Z, G', labels)"
   ]
  },
  {
   "cell_type": "markdown",
   "metadata": {},
   "source": [
    "## Validation Metrics"
   ]
  },
  {
   "cell_type": "markdown",
   "metadata": {},
   "source": [
    "### Silhouettes"
   ]
  },
  {
   "cell_type": "code",
   "execution_count": 60,
   "metadata": {
    "collapsed": true
   },
   "outputs": [],
   "source": [
    "Z = kmeans(F', 2);\n",
    "labels = assignments(Z);"
   ]
  },
  {
   "cell_type": "code",
   "execution_count": 64,
   "metadata": {
    "collapsed": false
   },
   "outputs": [
    {
     "data": {
      "text/plain": [
       "(-0.31056229825747034,[-0.253856,-0.321978,-0.32094,-0.361765,-0.260788,-0.244776,-0.326319,-0.252324,-0.2678,-0.241989  …  -0.259161,-0.23299,-0.282215,-0.342993,-0.281311,-0.243912,-0.391512,-0.292525,-0.328353,-0.386368])"
      ]
     },
     "execution_count": 64,
     "metadata": {},
     "output_type": "execute_result"
    }
   ],
   "source": [
    "sil(labels[1:10000], D)"
   ]
  }
 ],
 "metadata": {
  "kernelspec": {
   "display_name": "Julia 0.4.5",
   "language": "julia",
   "name": "julia-0.4"
  },
  "language_info": {
   "file_extension": ".jl",
   "mimetype": "application/julia",
   "name": "julia",
   "version": "0.4.5"
  }
 },
 "nbformat": 4,
 "nbformat_minor": 0
}
